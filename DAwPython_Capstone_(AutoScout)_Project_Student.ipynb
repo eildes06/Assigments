{
  "cells": [
    {
      "cell_type": "markdown",
      "metadata": {
        "id": "view-in-github",
        "colab_type": "text"
      },
      "source": [
        "<a href=\"https://colab.research.google.com/github/eildes06/Assigments/blob/main/DAwPython_Capstone_(AutoScout)_Project_Student.ipynb\" target=\"_parent\"><img src=\"https://colab.research.google.com/assets/colab-badge.svg\" alt=\"Open In Colab\"/></a>"
      ]
    },
    {
      "cell_type": "markdown",
      "metadata": {
        "id": "MskfsLRp0FIM"
      },
      "source": [
        "___\n",
        "\n",
        "<p style=\"text-align: center;\"><img src=\"https://docs.google.com/uc?id=1lY0Uj5R04yMY3-ZppPWxqCr5pvBLYPnV\" class=\"img-fluid\" alt=\"CLRSWY\"></p>\n",
        "\n",
        "___"
      ]
    },
    {
      "cell_type": "markdown",
      "metadata": {
        "id": "UmHotYyy0FIN"
      },
      "source": [
        "# WELCOME!"
      ]
    },
    {
      "cell_type": "markdown",
      "metadata": {
        "id": "ynHXPm-Q0FIO"
      },
      "source": [
        "## Introduction\n",
        "Welcome to \"***AutoScout Data Analysis Project***\". This is the capstone project of ***Data Analysis*** Module. **Auto Scout** data which using for this project, scraped from the on-line car trading company in 2019, contains many features of 9 different car models. In this project, you will have the opportunity to apply many commonly used algorithms for Data Cleaning and Exploratory Data Analysis by using many Python libraries such as Numpy, Pandas, Matplotlib, Seaborn, Scipy you will analyze clean dataset.\n",
        "\n",
        "The project consists of 3 parts:\n",
        "* First part is related with 'data cleaning'. It deals with Incorrect Headers, Incorrect Format, Anomalies, Dropping useless columns.\n",
        "* Second part is related with 'filling data'. It deals with Missing Values. Categorical to numeric transformation is done.\n",
        "* Third part is related with 'handling outliers of data' via Visualisation libraries. Some insights are extracted.\n"
      ]
    },
    {
      "cell_type": "markdown",
      "metadata": {
        "id": "TGlaKf940FIO"
      },
      "source": [
        "# PART- 1 `( Data Cleaning )`"
      ]
    },
    {
      "cell_type": "code",
      "execution_count": 9,
      "metadata": {
        "id": "W55Vhy430FIO"
      },
      "outputs": [],
      "source": [
        "import json\n",
        "import numpy as np\n",
        "import pandas as pd\n",
        "import seaborn as sns\n",
        "import matplotlib.pyplot as plt\n",
        "from pandas.plotting import register_matplotlib_converters\n",
        "from pylab import rcParams\n",
        "sns.set_style(\"darkgrid\")\n",
        "import plotly\n",
        "import plotly.express as px\n",
        "import plotly.graph_objs as go\n",
        "import plotly.offline as py\n",
        "from plotly.offline import iplot\n",
        "from plotly.subplots import make_subplots\n",
        "import plotly.figure_factory as ff\n",
        "import warnings\n",
        "warnings.filterwarnings(\"ignore\")"
      ]
    },
    {
      "cell_type": "code",
      "execution_count": 10,
      "metadata": {
        "colab": {
          "base_uri": "https://localhost:8080/",
          "height": 497
        },
        "id": "S7EsRLdU0FIP",
        "outputId": "b1753336-18a5-4cf5-ae21-4427f3e42720"
      },
      "outputs": [
        {
          "output_type": "execute_result",
          "data": {
            "text/plain": [
              "                                                     url     make_model  \\\n",
              "10589  https://www.autoscout24.com//offers/opel-insig...  Opel Insignia   \n",
              "13703  https://www.autoscout24.com//offers/renault-cl...   Renault Clio   \n",
              "3992   https://www.autoscout24.com//offers/audi-a3-sp...        Audi A3   \n",
              "\n",
              "                                       short_description      body_type  \\\n",
              "10589  Sports Tourer Innovation 1.6 CDTI Navi Dyn. Ku...  Station wagon   \n",
              "13703               Ste 1.5 dCi 75ch energy Air MédiaNav           None   \n",
              "3992          SPORTBACK 1.6 TDI 116 CV EDITION S-TRONIC          Sedans   \n",
              "\n",
              "       price             vat         km registration        prev_owner  kW  \\\n",
              "10589  15990            None  79,984 km      06/2016              None NaN   \n",
              "13703   7690  VAT deductible  63,372 km      01/2017              None NaN   \n",
              "3992   19770            None  33,394 km      09/2017  1 previous owner NaN   \n",
              "\n",
              "       ...                                        description Emission Label  \\\n",
              "10589  ...  [\\n, Getriebe:,  Automatik, Technik:,  Bordcom...            NaN   \n",
              "13703  ...  [\\nABS Clim manuelle ESP GPS Cartographique Ki...            NaN   \n",
              "3992   ...  [\\nPREZZO REALE!!! VETTURE DISPONIBILE IN SEDE...            NaN   \n",
              "\n",
              "         Gears Country version Electricity consumption Last Service Date  \\\n",
              "10589  [\\n6\\n]   [\\nGermany\\n]                     NaN               NaN   \n",
              "13703      NaN             NaN                     NaN               NaN   \n",
              "3992   [\\n7\\n]     [\\nItaly\\n]                     NaN               NaN   \n",
              "\n",
              "      Other Fuel Types Availability Last Timing Belt Service Date  \\\n",
              "10589              NaN          NaN                           NaN   \n",
              "13703              NaN          NaN                           NaN   \n",
              "3992               NaN          NaN                           NaN   \n",
              "\n",
              "      Available from  \n",
              "10589            NaN  \n",
              "13703            NaN  \n",
              "3992             NaN  \n",
              "\n",
              "[3 rows x 54 columns]"
            ],
            "text/html": [
              "\n",
              "  <div id=\"df-61444de4-0450-41d8-a0a7-7759cd1ec7d9\">\n",
              "    <div class=\"colab-df-container\">\n",
              "      <div>\n",
              "<style scoped>\n",
              "    .dataframe tbody tr th:only-of-type {\n",
              "        vertical-align: middle;\n",
              "    }\n",
              "\n",
              "    .dataframe tbody tr th {\n",
              "        vertical-align: top;\n",
              "    }\n",
              "\n",
              "    .dataframe thead th {\n",
              "        text-align: right;\n",
              "    }\n",
              "</style>\n",
              "<table border=\"1\" class=\"dataframe\">\n",
              "  <thead>\n",
              "    <tr style=\"text-align: right;\">\n",
              "      <th></th>\n",
              "      <th>url</th>\n",
              "      <th>make_model</th>\n",
              "      <th>short_description</th>\n",
              "      <th>body_type</th>\n",
              "      <th>price</th>\n",
              "      <th>vat</th>\n",
              "      <th>km</th>\n",
              "      <th>registration</th>\n",
              "      <th>prev_owner</th>\n",
              "      <th>kW</th>\n",
              "      <th>...</th>\n",
              "      <th>description</th>\n",
              "      <th>Emission Label</th>\n",
              "      <th>Gears</th>\n",
              "      <th>Country version</th>\n",
              "      <th>Electricity consumption</th>\n",
              "      <th>Last Service Date</th>\n",
              "      <th>Other Fuel Types</th>\n",
              "      <th>Availability</th>\n",
              "      <th>Last Timing Belt Service Date</th>\n",
              "      <th>Available from</th>\n",
              "    </tr>\n",
              "  </thead>\n",
              "  <tbody>\n",
              "    <tr>\n",
              "      <th>10589</th>\n",
              "      <td>https://www.autoscout24.com//offers/opel-insig...</td>\n",
              "      <td>Opel Insignia</td>\n",
              "      <td>Sports Tourer Innovation 1.6 CDTI Navi Dyn. Ku...</td>\n",
              "      <td>Station wagon</td>\n",
              "      <td>15990</td>\n",
              "      <td>None</td>\n",
              "      <td>79,984 km</td>\n",
              "      <td>06/2016</td>\n",
              "      <td>None</td>\n",
              "      <td>NaN</td>\n",
              "      <td>...</td>\n",
              "      <td>[\\n, Getriebe:,  Automatik, Technik:,  Bordcom...</td>\n",
              "      <td>NaN</td>\n",
              "      <td>[\\n6\\n]</td>\n",
              "      <td>[\\nGermany\\n]</td>\n",
              "      <td>NaN</td>\n",
              "      <td>NaN</td>\n",
              "      <td>NaN</td>\n",
              "      <td>NaN</td>\n",
              "      <td>NaN</td>\n",
              "      <td>NaN</td>\n",
              "    </tr>\n",
              "    <tr>\n",
              "      <th>13703</th>\n",
              "      <td>https://www.autoscout24.com//offers/renault-cl...</td>\n",
              "      <td>Renault Clio</td>\n",
              "      <td>Ste 1.5 dCi 75ch energy Air MédiaNav</td>\n",
              "      <td>None</td>\n",
              "      <td>7690</td>\n",
              "      <td>VAT deductible</td>\n",
              "      <td>63,372 km</td>\n",
              "      <td>01/2017</td>\n",
              "      <td>None</td>\n",
              "      <td>NaN</td>\n",
              "      <td>...</td>\n",
              "      <td>[\\nABS Clim manuelle ESP GPS Cartographique Ki...</td>\n",
              "      <td>NaN</td>\n",
              "      <td>NaN</td>\n",
              "      <td>NaN</td>\n",
              "      <td>NaN</td>\n",
              "      <td>NaN</td>\n",
              "      <td>NaN</td>\n",
              "      <td>NaN</td>\n",
              "      <td>NaN</td>\n",
              "      <td>NaN</td>\n",
              "    </tr>\n",
              "    <tr>\n",
              "      <th>3992</th>\n",
              "      <td>https://www.autoscout24.com//offers/audi-a3-sp...</td>\n",
              "      <td>Audi A3</td>\n",
              "      <td>SPORTBACK 1.6 TDI 116 CV EDITION S-TRONIC</td>\n",
              "      <td>Sedans</td>\n",
              "      <td>19770</td>\n",
              "      <td>None</td>\n",
              "      <td>33,394 km</td>\n",
              "      <td>09/2017</td>\n",
              "      <td>1 previous owner</td>\n",
              "      <td>NaN</td>\n",
              "      <td>...</td>\n",
              "      <td>[\\nPREZZO REALE!!! VETTURE DISPONIBILE IN SEDE...</td>\n",
              "      <td>NaN</td>\n",
              "      <td>[\\n7\\n]</td>\n",
              "      <td>[\\nItaly\\n]</td>\n",
              "      <td>NaN</td>\n",
              "      <td>NaN</td>\n",
              "      <td>NaN</td>\n",
              "      <td>NaN</td>\n",
              "      <td>NaN</td>\n",
              "      <td>NaN</td>\n",
              "    </tr>\n",
              "  </tbody>\n",
              "</table>\n",
              "<p>3 rows × 54 columns</p>\n",
              "</div>\n",
              "      <button class=\"colab-df-convert\" onclick=\"convertToInteractive('df-61444de4-0450-41d8-a0a7-7759cd1ec7d9')\"\n",
              "              title=\"Convert this dataframe to an interactive table.\"\n",
              "              style=\"display:none;\">\n",
              "        \n",
              "  <svg xmlns=\"http://www.w3.org/2000/svg\" height=\"24px\"viewBox=\"0 0 24 24\"\n",
              "       width=\"24px\">\n",
              "    <path d=\"M0 0h24v24H0V0z\" fill=\"none\"/>\n",
              "    <path d=\"M18.56 5.44l.94 2.06.94-2.06 2.06-.94-2.06-.94-.94-2.06-.94 2.06-2.06.94zm-11 1L8.5 8.5l.94-2.06 2.06-.94-2.06-.94L8.5 2.5l-.94 2.06-2.06.94zm10 10l.94 2.06.94-2.06 2.06-.94-2.06-.94-.94-2.06-.94 2.06-2.06.94z\"/><path d=\"M17.41 7.96l-1.37-1.37c-.4-.4-.92-.59-1.43-.59-.52 0-1.04.2-1.43.59L10.3 9.45l-7.72 7.72c-.78.78-.78 2.05 0 2.83L4 21.41c.39.39.9.59 1.41.59.51 0 1.02-.2 1.41-.59l7.78-7.78 2.81-2.81c.8-.78.8-2.07 0-2.86zM5.41 20L4 18.59l7.72-7.72 1.47 1.35L5.41 20z\"/>\n",
              "  </svg>\n",
              "      </button>\n",
              "      \n",
              "  <style>\n",
              "    .colab-df-container {\n",
              "      display:flex;\n",
              "      flex-wrap:wrap;\n",
              "      gap: 12px;\n",
              "    }\n",
              "\n",
              "    .colab-df-convert {\n",
              "      background-color: #E8F0FE;\n",
              "      border: none;\n",
              "      border-radius: 50%;\n",
              "      cursor: pointer;\n",
              "      display: none;\n",
              "      fill: #1967D2;\n",
              "      height: 32px;\n",
              "      padding: 0 0 0 0;\n",
              "      width: 32px;\n",
              "    }\n",
              "\n",
              "    .colab-df-convert:hover {\n",
              "      background-color: #E2EBFA;\n",
              "      box-shadow: 0px 1px 2px rgba(60, 64, 67, 0.3), 0px 1px 3px 1px rgba(60, 64, 67, 0.15);\n",
              "      fill: #174EA6;\n",
              "    }\n",
              "\n",
              "    [theme=dark] .colab-df-convert {\n",
              "      background-color: #3B4455;\n",
              "      fill: #D2E3FC;\n",
              "    }\n",
              "\n",
              "    [theme=dark] .colab-df-convert:hover {\n",
              "      background-color: #434B5C;\n",
              "      box-shadow: 0px 1px 3px 1px rgba(0, 0, 0, 0.15);\n",
              "      filter: drop-shadow(0px 1px 2px rgba(0, 0, 0, 0.3));\n",
              "      fill: #FFFFFF;\n",
              "    }\n",
              "  </style>\n",
              "\n",
              "      <script>\n",
              "        const buttonEl =\n",
              "          document.querySelector('#df-61444de4-0450-41d8-a0a7-7759cd1ec7d9 button.colab-df-convert');\n",
              "        buttonEl.style.display =\n",
              "          google.colab.kernel.accessAllowed ? 'block' : 'none';\n",
              "\n",
              "        async function convertToInteractive(key) {\n",
              "          const element = document.querySelector('#df-61444de4-0450-41d8-a0a7-7759cd1ec7d9');\n",
              "          const dataTable =\n",
              "            await google.colab.kernel.invokeFunction('convertToInteractive',\n",
              "                                                     [key], {});\n",
              "          if (!dataTable) return;\n",
              "\n",
              "          const docLinkHtml = 'Like what you see? Visit the ' +\n",
              "            '<a target=\"_blank\" href=https://colab.research.google.com/notebooks/data_table.ipynb>data table notebook</a>'\n",
              "            + ' to learn more about interactive tables.';\n",
              "          element.innerHTML = '';\n",
              "          dataTable['output_type'] = 'display_data';\n",
              "          await google.colab.output.renderOutput(dataTable, element);\n",
              "          const docLink = document.createElement('div');\n",
              "          docLink.innerHTML = docLinkHtml;\n",
              "          element.appendChild(docLink);\n",
              "        }\n",
              "      </script>\n",
              "    </div>\n",
              "  </div>\n",
              "  "
            ]
          },
          "metadata": {},
          "execution_count": 10
        }
      ],
      "source": [
        "scout_car = pd.read_json ('/content/scout_car.json', lines = True)\n",
        "df = scout_car.copy()\n",
        "df.sample(3)"
      ]
    },
    {
      "cell_type": "code",
      "execution_count": 8,
      "metadata": {
        "colab": {
          "base_uri": "https://localhost:8080/",
          "height": 1000
        },
        "id": "VQ-5Ty6-0FIP",
        "outputId": "e10fe2ee-66dc-4622-9a38-fee55b9e966f"
      },
      "outputs": [
        {
          "output_type": "execute_result",
          "data": {
            "text/plain": [
              "                                                                           15223  \\\n",
              "url                            https://www.autoscout24.com//offers/renault-es...   \n",
              "make_model                                                        Renault Espace   \n",
              "short_description                      dCi 160 Zen Energy TT EDC 118 kW (160 CV)   \n",
              "body_type                                                          Station wagon   \n",
              "price                                                                      19950   \n",
              "vat                                                               VAT deductible   \n",
              "km                                                                     66,000 km   \n",
              "registration                                                             01/2016   \n",
              "prev_owner                                                                  None   \n",
              "kW                                                                           NaN   \n",
              "hp                                                                        118 kW   \n",
              "Type                                     [, Used, , Diesel (Particulate Filter)]   \n",
              "Previous Owners                                                              NaN   \n",
              "Next Inspection                                                              NaN   \n",
              "Inspection new                                                               NaN   \n",
              "Warranty                                                           \\n12 months\\n   \n",
              "Full Service                                                                 NaN   \n",
              "Non-smoking Vehicle                            [\\n, \\n, \\n120 g CO2/km (comb)\\n]   \n",
              "null                                                                          []   \n",
              "Make                                                                 \\nRenault\\n   \n",
              "Model                                                           [\\n, Espace, \\n]   \n",
              "Offer Number                                                       [\\n4917299\\n]   \n",
              "First Registration                                                [\\n, 2016, \\n]   \n",
              "Body Color                                                       [\\n, Black, \\n]   \n",
              "Paint Type                                                        [\\nMetallic\\n]   \n",
              "Body Color Original                                                          NaN   \n",
              "Upholstery                                                            [\\nGrey\\n]   \n",
              "Body                                                     [\\n, Station wagon, \\n]   \n",
              "Nr. of Doors                                                             [\\n5\\n]   \n",
              "Nr. of Seats                                                             [\\n5\\n]   \n",
              "Model Code                                                                   NaN   \n",
              "Gearing Type                                                 [\\n, Automatic, \\n]   \n",
              "Displacement                                                      [\\n1,598 cc\\n]   \n",
              "Cylinders                                                                [\\n4\\n]   \n",
              "Weight                                                            [\\n1,659 kg\\n]   \n",
              "Drive chain                                                          [\\nfront\\n]   \n",
              "Fuel                                       [\\n, Diesel (Particulate Filter), \\n]   \n",
              "Consumption                    [[4.6 l/100 km (comb)], [5 l/100 km (city)], [...   \n",
              "CO2 Emission                                           [\\n120 g CO2/km (comb)\\n]   \n",
              "Emission Class                                                      [\\nEuro 6\\n]   \n",
              "\\nComfort & Convenience\\n      [Air conditioning, Armrest, Cruise control, El...   \n",
              "\\nEntertainment & Media\\n                  [Bluetooth, On-board computer, Radio]   \n",
              "\\nExtras\\n                                         [Alloy wheels, Voice Control]   \n",
              "\\nSafety & Security\\n          [ABS, Central door lock, Daytime running light...   \n",
              "description                    [\\n343 Euros/mes SIN entrada. Admitimos tu coc...   \n",
              "Emission Label                                                               NaN   \n",
              "Gears                                                                    [\\n6\\n]   \n",
              "Country version                                                              NaN   \n",
              "Electricity consumption                                                      NaN   \n",
              "Last Service Date                                                            NaN   \n",
              "Other Fuel Types                                                             NaN   \n",
              "Availability                                                                 NaN   \n",
              "Last Timing Belt Service Date                                                NaN   \n",
              "Available from                                                               NaN   \n",
              "\n",
              "                                                                           10051  \\\n",
              "url                            https://www.autoscout24.com//offers/opel-corsa...   \n",
              "make_model                                                            Opel Corsa   \n",
              "short_description                       1.4 Aut. Active +PDC+IntelliLink+Kamera+   \n",
              "body_type                                                                Compact   \n",
              "price                                                                      15890   \n",
              "vat                                                               VAT deductible   \n",
              "km                                                                      3,201 km   \n",
              "registration                                                             01/2019   \n",
              "prev_owner                                                                  None   \n",
              "kW                                                                           NaN   \n",
              "hp                                                                         66 kW   \n",
              "Type                                                        [, Used, , Super 95]   \n",
              "Previous Owners                                                              NaN   \n",
              "Next Inspection                           [\\n06/2021\\n, \\n149 g CO2/km (comb)\\n]   \n",
              "Inspection new                                       [\\nYes\\n, \\nEuro 6d-TEMP\\n]   \n",
              "Warranty                                                 [\\n, \\n, \\n4 (Green)\\n]   \n",
              "Full Service                                                            [\\n, \\n]   \n",
              "Non-smoking Vehicle                                                          NaN   \n",
              "null                                                                          []   \n",
              "Make                                                                    \\nOpel\\n   \n",
              "Model                                                            [\\n, Corsa, \\n]   \n",
              "Offer Number                                                         [\\n12672\\n]   \n",
              "First Registration                                                [\\n, 2019, \\n]   \n",
              "Body Color                                                        [\\n, Blue, \\n]   \n",
              "Paint Type                                                        [\\nMetallic\\n]   \n",
              "Body Color Original                                  [\\nTiefsee Blau Metallic\\n]   \n",
              "Upholstery                                                    [\\nCloth, Black\\n]   \n",
              "Body                                                           [\\n, Compact, \\n]   \n",
              "Nr. of Doors                                                             [\\n5\\n]   \n",
              "Nr. of Seats                                                             [\\n5\\n]   \n",
              "Model Code                                                        [\\n0035/BCB\\n]   \n",
              "Gearing Type                                                 [\\n, Automatic, \\n]   \n",
              "Displacement                                                      [\\n1,398 cc\\n]   \n",
              "Cylinders                                                                [\\n4\\n]   \n",
              "Weight                                                            [\\n1,199 kg\\n]   \n",
              "Drive chain                                                          [\\nfront\\n]   \n",
              "Fuel                                                          [\\n, Super 95, \\n]   \n",
              "Consumption                    [[6.6 l/100 km (comb)], [8.2 l/100 km (city)],...   \n",
              "CO2 Emission                                           [\\n149 g CO2/km (comb)\\n]   \n",
              "Emission Class                                                [\\nEuro 6d-TEMP\\n]   \n",
              "\\nComfort & Convenience\\n      [Air conditioning, Cruise control, Electricall...   \n",
              "\\nEntertainment & Media\\n      [Bluetooth, Hands-free equipment, MP3, On-boar...   \n",
              "\\nExtras\\n                           [Alloy wheels, Touch screen, Voice Control]   \n",
              "\\nSafety & Security\\n          [ABS, Central door lock, Daytime running light...   \n",
              "description                    [\\n,  * Paket: Feel-Good - Rückfahrkamera - Pa...   \n",
              "Emission Label                                                               NaN   \n",
              "Gears                                                                    [\\n6\\n]   \n",
              "Country version                                                    [\\nGermany\\n]   \n",
              "Electricity consumption                                                      NaN   \n",
              "Last Service Date                                                            NaN   \n",
              "Other Fuel Types                                                             NaN   \n",
              "Availability                                         \\nin 3 days from ordering\\n   \n",
              "Last Timing Belt Service Date                                                NaN   \n",
              "Available from                                                               NaN   \n",
              "\n",
              "                                                                           761    \n",
              "url                            https://www.autoscout24.com//offers/audi-a1-sp...  \n",
              "make_model                                                               Audi A1  \n",
              "short_description                    Sportback 1.0TFSI NAV PDC FSE KLIMA MUFU 17  \n",
              "body_type                                                                Compact  \n",
              "price                                                                      13999  \n",
              "vat                                                               VAT deductible  \n",
              "km                                                                     46,892 km  \n",
              "registration                                                             07/2016  \n",
              "prev_owner                                                      1 previous owner  \n",
              "kW                                                                           NaN  \n",
              "hp                                                                         70 kW  \n",
              "Type                                                        [, Used, , Super 95]  \n",
              "Previous Owners                                                            \\n1\\n  \n",
              "Next Inspection                                                              NaN  \n",
              "Inspection new                                 [\\nYes\\n, \\n98 g CO2/km (comb)\\n]  \n",
              "Warranty                                             [\\n12 months\\n, \\nEuro 6\\n]  \n",
              "Full Service                                             [\\n, \\n, \\n4 (Green)\\n]  \n",
              "Non-smoking Vehicle                                                     [\\n, \\n]  \n",
              "null                                                                          []  \n",
              "Make                                                                    \\nAudi\\n  \n",
              "Model                                                               [\\n, A1, \\n]  \n",
              "Offer Number                                                         [\\n15157\\n]  \n",
              "First Registration                                                [\\n, 2016, \\n]  \n",
              "Body Color                                                       [\\n, Black, \\n]  \n",
              "Paint Type                                                        [\\nMetallic\\n]  \n",
              "Body Color Original                                 [\\nmythosschwarz metallic\\n]  \n",
              "Upholstery                                                     [\\nCloth, Grey\\n]  \n",
              "Body                                                           [\\n, Compact, \\n]  \n",
              "Nr. of Doors                                                             [\\n5\\n]  \n",
              "Nr. of Seats                                                             [\\n5\\n]  \n",
              "Model Code                                                        [\\n0588/BDB\\n]  \n",
              "Gearing Type                                                    [\\n, Manual, \\n]  \n",
              "Displacement                                                        [\\n999 cc\\n]  \n",
              "Cylinders                                                                [\\n3\\n]  \n",
              "Weight                                                            [\\n1,135 kg\\n]  \n",
              "Drive chain                                                                  NaN  \n",
              "Fuel                                                          [\\n, Super 95, \\n]  \n",
              "Consumption                    [[4.3 l/100 km (comb)], [5.1 l/100 km (city)],...  \n",
              "CO2 Emission                                            [\\n98 g CO2/km (comb)\\n]  \n",
              "Emission Class                                                      [\\nEuro 6\\n]  \n",
              "\\nComfort & Convenience\\n      [Air conditioning, Electrical side mirrors, Le...  \n",
              "\\nEntertainment & Media\\n      [Bluetooth, CD player, Hands-free equipment, M...  \n",
              "\\nExtras\\n                     [Alloy wheels, Catalytic Converter, Voice Cont...  \n",
              "\\nSafety & Security\\n          [ABS, Central door lock, Daytime running light...  \n",
              "description                    [\\n, Getriebe:,  Schaltgetriebe, Technik:,  Bo...  \n",
              "Emission Label                                                               NaN  \n",
              "Gears                                                                    [\\n5\\n]  \n",
              "Country version                                                              NaN  \n",
              "Electricity consumption                                                      NaN  \n",
              "Last Service Date                                                            NaN  \n",
              "Other Fuel Types                                                             NaN  \n",
              "Availability                                                                 NaN  \n",
              "Last Timing Belt Service Date                                                NaN  \n",
              "Available from                                                               NaN  "
            ],
            "text/html": [
              "\n",
              "  <div id=\"df-ec6661cc-4706-4f96-a0fe-f0fb41bc5575\">\n",
              "    <div class=\"colab-df-container\">\n",
              "      <div>\n",
              "<style scoped>\n",
              "    .dataframe tbody tr th:only-of-type {\n",
              "        vertical-align: middle;\n",
              "    }\n",
              "\n",
              "    .dataframe tbody tr th {\n",
              "        vertical-align: top;\n",
              "    }\n",
              "\n",
              "    .dataframe thead th {\n",
              "        text-align: right;\n",
              "    }\n",
              "</style>\n",
              "<table border=\"1\" class=\"dataframe\">\n",
              "  <thead>\n",
              "    <tr style=\"text-align: right;\">\n",
              "      <th></th>\n",
              "      <th>15223</th>\n",
              "      <th>10051</th>\n",
              "      <th>761</th>\n",
              "    </tr>\n",
              "  </thead>\n",
              "  <tbody>\n",
              "    <tr>\n",
              "      <th>url</th>\n",
              "      <td>https://www.autoscout24.com//offers/renault-es...</td>\n",
              "      <td>https://www.autoscout24.com//offers/opel-corsa...</td>\n",
              "      <td>https://www.autoscout24.com//offers/audi-a1-sp...</td>\n",
              "    </tr>\n",
              "    <tr>\n",
              "      <th>make_model</th>\n",
              "      <td>Renault Espace</td>\n",
              "      <td>Opel Corsa</td>\n",
              "      <td>Audi A1</td>\n",
              "    </tr>\n",
              "    <tr>\n",
              "      <th>short_description</th>\n",
              "      <td>dCi 160 Zen Energy TT EDC 118 kW (160 CV)</td>\n",
              "      <td>1.4 Aut. Active +PDC+IntelliLink+Kamera+</td>\n",
              "      <td>Sportback 1.0TFSI NAV PDC FSE KLIMA MUFU 17</td>\n",
              "    </tr>\n",
              "    <tr>\n",
              "      <th>body_type</th>\n",
              "      <td>Station wagon</td>\n",
              "      <td>Compact</td>\n",
              "      <td>Compact</td>\n",
              "    </tr>\n",
              "    <tr>\n",
              "      <th>price</th>\n",
              "      <td>19950</td>\n",
              "      <td>15890</td>\n",
              "      <td>13999</td>\n",
              "    </tr>\n",
              "    <tr>\n",
              "      <th>vat</th>\n",
              "      <td>VAT deductible</td>\n",
              "      <td>VAT deductible</td>\n",
              "      <td>VAT deductible</td>\n",
              "    </tr>\n",
              "    <tr>\n",
              "      <th>km</th>\n",
              "      <td>66,000 km</td>\n",
              "      <td>3,201 km</td>\n",
              "      <td>46,892 km</td>\n",
              "    </tr>\n",
              "    <tr>\n",
              "      <th>registration</th>\n",
              "      <td>01/2016</td>\n",
              "      <td>01/2019</td>\n",
              "      <td>07/2016</td>\n",
              "    </tr>\n",
              "    <tr>\n",
              "      <th>prev_owner</th>\n",
              "      <td>None</td>\n",
              "      <td>None</td>\n",
              "      <td>1 previous owner</td>\n",
              "    </tr>\n",
              "    <tr>\n",
              "      <th>kW</th>\n",
              "      <td>NaN</td>\n",
              "      <td>NaN</td>\n",
              "      <td>NaN</td>\n",
              "    </tr>\n",
              "    <tr>\n",
              "      <th>hp</th>\n",
              "      <td>118 kW</td>\n",
              "      <td>66 kW</td>\n",
              "      <td>70 kW</td>\n",
              "    </tr>\n",
              "    <tr>\n",
              "      <th>Type</th>\n",
              "      <td>[, Used, , Diesel (Particulate Filter)]</td>\n",
              "      <td>[, Used, , Super 95]</td>\n",
              "      <td>[, Used, , Super 95]</td>\n",
              "    </tr>\n",
              "    <tr>\n",
              "      <th>Previous Owners</th>\n",
              "      <td>NaN</td>\n",
              "      <td>NaN</td>\n",
              "      <td>\\n1\\n</td>\n",
              "    </tr>\n",
              "    <tr>\n",
              "      <th>Next Inspection</th>\n",
              "      <td>NaN</td>\n",
              "      <td>[\\n06/2021\\n, \\n149 g CO2/km (comb)\\n]</td>\n",
              "      <td>NaN</td>\n",
              "    </tr>\n",
              "    <tr>\n",
              "      <th>Inspection new</th>\n",
              "      <td>NaN</td>\n",
              "      <td>[\\nYes\\n, \\nEuro 6d-TEMP\\n]</td>\n",
              "      <td>[\\nYes\\n, \\n98 g CO2/km (comb)\\n]</td>\n",
              "    </tr>\n",
              "    <tr>\n",
              "      <th>Warranty</th>\n",
              "      <td>\\n12 months\\n</td>\n",
              "      <td>[\\n, \\n, \\n4 (Green)\\n]</td>\n",
              "      <td>[\\n12 months\\n, \\nEuro 6\\n]</td>\n",
              "    </tr>\n",
              "    <tr>\n",
              "      <th>Full Service</th>\n",
              "      <td>NaN</td>\n",
              "      <td>[\\n, \\n]</td>\n",
              "      <td>[\\n, \\n, \\n4 (Green)\\n]</td>\n",
              "    </tr>\n",
              "    <tr>\n",
              "      <th>Non-smoking Vehicle</th>\n",
              "      <td>[\\n, \\n, \\n120 g CO2/km (comb)\\n]</td>\n",
              "      <td>NaN</td>\n",
              "      <td>[\\n, \\n]</td>\n",
              "    </tr>\n",
              "    <tr>\n",
              "      <th>null</th>\n",
              "      <td>[]</td>\n",
              "      <td>[]</td>\n",
              "      <td>[]</td>\n",
              "    </tr>\n",
              "    <tr>\n",
              "      <th>Make</th>\n",
              "      <td>\\nRenault\\n</td>\n",
              "      <td>\\nOpel\\n</td>\n",
              "      <td>\\nAudi\\n</td>\n",
              "    </tr>\n",
              "    <tr>\n",
              "      <th>Model</th>\n",
              "      <td>[\\n, Espace, \\n]</td>\n",
              "      <td>[\\n, Corsa, \\n]</td>\n",
              "      <td>[\\n, A1, \\n]</td>\n",
              "    </tr>\n",
              "    <tr>\n",
              "      <th>Offer Number</th>\n",
              "      <td>[\\n4917299\\n]</td>\n",
              "      <td>[\\n12672\\n]</td>\n",
              "      <td>[\\n15157\\n]</td>\n",
              "    </tr>\n",
              "    <tr>\n",
              "      <th>First Registration</th>\n",
              "      <td>[\\n, 2016, \\n]</td>\n",
              "      <td>[\\n, 2019, \\n]</td>\n",
              "      <td>[\\n, 2016, \\n]</td>\n",
              "    </tr>\n",
              "    <tr>\n",
              "      <th>Body Color</th>\n",
              "      <td>[\\n, Black, \\n]</td>\n",
              "      <td>[\\n, Blue, \\n]</td>\n",
              "      <td>[\\n, Black, \\n]</td>\n",
              "    </tr>\n",
              "    <tr>\n",
              "      <th>Paint Type</th>\n",
              "      <td>[\\nMetallic\\n]</td>\n",
              "      <td>[\\nMetallic\\n]</td>\n",
              "      <td>[\\nMetallic\\n]</td>\n",
              "    </tr>\n",
              "    <tr>\n",
              "      <th>Body Color Original</th>\n",
              "      <td>NaN</td>\n",
              "      <td>[\\nTiefsee Blau Metallic\\n]</td>\n",
              "      <td>[\\nmythosschwarz metallic\\n]</td>\n",
              "    </tr>\n",
              "    <tr>\n",
              "      <th>Upholstery</th>\n",
              "      <td>[\\nGrey\\n]</td>\n",
              "      <td>[\\nCloth, Black\\n]</td>\n",
              "      <td>[\\nCloth, Grey\\n]</td>\n",
              "    </tr>\n",
              "    <tr>\n",
              "      <th>Body</th>\n",
              "      <td>[\\n, Station wagon, \\n]</td>\n",
              "      <td>[\\n, Compact, \\n]</td>\n",
              "      <td>[\\n, Compact, \\n]</td>\n",
              "    </tr>\n",
              "    <tr>\n",
              "      <th>Nr. of Doors</th>\n",
              "      <td>[\\n5\\n]</td>\n",
              "      <td>[\\n5\\n]</td>\n",
              "      <td>[\\n5\\n]</td>\n",
              "    </tr>\n",
              "    <tr>\n",
              "      <th>Nr. of Seats</th>\n",
              "      <td>[\\n5\\n]</td>\n",
              "      <td>[\\n5\\n]</td>\n",
              "      <td>[\\n5\\n]</td>\n",
              "    </tr>\n",
              "    <tr>\n",
              "      <th>Model Code</th>\n",
              "      <td>NaN</td>\n",
              "      <td>[\\n0035/BCB\\n]</td>\n",
              "      <td>[\\n0588/BDB\\n]</td>\n",
              "    </tr>\n",
              "    <tr>\n",
              "      <th>Gearing Type</th>\n",
              "      <td>[\\n, Automatic, \\n]</td>\n",
              "      <td>[\\n, Automatic, \\n]</td>\n",
              "      <td>[\\n, Manual, \\n]</td>\n",
              "    </tr>\n",
              "    <tr>\n",
              "      <th>Displacement</th>\n",
              "      <td>[\\n1,598 cc\\n]</td>\n",
              "      <td>[\\n1,398 cc\\n]</td>\n",
              "      <td>[\\n999 cc\\n]</td>\n",
              "    </tr>\n",
              "    <tr>\n",
              "      <th>Cylinders</th>\n",
              "      <td>[\\n4\\n]</td>\n",
              "      <td>[\\n4\\n]</td>\n",
              "      <td>[\\n3\\n]</td>\n",
              "    </tr>\n",
              "    <tr>\n",
              "      <th>Weight</th>\n",
              "      <td>[\\n1,659 kg\\n]</td>\n",
              "      <td>[\\n1,199 kg\\n]</td>\n",
              "      <td>[\\n1,135 kg\\n]</td>\n",
              "    </tr>\n",
              "    <tr>\n",
              "      <th>Drive chain</th>\n",
              "      <td>[\\nfront\\n]</td>\n",
              "      <td>[\\nfront\\n]</td>\n",
              "      <td>NaN</td>\n",
              "    </tr>\n",
              "    <tr>\n",
              "      <th>Fuel</th>\n",
              "      <td>[\\n, Diesel (Particulate Filter), \\n]</td>\n",
              "      <td>[\\n, Super 95, \\n]</td>\n",
              "      <td>[\\n, Super 95, \\n]</td>\n",
              "    </tr>\n",
              "    <tr>\n",
              "      <th>Consumption</th>\n",
              "      <td>[[4.6 l/100 km (comb)], [5 l/100 km (city)], [...</td>\n",
              "      <td>[[6.6 l/100 km (comb)], [8.2 l/100 km (city)],...</td>\n",
              "      <td>[[4.3 l/100 km (comb)], [5.1 l/100 km (city)],...</td>\n",
              "    </tr>\n",
              "    <tr>\n",
              "      <th>CO2 Emission</th>\n",
              "      <td>[\\n120 g CO2/km (comb)\\n]</td>\n",
              "      <td>[\\n149 g CO2/km (comb)\\n]</td>\n",
              "      <td>[\\n98 g CO2/km (comb)\\n]</td>\n",
              "    </tr>\n",
              "    <tr>\n",
              "      <th>Emission Class</th>\n",
              "      <td>[\\nEuro 6\\n]</td>\n",
              "      <td>[\\nEuro 6d-TEMP\\n]</td>\n",
              "      <td>[\\nEuro 6\\n]</td>\n",
              "    </tr>\n",
              "    <tr>\n",
              "      <th>\\nComfort &amp; Convenience\\n</th>\n",
              "      <td>[Air conditioning, Armrest, Cruise control, El...</td>\n",
              "      <td>[Air conditioning, Cruise control, Electricall...</td>\n",
              "      <td>[Air conditioning, Electrical side mirrors, Le...</td>\n",
              "    </tr>\n",
              "    <tr>\n",
              "      <th>\\nEntertainment &amp; Media\\n</th>\n",
              "      <td>[Bluetooth, On-board computer, Radio]</td>\n",
              "      <td>[Bluetooth, Hands-free equipment, MP3, On-boar...</td>\n",
              "      <td>[Bluetooth, CD player, Hands-free equipment, M...</td>\n",
              "    </tr>\n",
              "    <tr>\n",
              "      <th>\\nExtras\\n</th>\n",
              "      <td>[Alloy wheels, Voice Control]</td>\n",
              "      <td>[Alloy wheels, Touch screen, Voice Control]</td>\n",
              "      <td>[Alloy wheels, Catalytic Converter, Voice Cont...</td>\n",
              "    </tr>\n",
              "    <tr>\n",
              "      <th>\\nSafety &amp; Security\\n</th>\n",
              "      <td>[ABS, Central door lock, Daytime running light...</td>\n",
              "      <td>[ABS, Central door lock, Daytime running light...</td>\n",
              "      <td>[ABS, Central door lock, Daytime running light...</td>\n",
              "    </tr>\n",
              "    <tr>\n",
              "      <th>description</th>\n",
              "      <td>[\\n343 Euros/mes SIN entrada. Admitimos tu coc...</td>\n",
              "      <td>[\\n,  * Paket: Feel-Good - Rückfahrkamera - Pa...</td>\n",
              "      <td>[\\n, Getriebe:,  Schaltgetriebe, Technik:,  Bo...</td>\n",
              "    </tr>\n",
              "    <tr>\n",
              "      <th>Emission Label</th>\n",
              "      <td>NaN</td>\n",
              "      <td>NaN</td>\n",
              "      <td>NaN</td>\n",
              "    </tr>\n",
              "    <tr>\n",
              "      <th>Gears</th>\n",
              "      <td>[\\n6\\n]</td>\n",
              "      <td>[\\n6\\n]</td>\n",
              "      <td>[\\n5\\n]</td>\n",
              "    </tr>\n",
              "    <tr>\n",
              "      <th>Country version</th>\n",
              "      <td>NaN</td>\n",
              "      <td>[\\nGermany\\n]</td>\n",
              "      <td>NaN</td>\n",
              "    </tr>\n",
              "    <tr>\n",
              "      <th>Electricity consumption</th>\n",
              "      <td>NaN</td>\n",
              "      <td>NaN</td>\n",
              "      <td>NaN</td>\n",
              "    </tr>\n",
              "    <tr>\n",
              "      <th>Last Service Date</th>\n",
              "      <td>NaN</td>\n",
              "      <td>NaN</td>\n",
              "      <td>NaN</td>\n",
              "    </tr>\n",
              "    <tr>\n",
              "      <th>Other Fuel Types</th>\n",
              "      <td>NaN</td>\n",
              "      <td>NaN</td>\n",
              "      <td>NaN</td>\n",
              "    </tr>\n",
              "    <tr>\n",
              "      <th>Availability</th>\n",
              "      <td>NaN</td>\n",
              "      <td>\\nin 3 days from ordering\\n</td>\n",
              "      <td>NaN</td>\n",
              "    </tr>\n",
              "    <tr>\n",
              "      <th>Last Timing Belt Service Date</th>\n",
              "      <td>NaN</td>\n",
              "      <td>NaN</td>\n",
              "      <td>NaN</td>\n",
              "    </tr>\n",
              "    <tr>\n",
              "      <th>Available from</th>\n",
              "      <td>NaN</td>\n",
              "      <td>NaN</td>\n",
              "      <td>NaN</td>\n",
              "    </tr>\n",
              "  </tbody>\n",
              "</table>\n",
              "</div>\n",
              "      <button class=\"colab-df-convert\" onclick=\"convertToInteractive('df-ec6661cc-4706-4f96-a0fe-f0fb41bc5575')\"\n",
              "              title=\"Convert this dataframe to an interactive table.\"\n",
              "              style=\"display:none;\">\n",
              "        \n",
              "  <svg xmlns=\"http://www.w3.org/2000/svg\" height=\"24px\"viewBox=\"0 0 24 24\"\n",
              "       width=\"24px\">\n",
              "    <path d=\"M0 0h24v24H0V0z\" fill=\"none\"/>\n",
              "    <path d=\"M18.56 5.44l.94 2.06.94-2.06 2.06-.94-2.06-.94-.94-2.06-.94 2.06-2.06.94zm-11 1L8.5 8.5l.94-2.06 2.06-.94-2.06-.94L8.5 2.5l-.94 2.06-2.06.94zm10 10l.94 2.06.94-2.06 2.06-.94-2.06-.94-.94-2.06-.94 2.06-2.06.94z\"/><path d=\"M17.41 7.96l-1.37-1.37c-.4-.4-.92-.59-1.43-.59-.52 0-1.04.2-1.43.59L10.3 9.45l-7.72 7.72c-.78.78-.78 2.05 0 2.83L4 21.41c.39.39.9.59 1.41.59.51 0 1.02-.2 1.41-.59l7.78-7.78 2.81-2.81c.8-.78.8-2.07 0-2.86zM5.41 20L4 18.59l7.72-7.72 1.47 1.35L5.41 20z\"/>\n",
              "  </svg>\n",
              "      </button>\n",
              "      \n",
              "  <style>\n",
              "    .colab-df-container {\n",
              "      display:flex;\n",
              "      flex-wrap:wrap;\n",
              "      gap: 12px;\n",
              "    }\n",
              "\n",
              "    .colab-df-convert {\n",
              "      background-color: #E8F0FE;\n",
              "      border: none;\n",
              "      border-radius: 50%;\n",
              "      cursor: pointer;\n",
              "      display: none;\n",
              "      fill: #1967D2;\n",
              "      height: 32px;\n",
              "      padding: 0 0 0 0;\n",
              "      width: 32px;\n",
              "    }\n",
              "\n",
              "    .colab-df-convert:hover {\n",
              "      background-color: #E2EBFA;\n",
              "      box-shadow: 0px 1px 2px rgba(60, 64, 67, 0.3), 0px 1px 3px 1px rgba(60, 64, 67, 0.15);\n",
              "      fill: #174EA6;\n",
              "    }\n",
              "\n",
              "    [theme=dark] .colab-df-convert {\n",
              "      background-color: #3B4455;\n",
              "      fill: #D2E3FC;\n",
              "    }\n",
              "\n",
              "    [theme=dark] .colab-df-convert:hover {\n",
              "      background-color: #434B5C;\n",
              "      box-shadow: 0px 1px 3px 1px rgba(0, 0, 0, 0.15);\n",
              "      filter: drop-shadow(0px 1px 2px rgba(0, 0, 0, 0.3));\n",
              "      fill: #FFFFFF;\n",
              "    }\n",
              "  </style>\n",
              "\n",
              "      <script>\n",
              "        const buttonEl =\n",
              "          document.querySelector('#df-ec6661cc-4706-4f96-a0fe-f0fb41bc5575 button.colab-df-convert');\n",
              "        buttonEl.style.display =\n",
              "          google.colab.kernel.accessAllowed ? 'block' : 'none';\n",
              "\n",
              "        async function convertToInteractive(key) {\n",
              "          const element = document.querySelector('#df-ec6661cc-4706-4f96-a0fe-f0fb41bc5575');\n",
              "          const dataTable =\n",
              "            await google.colab.kernel.invokeFunction('convertToInteractive',\n",
              "                                                     [key], {});\n",
              "          if (!dataTable) return;\n",
              "\n",
              "          const docLinkHtml = 'Like what you see? Visit the ' +\n",
              "            '<a target=\"_blank\" href=https://colab.research.google.com/notebooks/data_table.ipynb>data table notebook</a>'\n",
              "            + ' to learn more about interactive tables.';\n",
              "          element.innerHTML = '';\n",
              "          dataTable['output_type'] = 'display_data';\n",
              "          await google.colab.output.renderOutput(dataTable, element);\n",
              "          const docLink = document.createElement('div');\n",
              "          docLink.innerHTML = docLinkHtml;\n",
              "          element.appendChild(docLink);\n",
              "        }\n",
              "      </script>\n",
              "    </div>\n",
              "  </div>\n",
              "  "
            ]
          },
          "metadata": {},
          "execution_count": 8
        }
      ],
      "source": [
        "df.sample(3).T"
      ]
    },
    {
      "cell_type": "code",
      "execution_count": 12,
      "metadata": {
        "colab": {
          "base_uri": "https://localhost:8080/"
        },
        "id": "SEyuV-IW0FIP",
        "outputId": "cce3d8c5-f5ab-48be-aca6-a0d775a2d5fd"
      },
      "outputs": [
        {
          "output_type": "execute_result",
          "data": {
            "text/plain": [
              "(15919, 54)"
            ]
          },
          "metadata": {},
          "execution_count": 12
        }
      ],
      "source": [
        "df.shape"
      ]
    },
    {
      "cell_type": "code",
      "execution_count": 13,
      "metadata": {
        "colab": {
          "base_uri": "https://localhost:8080/"
        },
        "id": "pz8E_h_S0FIP",
        "outputId": "20665aca-be30-4c01-852a-dede4ed240db"
      },
      "outputs": [
        {
          "output_type": "stream",
          "name": "stdout",
          "text": [
            "<class 'pandas.core.frame.DataFrame'>\n",
            "RangeIndex: 15919 entries, 0 to 15918\n",
            "Data columns (total 54 columns):\n",
            " #   Column                         Non-Null Count  Dtype  \n",
            "---  ------                         --------------  -----  \n",
            " 0   url                            15919 non-null  object \n",
            " 1   make_model                     15919 non-null  object \n",
            " 2   short_description              15873 non-null  object \n",
            " 3   body_type                      15859 non-null  object \n",
            " 4   price                          15919 non-null  int64  \n",
            " 5   vat                            11406 non-null  object \n",
            " 6   km                             15919 non-null  object \n",
            " 7   registration                   15919 non-null  object \n",
            " 8   prev_owner                     9091 non-null   object \n",
            " 9   kW                             0 non-null      float64\n",
            " 10  hp                             15919 non-null  object \n",
            " 11  Type                           15917 non-null  object \n",
            " 12  Previous Owners                9279 non-null   object \n",
            " 13  Next Inspection                3535 non-null   object \n",
            " 14  Inspection new                 3932 non-null   object \n",
            " 15  Warranty                       10499 non-null  object \n",
            " 16  Full Service                   8215 non-null   object \n",
            " 17  Non-smoking Vehicle            7177 non-null   object \n",
            " 18  null                           15919 non-null  object \n",
            " 19  Make                           15919 non-null  object \n",
            " 20  Model                          15919 non-null  object \n",
            " 21  Offer Number                   12744 non-null  object \n",
            " 22  First Registration             14322 non-null  object \n",
            " 23  Body Color                     15322 non-null  object \n",
            " 24  Paint Type                     10147 non-null  object \n",
            " 25  Body Color Original            12160 non-null  object \n",
            " 26  Upholstery                     12199 non-null  object \n",
            " 27  Body                           15859 non-null  object \n",
            " 28  Nr. of Doors                   15707 non-null  object \n",
            " 29  Nr. of Seats                   14942 non-null  object \n",
            " 30  Model Code                     4978 non-null   object \n",
            " 31  Gearing Type                   15919 non-null  object \n",
            " 32  Displacement                   15423 non-null  object \n",
            " 33  Cylinders                      10239 non-null  object \n",
            " 34  Weight                         8945 non-null   object \n",
            " 35  Drive chain                    9061 non-null   object \n",
            " 36  Fuel                           15919 non-null  object \n",
            " 37  Consumption                    14013 non-null  object \n",
            " 38  CO2 Emission                   14111 non-null  object \n",
            " 39  Emission Class                 12898 non-null  object \n",
            " 40  \n",
            "Comfort & Convenience\n",
            "        14999 non-null  object \n",
            " 41  \n",
            "Entertainment & Media\n",
            "        14545 non-null  object \n",
            " 42  \n",
            "Extras\n",
            "                       12957 non-null  object \n",
            " 43  \n",
            "Safety & Security\n",
            "            14937 non-null  object \n",
            " 44  description                    15919 non-null  object \n",
            " 45  Emission Label                 3985 non-null   object \n",
            " 46  Gears                          11207 non-null  object \n",
            " 47  Country version                7586 non-null   object \n",
            " 48  Electricity consumption        137 non-null    object \n",
            " 49  Last Service Date              566 non-null    object \n",
            " 50  Other Fuel Types               880 non-null    object \n",
            " 51  Availability                   635 non-null    object \n",
            " 52  Last Timing Belt Service Date  16 non-null     object \n",
            " 53  Available from                 272 non-null    object \n",
            "dtypes: float64(1), int64(1), object(52)\n",
            "memory usage: 6.6+ MB\n"
          ]
        }
      ],
      "source": [
        "df.info()"
      ]
    },
    {
      "cell_type": "code",
      "execution_count": 15,
      "metadata": {
        "colab": {
          "base_uri": "https://localhost:8080/",
          "height": 300
        },
        "id": "VClJE_Q90FIP",
        "outputId": "69ed1c16-b636-4c42-e2b5-941b9e649473"
      },
      "outputs": [
        {
          "output_type": "execute_result",
          "data": {
            "text/plain": [
              "              price   kW\n",
              "count  15919.000000  0.0\n",
              "mean   18019.896727  NaN\n",
              "std     7386.169409  NaN\n",
              "min       13.000000  NaN\n",
              "25%    12850.000000  NaN\n",
              "50%    16900.000000  NaN\n",
              "75%    21900.000000  NaN\n",
              "max    74600.000000  NaN"
            ],
            "text/html": [
              "\n",
              "  <div id=\"df-e1fa3155-4a03-4f7c-b1b9-4af110dc7e71\">\n",
              "    <div class=\"colab-df-container\">\n",
              "      <div>\n",
              "<style scoped>\n",
              "    .dataframe tbody tr th:only-of-type {\n",
              "        vertical-align: middle;\n",
              "    }\n",
              "\n",
              "    .dataframe tbody tr th {\n",
              "        vertical-align: top;\n",
              "    }\n",
              "\n",
              "    .dataframe thead th {\n",
              "        text-align: right;\n",
              "    }\n",
              "</style>\n",
              "<table border=\"1\" class=\"dataframe\">\n",
              "  <thead>\n",
              "    <tr style=\"text-align: right;\">\n",
              "      <th></th>\n",
              "      <th>price</th>\n",
              "      <th>kW</th>\n",
              "    </tr>\n",
              "  </thead>\n",
              "  <tbody>\n",
              "    <tr>\n",
              "      <th>count</th>\n",
              "      <td>15919.000000</td>\n",
              "      <td>0.0</td>\n",
              "    </tr>\n",
              "    <tr>\n",
              "      <th>mean</th>\n",
              "      <td>18019.896727</td>\n",
              "      <td>NaN</td>\n",
              "    </tr>\n",
              "    <tr>\n",
              "      <th>std</th>\n",
              "      <td>7386.169409</td>\n",
              "      <td>NaN</td>\n",
              "    </tr>\n",
              "    <tr>\n",
              "      <th>min</th>\n",
              "      <td>13.000000</td>\n",
              "      <td>NaN</td>\n",
              "    </tr>\n",
              "    <tr>\n",
              "      <th>25%</th>\n",
              "      <td>12850.000000</td>\n",
              "      <td>NaN</td>\n",
              "    </tr>\n",
              "    <tr>\n",
              "      <th>50%</th>\n",
              "      <td>16900.000000</td>\n",
              "      <td>NaN</td>\n",
              "    </tr>\n",
              "    <tr>\n",
              "      <th>75%</th>\n",
              "      <td>21900.000000</td>\n",
              "      <td>NaN</td>\n",
              "    </tr>\n",
              "    <tr>\n",
              "      <th>max</th>\n",
              "      <td>74600.000000</td>\n",
              "      <td>NaN</td>\n",
              "    </tr>\n",
              "  </tbody>\n",
              "</table>\n",
              "</div>\n",
              "      <button class=\"colab-df-convert\" onclick=\"convertToInteractive('df-e1fa3155-4a03-4f7c-b1b9-4af110dc7e71')\"\n",
              "              title=\"Convert this dataframe to an interactive table.\"\n",
              "              style=\"display:none;\">\n",
              "        \n",
              "  <svg xmlns=\"http://www.w3.org/2000/svg\" height=\"24px\"viewBox=\"0 0 24 24\"\n",
              "       width=\"24px\">\n",
              "    <path d=\"M0 0h24v24H0V0z\" fill=\"none\"/>\n",
              "    <path d=\"M18.56 5.44l.94 2.06.94-2.06 2.06-.94-2.06-.94-.94-2.06-.94 2.06-2.06.94zm-11 1L8.5 8.5l.94-2.06 2.06-.94-2.06-.94L8.5 2.5l-.94 2.06-2.06.94zm10 10l.94 2.06.94-2.06 2.06-.94-2.06-.94-.94-2.06-.94 2.06-2.06.94z\"/><path d=\"M17.41 7.96l-1.37-1.37c-.4-.4-.92-.59-1.43-.59-.52 0-1.04.2-1.43.59L10.3 9.45l-7.72 7.72c-.78.78-.78 2.05 0 2.83L4 21.41c.39.39.9.59 1.41.59.51 0 1.02-.2 1.41-.59l7.78-7.78 2.81-2.81c.8-.78.8-2.07 0-2.86zM5.41 20L4 18.59l7.72-7.72 1.47 1.35L5.41 20z\"/>\n",
              "  </svg>\n",
              "      </button>\n",
              "      \n",
              "  <style>\n",
              "    .colab-df-container {\n",
              "      display:flex;\n",
              "      flex-wrap:wrap;\n",
              "      gap: 12px;\n",
              "    }\n",
              "\n",
              "    .colab-df-convert {\n",
              "      background-color: #E8F0FE;\n",
              "      border: none;\n",
              "      border-radius: 50%;\n",
              "      cursor: pointer;\n",
              "      display: none;\n",
              "      fill: #1967D2;\n",
              "      height: 32px;\n",
              "      padding: 0 0 0 0;\n",
              "      width: 32px;\n",
              "    }\n",
              "\n",
              "    .colab-df-convert:hover {\n",
              "      background-color: #E2EBFA;\n",
              "      box-shadow: 0px 1px 2px rgba(60, 64, 67, 0.3), 0px 1px 3px 1px rgba(60, 64, 67, 0.15);\n",
              "      fill: #174EA6;\n",
              "    }\n",
              "\n",
              "    [theme=dark] .colab-df-convert {\n",
              "      background-color: #3B4455;\n",
              "      fill: #D2E3FC;\n",
              "    }\n",
              "\n",
              "    [theme=dark] .colab-df-convert:hover {\n",
              "      background-color: #434B5C;\n",
              "      box-shadow: 0px 1px 3px 1px rgba(0, 0, 0, 0.15);\n",
              "      filter: drop-shadow(0px 1px 2px rgba(0, 0, 0, 0.3));\n",
              "      fill: #FFFFFF;\n",
              "    }\n",
              "  </style>\n",
              "\n",
              "      <script>\n",
              "        const buttonEl =\n",
              "          document.querySelector('#df-e1fa3155-4a03-4f7c-b1b9-4af110dc7e71 button.colab-df-convert');\n",
              "        buttonEl.style.display =\n",
              "          google.colab.kernel.accessAllowed ? 'block' : 'none';\n",
              "\n",
              "        async function convertToInteractive(key) {\n",
              "          const element = document.querySelector('#df-e1fa3155-4a03-4f7c-b1b9-4af110dc7e71');\n",
              "          const dataTable =\n",
              "            await google.colab.kernel.invokeFunction('convertToInteractive',\n",
              "                                                     [key], {});\n",
              "          if (!dataTable) return;\n",
              "\n",
              "          const docLinkHtml = 'Like what you see? Visit the ' +\n",
              "            '<a target=\"_blank\" href=https://colab.research.google.com/notebooks/data_table.ipynb>data table notebook</a>'\n",
              "            + ' to learn more about interactive tables.';\n",
              "          element.innerHTML = '';\n",
              "          dataTable['output_type'] = 'display_data';\n",
              "          await google.colab.output.renderOutput(dataTable, element);\n",
              "          const docLink = document.createElement('div');\n",
              "          docLink.innerHTML = docLinkHtml;\n",
              "          element.appendChild(docLink);\n",
              "        }\n",
              "      </script>\n",
              "    </div>\n",
              "  </div>\n",
              "  "
            ]
          },
          "metadata": {},
          "execution_count": 15
        }
      ],
      "source": [
        "df.describe()"
      ]
    },
    {
      "cell_type": "code",
      "source": [
        "df.describe(include=\"object\").T"
      ],
      "metadata": {
        "colab": {
          "base_uri": "https://localhost:8080/",
          "height": 1000
        },
        "id": "tjdfHK4kIYXE",
        "outputId": "7fc1f17c-bfa6-485e-d6b7-02665215c273"
      },
      "execution_count": 22,
      "outputs": [
        {
          "output_type": "execute_result",
          "data": {
            "text/plain": [
              "                               count unique  \\\n",
              "url                            15919  15919   \n",
              "make_model                     15919      9   \n",
              "short_description              15873  10001   \n",
              "body_type                      15859      9   \n",
              "vat                            11406      2   \n",
              "km                             15919   6690   \n",
              "registration                   15919     48   \n",
              "prev_owner                      9091      4   \n",
              "hp                             15919     81   \n",
              "Type                           15917    169   \n",
              "Previous Owners                 9279    102   \n",
              "Next Inspection                 3535   1399   \n",
              "Inspection new                  3932    202   \n",
              "Warranty                       10499    515   \n",
              "Full Service                    8215    122   \n",
              "Non-smoking Vehicle             7177     94   \n",
              "null                           15919      1   \n",
              "Make                           15919      3   \n",
              "Model                          15919      9   \n",
              "Offer Number                   12744  11440   \n",
              "First Registration             14322      4   \n",
              "Body Color                     15322     14   \n",
              "Paint Type                     10147      3   \n",
              "Body Color Original            12160   1927   \n",
              "Upholstery                     12199     46   \n",
              "Body                           15859      9   \n",
              "Nr. of Doors                   15707      6   \n",
              "Nr. of Seats                   14942      6   \n",
              "Model Code                      4978    232   \n",
              "Gearing Type                   15919      3   \n",
              "Displacement                   15423     77   \n",
              "Cylinders                      10239      7   \n",
              "Weight                          8945    434   \n",
              "Drive chain                     9061      3   \n",
              "Fuel                           15919     77   \n",
              "Consumption                    14013    881   \n",
              "CO2 Emission                   14111    123   \n",
              "Emission Class                 12898      7   \n",
              "\\nComfort & Convenience\\n      14999   6198   \n",
              "\\nEntertainment & Media\\n      14545    346   \n",
              "\\nExtras\\n                     12957    659   \n",
              "\\nSafety & Security\\n          14937   4443   \n",
              "description                    15919  12874   \n",
              "Emission Label                  3985      6   \n",
              "Gears                          11207     10   \n",
              "Country version                 7586     23   \n",
              "Electricity consumption          137      1   \n",
              "Last Service Date                566    266   \n",
              "Other Fuel Types                 880      1   \n",
              "Availability                     635     15   \n",
              "Last Timing Belt Service Date     16     15   \n",
              "Available from                   272     46   \n",
              "\n",
              "                                                                             top  \\\n",
              "url                            https://www.autoscout24.com//offers/audi-a1-sp...   \n",
              "make_model                                                               Audi A3   \n",
              "short_description                              SPB 1.6 TDI 116 CV S tronic Sport   \n",
              "body_type                                                                 Sedans   \n",
              "vat                                                               VAT deductible   \n",
              "km                                                                         10 km   \n",
              "registration                                                                 -/-   \n",
              "prev_owner                                                      1 previous owner   \n",
              "hp                                                                         85 kW   \n",
              "Type                                     [, Used, , Diesel (Particulate Filter)]   \n",
              "Previous Owners                                                            \\n1\\n   \n",
              "Next Inspection                                                      \\n04/2022\\n   \n",
              "Inspection new                                             [\\nYes\\n, \\nEuro 6\\n]   \n",
              "Warranty                                                    [\\n, \\n, \\nEuro 6\\n]   \n",
              "Full Service                                             [\\n, \\n, \\n4 (Green)\\n]   \n",
              "Non-smoking Vehicle                                                     [\\n, \\n]   \n",
              "null                                                                          []   \n",
              "Make                                                                    \\nOpel\\n   \n",
              "Model                                                               [\\n, A3, \\n]   \n",
              "Offer Number                                                       [\\nLT67679\\n]   \n",
              "First Registration                                                [\\n, 2018, \\n]   \n",
              "Body Color                                                       [\\n, Black, \\n]   \n",
              "Paint Type                                                        [\\nMetallic\\n]   \n",
              "Body Color Original                                           [\\nOnyx Schwarz\\n]   \n",
              "Upholstery                                                    [\\nCloth, Black\\n]   \n",
              "Body                                                            [\\n, Sedans, \\n]   \n",
              "Nr. of Doors                                                             [\\n5\\n]   \n",
              "Nr. of Seats                                                             [\\n5\\n]   \n",
              "Model Code                                                        [\\n0035/BCB\\n]   \n",
              "Gearing Type                                                    [\\n, Manual, \\n]   \n",
              "Displacement                                                      [\\n1,598 cc\\n]   \n",
              "Cylinders                                                                [\\n4\\n]   \n",
              "Weight                                                            [\\n1,163 kg\\n]   \n",
              "Drive chain                                                          [\\nfront\\n]   \n",
              "Fuel                                       [\\n, Diesel (Particulate Filter), \\n]   \n",
              "Consumption                    [[3.9 l/100 km (comb)], [4.1 l/100 km (city)],...   \n",
              "CO2 Emission                                           [\\n120 g CO2/km (comb)\\n]   \n",
              "Emission Class                                                      [\\nEuro 6\\n]   \n",
              "\\nComfort & Convenience\\n      [Air conditioning, Electrical side mirrors, Hi...   \n",
              "\\nEntertainment & Media\\n      [Bluetooth, Hands-free equipment, On-board com...   \n",
              "\\nExtras\\n                                                        [Alloy wheels]   \n",
              "\\nSafety & Security\\n          [ABS, Central door lock, Daytime running light...   \n",
              "description                                                                   []   \n",
              "Emission Label                                                   [\\n4 (Green)\\n]   \n",
              "Gears                                                                    [\\n6\\n]   \n",
              "Country version                                                    [\\nGermany\\n]   \n",
              "Electricity consumption                                [\\n0 kWh/100 km (comb)\\n]   \n",
              "Last Service Date                                      [\\n02/2019\\n, \\nEuro 6\\n]   \n",
              "Other Fuel Types                                                    [[], [], []]   \n",
              "Availability                                        \\nin 90 days from ordering\\n   \n",
              "Last Timing Belt Service Date                                      [\\n04/2016\\n]   \n",
              "Available from                                                      \\n31/08/19\\n   \n",
              "\n",
              "                                freq  \n",
              "url                                1  \n",
              "make_model                      3097  \n",
              "short_description                 64  \n",
              "body_type                       7903  \n",
              "vat                            10980  \n",
              "km                              1045  \n",
              "registration                    1597  \n",
              "prev_owner                      8294  \n",
              "hp                              2542  \n",
              "Type                            3475  \n",
              "Previous Owners                 8101  \n",
              "Next Inspection                   62  \n",
              "Inspection new                   523  \n",
              "Warranty                        1868  \n",
              "Full Service                    2235  \n",
              "Non-smoking Vehicle             3647  \n",
              "null                           15919  \n",
              "Make                            7343  \n",
              "Model                           3097  \n",
              "Offer Number                      27  \n",
              "First Registration              4522  \n",
              "Body Color                      3745  \n",
              "Paint Type                      9794  \n",
              "Body Color Original              338  \n",
              "Upholstery                      5821  \n",
              "Body                            7903  \n",
              "Nr. of Doors                   11575  \n",
              "Nr. of Seats                   13336  \n",
              "Model Code                       268  \n",
              "Gearing Type                    8153  \n",
              "Displacement                    4761  \n",
              "Cylinders                       8105  \n",
              "Weight                           574  \n",
              "Drive chain                     8886  \n",
              "Fuel                            4315  \n",
              "Consumption                      304  \n",
              "CO2 Emission                     740  \n",
              "Emission Class                 10139  \n",
              "\\nComfort & Convenience\\n        216  \n",
              "\\nEntertainment & Media\\n       1282  \n",
              "\\nExtras\\n                      3245  \n",
              "\\nSafety & Security\\n            538  \n",
              "description                      636  \n",
              "Emission Label                  3553  \n",
              "Gears                           5822  \n",
              "Country version                 4502  \n",
              "Electricity consumption          137  \n",
              "Last Service Date                 23  \n",
              "Other Fuel Types                 880  \n",
              "Availability                     196  \n",
              "Last Timing Belt Service Date      2  \n",
              "Available from                    98  "
            ],
            "text/html": [
              "\n",
              "  <div id=\"df-d00c9015-ccec-49ba-9606-4ef5e5c1f32f\">\n",
              "    <div class=\"colab-df-container\">\n",
              "      <div>\n",
              "<style scoped>\n",
              "    .dataframe tbody tr th:only-of-type {\n",
              "        vertical-align: middle;\n",
              "    }\n",
              "\n",
              "    .dataframe tbody tr th {\n",
              "        vertical-align: top;\n",
              "    }\n",
              "\n",
              "    .dataframe thead th {\n",
              "        text-align: right;\n",
              "    }\n",
              "</style>\n",
              "<table border=\"1\" class=\"dataframe\">\n",
              "  <thead>\n",
              "    <tr style=\"text-align: right;\">\n",
              "      <th></th>\n",
              "      <th>count</th>\n",
              "      <th>unique</th>\n",
              "      <th>top</th>\n",
              "      <th>freq</th>\n",
              "    </tr>\n",
              "  </thead>\n",
              "  <tbody>\n",
              "    <tr>\n",
              "      <th>url</th>\n",
              "      <td>15919</td>\n",
              "      <td>15919</td>\n",
              "      <td>https://www.autoscout24.com//offers/audi-a1-sp...</td>\n",
              "      <td>1</td>\n",
              "    </tr>\n",
              "    <tr>\n",
              "      <th>make_model</th>\n",
              "      <td>15919</td>\n",
              "      <td>9</td>\n",
              "      <td>Audi A3</td>\n",
              "      <td>3097</td>\n",
              "    </tr>\n",
              "    <tr>\n",
              "      <th>short_description</th>\n",
              "      <td>15873</td>\n",
              "      <td>10001</td>\n",
              "      <td>SPB 1.6 TDI 116 CV S tronic Sport</td>\n",
              "      <td>64</td>\n",
              "    </tr>\n",
              "    <tr>\n",
              "      <th>body_type</th>\n",
              "      <td>15859</td>\n",
              "      <td>9</td>\n",
              "      <td>Sedans</td>\n",
              "      <td>7903</td>\n",
              "    </tr>\n",
              "    <tr>\n",
              "      <th>vat</th>\n",
              "      <td>11406</td>\n",
              "      <td>2</td>\n",
              "      <td>VAT deductible</td>\n",
              "      <td>10980</td>\n",
              "    </tr>\n",
              "    <tr>\n",
              "      <th>km</th>\n",
              "      <td>15919</td>\n",
              "      <td>6690</td>\n",
              "      <td>10 km</td>\n",
              "      <td>1045</td>\n",
              "    </tr>\n",
              "    <tr>\n",
              "      <th>registration</th>\n",
              "      <td>15919</td>\n",
              "      <td>48</td>\n",
              "      <td>-/-</td>\n",
              "      <td>1597</td>\n",
              "    </tr>\n",
              "    <tr>\n",
              "      <th>prev_owner</th>\n",
              "      <td>9091</td>\n",
              "      <td>4</td>\n",
              "      <td>1 previous owner</td>\n",
              "      <td>8294</td>\n",
              "    </tr>\n",
              "    <tr>\n",
              "      <th>hp</th>\n",
              "      <td>15919</td>\n",
              "      <td>81</td>\n",
              "      <td>85 kW</td>\n",
              "      <td>2542</td>\n",
              "    </tr>\n",
              "    <tr>\n",
              "      <th>Type</th>\n",
              "      <td>15917</td>\n",
              "      <td>169</td>\n",
              "      <td>[, Used, , Diesel (Particulate Filter)]</td>\n",
              "      <td>3475</td>\n",
              "    </tr>\n",
              "    <tr>\n",
              "      <th>Previous Owners</th>\n",
              "      <td>9279</td>\n",
              "      <td>102</td>\n",
              "      <td>\\n1\\n</td>\n",
              "      <td>8101</td>\n",
              "    </tr>\n",
              "    <tr>\n",
              "      <th>Next Inspection</th>\n",
              "      <td>3535</td>\n",
              "      <td>1399</td>\n",
              "      <td>\\n04/2022\\n</td>\n",
              "      <td>62</td>\n",
              "    </tr>\n",
              "    <tr>\n",
              "      <th>Inspection new</th>\n",
              "      <td>3932</td>\n",
              "      <td>202</td>\n",
              "      <td>[\\nYes\\n, \\nEuro 6\\n]</td>\n",
              "      <td>523</td>\n",
              "    </tr>\n",
              "    <tr>\n",
              "      <th>Warranty</th>\n",
              "      <td>10499</td>\n",
              "      <td>515</td>\n",
              "      <td>[\\n, \\n, \\nEuro 6\\n]</td>\n",
              "      <td>1868</td>\n",
              "    </tr>\n",
              "    <tr>\n",
              "      <th>Full Service</th>\n",
              "      <td>8215</td>\n",
              "      <td>122</td>\n",
              "      <td>[\\n, \\n, \\n4 (Green)\\n]</td>\n",
              "      <td>2235</td>\n",
              "    </tr>\n",
              "    <tr>\n",
              "      <th>Non-smoking Vehicle</th>\n",
              "      <td>7177</td>\n",
              "      <td>94</td>\n",
              "      <td>[\\n, \\n]</td>\n",
              "      <td>3647</td>\n",
              "    </tr>\n",
              "    <tr>\n",
              "      <th>null</th>\n",
              "      <td>15919</td>\n",
              "      <td>1</td>\n",
              "      <td>[]</td>\n",
              "      <td>15919</td>\n",
              "    </tr>\n",
              "    <tr>\n",
              "      <th>Make</th>\n",
              "      <td>15919</td>\n",
              "      <td>3</td>\n",
              "      <td>\\nOpel\\n</td>\n",
              "      <td>7343</td>\n",
              "    </tr>\n",
              "    <tr>\n",
              "      <th>Model</th>\n",
              "      <td>15919</td>\n",
              "      <td>9</td>\n",
              "      <td>[\\n, A3, \\n]</td>\n",
              "      <td>3097</td>\n",
              "    </tr>\n",
              "    <tr>\n",
              "      <th>Offer Number</th>\n",
              "      <td>12744</td>\n",
              "      <td>11440</td>\n",
              "      <td>[\\nLT67679\\n]</td>\n",
              "      <td>27</td>\n",
              "    </tr>\n",
              "    <tr>\n",
              "      <th>First Registration</th>\n",
              "      <td>14322</td>\n",
              "      <td>4</td>\n",
              "      <td>[\\n, 2018, \\n]</td>\n",
              "      <td>4522</td>\n",
              "    </tr>\n",
              "    <tr>\n",
              "      <th>Body Color</th>\n",
              "      <td>15322</td>\n",
              "      <td>14</td>\n",
              "      <td>[\\n, Black, \\n]</td>\n",
              "      <td>3745</td>\n",
              "    </tr>\n",
              "    <tr>\n",
              "      <th>Paint Type</th>\n",
              "      <td>10147</td>\n",
              "      <td>3</td>\n",
              "      <td>[\\nMetallic\\n]</td>\n",
              "      <td>9794</td>\n",
              "    </tr>\n",
              "    <tr>\n",
              "      <th>Body Color Original</th>\n",
              "      <td>12160</td>\n",
              "      <td>1927</td>\n",
              "      <td>[\\nOnyx Schwarz\\n]</td>\n",
              "      <td>338</td>\n",
              "    </tr>\n",
              "    <tr>\n",
              "      <th>Upholstery</th>\n",
              "      <td>12199</td>\n",
              "      <td>46</td>\n",
              "      <td>[\\nCloth, Black\\n]</td>\n",
              "      <td>5821</td>\n",
              "    </tr>\n",
              "    <tr>\n",
              "      <th>Body</th>\n",
              "      <td>15859</td>\n",
              "      <td>9</td>\n",
              "      <td>[\\n, Sedans, \\n]</td>\n",
              "      <td>7903</td>\n",
              "    </tr>\n",
              "    <tr>\n",
              "      <th>Nr. of Doors</th>\n",
              "      <td>15707</td>\n",
              "      <td>6</td>\n",
              "      <td>[\\n5\\n]</td>\n",
              "      <td>11575</td>\n",
              "    </tr>\n",
              "    <tr>\n",
              "      <th>Nr. of Seats</th>\n",
              "      <td>14942</td>\n",
              "      <td>6</td>\n",
              "      <td>[\\n5\\n]</td>\n",
              "      <td>13336</td>\n",
              "    </tr>\n",
              "    <tr>\n",
              "      <th>Model Code</th>\n",
              "      <td>4978</td>\n",
              "      <td>232</td>\n",
              "      <td>[\\n0035/BCB\\n]</td>\n",
              "      <td>268</td>\n",
              "    </tr>\n",
              "    <tr>\n",
              "      <th>Gearing Type</th>\n",
              "      <td>15919</td>\n",
              "      <td>3</td>\n",
              "      <td>[\\n, Manual, \\n]</td>\n",
              "      <td>8153</td>\n",
              "    </tr>\n",
              "    <tr>\n",
              "      <th>Displacement</th>\n",
              "      <td>15423</td>\n",
              "      <td>77</td>\n",
              "      <td>[\\n1,598 cc\\n]</td>\n",
              "      <td>4761</td>\n",
              "    </tr>\n",
              "    <tr>\n",
              "      <th>Cylinders</th>\n",
              "      <td>10239</td>\n",
              "      <td>7</td>\n",
              "      <td>[\\n4\\n]</td>\n",
              "      <td>8105</td>\n",
              "    </tr>\n",
              "    <tr>\n",
              "      <th>Weight</th>\n",
              "      <td>8945</td>\n",
              "      <td>434</td>\n",
              "      <td>[\\n1,163 kg\\n]</td>\n",
              "      <td>574</td>\n",
              "    </tr>\n",
              "    <tr>\n",
              "      <th>Drive chain</th>\n",
              "      <td>9061</td>\n",
              "      <td>3</td>\n",
              "      <td>[\\nfront\\n]</td>\n",
              "      <td>8886</td>\n",
              "    </tr>\n",
              "    <tr>\n",
              "      <th>Fuel</th>\n",
              "      <td>15919</td>\n",
              "      <td>77</td>\n",
              "      <td>[\\n, Diesel (Particulate Filter), \\n]</td>\n",
              "      <td>4315</td>\n",
              "    </tr>\n",
              "    <tr>\n",
              "      <th>Consumption</th>\n",
              "      <td>14013</td>\n",
              "      <td>881</td>\n",
              "      <td>[[3.9 l/100 km (comb)], [4.1 l/100 km (city)],...</td>\n",
              "      <td>304</td>\n",
              "    </tr>\n",
              "    <tr>\n",
              "      <th>CO2 Emission</th>\n",
              "      <td>14111</td>\n",
              "      <td>123</td>\n",
              "      <td>[\\n120 g CO2/km (comb)\\n]</td>\n",
              "      <td>740</td>\n",
              "    </tr>\n",
              "    <tr>\n",
              "      <th>Emission Class</th>\n",
              "      <td>12898</td>\n",
              "      <td>7</td>\n",
              "      <td>[\\nEuro 6\\n]</td>\n",
              "      <td>10139</td>\n",
              "    </tr>\n",
              "    <tr>\n",
              "      <th>\\nComfort &amp; Convenience\\n</th>\n",
              "      <td>14999</td>\n",
              "      <td>6198</td>\n",
              "      <td>[Air conditioning, Electrical side mirrors, Hi...</td>\n",
              "      <td>216</td>\n",
              "    </tr>\n",
              "    <tr>\n",
              "      <th>\\nEntertainment &amp; Media\\n</th>\n",
              "      <td>14545</td>\n",
              "      <td>346</td>\n",
              "      <td>[Bluetooth, Hands-free equipment, On-board com...</td>\n",
              "      <td>1282</td>\n",
              "    </tr>\n",
              "    <tr>\n",
              "      <th>\\nExtras\\n</th>\n",
              "      <td>12957</td>\n",
              "      <td>659</td>\n",
              "      <td>[Alloy wheels]</td>\n",
              "      <td>3245</td>\n",
              "    </tr>\n",
              "    <tr>\n",
              "      <th>\\nSafety &amp; Security\\n</th>\n",
              "      <td>14937</td>\n",
              "      <td>4443</td>\n",
              "      <td>[ABS, Central door lock, Daytime running light...</td>\n",
              "      <td>538</td>\n",
              "    </tr>\n",
              "    <tr>\n",
              "      <th>description</th>\n",
              "      <td>15919</td>\n",
              "      <td>12874</td>\n",
              "      <td>[]</td>\n",
              "      <td>636</td>\n",
              "    </tr>\n",
              "    <tr>\n",
              "      <th>Emission Label</th>\n",
              "      <td>3985</td>\n",
              "      <td>6</td>\n",
              "      <td>[\\n4 (Green)\\n]</td>\n",
              "      <td>3553</td>\n",
              "    </tr>\n",
              "    <tr>\n",
              "      <th>Gears</th>\n",
              "      <td>11207</td>\n",
              "      <td>10</td>\n",
              "      <td>[\\n6\\n]</td>\n",
              "      <td>5822</td>\n",
              "    </tr>\n",
              "    <tr>\n",
              "      <th>Country version</th>\n",
              "      <td>7586</td>\n",
              "      <td>23</td>\n",
              "      <td>[\\nGermany\\n]</td>\n",
              "      <td>4502</td>\n",
              "    </tr>\n",
              "    <tr>\n",
              "      <th>Electricity consumption</th>\n",
              "      <td>137</td>\n",
              "      <td>1</td>\n",
              "      <td>[\\n0 kWh/100 km (comb)\\n]</td>\n",
              "      <td>137</td>\n",
              "    </tr>\n",
              "    <tr>\n",
              "      <th>Last Service Date</th>\n",
              "      <td>566</td>\n",
              "      <td>266</td>\n",
              "      <td>[\\n02/2019\\n, \\nEuro 6\\n]</td>\n",
              "      <td>23</td>\n",
              "    </tr>\n",
              "    <tr>\n",
              "      <th>Other Fuel Types</th>\n",
              "      <td>880</td>\n",
              "      <td>1</td>\n",
              "      <td>[[], [], []]</td>\n",
              "      <td>880</td>\n",
              "    </tr>\n",
              "    <tr>\n",
              "      <th>Availability</th>\n",
              "      <td>635</td>\n",
              "      <td>15</td>\n",
              "      <td>\\nin 90 days from ordering\\n</td>\n",
              "      <td>196</td>\n",
              "    </tr>\n",
              "    <tr>\n",
              "      <th>Last Timing Belt Service Date</th>\n",
              "      <td>16</td>\n",
              "      <td>15</td>\n",
              "      <td>[\\n04/2016\\n]</td>\n",
              "      <td>2</td>\n",
              "    </tr>\n",
              "    <tr>\n",
              "      <th>Available from</th>\n",
              "      <td>272</td>\n",
              "      <td>46</td>\n",
              "      <td>\\n31/08/19\\n</td>\n",
              "      <td>98</td>\n",
              "    </tr>\n",
              "  </tbody>\n",
              "</table>\n",
              "</div>\n",
              "      <button class=\"colab-df-convert\" onclick=\"convertToInteractive('df-d00c9015-ccec-49ba-9606-4ef5e5c1f32f')\"\n",
              "              title=\"Convert this dataframe to an interactive table.\"\n",
              "              style=\"display:none;\">\n",
              "        \n",
              "  <svg xmlns=\"http://www.w3.org/2000/svg\" height=\"24px\"viewBox=\"0 0 24 24\"\n",
              "       width=\"24px\">\n",
              "    <path d=\"M0 0h24v24H0V0z\" fill=\"none\"/>\n",
              "    <path d=\"M18.56 5.44l.94 2.06.94-2.06 2.06-.94-2.06-.94-.94-2.06-.94 2.06-2.06.94zm-11 1L8.5 8.5l.94-2.06 2.06-.94-2.06-.94L8.5 2.5l-.94 2.06-2.06.94zm10 10l.94 2.06.94-2.06 2.06-.94-2.06-.94-.94-2.06-.94 2.06-2.06.94z\"/><path d=\"M17.41 7.96l-1.37-1.37c-.4-.4-.92-.59-1.43-.59-.52 0-1.04.2-1.43.59L10.3 9.45l-7.72 7.72c-.78.78-.78 2.05 0 2.83L4 21.41c.39.39.9.59 1.41.59.51 0 1.02-.2 1.41-.59l7.78-7.78 2.81-2.81c.8-.78.8-2.07 0-2.86zM5.41 20L4 18.59l7.72-7.72 1.47 1.35L5.41 20z\"/>\n",
              "  </svg>\n",
              "      </button>\n",
              "      \n",
              "  <style>\n",
              "    .colab-df-container {\n",
              "      display:flex;\n",
              "      flex-wrap:wrap;\n",
              "      gap: 12px;\n",
              "    }\n",
              "\n",
              "    .colab-df-convert {\n",
              "      background-color: #E8F0FE;\n",
              "      border: none;\n",
              "      border-radius: 50%;\n",
              "      cursor: pointer;\n",
              "      display: none;\n",
              "      fill: #1967D2;\n",
              "      height: 32px;\n",
              "      padding: 0 0 0 0;\n",
              "      width: 32px;\n",
              "    }\n",
              "\n",
              "    .colab-df-convert:hover {\n",
              "      background-color: #E2EBFA;\n",
              "      box-shadow: 0px 1px 2px rgba(60, 64, 67, 0.3), 0px 1px 3px 1px rgba(60, 64, 67, 0.15);\n",
              "      fill: #174EA6;\n",
              "    }\n",
              "\n",
              "    [theme=dark] .colab-df-convert {\n",
              "      background-color: #3B4455;\n",
              "      fill: #D2E3FC;\n",
              "    }\n",
              "\n",
              "    [theme=dark] .colab-df-convert:hover {\n",
              "      background-color: #434B5C;\n",
              "      box-shadow: 0px 1px 3px 1px rgba(0, 0, 0, 0.15);\n",
              "      filter: drop-shadow(0px 1px 2px rgba(0, 0, 0, 0.3));\n",
              "      fill: #FFFFFF;\n",
              "    }\n",
              "  </style>\n",
              "\n",
              "      <script>\n",
              "        const buttonEl =\n",
              "          document.querySelector('#df-d00c9015-ccec-49ba-9606-4ef5e5c1f32f button.colab-df-convert');\n",
              "        buttonEl.style.display =\n",
              "          google.colab.kernel.accessAllowed ? 'block' : 'none';\n",
              "\n",
              "        async function convertToInteractive(key) {\n",
              "          const element = document.querySelector('#df-d00c9015-ccec-49ba-9606-4ef5e5c1f32f');\n",
              "          const dataTable =\n",
              "            await google.colab.kernel.invokeFunction('convertToInteractive',\n",
              "                                                     [key], {});\n",
              "          if (!dataTable) return;\n",
              "\n",
              "          const docLinkHtml = 'Like what you see? Visit the ' +\n",
              "            '<a target=\"_blank\" href=https://colab.research.google.com/notebooks/data_table.ipynb>data table notebook</a>'\n",
              "            + ' to learn more about interactive tables.';\n",
              "          element.innerHTML = '';\n",
              "          dataTable['output_type'] = 'display_data';\n",
              "          await google.colab.output.renderOutput(dataTable, element);\n",
              "          const docLink = document.createElement('div');\n",
              "          docLink.innerHTML = docLinkHtml;\n",
              "          element.appendChild(docLink);\n",
              "        }\n",
              "      </script>\n",
              "    </div>\n",
              "  </div>\n",
              "  "
            ]
          },
          "metadata": {},
          "execution_count": 22
        }
      ]
    },
    {
      "cell_type": "code",
      "source": [
        "df.vat.nunique"
      ],
      "metadata": {
        "colab": {
          "base_uri": "https://localhost:8080/"
        },
        "id": "EP1yjuPNL7qq",
        "outputId": "de55607e-9c3f-4070-99b4-3f254c1403b0"
      },
      "execution_count": 32,
      "outputs": [
        {
          "output_type": "execute_result",
          "data": {
            "text/plain": [
              "<bound method IndexOpsMixin.nunique of 0          VAT deductible\n",
              "1        Price negotiable\n",
              "2          VAT deductible\n",
              "3                    None\n",
              "4                    None\n",
              "               ...       \n",
              "15914      VAT deductible\n",
              "15915      VAT deductible\n",
              "15916      VAT deductible\n",
              "15917      VAT deductible\n",
              "15918      VAT deductible\n",
              "Name: vat, Length: 15919, dtype: object>"
            ]
          },
          "metadata": {},
          "execution_count": 32
        }
      ]
    },
    {
      "cell_type": "code",
      "source": [
        "df.isnull().sum()"
      ],
      "metadata": {
        "colab": {
          "base_uri": "https://localhost:8080/"
        },
        "id": "VzSAC7K-98qI",
        "outputId": "7db8194c-06cb-43aa-86c4-fcec8adeba50"
      },
      "execution_count": 16,
      "outputs": [
        {
          "output_type": "execute_result",
          "data": {
            "text/plain": [
              "url                                  0\n",
              "make_model                           0\n",
              "short_description                   46\n",
              "body_type                           60\n",
              "price                                0\n",
              "vat                               4513\n",
              "km                                   0\n",
              "registration                         0\n",
              "prev_owner                        6828\n",
              "kW                               15919\n",
              "hp                                   0\n",
              "Type                                 2\n",
              "Previous Owners                   6640\n",
              "Next Inspection                  12384\n",
              "Inspection new                   11987\n",
              "Warranty                          5420\n",
              "Full Service                      7704\n",
              "Non-smoking Vehicle               8742\n",
              "null                                 0\n",
              "Make                                 0\n",
              "Model                                0\n",
              "Offer Number                      3175\n",
              "First Registration                1597\n",
              "Body Color                         597\n",
              "Paint Type                        5772\n",
              "Body Color Original               3759\n",
              "Upholstery                        3720\n",
              "Body                                60\n",
              "Nr. of Doors                       212\n",
              "Nr. of Seats                       977\n",
              "Model Code                       10941\n",
              "Gearing Type                         0\n",
              "Displacement                       496\n",
              "Cylinders                         5680\n",
              "Weight                            6974\n",
              "Drive chain                       6858\n",
              "Fuel                                 0\n",
              "Consumption                       1906\n",
              "CO2 Emission                      1808\n",
              "Emission Class                    3021\n",
              "\\nComfort & Convenience\\n          920\n",
              "\\nEntertainment & Media\\n         1374\n",
              "\\nExtras\\n                        2962\n",
              "\\nSafety & Security\\n              982\n",
              "description                          0\n",
              "Emission Label                   11934\n",
              "Gears                             4712\n",
              "Country version                   8333\n",
              "Electricity consumption          15782\n",
              "Last Service Date                15353\n",
              "Other Fuel Types                 15039\n",
              "Availability                     15284\n",
              "Last Timing Belt Service Date    15903\n",
              "Available from                   15647\n",
              "dtype: int64"
            ]
          },
          "metadata": {},
          "execution_count": 16
        }
      ]
    },
    {
      "cell_type": "code",
      "source": [
        "df.vat.sample(15)"
      ],
      "metadata": {
        "colab": {
          "base_uri": "https://localhost:8080/"
        },
        "id": "RbTc3iMQ-nd8",
        "outputId": "6ae8082e-25c3-4ab9-e58a-01624440495d"
      },
      "execution_count": 35,
      "outputs": [
        {
          "output_type": "execute_result",
          "data": {
            "text/plain": [
              "8027     VAT deductible\n",
              "5984     VAT deductible\n",
              "7693     VAT deductible\n",
              "14697    VAT deductible\n",
              "14215    VAT deductible\n",
              "388                None\n",
              "422                None\n",
              "2744     VAT deductible\n",
              "9740     VAT deductible\n",
              "3680               None\n",
              "8445     VAT deductible\n",
              "15222    VAT deductible\n",
              "4376     VAT deductible\n",
              "14001    VAT deductible\n",
              "14117              None\n",
              "Name: vat, dtype: object"
            ]
          },
          "metadata": {},
          "execution_count": 35
        }
      ]
    },
    {
      "cell_type": "code",
      "source": [
        "df.vat.isnull().sum()"
      ],
      "metadata": {
        "colab": {
          "base_uri": "https://localhost:8080/"
        },
        "id": "6E9MPw1C-nU2",
        "outputId": "5c912cf6-c08d-4021-d01b-9638a39239bc"
      },
      "execution_count": 39,
      "outputs": [
        {
          "output_type": "execute_result",
          "data": {
            "text/plain": [
              "4513"
            ]
          },
          "metadata": {},
          "execution_count": 39
        }
      ]
    },
    {
      "cell_type": "code",
      "source": [
        "df[\"First Registration\"].sample()"
      ],
      "metadata": {
        "colab": {
          "base_uri": "https://localhost:8080/"
        },
        "id": "ljrq3XzDQpOf",
        "outputId": "2e45f332-1e62-474d-beb0-6a16e273baed"
      },
      "execution_count": 47,
      "outputs": [
        {
          "output_type": "execute_result",
          "data": {
            "text/plain": [
              "7762    [\\n, 2019, \\n]\n",
              "Name: First Registration, dtype: object"
            ]
          },
          "metadata": {},
          "execution_count": 47
        }
      ]
    },
    {
      "cell_type": "code",
      "source": [
        "df[[\"registration\",\"First Registration\"]].sample(15)\n",
        "#first regstration delete edilebilir ayni bilgiyi icermekte"
      ],
      "metadata": {
        "colab": {
          "base_uri": "https://localhost:8080/",
          "height": 519
        },
        "id": "IGMZDOzB-nFa",
        "outputId": "8af270a9-b3d1-46b7-ba44-9b9a8ba85b71"
      },
      "execution_count": 48,
      "outputs": [
        {
          "output_type": "execute_result",
          "data": {
            "text/plain": [
              "      registration First Registration\n",
              "2668       11/2016     [\\n, 2016, \\n]\n",
              "5025       02/2019     [\\n, 2019, \\n]\n",
              "11012      06/2016     [\\n, 2016, \\n]\n",
              "11480      03/2018     [\\n, 2018, \\n]\n",
              "13481      02/2017     [\\n, 2017, \\n]\n",
              "8568       06/2016     [\\n, 2016, \\n]\n",
              "12164      02/2018     [\\n, 2018, \\n]\n",
              "10304          -/-                NaN\n",
              "8392       06/2018     [\\n, 2018, \\n]\n",
              "12511      03/2019     [\\n, 2019, \\n]\n",
              "15444          -/-                NaN\n",
              "1481       07/2018     [\\n, 2018, \\n]\n",
              "7240       09/2018     [\\n, 2018, \\n]\n",
              "2503           -/-                NaN\n",
              "14446      08/2018     [\\n, 2018, \\n]"
            ],
            "text/html": [
              "\n",
              "  <div id=\"df-8661895f-c06a-44e5-8de4-ef718cffb75e\">\n",
              "    <div class=\"colab-df-container\">\n",
              "      <div>\n",
              "<style scoped>\n",
              "    .dataframe tbody tr th:only-of-type {\n",
              "        vertical-align: middle;\n",
              "    }\n",
              "\n",
              "    .dataframe tbody tr th {\n",
              "        vertical-align: top;\n",
              "    }\n",
              "\n",
              "    .dataframe thead th {\n",
              "        text-align: right;\n",
              "    }\n",
              "</style>\n",
              "<table border=\"1\" class=\"dataframe\">\n",
              "  <thead>\n",
              "    <tr style=\"text-align: right;\">\n",
              "      <th></th>\n",
              "      <th>registration</th>\n",
              "      <th>First Registration</th>\n",
              "    </tr>\n",
              "  </thead>\n",
              "  <tbody>\n",
              "    <tr>\n",
              "      <th>2668</th>\n",
              "      <td>11/2016</td>\n",
              "      <td>[\\n, 2016, \\n]</td>\n",
              "    </tr>\n",
              "    <tr>\n",
              "      <th>5025</th>\n",
              "      <td>02/2019</td>\n",
              "      <td>[\\n, 2019, \\n]</td>\n",
              "    </tr>\n",
              "    <tr>\n",
              "      <th>11012</th>\n",
              "      <td>06/2016</td>\n",
              "      <td>[\\n, 2016, \\n]</td>\n",
              "    </tr>\n",
              "    <tr>\n",
              "      <th>11480</th>\n",
              "      <td>03/2018</td>\n",
              "      <td>[\\n, 2018, \\n]</td>\n",
              "    </tr>\n",
              "    <tr>\n",
              "      <th>13481</th>\n",
              "      <td>02/2017</td>\n",
              "      <td>[\\n, 2017, \\n]</td>\n",
              "    </tr>\n",
              "    <tr>\n",
              "      <th>8568</th>\n",
              "      <td>06/2016</td>\n",
              "      <td>[\\n, 2016, \\n]</td>\n",
              "    </tr>\n",
              "    <tr>\n",
              "      <th>12164</th>\n",
              "      <td>02/2018</td>\n",
              "      <td>[\\n, 2018, \\n]</td>\n",
              "    </tr>\n",
              "    <tr>\n",
              "      <th>10304</th>\n",
              "      <td>-/-</td>\n",
              "      <td>NaN</td>\n",
              "    </tr>\n",
              "    <tr>\n",
              "      <th>8392</th>\n",
              "      <td>06/2018</td>\n",
              "      <td>[\\n, 2018, \\n]</td>\n",
              "    </tr>\n",
              "    <tr>\n",
              "      <th>12511</th>\n",
              "      <td>03/2019</td>\n",
              "      <td>[\\n, 2019, \\n]</td>\n",
              "    </tr>\n",
              "    <tr>\n",
              "      <th>15444</th>\n",
              "      <td>-/-</td>\n",
              "      <td>NaN</td>\n",
              "    </tr>\n",
              "    <tr>\n",
              "      <th>1481</th>\n",
              "      <td>07/2018</td>\n",
              "      <td>[\\n, 2018, \\n]</td>\n",
              "    </tr>\n",
              "    <tr>\n",
              "      <th>7240</th>\n",
              "      <td>09/2018</td>\n",
              "      <td>[\\n, 2018, \\n]</td>\n",
              "    </tr>\n",
              "    <tr>\n",
              "      <th>2503</th>\n",
              "      <td>-/-</td>\n",
              "      <td>NaN</td>\n",
              "    </tr>\n",
              "    <tr>\n",
              "      <th>14446</th>\n",
              "      <td>08/2018</td>\n",
              "      <td>[\\n, 2018, \\n]</td>\n",
              "    </tr>\n",
              "  </tbody>\n",
              "</table>\n",
              "</div>\n",
              "      <button class=\"colab-df-convert\" onclick=\"convertToInteractive('df-8661895f-c06a-44e5-8de4-ef718cffb75e')\"\n",
              "              title=\"Convert this dataframe to an interactive table.\"\n",
              "              style=\"display:none;\">\n",
              "        \n",
              "  <svg xmlns=\"http://www.w3.org/2000/svg\" height=\"24px\"viewBox=\"0 0 24 24\"\n",
              "       width=\"24px\">\n",
              "    <path d=\"M0 0h24v24H0V0z\" fill=\"none\"/>\n",
              "    <path d=\"M18.56 5.44l.94 2.06.94-2.06 2.06-.94-2.06-.94-.94-2.06-.94 2.06-2.06.94zm-11 1L8.5 8.5l.94-2.06 2.06-.94-2.06-.94L8.5 2.5l-.94 2.06-2.06.94zm10 10l.94 2.06.94-2.06 2.06-.94-2.06-.94-.94-2.06-.94 2.06-2.06.94z\"/><path d=\"M17.41 7.96l-1.37-1.37c-.4-.4-.92-.59-1.43-.59-.52 0-1.04.2-1.43.59L10.3 9.45l-7.72 7.72c-.78.78-.78 2.05 0 2.83L4 21.41c.39.39.9.59 1.41.59.51 0 1.02-.2 1.41-.59l7.78-7.78 2.81-2.81c.8-.78.8-2.07 0-2.86zM5.41 20L4 18.59l7.72-7.72 1.47 1.35L5.41 20z\"/>\n",
              "  </svg>\n",
              "      </button>\n",
              "      \n",
              "  <style>\n",
              "    .colab-df-container {\n",
              "      display:flex;\n",
              "      flex-wrap:wrap;\n",
              "      gap: 12px;\n",
              "    }\n",
              "\n",
              "    .colab-df-convert {\n",
              "      background-color: #E8F0FE;\n",
              "      border: none;\n",
              "      border-radius: 50%;\n",
              "      cursor: pointer;\n",
              "      display: none;\n",
              "      fill: #1967D2;\n",
              "      height: 32px;\n",
              "      padding: 0 0 0 0;\n",
              "      width: 32px;\n",
              "    }\n",
              "\n",
              "    .colab-df-convert:hover {\n",
              "      background-color: #E2EBFA;\n",
              "      box-shadow: 0px 1px 2px rgba(60, 64, 67, 0.3), 0px 1px 3px 1px rgba(60, 64, 67, 0.15);\n",
              "      fill: #174EA6;\n",
              "    }\n",
              "\n",
              "    [theme=dark] .colab-df-convert {\n",
              "      background-color: #3B4455;\n",
              "      fill: #D2E3FC;\n",
              "    }\n",
              "\n",
              "    [theme=dark] .colab-df-convert:hover {\n",
              "      background-color: #434B5C;\n",
              "      box-shadow: 0px 1px 3px 1px rgba(0, 0, 0, 0.15);\n",
              "      filter: drop-shadow(0px 1px 2px rgba(0, 0, 0, 0.3));\n",
              "      fill: #FFFFFF;\n",
              "    }\n",
              "  </style>\n",
              "\n",
              "      <script>\n",
              "        const buttonEl =\n",
              "          document.querySelector('#df-8661895f-c06a-44e5-8de4-ef718cffb75e button.colab-df-convert');\n",
              "        buttonEl.style.display =\n",
              "          google.colab.kernel.accessAllowed ? 'block' : 'none';\n",
              "\n",
              "        async function convertToInteractive(key) {\n",
              "          const element = document.querySelector('#df-8661895f-c06a-44e5-8de4-ef718cffb75e');\n",
              "          const dataTable =\n",
              "            await google.colab.kernel.invokeFunction('convertToInteractive',\n",
              "                                                     [key], {});\n",
              "          if (!dataTable) return;\n",
              "\n",
              "          const docLinkHtml = 'Like what you see? Visit the ' +\n",
              "            '<a target=\"_blank\" href=https://colab.research.google.com/notebooks/data_table.ipynb>data table notebook</a>'\n",
              "            + ' to learn more about interactive tables.';\n",
              "          element.innerHTML = '';\n",
              "          dataTable['output_type'] = 'display_data';\n",
              "          await google.colab.output.renderOutput(dataTable, element);\n",
              "          const docLink = document.createElement('div');\n",
              "          docLink.innerHTML = docLinkHtml;\n",
              "          element.appendChild(docLink);\n",
              "        }\n",
              "      </script>\n",
              "    </div>\n",
              "  </div>\n",
              "  "
            ]
          },
          "metadata": {},
          "execution_count": 48
        }
      ]
    },
    {
      "cell_type": "code",
      "source": [
        "df.prev_owner.describe()\n",
        "#onceki kullanicilar onemli o yuzden kalsin dedik"
      ],
      "metadata": {
        "colab": {
          "base_uri": "https://localhost:8080/"
        },
        "id": "U0EgbV4vRR3r",
        "outputId": "a2e8df00-da91-4aac-8d08-8fa001aa146b"
      },
      "execution_count": 49,
      "outputs": [
        {
          "output_type": "execute_result",
          "data": {
            "text/plain": [
              "count                 9091\n",
              "unique                   4\n",
              "top       1 previous owner\n",
              "freq                  8294\n",
              "Name: prev_owner, dtype: object"
            ]
          },
          "metadata": {},
          "execution_count": 49
        }
      ]
    },
    {
      "cell_type": "code",
      "source": [
        "df.km.describe()"
      ],
      "metadata": {
        "colab": {
          "base_uri": "https://localhost:8080/"
        },
        "id": "KicJEk1ERR0m",
        "outputId": "d32bf41a-0154-4e91-c023-66b350a90463"
      },
      "execution_count": 61,
      "outputs": [
        {
          "output_type": "execute_result",
          "data": {
            "text/plain": [
              "count     15919\n",
              "unique     6690\n",
              "top       10 km\n",
              "freq       1045\n",
              "Name: km, dtype: object"
            ]
          },
          "metadata": {},
          "execution_count": 61
        }
      ]
    },
    {
      "cell_type": "code",
      "source": [
        "df.kW.describe()"
      ],
      "metadata": {
        "colab": {
          "base_uri": "https://localhost:8080/"
        },
        "id": "0e2n8BN8RRx_",
        "outputId": "55b7e355-72dc-4283-bc0e-9800ef9fab0a"
      },
      "execution_count": 62,
      "outputs": [
        {
          "output_type": "execute_result",
          "data": {
            "text/plain": [
              "count    0.0\n",
              "mean     NaN\n",
              "std      NaN\n",
              "min      NaN\n",
              "25%      NaN\n",
              "50%      NaN\n",
              "75%      NaN\n",
              "max      NaN\n",
              "Name: kW, dtype: float64"
            ]
          },
          "metadata": {},
          "execution_count": 62
        }
      ]
    },
    {
      "cell_type": "code",
      "source": [
        "df.hp.describe()"
      ],
      "metadata": {
        "colab": {
          "base_uri": "https://localhost:8080/"
        },
        "id": "V2mKp8rFRRvZ",
        "outputId": "638829b4-c3de-418b-fc3b-2111a3cab6cb"
      },
      "execution_count": 63,
      "outputs": [
        {
          "output_type": "execute_result",
          "data": {
            "text/plain": [
              "count     15919\n",
              "unique       81\n",
              "top       85 kW\n",
              "freq       2542\n",
              "Name: hp, dtype: object"
            ]
          },
          "metadata": {},
          "execution_count": 63
        }
      ]
    },
    {
      "cell_type": "code",
      "source": [
        "df.hp.nunique()"
      ],
      "metadata": {
        "colab": {
          "base_uri": "https://localhost:8080/"
        },
        "id": "eGQP5G2uRRsZ",
        "outputId": "b90d22c2-28a2-471a-8a09-e826bc2832e1"
      },
      "execution_count": 67,
      "outputs": [
        {
          "output_type": "execute_result",
          "data": {
            "text/plain": [
              "81"
            ]
          },
          "metadata": {},
          "execution_count": 67
        }
      ]
    },
    {
      "cell_type": "code",
      "source": [
        "df.hp.unique()"
      ],
      "metadata": {
        "colab": {
          "base_uri": "https://localhost:8080/"
        },
        "id": "nm5xtDkQRRpu",
        "outputId": "fc564f9a-d601-42b8-872c-e354cc1699fd"
      },
      "execution_count": 69,
      "outputs": [
        {
          "output_type": "execute_result",
          "data": {
            "text/plain": [
              "array(['66 kW', '141 kW', '85 kW', '70 kW', '92 kW', '112 kW', '60 kW',\n",
              "       '71 kW', '67 kW', '110 kW', '93 kW', '147 kW', '86 kW', '140 kW',\n",
              "       '87 kW', '- kW', '81 kW', '82 kW', '135 kW', '132 kW', '100 kW',\n",
              "       '96 kW', '162 kW', '150 kW', '294 kW', '228 kW', '270 kW',\n",
              "       '137 kW', '9 kW', '133 kW', '77 kW', '101 kW', '78 kW', '103 kW',\n",
              "       '1 kW', '74 kW', '118 kW', '84 kW', '88 kW', '80 kW', '76 kW',\n",
              "       '149 kW', '44 kW', '51 kW', '55 kW', '52 kW', '63 kW', '40 kW',\n",
              "       '65 kW', '75 kW', '125 kW', '120 kW', '184 kW', '239 kW', '121 kW',\n",
              "       '143 kW', '191 kW', '89 kW', '195 kW', '127 kW', '122 kW',\n",
              "       '154 kW', '155 kW', '104 kW', '123 kW', '146 kW', '90 kW', '53 kW',\n",
              "       '54 kW', '56 kW', '164 kW', '4 kW', '163 kW', '57 kW', '119 kW',\n",
              "       '165 kW', '117 kW', '115 kW', '98 kW', '168 kW', '167 kW'],\n",
              "      dtype=object)"
            ]
          },
          "metadata": {},
          "execution_count": 69
        }
      ]
    },
    {
      "cell_type": "code",
      "source": [
        "df[\"Type\"].describe()"
      ],
      "metadata": {
        "colab": {
          "base_uri": "https://localhost:8080/"
        },
        "id": "oHLVugBTTuZ-",
        "outputId": "9a9fca4d-edef-4aa3-b8ae-67c927d36976"
      },
      "execution_count": 78,
      "outputs": [
        {
          "output_type": "execute_result",
          "data": {
            "text/plain": [
              "count                                       15917\n",
              "unique                                        169\n",
              "top       [, Used, , Diesel (Particulate Filter)]\n",
              "freq                                         3475\n",
              "Name: Type, dtype: object"
            ]
          },
          "metadata": {},
          "execution_count": 78
        }
      ]
    },
    {
      "cell_type": "code",
      "source": [
        "df[[\"prev_owner\",\"Previous Owners\"]].sample(15)"
      ],
      "metadata": {
        "colab": {
          "base_uri": "https://localhost:8080/",
          "height": 519
        },
        "id": "jms1uineTuWk",
        "outputId": "7913f9cb-70ac-40ba-e0b2-7dd157ac708c"
      },
      "execution_count": 80,
      "outputs": [
        {
          "output_type": "execute_result",
          "data": {
            "text/plain": [
              "             prev_owner                                    Previous Owners\n",
              "13935  1 previous owner                                              \\n1\\n\n",
              "7911               None                                                NaN\n",
              "4649   1 previous owner                                              \\n1\\n\n",
              "11417  1 previous owner                                              \\n1\\n\n",
              "7770   1 previous owner                                              \\n1\\n\n",
              "467    1 previous owner                                              \\n1\\n\n",
              "10901  1 previous owner                                              \\n1\\n\n",
              "13429              None                                                NaN\n",
              "1276   1 previous owner                                              \\n1\\n\n",
              "6113   1 previous owner                                              \\n1\\n\n",
              "13863              None                                                NaN\n",
              "7715   1 previous owner                                              \\n1\\n\n",
              "8098               None  [\\n0\\n, \\n, 5.4 l/100 km (comb), \\n, 7.1 l/100...\n",
              "12075  1 previous owner                                              \\n1\\n\n",
              "10623  1 previous owner                                              \\n1\\n"
            ],
            "text/html": [
              "\n",
              "  <div id=\"df-fbba16aa-c13a-435d-a618-e71adcfb5d86\">\n",
              "    <div class=\"colab-df-container\">\n",
              "      <div>\n",
              "<style scoped>\n",
              "    .dataframe tbody tr th:only-of-type {\n",
              "        vertical-align: middle;\n",
              "    }\n",
              "\n",
              "    .dataframe tbody tr th {\n",
              "        vertical-align: top;\n",
              "    }\n",
              "\n",
              "    .dataframe thead th {\n",
              "        text-align: right;\n",
              "    }\n",
              "</style>\n",
              "<table border=\"1\" class=\"dataframe\">\n",
              "  <thead>\n",
              "    <tr style=\"text-align: right;\">\n",
              "      <th></th>\n",
              "      <th>prev_owner</th>\n",
              "      <th>Previous Owners</th>\n",
              "    </tr>\n",
              "  </thead>\n",
              "  <tbody>\n",
              "    <tr>\n",
              "      <th>13935</th>\n",
              "      <td>1 previous owner</td>\n",
              "      <td>\\n1\\n</td>\n",
              "    </tr>\n",
              "    <tr>\n",
              "      <th>7911</th>\n",
              "      <td>None</td>\n",
              "      <td>NaN</td>\n",
              "    </tr>\n",
              "    <tr>\n",
              "      <th>4649</th>\n",
              "      <td>1 previous owner</td>\n",
              "      <td>\\n1\\n</td>\n",
              "    </tr>\n",
              "    <tr>\n",
              "      <th>11417</th>\n",
              "      <td>1 previous owner</td>\n",
              "      <td>\\n1\\n</td>\n",
              "    </tr>\n",
              "    <tr>\n",
              "      <th>7770</th>\n",
              "      <td>1 previous owner</td>\n",
              "      <td>\\n1\\n</td>\n",
              "    </tr>\n",
              "    <tr>\n",
              "      <th>467</th>\n",
              "      <td>1 previous owner</td>\n",
              "      <td>\\n1\\n</td>\n",
              "    </tr>\n",
              "    <tr>\n",
              "      <th>10901</th>\n",
              "      <td>1 previous owner</td>\n",
              "      <td>\\n1\\n</td>\n",
              "    </tr>\n",
              "    <tr>\n",
              "      <th>13429</th>\n",
              "      <td>None</td>\n",
              "      <td>NaN</td>\n",
              "    </tr>\n",
              "    <tr>\n",
              "      <th>1276</th>\n",
              "      <td>1 previous owner</td>\n",
              "      <td>\\n1\\n</td>\n",
              "    </tr>\n",
              "    <tr>\n",
              "      <th>6113</th>\n",
              "      <td>1 previous owner</td>\n",
              "      <td>\\n1\\n</td>\n",
              "    </tr>\n",
              "    <tr>\n",
              "      <th>13863</th>\n",
              "      <td>None</td>\n",
              "      <td>NaN</td>\n",
              "    </tr>\n",
              "    <tr>\n",
              "      <th>7715</th>\n",
              "      <td>1 previous owner</td>\n",
              "      <td>\\n1\\n</td>\n",
              "    </tr>\n",
              "    <tr>\n",
              "      <th>8098</th>\n",
              "      <td>None</td>\n",
              "      <td>[\\n0\\n, \\n, 5.4 l/100 km (comb), \\n, 7.1 l/100...</td>\n",
              "    </tr>\n",
              "    <tr>\n",
              "      <th>12075</th>\n",
              "      <td>1 previous owner</td>\n",
              "      <td>\\n1\\n</td>\n",
              "    </tr>\n",
              "    <tr>\n",
              "      <th>10623</th>\n",
              "      <td>1 previous owner</td>\n",
              "      <td>\\n1\\n</td>\n",
              "    </tr>\n",
              "  </tbody>\n",
              "</table>\n",
              "</div>\n",
              "      <button class=\"colab-df-convert\" onclick=\"convertToInteractive('df-fbba16aa-c13a-435d-a618-e71adcfb5d86')\"\n",
              "              title=\"Convert this dataframe to an interactive table.\"\n",
              "              style=\"display:none;\">\n",
              "        \n",
              "  <svg xmlns=\"http://www.w3.org/2000/svg\" height=\"24px\"viewBox=\"0 0 24 24\"\n",
              "       width=\"24px\">\n",
              "    <path d=\"M0 0h24v24H0V0z\" fill=\"none\"/>\n",
              "    <path d=\"M18.56 5.44l.94 2.06.94-2.06 2.06-.94-2.06-.94-.94-2.06-.94 2.06-2.06.94zm-11 1L8.5 8.5l.94-2.06 2.06-.94-2.06-.94L8.5 2.5l-.94 2.06-2.06.94zm10 10l.94 2.06.94-2.06 2.06-.94-2.06-.94-.94-2.06-.94 2.06-2.06.94z\"/><path d=\"M17.41 7.96l-1.37-1.37c-.4-.4-.92-.59-1.43-.59-.52 0-1.04.2-1.43.59L10.3 9.45l-7.72 7.72c-.78.78-.78 2.05 0 2.83L4 21.41c.39.39.9.59 1.41.59.51 0 1.02-.2 1.41-.59l7.78-7.78 2.81-2.81c.8-.78.8-2.07 0-2.86zM5.41 20L4 18.59l7.72-7.72 1.47 1.35L5.41 20z\"/>\n",
              "  </svg>\n",
              "      </button>\n",
              "      \n",
              "  <style>\n",
              "    .colab-df-container {\n",
              "      display:flex;\n",
              "      flex-wrap:wrap;\n",
              "      gap: 12px;\n",
              "    }\n",
              "\n",
              "    .colab-df-convert {\n",
              "      background-color: #E8F0FE;\n",
              "      border: none;\n",
              "      border-radius: 50%;\n",
              "      cursor: pointer;\n",
              "      display: none;\n",
              "      fill: #1967D2;\n",
              "      height: 32px;\n",
              "      padding: 0 0 0 0;\n",
              "      width: 32px;\n",
              "    }\n",
              "\n",
              "    .colab-df-convert:hover {\n",
              "      background-color: #E2EBFA;\n",
              "      box-shadow: 0px 1px 2px rgba(60, 64, 67, 0.3), 0px 1px 3px 1px rgba(60, 64, 67, 0.15);\n",
              "      fill: #174EA6;\n",
              "    }\n",
              "\n",
              "    [theme=dark] .colab-df-convert {\n",
              "      background-color: #3B4455;\n",
              "      fill: #D2E3FC;\n",
              "    }\n",
              "\n",
              "    [theme=dark] .colab-df-convert:hover {\n",
              "      background-color: #434B5C;\n",
              "      box-shadow: 0px 1px 3px 1px rgba(0, 0, 0, 0.15);\n",
              "      filter: drop-shadow(0px 1px 2px rgba(0, 0, 0, 0.3));\n",
              "      fill: #FFFFFF;\n",
              "    }\n",
              "  </style>\n",
              "\n",
              "      <script>\n",
              "        const buttonEl =\n",
              "          document.querySelector('#df-fbba16aa-c13a-435d-a618-e71adcfb5d86 button.colab-df-convert');\n",
              "        buttonEl.style.display =\n",
              "          google.colab.kernel.accessAllowed ? 'block' : 'none';\n",
              "\n",
              "        async function convertToInteractive(key) {\n",
              "          const element = document.querySelector('#df-fbba16aa-c13a-435d-a618-e71adcfb5d86');\n",
              "          const dataTable =\n",
              "            await google.colab.kernel.invokeFunction('convertToInteractive',\n",
              "                                                     [key], {});\n",
              "          if (!dataTable) return;\n",
              "\n",
              "          const docLinkHtml = 'Like what you see? Visit the ' +\n",
              "            '<a target=\"_blank\" href=https://colab.research.google.com/notebooks/data_table.ipynb>data table notebook</a>'\n",
              "            + ' to learn more about interactive tables.';\n",
              "          element.innerHTML = '';\n",
              "          dataTable['output_type'] = 'display_data';\n",
              "          await google.colab.output.renderOutput(dataTable, element);\n",
              "          const docLink = document.createElement('div');\n",
              "          docLink.innerHTML = docLinkHtml;\n",
              "          element.appendChild(docLink);\n",
              "        }\n",
              "      </script>\n",
              "    </div>\n",
              "  </div>\n",
              "  "
            ]
          },
          "metadata": {},
          "execution_count": 80
        }
      ]
    },
    {
      "cell_type": "code",
      "source": [
        "df[\"prev_owner\"].unique()"
      ],
      "metadata": {
        "colab": {
          "base_uri": "https://localhost:8080/"
        },
        "id": "9yXW2w1FTuTh",
        "outputId": "7086546f-e6e6-4f52-b437-98e5d17b5c28"
      },
      "execution_count": 82,
      "outputs": [
        {
          "output_type": "execute_result",
          "data": {
            "text/plain": [
              "array(['2 previous owners', None, '1 previous owner', '3 previous owners',\n",
              "       '4 previous owners'], dtype=object)"
            ]
          },
          "metadata": {},
          "execution_count": 82
        }
      ]
    },
    {
      "cell_type": "code",
      "source": [
        "df[\"prev_owner\"].isnull().sum()"
      ],
      "metadata": {
        "colab": {
          "base_uri": "https://localhost:8080/"
        },
        "id": "UvH5R9CpTuQV",
        "outputId": "fed9bd9a-cc92-4235-fdf9-3fdf83eb5219"
      },
      "execution_count": 84,
      "outputs": [
        {
          "output_type": "execute_result",
          "data": {
            "text/plain": [
              "6828"
            ]
          },
          "metadata": {},
          "execution_count": 84
        }
      ]
    },
    {
      "cell_type": "code",
      "source": [
        ""
      ],
      "metadata": {
        "id": "9lOcdGBYYkL8"
      },
      "execution_count": null,
      "outputs": []
    },
    {
      "cell_type": "code",
      "source": [
        "df[[\"Inspection new\",\"Next Inspection\"]].sample(15)"
      ],
      "metadata": {
        "colab": {
          "base_uri": "https://localhost:8080/",
          "height": 519
        },
        "id": "MFmrn8EiYkIz",
        "outputId": "91f94980-8e03-4962-daf9-7f6e34e0b76b"
      },
      "execution_count": 86,
      "outputs": [
        {
          "output_type": "execute_result",
          "data": {
            "text/plain": [
              "                           Inspection new  \\\n",
              "4163                                  NaN   \n",
              "5231   [\\nYes\\n, \\n117 g CO2/km (comb)\\n]   \n",
              "13206                                 NaN   \n",
              "12491  [\\nYes\\n, \\n180 g CO2/km (comb)\\n]   \n",
              "1065                                  NaN   \n",
              "11799                                 NaN   \n",
              "5662   [\\nYes\\n, \\n0 kWh/100 km (comb)\\n]   \n",
              "4528                                  NaN   \n",
              "4439                                  NaN   \n",
              "6514                                  NaN   \n",
              "473                                   NaN   \n",
              "11237                                 NaN   \n",
              "2621                                  NaN   \n",
              "4591                                  NaN   \n",
              "7093                                  NaN   \n",
              "\n",
              "                              Next Inspection  \n",
              "4163   [\\n03/2021\\n, \\n107 g CO2/km (comb)\\n]  \n",
              "5231                                      NaN  \n",
              "13206                                     NaN  \n",
              "12491                                     NaN  \n",
              "1065                                      NaN  \n",
              "11799                                     NaN  \n",
              "5662                                      NaN  \n",
              "4528   [\\n04/2021\\n, \\n111 g CO2/km (comb)\\n]  \n",
              "4439   [\\n05/2021\\n, \\n108 g CO2/km (comb)\\n]  \n",
              "6514                                      NaN  \n",
              "473    [\\n03/2021\\n, \\n0 kWh/100 km (comb)\\n]  \n",
              "11237                                     NaN  \n",
              "2621                                      NaN  \n",
              "4591                                      NaN  \n",
              "7093   [\\n01/2019\\n, \\n128 g CO2/km (comb)\\n]  "
            ],
            "text/html": [
              "\n",
              "  <div id=\"df-4a0d0c90-a913-489d-8d95-4af5ab899137\">\n",
              "    <div class=\"colab-df-container\">\n",
              "      <div>\n",
              "<style scoped>\n",
              "    .dataframe tbody tr th:only-of-type {\n",
              "        vertical-align: middle;\n",
              "    }\n",
              "\n",
              "    .dataframe tbody tr th {\n",
              "        vertical-align: top;\n",
              "    }\n",
              "\n",
              "    .dataframe thead th {\n",
              "        text-align: right;\n",
              "    }\n",
              "</style>\n",
              "<table border=\"1\" class=\"dataframe\">\n",
              "  <thead>\n",
              "    <tr style=\"text-align: right;\">\n",
              "      <th></th>\n",
              "      <th>Inspection new</th>\n",
              "      <th>Next Inspection</th>\n",
              "    </tr>\n",
              "  </thead>\n",
              "  <tbody>\n",
              "    <tr>\n",
              "      <th>4163</th>\n",
              "      <td>NaN</td>\n",
              "      <td>[\\n03/2021\\n, \\n107 g CO2/km (comb)\\n]</td>\n",
              "    </tr>\n",
              "    <tr>\n",
              "      <th>5231</th>\n",
              "      <td>[\\nYes\\n, \\n117 g CO2/km (comb)\\n]</td>\n",
              "      <td>NaN</td>\n",
              "    </tr>\n",
              "    <tr>\n",
              "      <th>13206</th>\n",
              "      <td>NaN</td>\n",
              "      <td>NaN</td>\n",
              "    </tr>\n",
              "    <tr>\n",
              "      <th>12491</th>\n",
              "      <td>[\\nYes\\n, \\n180 g CO2/km (comb)\\n]</td>\n",
              "      <td>NaN</td>\n",
              "    </tr>\n",
              "    <tr>\n",
              "      <th>1065</th>\n",
              "      <td>NaN</td>\n",
              "      <td>NaN</td>\n",
              "    </tr>\n",
              "    <tr>\n",
              "      <th>11799</th>\n",
              "      <td>NaN</td>\n",
              "      <td>NaN</td>\n",
              "    </tr>\n",
              "    <tr>\n",
              "      <th>5662</th>\n",
              "      <td>[\\nYes\\n, \\n0 kWh/100 km (comb)\\n]</td>\n",
              "      <td>NaN</td>\n",
              "    </tr>\n",
              "    <tr>\n",
              "      <th>4528</th>\n",
              "      <td>NaN</td>\n",
              "      <td>[\\n04/2021\\n, \\n111 g CO2/km (comb)\\n]</td>\n",
              "    </tr>\n",
              "    <tr>\n",
              "      <th>4439</th>\n",
              "      <td>NaN</td>\n",
              "      <td>[\\n05/2021\\n, \\n108 g CO2/km (comb)\\n]</td>\n",
              "    </tr>\n",
              "    <tr>\n",
              "      <th>6514</th>\n",
              "      <td>NaN</td>\n",
              "      <td>NaN</td>\n",
              "    </tr>\n",
              "    <tr>\n",
              "      <th>473</th>\n",
              "      <td>NaN</td>\n",
              "      <td>[\\n03/2021\\n, \\n0 kWh/100 km (comb)\\n]</td>\n",
              "    </tr>\n",
              "    <tr>\n",
              "      <th>11237</th>\n",
              "      <td>NaN</td>\n",
              "      <td>NaN</td>\n",
              "    </tr>\n",
              "    <tr>\n",
              "      <th>2621</th>\n",
              "      <td>NaN</td>\n",
              "      <td>NaN</td>\n",
              "    </tr>\n",
              "    <tr>\n",
              "      <th>4591</th>\n",
              "      <td>NaN</td>\n",
              "      <td>NaN</td>\n",
              "    </tr>\n",
              "    <tr>\n",
              "      <th>7093</th>\n",
              "      <td>NaN</td>\n",
              "      <td>[\\n01/2019\\n, \\n128 g CO2/km (comb)\\n]</td>\n",
              "    </tr>\n",
              "  </tbody>\n",
              "</table>\n",
              "</div>\n",
              "      <button class=\"colab-df-convert\" onclick=\"convertToInteractive('df-4a0d0c90-a913-489d-8d95-4af5ab899137')\"\n",
              "              title=\"Convert this dataframe to an interactive table.\"\n",
              "              style=\"display:none;\">\n",
              "        \n",
              "  <svg xmlns=\"http://www.w3.org/2000/svg\" height=\"24px\"viewBox=\"0 0 24 24\"\n",
              "       width=\"24px\">\n",
              "    <path d=\"M0 0h24v24H0V0z\" fill=\"none\"/>\n",
              "    <path d=\"M18.56 5.44l.94 2.06.94-2.06 2.06-.94-2.06-.94-.94-2.06-.94 2.06-2.06.94zm-11 1L8.5 8.5l.94-2.06 2.06-.94-2.06-.94L8.5 2.5l-.94 2.06-2.06.94zm10 10l.94 2.06.94-2.06 2.06-.94-2.06-.94-.94-2.06-.94 2.06-2.06.94z\"/><path d=\"M17.41 7.96l-1.37-1.37c-.4-.4-.92-.59-1.43-.59-.52 0-1.04.2-1.43.59L10.3 9.45l-7.72 7.72c-.78.78-.78 2.05 0 2.83L4 21.41c.39.39.9.59 1.41.59.51 0 1.02-.2 1.41-.59l7.78-7.78 2.81-2.81c.8-.78.8-2.07 0-2.86zM5.41 20L4 18.59l7.72-7.72 1.47 1.35L5.41 20z\"/>\n",
              "  </svg>\n",
              "      </button>\n",
              "      \n",
              "  <style>\n",
              "    .colab-df-container {\n",
              "      display:flex;\n",
              "      flex-wrap:wrap;\n",
              "      gap: 12px;\n",
              "    }\n",
              "\n",
              "    .colab-df-convert {\n",
              "      background-color: #E8F0FE;\n",
              "      border: none;\n",
              "      border-radius: 50%;\n",
              "      cursor: pointer;\n",
              "      display: none;\n",
              "      fill: #1967D2;\n",
              "      height: 32px;\n",
              "      padding: 0 0 0 0;\n",
              "      width: 32px;\n",
              "    }\n",
              "\n",
              "    .colab-df-convert:hover {\n",
              "      background-color: #E2EBFA;\n",
              "      box-shadow: 0px 1px 2px rgba(60, 64, 67, 0.3), 0px 1px 3px 1px rgba(60, 64, 67, 0.15);\n",
              "      fill: #174EA6;\n",
              "    }\n",
              "\n",
              "    [theme=dark] .colab-df-convert {\n",
              "      background-color: #3B4455;\n",
              "      fill: #D2E3FC;\n",
              "    }\n",
              "\n",
              "    [theme=dark] .colab-df-convert:hover {\n",
              "      background-color: #434B5C;\n",
              "      box-shadow: 0px 1px 3px 1px rgba(0, 0, 0, 0.15);\n",
              "      filter: drop-shadow(0px 1px 2px rgba(0, 0, 0, 0.3));\n",
              "      fill: #FFFFFF;\n",
              "    }\n",
              "  </style>\n",
              "\n",
              "      <script>\n",
              "        const buttonEl =\n",
              "          document.querySelector('#df-4a0d0c90-a913-489d-8d95-4af5ab899137 button.colab-df-convert');\n",
              "        buttonEl.style.display =\n",
              "          google.colab.kernel.accessAllowed ? 'block' : 'none';\n",
              "\n",
              "        async function convertToInteractive(key) {\n",
              "          const element = document.querySelector('#df-4a0d0c90-a913-489d-8d95-4af5ab899137');\n",
              "          const dataTable =\n",
              "            await google.colab.kernel.invokeFunction('convertToInteractive',\n",
              "                                                     [key], {});\n",
              "          if (!dataTable) return;\n",
              "\n",
              "          const docLinkHtml = 'Like what you see? Visit the ' +\n",
              "            '<a target=\"_blank\" href=https://colab.research.google.com/notebooks/data_table.ipynb>data table notebook</a>'\n",
              "            + ' to learn more about interactive tables.';\n",
              "          element.innerHTML = '';\n",
              "          dataTable['output_type'] = 'display_data';\n",
              "          await google.colab.output.renderOutput(dataTable, element);\n",
              "          const docLink = document.createElement('div');\n",
              "          docLink.innerHTML = docLinkHtml;\n",
              "          element.appendChild(docLink);\n",
              "        }\n",
              "      </script>\n",
              "    </div>\n",
              "  </div>\n",
              "  "
            ]
          },
          "metadata": {},
          "execution_count": 86
        }
      ]
    },
    {
      "cell_type": "code",
      "source": [
        "df[[\"Inspection new\",\"Next Inspection\"]].isnull().sum()"
      ],
      "metadata": {
        "colab": {
          "base_uri": "https://localhost:8080/"
        },
        "id": "F94oS4FZZAJw",
        "outputId": "b51a9af6-e940-443a-b36e-f2c598dd5019"
      },
      "execution_count": 88,
      "outputs": [
        {
          "output_type": "execute_result",
          "data": {
            "text/plain": [
              "Inspection new     11987\n",
              "Next Inspection    12384\n",
              "dtype: int64"
            ]
          },
          "metadata": {},
          "execution_count": 88
        }
      ]
    },
    {
      "cell_type": "code",
      "source": [
        "df.Warranty.isnull().sum()"
      ],
      "metadata": {
        "colab": {
          "base_uri": "https://localhost:8080/"
        },
        "id": "JKP-cxV5Y9tY",
        "outputId": "bd784c91-272e-4fd5-b56e-1cbbdedf159a"
      },
      "execution_count": 90,
      "outputs": [
        {
          "output_type": "execute_result",
          "data": {
            "text/plain": [
              "5420"
            ]
          },
          "metadata": {},
          "execution_count": 90
        }
      ]
    },
    {
      "cell_type": "code",
      "source": [
        "df.Warranty.unique"
      ],
      "metadata": {
        "colab": {
          "base_uri": "https://localhost:8080/"
        },
        "id": "oZDuZM_IYkFm",
        "outputId": "51bbbb31-e76b-4ece-def2-b5378c1b951b"
      },
      "execution_count": 94,
      "outputs": [
        {
          "output_type": "execute_result",
          "data": {
            "text/plain": [
              "<bound method Series.unique of 0                 [\\n, \\n, \\n4 (Green)\\n]\n",
              "1                                     NaN\n",
              "2        [\\n, \\n, \\n99 g CO2/km (comb)\\n]\n",
              "3                                     NaN\n",
              "4                    [\\n, \\n, \\nEuro 6\\n]\n",
              "                       ...               \n",
              "15914                       \\n24 months\\n\n",
              "15915                [\\n, \\n, \\nEuro 6\\n]\n",
              "15916             [\\n, \\n, \\n4 (Green)\\n]\n",
              "15917                                  \\n\n",
              "15918                                 NaN\n",
              "Name: Warranty, Length: 15919, dtype: object>"
            ]
          },
          "metadata": {},
          "execution_count": 94
        }
      ]
    },
    {
      "cell_type": "code",
      "source": [
        "df[\"Full Service\"].unique"
      ],
      "metadata": {
        "colab": {
          "base_uri": "https://localhost:8080/"
        },
        "id": "S03rvG9acDvP",
        "outputId": "fbcc304c-6506-486c-8fe5-0fd0cc0099f6"
      },
      "execution_count": 95,
      "outputs": [
        {
          "output_type": "execute_result",
          "data": {
            "text/plain": [
              "<bound method Series.unique of 0                                [\\n, \\n]\n",
              "1                                     NaN\n",
              "2                                     NaN\n",
              "3        [\\n, \\n, \\n99 g CO2/km (comb)\\n]\n",
              "4                 [\\n, \\n, \\n4 (Green)\\n]\n",
              "                       ...               \n",
              "15914                                 NaN\n",
              "15915                                 NaN\n",
              "15916                            [\\n, \\n]\n",
              "15917                                 NaN\n",
              "15918                                 NaN\n",
              "Name: Full Service, Length: 15919, dtype: object>"
            ]
          },
          "metadata": {},
          "execution_count": 95
        }
      ]
    },
    {
      "cell_type": "code",
      "source": [
        "df[\"Full Service\"].isnull().sum()"
      ],
      "metadata": {
        "colab": {
          "base_uri": "https://localhost:8080/"
        },
        "id": "krjnmLpPcDsA",
        "outputId": "df7648c2-ea8b-4879-f84a-10baded60892"
      },
      "execution_count": 97,
      "outputs": [
        {
          "output_type": "execute_result",
          "data": {
            "text/plain": [
              "7704"
            ]
          },
          "metadata": {},
          "execution_count": 97
        }
      ]
    },
    {
      "cell_type": "code",
      "source": [
        "df[\"Non-smoking Vehicle\"]"
      ],
      "metadata": {
        "colab": {
          "base_uri": "https://localhost:8080/"
        },
        "id": "XrzKK2BccDoc",
        "outputId": "556f73e1-204f-4276-bdcd-cee61f7009c9"
      },
      "execution_count": 98,
      "outputs": [
        {
          "output_type": "execute_result",
          "data": {
            "text/plain": [
              "0                       [\\n, \\n]\n",
              "1                            NaN\n",
              "2                            NaN\n",
              "3           [\\n, \\n, \\nEuro 6\\n]\n",
              "4                       [\\n, \\n]\n",
              "                  ...           \n",
              "15914                        NaN\n",
              "15915    [\\n, \\n, \\n4 (Green)\\n]\n",
              "15916                   [\\n, \\n]\n",
              "15917                        NaN\n",
              "15918                        NaN\n",
              "Name: Non-smoking Vehicle, Length: 15919, dtype: object"
            ]
          },
          "metadata": {},
          "execution_count": 98
        }
      ]
    },
    {
      "cell_type": "code",
      "source": [
        "df[\"Non-smoking Vehicle\"].isnull().sum()"
      ],
      "metadata": {
        "colab": {
          "base_uri": "https://localhost:8080/"
        },
        "id": "CSh74UJfYkCI",
        "outputId": "93db373d-32c4-41fb-9690-9d64d2147bc5"
      },
      "execution_count": 100,
      "outputs": [
        {
          "output_type": "execute_result",
          "data": {
            "text/plain": [
              "8742"
            ]
          },
          "metadata": {},
          "execution_count": 100
        }
      ]
    },
    {
      "cell_type": "code",
      "source": [
        "df.null.describe()"
      ],
      "metadata": {
        "colab": {
          "base_uri": "https://localhost:8080/"
        },
        "id": "5C1KoSCRTuGT",
        "outputId": "f6311b28-dcb4-424f-f991-2ac61299fcd9"
      },
      "execution_count": 101,
      "outputs": [
        {
          "output_type": "execute_result",
          "data": {
            "text/plain": [
              "count     15919\n",
              "unique        1\n",
              "top          []\n",
              "freq      15919\n",
              "Name: null, dtype: object"
            ]
          },
          "metadata": {},
          "execution_count": 101
        }
      ]
    },
    {
      "cell_type": "code",
      "source": [
        "df.Make.isnull().sum()"
      ],
      "metadata": {
        "colab": {
          "base_uri": "https://localhost:8080/"
        },
        "id": "7teFtZQ_jQa5",
        "outputId": "d105a974-2035-493e-bbd3-4c32bff31398"
      },
      "execution_count": 107,
      "outputs": [
        {
          "output_type": "execute_result",
          "data": {
            "text/plain": [
              "0"
            ]
          },
          "metadata": {},
          "execution_count": 107
        }
      ]
    },
    {
      "cell_type": "code",
      "source": [
        "df.Make.describe()"
      ],
      "metadata": {
        "colab": {
          "base_uri": "https://localhost:8080/"
        },
        "id": "d2OgqEFCjQX6",
        "outputId": "ca4a32ef-bc68-4424-8204-d823867bba3b"
      },
      "execution_count": 108,
      "outputs": [
        {
          "output_type": "execute_result",
          "data": {
            "text/plain": [
              "count        15919\n",
              "unique           3\n",
              "top       \\nOpel\\n\n",
              "freq          7343\n",
              "Name: Make, dtype: object"
            ]
          },
          "metadata": {},
          "execution_count": 108
        }
      ]
    },
    {
      "cell_type": "code",
      "source": [
        "df.Make.nunique"
      ],
      "metadata": {
        "colab": {
          "base_uri": "https://localhost:8080/"
        },
        "id": "Xo00hhe5jQU5",
        "outputId": "f61f5c97-d89c-45ed-9c35-4c55781a0801"
      },
      "execution_count": 110,
      "outputs": [
        {
          "output_type": "execute_result",
          "data": {
            "text/plain": [
              "<bound method IndexOpsMixin.nunique of 0           \\nAudi\\n\n",
              "1           \\nAudi\\n\n",
              "2           \\nAudi\\n\n",
              "3           \\nAudi\\n\n",
              "4           \\nAudi\\n\n",
              "            ...     \n",
              "15914    \\nRenault\\n\n",
              "15915    \\nRenault\\n\n",
              "15916    \\nRenault\\n\n",
              "15917    \\nRenault\\n\n",
              "15918    \\nRenault\\n\n",
              "Name: Make, Length: 15919, dtype: object>"
            ]
          },
          "metadata": {},
          "execution_count": 110
        }
      ]
    },
    {
      "cell_type": "code",
      "source": [
        "df.Make.unique()"
      ],
      "metadata": {
        "colab": {
          "base_uri": "https://localhost:8080/"
        },
        "id": "eocISefxjQRk",
        "outputId": "2f8c9b16-3ca1-4fa2-ce72-d13777028cc1"
      },
      "execution_count": 111,
      "outputs": [
        {
          "output_type": "execute_result",
          "data": {
            "text/plain": [
              "array(['\\nAudi\\n', '\\nOpel\\n', '\\nRenault\\n'], dtype=object)"
            ]
          },
          "metadata": {},
          "execution_count": 111
        }
      ]
    },
    {
      "cell_type": "code",
      "source": [
        "df.Model.unique"
      ],
      "metadata": {
        "colab": {
          "base_uri": "https://localhost:8080/"
        },
        "id": "s-Ac0uN6kHRU",
        "outputId": "ce418787-4585-43b9-ac1e-e0fa062962ff"
      },
      "execution_count": 116,
      "outputs": [
        {
          "output_type": "execute_result",
          "data": {
            "text/plain": [
              "<bound method Series.unique of 0            [\\n, A1, \\n]\n",
              "1            [\\n, A1, \\n]\n",
              "2            [\\n, A1, \\n]\n",
              "3            [\\n, A1, \\n]\n",
              "4            [\\n, A1, \\n]\n",
              "               ...       \n",
              "15914    [\\n, Espace, \\n]\n",
              "15915    [\\n, Espace, \\n]\n",
              "15916    [\\n, Espace, \\n]\n",
              "15917    [\\n, Espace, \\n]\n",
              "15918    [\\n, Espace, \\n]\n",
              "Name: Model, Length: 15919, dtype: object>"
            ]
          },
          "metadata": {},
          "execution_count": 116
        }
      ]
    },
    {
      "cell_type": "code",
      "source": [
        "df.Model.nunique"
      ],
      "metadata": {
        "colab": {
          "base_uri": "https://localhost:8080/"
        },
        "id": "XNOZ3c5SkHN0",
        "outputId": "9981b1cc-b6ea-4da7-fd25-35ab4be48875"
      },
      "execution_count": 117,
      "outputs": [
        {
          "output_type": "execute_result",
          "data": {
            "text/plain": [
              "<bound method IndexOpsMixin.nunique of 0            [\\n, A1, \\n]\n",
              "1            [\\n, A1, \\n]\n",
              "2            [\\n, A1, \\n]\n",
              "3            [\\n, A1, \\n]\n",
              "4            [\\n, A1, \\n]\n",
              "               ...       \n",
              "15914    [\\n, Espace, \\n]\n",
              "15915    [\\n, Espace, \\n]\n",
              "15916    [\\n, Espace, \\n]\n",
              "15917    [\\n, Espace, \\n]\n",
              "15918    [\\n, Espace, \\n]\n",
              "Name: Model, Length: 15919, dtype: object>"
            ]
          },
          "metadata": {},
          "execution_count": 117
        }
      ]
    },
    {
      "cell_type": "code",
      "source": [
        "df.Model.isnull().sum()"
      ],
      "metadata": {
        "colab": {
          "base_uri": "https://localhost:8080/"
        },
        "id": "hqhzrIbKkHKQ",
        "outputId": "fb47eeb5-904f-40bb-e2be-69ea60dff141"
      },
      "execution_count": 118,
      "outputs": [
        {
          "output_type": "execute_result",
          "data": {
            "text/plain": [
              "0"
            ]
          },
          "metadata": {},
          "execution_count": 118
        }
      ]
    },
    {
      "cell_type": "code",
      "source": [
        "Offer Number                      3175\n",
        "First Registration                1597\n",
        "Body Color   "
      ],
      "metadata": {
        "id": "q2iAJ5nwkwww"
      },
      "execution_count": null,
      "outputs": []
    },
    {
      "cell_type": "code",
      "source": [
        "df[\"Offer Number\"].unique"
      ],
      "metadata": {
        "colab": {
          "base_uri": "https://localhost:8080/"
        },
        "id": "3j-CwmSDkwtg",
        "outputId": "f6f28d4f-ce11-43c8-cb7e-2e4a09b52588"
      },
      "execution_count": 121,
      "outputs": [
        {
          "output_type": "execute_result",
          "data": {
            "text/plain": [
              "<bound method Series.unique of 0             [\\nLR-062483\\n]\n",
              "1                         NaN\n",
              "2              [\\nAM-95365\\n]\n",
              "3                         NaN\n",
              "4                 [\\nC1626\\n]\n",
              "                 ...         \n",
              "15914          [\\n10988301\\n]\n",
              "15915       [\\n507370_3223\\n]\n",
              "15916          [\\nEspace16\\n]\n",
              "15917           [\\n2691331\\n]\n",
              "15918    [\\nRe_30000008029\\n]\n",
              "Name: Offer Number, Length: 15919, dtype: object>"
            ]
          },
          "metadata": {},
          "execution_count": 121
        }
      ]
    },
    {
      "cell_type": "code",
      "source": [
        "df[\"Offer Number\"].isnull().sum()"
      ],
      "metadata": {
        "colab": {
          "base_uri": "https://localhost:8080/"
        },
        "id": "o8W0v3vPkwqM",
        "outputId": "64292c1a-38dc-4e38-f012-12ff93911ca8"
      },
      "execution_count": 123,
      "outputs": [
        {
          "output_type": "execute_result",
          "data": {
            "text/plain": [
              "3175"
            ]
          },
          "metadata": {},
          "execution_count": 123
        }
      ]
    },
    {
      "cell_type": "code",
      "source": [
        "df[\"First Registration\"].unique #zaten bakmistik bahsettik yukarda"
      ],
      "metadata": {
        "colab": {
          "base_uri": "https://localhost:8080/"
        },
        "id": "ZvRkhCfUl8F4",
        "outputId": "3a69d46f-2939-4bd2-c481-27aeb5fd66d4"
      },
      "execution_count": 124,
      "outputs": [
        {
          "output_type": "execute_result",
          "data": {
            "text/plain": [
              "<bound method Series.unique of 0        [\\n, 2016, \\n]\n",
              "1        [\\n, 2017, \\n]\n",
              "2        [\\n, 2016, \\n]\n",
              "3        [\\n, 2016, \\n]\n",
              "4        [\\n, 2016, \\n]\n",
              "              ...      \n",
              "15914               NaN\n",
              "15915    [\\n, 2019, \\n]\n",
              "15916    [\\n, 2019, \\n]\n",
              "15917    [\\n, 2019, \\n]\n",
              "15918    [\\n, 2019, \\n]\n",
              "Name: First Registration, Length: 15919, dtype: object>"
            ]
          },
          "metadata": {},
          "execution_count": 124
        }
      ]
    },
    {
      "cell_type": "code",
      "source": [
        "df[\"Body Color\"].unique"
      ],
      "metadata": {
        "colab": {
          "base_uri": "https://localhost:8080/"
        },
        "id": "-YbanOpLl8DM",
        "outputId": "6b849351-6966-4a17-cfbe-34999802306d"
      },
      "execution_count": 128,
      "outputs": [
        {
          "output_type": "execute_result",
          "data": {
            "text/plain": [
              "<bound method Series.unique of 0        [\\n, Black, \\n]\n",
              "1          [\\n, Red, \\n]\n",
              "2        [\\n, Black, \\n]\n",
              "3        [\\n, Brown, \\n]\n",
              "4        [\\n, Black, \\n]\n",
              "              ...       \n",
              "15914     [\\n, Grey, \\n]\n",
              "15915     [\\n, Grey, \\n]\n",
              "15916    [\\n, White, \\n]\n",
              "15917     [\\n, Grey, \\n]\n",
              "15918     [\\n, Grey, \\n]\n",
              "Name: Body Color, Length: 15919, dtype: object>"
            ]
          },
          "metadata": {},
          "execution_count": 128
        }
      ]
    },
    {
      "cell_type": "code",
      "source": [
        "Paint Type                        5772\n",
        "Body Color Original               3759\n",
        "Upholstery                        3720\n",
        "Body                                60\n",
        "Nr. of Doors                       212\n",
        "Nr. of Seats  "
      ],
      "metadata": {
        "id": "DdKuHq2Pl8AE"
      },
      "execution_count": 128,
      "outputs": []
    },
    {
      "cell_type": "code",
      "source": [
        "df[\"Paint Type\"].unique"
      ],
      "metadata": {
        "colab": {
          "base_uri": "https://localhost:8080/"
        },
        "id": "e8w_sYwfl787",
        "outputId": "23d8ded1-39dd-4d8b-e240-f36c0ea5bc89"
      },
      "execution_count": 129,
      "outputs": [
        {
          "output_type": "execute_result",
          "data": {
            "text/plain": [
              "<bound method Series.unique of 0        [\\nMetallic\\n]\n",
              "1                   NaN\n",
              "2        [\\nMetallic\\n]\n",
              "3        [\\nMetallic\\n]\n",
              "4        [\\nMetallic\\n]\n",
              "              ...      \n",
              "15914    [\\nMetallic\\n]\n",
              "15915    [\\nMetallic\\n]\n",
              "15916               NaN\n",
              "15917               NaN\n",
              "15918    [\\nMetallic\\n]\n",
              "Name: Paint Type, Length: 15919, dtype: object>"
            ]
          },
          "metadata": {},
          "execution_count": 129
        }
      ]
    },
    {
      "cell_type": "code",
      "source": [
        "df[\"Paint Type\"].isnull().sum()"
      ],
      "metadata": {
        "colab": {
          "base_uri": "https://localhost:8080/"
        },
        "id": "Eu4IBH4rkwmk",
        "outputId": "c1cfe31a-10e4-49af-9917-e8f9b4463861"
      },
      "execution_count": 131,
      "outputs": [
        {
          "output_type": "execute_result",
          "data": {
            "text/plain": [
              "5772"
            ]
          },
          "metadata": {},
          "execution_count": 131
        }
      ]
    },
    {
      "cell_type": "code",
      "source": [
        "df[\"Paint Type\"].value_counts()"
      ],
      "metadata": {
        "colab": {
          "base_uri": "https://localhost:8080/",
          "height": 287
        },
        "id": "D5WOUN1uRRml",
        "outputId": "fb88a4e8-0396-4b89-906f-8a24c3e1c23f"
      },
      "execution_count": 132,
      "outputs": [
        {
          "output_type": "error",
          "ename": "TypeError",
          "evalue": "ignored",
          "traceback": [
            "\u001b[0;31m---------------------------------------------------------------------------\u001b[0m",
            "\u001b[0;31mTypeError\u001b[0m                                 Traceback (most recent call last)",
            "\u001b[0;32mpandas/_libs/hashtable_class_helper.pxi\u001b[0m in \u001b[0;36mpandas._libs.hashtable.PyObjectHashTable.map_locations\u001b[0;34m()\u001b[0m\n",
            "\u001b[0;31mTypeError\u001b[0m: unhashable type: 'list'"
          ]
        },
        {
          "output_type": "stream",
          "name": "stderr",
          "text": [
            "Exception ignored in: 'pandas._libs.index.IndexEngine._call_map_locations'\n",
            "Traceback (most recent call last):\n",
            "  File \"pandas/_libs/hashtable_class_helper.pxi\", line 5231, in pandas._libs.hashtable.PyObjectHashTable.map_locations\n",
            "TypeError: unhashable type: 'list'\n"
          ]
        },
        {
          "output_type": "execute_result",
          "data": {
            "text/plain": [
              "[\\nMetallic\\n]       9794\n",
              "[\\nUni/basic\\n]       347\n",
              "[\\nPerl effect\\n]       6\n",
              "Name: Paint Type, dtype: int64"
            ]
          },
          "metadata": {},
          "execution_count": 132
        }
      ]
    },
    {
      "cell_type": "code",
      "source": [
        "Body Color Original   "
      ],
      "metadata": {
        "id": "LTMXH5FLnKIZ"
      },
      "execution_count": null,
      "outputs": []
    },
    {
      "cell_type": "code",
      "source": [
        "df[\"Body Color Original\"].isnull().sum()"
      ],
      "metadata": {
        "colab": {
          "base_uri": "https://localhost:8080/"
        },
        "id": "wcUmUxrdnKFc",
        "outputId": "15a3f581-1682-4c15-d73c-35f9f77c66d1"
      },
      "execution_count": 133,
      "outputs": [
        {
          "output_type": "execute_result",
          "data": {
            "text/plain": [
              "3759"
            ]
          },
          "metadata": {},
          "execution_count": 133
        }
      ]
    },
    {
      "cell_type": "code",
      "source": [
        "df[\"Body Color Original\"].value_counts()"
      ],
      "metadata": {
        "colab": {
          "base_uri": "https://localhost:8080/",
          "height": 426
        },
        "id": "RRM5zi3HnKCM",
        "outputId": "ce4fd898-c460-47e2-f413-926ad0b6e983"
      },
      "execution_count": 138,
      "outputs": [
        {
          "output_type": "error",
          "ename": "TypeError",
          "evalue": "ignored",
          "traceback": [
            "\u001b[0;31m---------------------------------------------------------------------------\u001b[0m",
            "\u001b[0;31mTypeError\u001b[0m                                 Traceback (most recent call last)",
            "\u001b[0;32mpandas/_libs/hashtable_class_helper.pxi\u001b[0m in \u001b[0;36mpandas._libs.hashtable.PyObjectHashTable.map_locations\u001b[0;34m()\u001b[0m\n",
            "\u001b[0;31mTypeError\u001b[0m: unhashable type: 'list'"
          ]
        },
        {
          "output_type": "stream",
          "name": "stderr",
          "text": [
            "Exception ignored in: 'pandas._libs.index.IndexEngine._call_map_locations'\n",
            "Traceback (most recent call last):\n",
            "  File \"pandas/_libs/hashtable_class_helper.pxi\", line 5231, in pandas._libs.hashtable.PyObjectHashTable.map_locations\n",
            "TypeError: unhashable type: 'list'\n"
          ]
        },
        {
          "output_type": "execute_result",
          "data": {
            "text/plain": [
              "[\\nOnyx Schwarz\\n]                     338\n",
              "[\\nBianco\\n]                           282\n",
              "[\\nMythosschwarz Metallic\\n]           238\n",
              "[\\nBrillantschwarz\\n]                  216\n",
              "[\\nGris\\n]                             204\n",
              "                                      ... \n",
              "[\\nRouge-Braun (G0Y)\\n]                  1\n",
              "[\\nVARI COLRI DISPONIBILI\\n]             1\n",
              "[\\nKokosnussbraun Metallic\\n]            1\n",
              "[\\nFarbe frei wählbar\\n]                 1\n",
              "[\\nPerlmutt-Weiß Metallic (Weiß)\\n]      1\n",
              "Name: Body Color Original, Length: 1927, dtype: int64"
            ]
          },
          "metadata": {},
          "execution_count": 138
        }
      ]
    },
    {
      "cell_type": "code",
      "source": [
        "df[\"Upholstery\"].value_counts()"
      ],
      "metadata": {
        "colab": {
          "base_uri": "https://localhost:8080/",
          "height": 1000
        },
        "id": "5B4OWTfJnJ_K",
        "outputId": "8976bed1-4cae-4853-d403-139f74662f31"
      },
      "execution_count": 139,
      "outputs": [
        {
          "output_type": "error",
          "ename": "TypeError",
          "evalue": "ignored",
          "traceback": [
            "\u001b[0;31m---------------------------------------------------------------------------\u001b[0m",
            "\u001b[0;31mTypeError\u001b[0m                                 Traceback (most recent call last)",
            "\u001b[0;32mpandas/_libs/hashtable_class_helper.pxi\u001b[0m in \u001b[0;36mpandas._libs.hashtable.PyObjectHashTable.map_locations\u001b[0;34m()\u001b[0m\n",
            "\u001b[0;31mTypeError\u001b[0m: unhashable type: 'list'"
          ]
        },
        {
          "output_type": "stream",
          "name": "stderr",
          "text": [
            "Exception ignored in: 'pandas._libs.index.IndexEngine._call_map_locations'\n",
            "Traceback (most recent call last):\n",
            "  File \"pandas/_libs/hashtable_class_helper.pxi\", line 5231, in pandas._libs.hashtable.PyObjectHashTable.map_locations\n",
            "TypeError: unhashable type: 'list'\n"
          ]
        },
        {
          "output_type": "execute_result",
          "data": {
            "text/plain": [
              "[\\nCloth, Black\\n]           5821\n",
              "[\\nPart leather, Black\\n]    1121\n",
              "[\\nCloth\\n]                  1005\n",
              "[\\nCloth, Grey\\n]             891\n",
              "[\\nCloth, Other\\n]            639\n",
              "[\\nFull leather, Black\\n]     575\n",
              "[\\nBlack\\n]                   491\n",
              "[\\nGrey\\n]                    273\n",
              "[\\nOther, Other\\n]            182\n",
              "[\\nPart leather\\n]            140\n",
              "[\\nFull leather\\n]            139\n",
              "[\\nPart leather, Grey\\n]      116\n",
              "[\\nFull leather, Brown\\n]     116\n",
              "[\\nOther, Black\\n]            110\n",
              "[\\nFull leather, Other\\n]      72\n",
              "[\\nFull leather, Grey\\n]       67\n",
              "[\\nPart leather, Other\\n]      65\n",
              "[\\nOther\\n]                    56\n",
              "[\\nPart leather, Brown\\n]      50\n",
              "[\\nalcantara, Black\\n]         47\n",
              "[\\nFull leather, Beige\\n]      36\n",
              "[\\nVelour, Black\\n]            36\n",
              "[\\nCloth, Brown\\n]             28\n",
              "[\\nVelour\\n]                   16\n",
              "[\\nOther, Grey\\n]              15\n",
              "[\\nCloth, Beige\\n]             13\n",
              "[\\nBrown\\n]                    12\n",
              "[\\nCloth, Blue\\n]              12\n",
              "[\\nCloth, White\\n]              8\n",
              "[\\nVelour, Grey\\n]              8\n",
              "[\\nalcantara, Grey\\n]           6\n",
              "[\\nCloth, Red\\n]                5\n",
              "[\\nOther, Yellow\\n]             4\n",
              "[\\nBeige\\n]                     3\n",
              "[\\nPart leather, Red\\n]         3\n",
              "[\\nalcantara\\n]                 2\n",
              "[\\nPart leather, White\\n]       2\n",
              "[\\nBlue\\n]                      2\n",
              "[\\nWhite\\n]                     2\n",
              "[\\nPart leather, Beige\\n]       2\n",
              "[\\nalcantara, Other\\n]          2\n",
              "[\\nFull leather, Blue\\n]        2\n",
              "[\\nOther, Brown\\n]              1\n",
              "[\\nCloth, Orange\\n]             1\n",
              "[\\nFull leather, Red\\n]         1\n",
              "[\\nFull leather, White\\n]       1\n",
              "Name: Upholstery, dtype: int64"
            ]
          },
          "metadata": {},
          "execution_count": 139
        }
      ]
    },
    {
      "cell_type": "code",
      "source": [
        "df[\"Upholstery\"].isnull().sum()"
      ],
      "metadata": {
        "colab": {
          "base_uri": "https://localhost:8080/"
        },
        "id": "h7DSokSEnJ7-",
        "outputId": "6c06db55-4dc9-4953-fb3b-8658ae91d892"
      },
      "execution_count": 140,
      "outputs": [
        {
          "output_type": "execute_result",
          "data": {
            "text/plain": [
              "3720"
            ]
          },
          "metadata": {},
          "execution_count": 140
        }
      ]
    },
    {
      "cell_type": "code",
      "source": [
        "Body                                60\n",
        "Nr. of Doors                       212\n",
        "Nr. of Seats                       977\n",
        "Model Code "
      ],
      "metadata": {
        "id": "Tpl_M8u5qPaV"
      },
      "execution_count": null,
      "outputs": []
    },
    {
      "cell_type": "code",
      "source": [
        "df[\"Body\"].value_counts()"
      ],
      "metadata": {
        "colab": {
          "base_uri": "https://localhost:8080/",
          "height": 392
        },
        "id": "5p7dHl62qPXM",
        "outputId": "4d126fe5-0f7e-4f10-fec2-819bcac34c22"
      },
      "execution_count": 143,
      "outputs": [
        {
          "output_type": "error",
          "ename": "TypeError",
          "evalue": "ignored",
          "traceback": [
            "\u001b[0;31m---------------------------------------------------------------------------\u001b[0m",
            "\u001b[0;31mTypeError\u001b[0m                                 Traceback (most recent call last)",
            "\u001b[0;32mpandas/_libs/hashtable_class_helper.pxi\u001b[0m in \u001b[0;36mpandas._libs.hashtable.PyObjectHashTable.map_locations\u001b[0;34m()\u001b[0m\n",
            "\u001b[0;31mTypeError\u001b[0m: unhashable type: 'list'"
          ]
        },
        {
          "output_type": "stream",
          "name": "stderr",
          "text": [
            "Exception ignored in: 'pandas._libs.index.IndexEngine._call_map_locations'\n",
            "Traceback (most recent call last):\n",
            "  File \"pandas/_libs/hashtable_class_helper.pxi\", line 5231, in pandas._libs.hashtable.PyObjectHashTable.map_locations\n",
            "TypeError: unhashable type: 'list'\n"
          ]
        },
        {
          "output_type": "execute_result",
          "data": {
            "text/plain": [
              "[\\n, Sedans, \\n]           7903\n",
              "[\\n, Station wagon, \\n]    3553\n",
              "[\\n, Compact, \\n]          3153\n",
              "[\\n, Van, \\n]               783\n",
              "[\\n, Other, \\n]             290\n",
              "[\\n, Transporter, \\n]        88\n",
              "[\\n, Off-Road, \\n]           56\n",
              "[\\n, Coupe, \\n]              25\n",
              "[\\n, Convertible, \\n]         8\n",
              "Name: Body, dtype: int64"
            ]
          },
          "metadata": {},
          "execution_count": 143
        }
      ]
    },
    {
      "cell_type": "code",
      "source": [
        "df[\"Body\"].isnull().sum()"
      ],
      "metadata": {
        "colab": {
          "base_uri": "https://localhost:8080/"
        },
        "id": "HgaJAJ_4qPUY",
        "outputId": "12f7f9ec-f317-4b7b-f36c-ffd93e189119"
      },
      "execution_count": 144,
      "outputs": [
        {
          "output_type": "execute_result",
          "data": {
            "text/plain": [
              "60"
            ]
          },
          "metadata": {},
          "execution_count": 144
        }
      ]
    },
    {
      "cell_type": "code",
      "source": [
        "df[\"Nr. of Doors\"].isnull().sum()"
      ],
      "metadata": {
        "colab": {
          "base_uri": "https://localhost:8080/"
        },
        "id": "wGPBI5sxrIZG",
        "outputId": "24645d33-ccb5-4b42-87db-6c9c50cc7dcb"
      },
      "execution_count": 147,
      "outputs": [
        {
          "output_type": "execute_result",
          "data": {
            "text/plain": [
              "212"
            ]
          },
          "metadata": {},
          "execution_count": 147
        }
      ]
    },
    {
      "cell_type": "code",
      "source": [
        "df[\"Nr. of Doors\"].value_counts()"
      ],
      "metadata": {
        "colab": {
          "base_uri": "https://localhost:8080/",
          "height": 339
        },
        "id": "oMduRyQSqPRR",
        "outputId": "75a9001a-3288-47ce-b104-ef42dafa79fd"
      },
      "execution_count": 146,
      "outputs": [
        {
          "output_type": "error",
          "ename": "TypeError",
          "evalue": "ignored",
          "traceback": [
            "\u001b[0;31m---------------------------------------------------------------------------\u001b[0m",
            "\u001b[0;31mTypeError\u001b[0m                                 Traceback (most recent call last)",
            "\u001b[0;32mpandas/_libs/hashtable_class_helper.pxi\u001b[0m in \u001b[0;36mpandas._libs.hashtable.PyObjectHashTable.map_locations\u001b[0;34m()\u001b[0m\n",
            "\u001b[0;31mTypeError\u001b[0m: unhashable type: 'list'"
          ]
        },
        {
          "output_type": "stream",
          "name": "stderr",
          "text": [
            "Exception ignored in: 'pandas._libs.index.IndexEngine._call_map_locations'\n",
            "Traceback (most recent call last):\n",
            "  File \"pandas/_libs/hashtable_class_helper.pxi\", line 5231, in pandas._libs.hashtable.PyObjectHashTable.map_locations\n",
            "TypeError: unhashable type: 'list'\n"
          ]
        },
        {
          "output_type": "execute_result",
          "data": {
            "text/plain": [
              "[\\n5\\n]    11575\n",
              "[\\n4\\n]     3079\n",
              "[\\n3\\n]      832\n",
              "[\\n2\\n]      219\n",
              "[\\n1\\n]        1\n",
              "[\\n7\\n]        1\n",
              "Name: Nr. of Doors, dtype: int64"
            ]
          },
          "metadata": {},
          "execution_count": 146
        }
      ]
    },
    {
      "cell_type": "code",
      "source": [
        "df[\"Nr. of Seats\"].isnull().sum()"
      ],
      "metadata": {
        "colab": {
          "base_uri": "https://localhost:8080/"
        },
        "id": "aWtWGve9rOwA",
        "outputId": "9b77a67d-86c9-425d-a810-e108ff2dcb88"
      },
      "execution_count": 149,
      "outputs": [
        {
          "output_type": "execute_result",
          "data": {
            "text/plain": [
              "977"
            ]
          },
          "metadata": {},
          "execution_count": 149
        }
      ]
    },
    {
      "cell_type": "code",
      "source": [
        "df[\"Nr. of Seats\"].value_counts()"
      ],
      "metadata": {
        "colab": {
          "base_uri": "https://localhost:8080/",
          "height": 339
        },
        "id": "2Nvm-8bsnJ4v",
        "outputId": "5c9e52e1-5ef2-4121-fdec-b09b23deca86"
      },
      "execution_count": 145,
      "outputs": [
        {
          "output_type": "error",
          "ename": "TypeError",
          "evalue": "ignored",
          "traceback": [
            "\u001b[0;31m---------------------------------------------------------------------------\u001b[0m",
            "\u001b[0;31mTypeError\u001b[0m                                 Traceback (most recent call last)",
            "\u001b[0;32mpandas/_libs/hashtable_class_helper.pxi\u001b[0m in \u001b[0;36mpandas._libs.hashtable.PyObjectHashTable.map_locations\u001b[0;34m()\u001b[0m\n",
            "\u001b[0;31mTypeError\u001b[0m: unhashable type: 'list'"
          ]
        },
        {
          "output_type": "stream",
          "name": "stderr",
          "text": [
            "Exception ignored in: 'pandas._libs.index.IndexEngine._call_map_locations'\n",
            "Traceback (most recent call last):\n",
            "  File \"pandas/_libs/hashtable_class_helper.pxi\", line 5231, in pandas._libs.hashtable.PyObjectHashTable.map_locations\n",
            "TypeError: unhashable type: 'list'\n"
          ]
        },
        {
          "output_type": "execute_result",
          "data": {
            "text/plain": [
              "[\\n5\\n]    13336\n",
              "[\\n4\\n]     1125\n",
              "[\\n7\\n]      362\n",
              "[\\n2\\n]      116\n",
              "[\\n6\\n]        2\n",
              "[\\n3\\n]        1\n",
              "Name: Nr. of Seats, dtype: int64"
            ]
          },
          "metadata": {},
          "execution_count": 145
        }
      ]
    },
    {
      "cell_type": "code",
      "source": [
        "Model Code "
      ],
      "metadata": {
        "id": "hB81Qbz5rh2k"
      },
      "execution_count": null,
      "outputs": []
    },
    {
      "cell_type": "code",
      "source": [
        "df[\"Model Code\"].value_counts()"
      ],
      "metadata": {
        "colab": {
          "base_uri": "https://localhost:8080/",
          "height": 426
        },
        "id": "WfJlMg1erhy_",
        "outputId": "fce66b36-acd4-4958-edfc-ef3de62af100"
      },
      "execution_count": 150,
      "outputs": [
        {
          "output_type": "error",
          "ename": "TypeError",
          "evalue": "ignored",
          "traceback": [
            "\u001b[0;31m---------------------------------------------------------------------------\u001b[0m",
            "\u001b[0;31mTypeError\u001b[0m                                 Traceback (most recent call last)",
            "\u001b[0;32mpandas/_libs/hashtable_class_helper.pxi\u001b[0m in \u001b[0;36mpandas._libs.hashtable.PyObjectHashTable.map_locations\u001b[0;34m()\u001b[0m\n",
            "\u001b[0;31mTypeError\u001b[0m: unhashable type: 'list'"
          ]
        },
        {
          "output_type": "stream",
          "name": "stderr",
          "text": [
            "Exception ignored in: 'pandas._libs.index.IndexEngine._call_map_locations'\n",
            "Traceback (most recent call last):\n",
            "  File \"pandas/_libs/hashtable_class_helper.pxi\", line 5231, in pandas._libs.hashtable.PyObjectHashTable.map_locations\n",
            "TypeError: unhashable type: 'list'\n"
          ]
        },
        {
          "output_type": "execute_result",
          "data": {
            "text/plain": [
              "[\\n0035/BCB\\n]    268\n",
              "[\\n0588/BNO\\n]    245\n",
              "[\\n0588/BDB\\n]    206\n",
              "[\\n0588/BHX\\n]    188\n",
              "[\\n1844/ADJ\\n]    175\n",
              "                 ... \n",
              "[\\n0000/ACP\\n]      1\n",
              "[\\n0035/BGY\\n]      1\n",
              "[\\n0035/bgp\\n]      1\n",
              "[\\n0035/BGS\\n]      1\n",
              "[\\n3333/BKG\\n]      1\n",
              "Name: Model Code, Length: 232, dtype: int64"
            ]
          },
          "metadata": {},
          "execution_count": 150
        }
      ]
    },
    {
      "cell_type": "code",
      "source": [
        "df[\"Model Code\"].isnull().sum()"
      ],
      "metadata": {
        "colab": {
          "base_uri": "https://localhost:8080/"
        },
        "id": "Vq-y7obdrhwB",
        "outputId": "bb159e2e-14f3-4d3d-f725-aa2b90ad13f4"
      },
      "execution_count": 151,
      "outputs": [
        {
          "output_type": "execute_result",
          "data": {
            "text/plain": [
              "10941"
            ]
          },
          "metadata": {},
          "execution_count": 151
        }
      ]
    },
    {
      "cell_type": "code",
      "source": [
        "Gearing Type                         0\n",
        "Displacement                       496\n",
        "Cylinders                         5680\n",
        "Weight                            6974\n",
        "Drive chain                       6858\n",
        "Fuel     "
      ],
      "metadata": {
        "id": "vSzuuCZWr9XA"
      },
      "execution_count": null,
      "outputs": []
    },
    {
      "cell_type": "code",
      "source": [
        "df[\"Gearing Type\"].isnull().sum()"
      ],
      "metadata": {
        "colab": {
          "base_uri": "https://localhost:8080/"
        },
        "id": "q_JAiBvTr9Tl",
        "outputId": "31191671-e56f-41a6-9f82-6bb544bf7607"
      },
      "execution_count": 152,
      "outputs": [
        {
          "output_type": "execute_result",
          "data": {
            "text/plain": [
              "0"
            ]
          },
          "metadata": {},
          "execution_count": 152
        }
      ]
    },
    {
      "cell_type": "code",
      "source": [
        "df[\"Gearing Type\"].value_counts()"
      ],
      "metadata": {
        "colab": {
          "base_uri": "https://localhost:8080/",
          "height": 287
        },
        "id": "uAaoFFGfr9Qk",
        "outputId": "a54605cb-3217-4f0f-e673-063ba3f86264"
      },
      "execution_count": 153,
      "outputs": [
        {
          "output_type": "error",
          "ename": "TypeError",
          "evalue": "ignored",
          "traceback": [
            "\u001b[0;31m---------------------------------------------------------------------------\u001b[0m",
            "\u001b[0;31mTypeError\u001b[0m                                 Traceback (most recent call last)",
            "\u001b[0;32mpandas/_libs/hashtable_class_helper.pxi\u001b[0m in \u001b[0;36mpandas._libs.hashtable.PyObjectHashTable.map_locations\u001b[0;34m()\u001b[0m\n",
            "\u001b[0;31mTypeError\u001b[0m: unhashable type: 'list'"
          ]
        },
        {
          "output_type": "stream",
          "name": "stderr",
          "text": [
            "Exception ignored in: 'pandas._libs.index.IndexEngine._call_map_locations'\n",
            "Traceback (most recent call last):\n",
            "  File \"pandas/_libs/hashtable_class_helper.pxi\", line 5231, in pandas._libs.hashtable.PyObjectHashTable.map_locations\n",
            "TypeError: unhashable type: 'list'\n"
          ]
        },
        {
          "output_type": "execute_result",
          "data": {
            "text/plain": [
              "[\\n, Manual, \\n]            8153\n",
              "[\\n, Automatic, \\n]         7297\n",
              "[\\n, Semi-automatic, \\n]     469\n",
              "Name: Gearing Type, dtype: int64"
            ]
          },
          "metadata": {},
          "execution_count": 153
        }
      ]
    },
    {
      "cell_type": "code",
      "source": [
        "df[\"Displacement\"].isnull().sum()"
      ],
      "metadata": {
        "colab": {
          "base_uri": "https://localhost:8080/"
        },
        "id": "B_SJLSmWr9N2",
        "outputId": "a724ac90-18b9-4fbe-c44d-ad41f030e20f"
      },
      "execution_count": 154,
      "outputs": [
        {
          "output_type": "execute_result",
          "data": {
            "text/plain": [
              "496"
            ]
          },
          "metadata": {},
          "execution_count": 154
        }
      ]
    },
    {
      "cell_type": "code",
      "source": [
        "df[\"Displacement\"].value_counts()"
      ],
      "metadata": {
        "colab": {
          "base_uri": "https://localhost:8080/",
          "height": 426
        },
        "id": "SOCKE0eXr9Kc",
        "outputId": "aab91472-ae2a-415c-86d0-001b3732afbf"
      },
      "execution_count": 155,
      "outputs": [
        {
          "output_type": "error",
          "ename": "TypeError",
          "evalue": "ignored",
          "traceback": [
            "\u001b[0;31m---------------------------------------------------------------------------\u001b[0m",
            "\u001b[0;31mTypeError\u001b[0m                                 Traceback (most recent call last)",
            "\u001b[0;32mpandas/_libs/hashtable_class_helper.pxi\u001b[0m in \u001b[0;36mpandas._libs.hashtable.PyObjectHashTable.map_locations\u001b[0;34m()\u001b[0m\n",
            "\u001b[0;31mTypeError\u001b[0m: unhashable type: 'list'"
          ]
        },
        {
          "output_type": "stream",
          "name": "stderr",
          "text": [
            "Exception ignored in: 'pandas._libs.index.IndexEngine._call_map_locations'\n",
            "Traceback (most recent call last):\n",
            "  File \"pandas/_libs/hashtable_class_helper.pxi\", line 5231, in pandas._libs.hashtable.PyObjectHashTable.map_locations\n",
            "TypeError: unhashable type: 'list'\n"
          ]
        },
        {
          "output_type": "execute_result",
          "data": {
            "text/plain": [
              "[\\n1,598 cc\\n]    4761\n",
              "[\\n999 cc\\n]      2438\n",
              "[\\n1,398 cc\\n]    1314\n",
              "[\\n1,399 cc\\n]     749\n",
              "[\\n1,229 cc\\n]     677\n",
              "                  ... \n",
              "[\\n122 cc\\n]         1\n",
              "[\\n1,198 cc\\n]       1\n",
              "[\\n1,195 cc\\n]       1\n",
              "[\\n2,967 cc\\n]       1\n",
              "[\\n1,800 cc\\n]       1\n",
              "Name: Displacement, Length: 77, dtype: int64"
            ]
          },
          "metadata": {},
          "execution_count": 155
        }
      ]
    },
    {
      "cell_type": "code",
      "source": [
        ""
      ],
      "metadata": {
        "id": "m65pHi6UtN33"
      },
      "execution_count": null,
      "outputs": []
    },
    {
      "cell_type": "code",
      "source": [
        ""
      ],
      "metadata": {
        "id": "MneHbCVGtN0j"
      },
      "execution_count": null,
      "outputs": []
    },
    {
      "cell_type": "code",
      "source": [
        ""
      ],
      "metadata": {
        "id": "k598ND9wtNxE"
      },
      "execution_count": null,
      "outputs": []
    },
    {
      "cell_type": "code",
      "source": [
        ""
      ],
      "metadata": {
        "id": "gtuc8nQUrhsj"
      },
      "execution_count": null,
      "outputs": []
    },
    {
      "cell_type": "code",
      "source": [
        ""
      ],
      "metadata": {
        "id": "3Mz9ueKrrhnW"
      },
      "execution_count": null,
      "outputs": []
    },
    {
      "cell_type": "markdown",
      "metadata": {
        "id": "ycOav2Bk0FIQ"
      },
      "source": [
        "## Import Libraries and Data"
      ]
    },
    {
      "cell_type": "code",
      "execution_count": null,
      "metadata": {
        "id": "hsPN-NnY0FIQ"
      },
      "outputs": [],
      "source": [
        "df_dummied.to_csv(\"final_scout_dummy.csv\", index=False)"
      ]
    },
    {
      "cell_type": "code",
      "execution_count": null,
      "metadata": {
        "id": "UXhUmIlz0FIQ"
      },
      "outputs": [],
      "source": [
        "df.to_csv(\"final_scout_not_dummy.csv\", index=False)"
      ]
    }
  ],
  "metadata": {
    "kernelspec": {
      "display_name": "Python 3",
      "language": "python",
      "name": "python3"
    },
    "language_info": {
      "codemirror_mode": {
        "name": "ipython",
        "version": 3
      },
      "file_extension": ".py",
      "mimetype": "text/x-python",
      "name": "python",
      "nbconvert_exporter": "python",
      "pygments_lexer": "ipython3",
      "version": "3.8.5"
    },
    "colab": {
      "name": "DAwPython-Capstone (AutoScout) Project_Student.ipynb",
      "provenance": [],
      "collapsed_sections": [],
      "include_colab_link": true
    }
  },
  "nbformat": 4,
  "nbformat_minor": 0
}