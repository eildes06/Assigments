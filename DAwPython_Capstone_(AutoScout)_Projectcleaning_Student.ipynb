{
  "cells": [
    {
      "cell_type": "markdown",
      "metadata": {
        "id": "view-in-github",
        "colab_type": "text"
      },
      "source": [
        "<a href=\"https://colab.research.google.com/github/eildes06/Assigments/blob/main/DAwPython_Capstone_(AutoScout)_Projectcleaning_Student.ipynb\" target=\"_parent\"><img src=\"https://colab.research.google.com/assets/colab-badge.svg\" alt=\"Open In Colab\"/></a>"
      ]
    },
    {
      "cell_type": "markdown",
      "metadata": {
        "id": "JokszbDfotd4"
      },
      "source": [
        "___\n",
        "\n",
        "<p style=\"text-align: center;\"><img src=\"https://docs.google.com/uc?id=1lY0Uj5R04yMY3-ZppPWxqCr5pvBLYPnV\" class=\"img-fluid\" alt=\"CLRSWY\"></p>\n",
        "\n",
        "___"
      ]
    },
    {
      "cell_type": "markdown",
      "metadata": {
        "id": "DK8CjZVEotd6"
      },
      "source": [
        "# WELCOME!"
      ]
    },
    {
      "cell_type": "markdown",
      "metadata": {
        "id": "v71F1QiGotd6"
      },
      "source": [
        "## Introduction\n",
        "Welcome to \"***AutoScout Data Analysis Project***\". This is the capstone project of ***Data Analysis*** Module. **Auto Scout** data which using for this project, scraped from the on-line car trading company in 2019, contains many features of 9 different car models. In this project, you will have the opportunity to apply many commonly used algorithms for Data Cleaning and Exploratory Data Analysis by using many Python libraries such as Numpy, Pandas, Matplotlib, Seaborn, Scipy you will analyze clean dataset.\n",
        "\n",
        "The project consists of 3 parts:\n",
        "* First part is related with 'data cleaning'. It deals with Incorrect Headers, Incorrect Format, Anomalies, Dropping useless columns.\n",
        "* Second part is related with 'filling data'. It deals with Missing Values. Categorical to numeric transformation is done.\n",
        "* Third part is related with 'handling outliers of data' via Visualisation libraries. Some insights are extracted.\n"
      ]
    },
    {
      "cell_type": "markdown",
      "metadata": {
        "id": "tvLysM_Iotd7"
      },
      "source": [
        "# PART- 1 `( Data Cleaning )`"
      ]
    },
    {
      "cell_type": "code",
      "execution_count": 4,
      "metadata": {
        "id": "hAHtaJWxotd7"
      },
      "outputs": [],
      "source": [
        "import pandas as pd\n",
        "import re\n",
        "import numpy as np\n",
        "import seaborn as sns\n",
        "sns.set_style(\"whitegrid\")\n",
        "\n",
        "import matplotlib.pyplot as plt\n",
        "%matplotlib inline\n",
        "\n",
        "import warnings\n",
        "warnings.filterwarnings(\"ignore\")\n",
        "warnings.warn(\"this will not show\")\n",
        "\n",
        "pd.set_option('display.float_format', lambda x: '%.3f' % x)\n",
        "pd.options.display.max_rows=100\n",
        "pd.options.display.max_columns=100"
      ]
    },
    {
      "cell_type": "code",
      "source": [
        "df.rename(columns={\"\\nComfort & Convenience\\n\":\"Comfort & Convenience\",\n",
        "                  \"\\nEntertainment & Media\\n\":\"Entertainment & Media\",\n",
        "                  \"\\nExtras\\n\":\"Extras\",\n",
        "                  \"\\nSafety & Security\\n\":\"Safety & Security\"}, inplace=True)"
      ],
      "metadata": {
        "colab": {
          "base_uri": "https://localhost:8080/",
          "height": 218
        },
        "id": "EJGb5hKX8Xpt",
        "outputId": "df7ed138-f3da-4f9f-945a-a63e1faba2e7"
      },
      "execution_count": 5,
      "outputs": [
        {
          "output_type": "error",
          "ename": "NameError",
          "evalue": "ignored",
          "traceback": [
            "\u001b[0;31m---------------------------------------------------------------------------\u001b[0m",
            "\u001b[0;31mNameError\u001b[0m                                 Traceback (most recent call last)",
            "\u001b[0;32m<ipython-input-5-4f8f3aefacb8>\u001b[0m in \u001b[0;36m<module>\u001b[0;34m()\u001b[0m\n\u001b[0;32m----> 1\u001b[0;31m df.rename(columns={\"\\nComfort & Convenience\\n\":\"Comfort & Convenience\",\n\u001b[0m\u001b[1;32m      2\u001b[0m                   \u001b[0;34m\"\\nEntertainment & Media\\n\"\u001b[0m\u001b[0;34m:\u001b[0m\u001b[0;34m\"Entertainment & Media\"\u001b[0m\u001b[0;34m,\u001b[0m\u001b[0;34m\u001b[0m\u001b[0;34m\u001b[0m\u001b[0m\n\u001b[1;32m      3\u001b[0m                   \u001b[0;34m\"\\nExtras\\n\"\u001b[0m\u001b[0;34m:\u001b[0m\u001b[0;34m\"Extras\"\u001b[0m\u001b[0;34m,\u001b[0m\u001b[0;34m\u001b[0m\u001b[0;34m\u001b[0m\u001b[0m\n\u001b[1;32m      4\u001b[0m                   \"\\nSafety & Security\\n\":\"Safety & Security\"}, inplace=True)\n",
            "\u001b[0;31mNameError\u001b[0m: name 'df' is not defined"
          ]
        }
      ]
    },
    {
      "cell_type": "code",
      "execution_count": 29,
      "metadata": {
        "colab": {
          "base_uri": "https://localhost:8080/",
          "height": 1000
        },
        "id": "28goDFfFotd7",
        "outputId": "28426414-37bb-4251-e64e-958e9df518db"
      },
      "outputs": [
        {
          "output_type": "execute_result",
          "data": {
            "text/plain": [
              "                                                                           13499  \\\n",
              "url                            https://www.autoscout24.com//offers/renault-cl...   \n",
              "make_model                                                          Renault Clio   \n",
              "short_description                      Expression / Klang und Klima/ Winterräder   \n",
              "body_type                                                                 Sedans   \n",
              "price                                                                       8490   \n",
              "vat                                                               VAT deductible   \n",
              "km                                                                     25,150 km   \n",
              "registration                                                             03/2016   \n",
              "prev_owner                                                      1 previous owner   \n",
              "kW                                                                           NaN   \n",
              "hp                                                                         54 kW   \n",
              "Type                                                        [, Used, , Super 95]   \n",
              "Previous Owners                                                            \\n1\\n   \n",
              "Next Inspection                                                              NaN   \n",
              "Inspection new                                [\\nYes\\n, \\n127 g CO2/km (comb)\\n]   \n",
              "Warranty                                                                     NaN   \n",
              "Full Service                                             [\\n, \\n, \\n4 (Green)\\n]   \n",
              "Non-smoking Vehicle                                                     [\\n, \\n]   \n",
              "null                                                                          []   \n",
              "Make                                                                 \\nRenault\\n   \n",
              "Model                                                             [\\n, Clio, \\n]   \n",
              "Offer Number                                                                 NaN   \n",
              "First Registration                                                [\\n, 2016, \\n]   \n",
              "Body Color                                                       [\\n, White, \\n]   \n",
              "Paint Type                                                                   NaN   \n",
              "Body Color Original                                            [\\nArktis-weiß\\n]   \n",
              "Upholstery                                                    [\\nCloth, Black\\n]   \n",
              "Body                                                            [\\n, Sedans, \\n]   \n",
              "Nr. of Doors                                                             [\\n5\\n]   \n",
              "Nr. of Seats                                                             [\\n5\\n]   \n",
              "Model Code                                                        [\\n3333/BAJ\\n]   \n",
              "Gearing Type                                                    [\\n, Manual, \\n]   \n",
              "Displacement                                                      [\\n1,149 cc\\n]   \n",
              "Cylinders                                                                [\\n4\\n]   \n",
              "Weight                                                            [\\n1,055 kg\\n]   \n",
              "Drive chain                                                          [\\nfront\\n]   \n",
              "Fuel                                                          [\\n, Super 95, \\n]   \n",
              "Consumption                    [[5.5 l/100 km (comb)], [7.1 l/100 km (city)],...   \n",
              "CO2 Emission                                           [\\n127 g CO2/km (comb)\\n]   \n",
              "Emission Class                                                      [\\nEuro 6\\n]   \n",
              "\\nComfort & Convenience\\n      [Air conditioning, Cruise control, Electrical ...   \n",
              "\\nEntertainment & Media\\n      [Hands-free equipment, MP3, On-board computer,...   \n",
              "\\nExtras\\n                                   [Catalytic Converter, Winter tyres]   \n",
              "\\nSafety & Security\\n          [ABS, Central door lock with remote control, D...   \n",
              "description                    [\\nSehr gepflegter Renault Clio mit geringer L...   \n",
              "Emission Label                                                               NaN   \n",
              "Gears                                                                    [\\n5\\n]   \n",
              "Country version                                                    [\\nGermany\\n]   \n",
              "Electricity consumption                                                      NaN   \n",
              "Last Service Date                                      [\\n03/2019\\n, \\nEuro 6\\n]   \n",
              "Other Fuel Types                                                             NaN   \n",
              "Availability                                                                 NaN   \n",
              "Last Timing Belt Service Date                                                NaN   \n",
              "Available from                                                               NaN   \n",
              "\n",
              "                                                                           5673   \\\n",
              "url                            https://www.autoscout24.com//offers/audi-a3-sp...   \n",
              "make_model                                                               Audi A3   \n",
              "short_description                                            SPB 30 TDI Business   \n",
              "body_type                                                                 Sedans   \n",
              "price                                                                      25400   \n",
              "vat                                                               VAT deductible   \n",
              "km                                                                         10 km   \n",
              "registration                                                             02/2019   \n",
              "prev_owner                                                                  None   \n",
              "kW                                                                           NaN   \n",
              "hp                                                                         85 kW   \n",
              "Type                           [, Pre-registered, , Diesel (Particulate Filter)]   \n",
              "Previous Owners                                                              NaN   \n",
              "Next Inspection                                                              NaN   \n",
              "Inspection new                                                               NaN   \n",
              "Warranty                                                                      \\n   \n",
              "Full Service                                                                 NaN   \n",
              "Non-smoking Vehicle                                                          NaN   \n",
              "null                                                                          []   \n",
              "Make                                                                    \\nAudi\\n   \n",
              "Model                                                               [\\n, A3, \\n]   \n",
              "Offer Number                                                        [\\nvu2289\\n]   \n",
              "First Registration                                                [\\n, 2019, \\n]   \n",
              "Body Color                                                        [\\n, Grey, \\n]   \n",
              "Paint Type                                                        [\\nMetallic\\n]   \n",
              "Body Color Original                            [\\nGrigio atomico metallizzato\\n]   \n",
              "Upholstery                                                    [\\nCloth, Other\\n]   \n",
              "Body                                                            [\\n, Sedans, \\n]   \n",
              "Nr. of Doors                                                             [\\n5\\n]   \n",
              "Nr. of Seats                                                             [\\n5\\n]   \n",
              "Model Code                                                                   NaN   \n",
              "Gearing Type                                                    [\\n, Manual, \\n]   \n",
              "Displacement                                                      [\\n1,598 cc\\n]   \n",
              "Cylinders                                                                [\\n4\\n]   \n",
              "Weight                                                                       NaN   \n",
              "Drive chain                                                          [\\nfront\\n]   \n",
              "Fuel                                       [\\n, Diesel (Particulate Filter), \\n]   \n",
              "Consumption                    [[4.4 l/100 km (comb)], [5 l/100 km (city)], [...   \n",
              "CO2 Emission                                           [\\n114 g CO2/km (comb)\\n]   \n",
              "Emission Class                                                               NaN   \n",
              "\\nComfort & Convenience\\n      [Air conditioning, Armrest, Automatic climate ...   \n",
              "\\nEntertainment & Media\\n      [Bluetooth, Hands-free equipment, MP3, On-boar...   \n",
              "\\nExtras\\n                                                        [Alloy wheels]   \n",
              "\\nSafety & Security\\n          [ABS, Central door lock, Driver-side airbag, I...   \n",
              "description                    [\\n, POSSIBILITA' DI SOLUZIONI FINANZIARIE CON...   \n",
              "Emission Label                                              [\\n1 (No sticker)\\n]   \n",
              "Gears                                                                    [\\n6\\n]   \n",
              "Country version                                                              NaN   \n",
              "Electricity consumption                                                      NaN   \n",
              "Last Service Date                                                            NaN   \n",
              "Other Fuel Types                                                             NaN   \n",
              "Availability                                                                 NaN   \n",
              "Last Timing Belt Service Date                                                NaN   \n",
              "Available from                                                               NaN   \n",
              "\n",
              "                                                                           8975   \n",
              "url                            https://www.autoscout24.com//offers/opel-corsa...  \n",
              "make_model                                                            Opel Corsa  \n",
              "short_description                                           1.4 90 CV Expression  \n",
              "body_type                                                                  Other  \n",
              "price                                                                       7900  \n",
              "vat                                                                         None  \n",
              "km                                                                     25,902 km  \n",
              "registration                                                             10/2016  \n",
              "prev_owner                                                      1 previous owner  \n",
              "kW                                                                           NaN  \n",
              "hp                                                                         66 kW  \n",
              "Type                                                        [, Used, , Gasoline]  \n",
              "Previous Owners                                                            \\n1\\n  \n",
              "Next Inspection                                                              NaN  \n",
              "Inspection new                                                               NaN  \n",
              "Warranty                                                                     NaN  \n",
              "Full Service                                                                 NaN  \n",
              "Non-smoking Vehicle                                                          NaN  \n",
              "null                                                                          []  \n",
              "Make                                                                    \\nOpel\\n  \n",
              "Model                                                            [\\n, Corsa, \\n]  \n",
              "Offer Number                                              [\\n80B_474_6130_181\\n]  \n",
              "First Registration                                                [\\n, 2016, \\n]  \n",
              "Body Color                                                         [\\n, Red, \\n]  \n",
              "Paint Type                                                                   NaN  \n",
              "Body Color Original                                                   [\\nRojo\\n]  \n",
              "Upholstery                                                                   NaN  \n",
              "Body                                                             [\\n, Other, \\n]  \n",
              "Nr. of Doors                                                             [\\n5\\n]  \n",
              "Nr. of Seats                                                             [\\n5\\n]  \n",
              "Model Code                                                                   NaN  \n",
              "Gearing Type                                                    [\\n, Manual, \\n]  \n",
              "Displacement                                                      [\\n1,398 cc\\n]  \n",
              "Cylinders                                                                [\\n4\\n]  \n",
              "Weight                                                            [\\n1,163 kg\\n]  \n",
              "Drive chain                                                                  NaN  \n",
              "Fuel                                                          [\\n, Gasoline, \\n]  \n",
              "Consumption                    [[5.2 l/100 km (comb)], [6.9 l/100 km (city)],...  \n",
              "CO2 Emission                                           [\\n120 g CO2/km (comb)\\n]  \n",
              "Emission Class                                                      [\\nEuro 6\\n]  \n",
              "\\nComfort & Convenience\\n                                                    NaN  \n",
              "\\nEntertainment & Media\\n                                                    NaN  \n",
              "\\nExtras\\n                                                                   NaN  \n",
              "\\nSafety & Security\\n                                                        NaN  \n",
              "description                    [\\nSAUTER - RED DE CONCESIONARIOS OFICIALES OP...  \n",
              "Emission Label                                                               NaN  \n",
              "Gears                                                                    [\\n5\\n]  \n",
              "Country version                                                              NaN  \n",
              "Electricity consumption                                                      NaN  \n",
              "Last Service Date                                                            NaN  \n",
              "Other Fuel Types                                                             NaN  \n",
              "Availability                                                                 NaN  \n",
              "Last Timing Belt Service Date                                                NaN  \n",
              "Available from                                                               NaN  "
            ],
            "text/html": [
              "\n",
              "  <div id=\"df-f5cf9b2f-1092-4651-9baa-6f1a0531936e\">\n",
              "    <div class=\"colab-df-container\">\n",
              "      <div>\n",
              "<style scoped>\n",
              "    .dataframe tbody tr th:only-of-type {\n",
              "        vertical-align: middle;\n",
              "    }\n",
              "\n",
              "    .dataframe tbody tr th {\n",
              "        vertical-align: top;\n",
              "    }\n",
              "\n",
              "    .dataframe thead th {\n",
              "        text-align: right;\n",
              "    }\n",
              "</style>\n",
              "<table border=\"1\" class=\"dataframe\">\n",
              "  <thead>\n",
              "    <tr style=\"text-align: right;\">\n",
              "      <th></th>\n",
              "      <th>13499</th>\n",
              "      <th>5673</th>\n",
              "      <th>8975</th>\n",
              "    </tr>\n",
              "  </thead>\n",
              "  <tbody>\n",
              "    <tr>\n",
              "      <th>url</th>\n",
              "      <td>https://www.autoscout24.com//offers/renault-cl...</td>\n",
              "      <td>https://www.autoscout24.com//offers/audi-a3-sp...</td>\n",
              "      <td>https://www.autoscout24.com//offers/opel-corsa...</td>\n",
              "    </tr>\n",
              "    <tr>\n",
              "      <th>make_model</th>\n",
              "      <td>Renault Clio</td>\n",
              "      <td>Audi A3</td>\n",
              "      <td>Opel Corsa</td>\n",
              "    </tr>\n",
              "    <tr>\n",
              "      <th>short_description</th>\n",
              "      <td>Expression / Klang und Klima/ Winterräder</td>\n",
              "      <td>SPB 30 TDI Business</td>\n",
              "      <td>1.4 90 CV Expression</td>\n",
              "    </tr>\n",
              "    <tr>\n",
              "      <th>body_type</th>\n",
              "      <td>Sedans</td>\n",
              "      <td>Sedans</td>\n",
              "      <td>Other</td>\n",
              "    </tr>\n",
              "    <tr>\n",
              "      <th>price</th>\n",
              "      <td>8490</td>\n",
              "      <td>25400</td>\n",
              "      <td>7900</td>\n",
              "    </tr>\n",
              "    <tr>\n",
              "      <th>vat</th>\n",
              "      <td>VAT deductible</td>\n",
              "      <td>VAT deductible</td>\n",
              "      <td>None</td>\n",
              "    </tr>\n",
              "    <tr>\n",
              "      <th>km</th>\n",
              "      <td>25,150 km</td>\n",
              "      <td>10 km</td>\n",
              "      <td>25,902 km</td>\n",
              "    </tr>\n",
              "    <tr>\n",
              "      <th>registration</th>\n",
              "      <td>03/2016</td>\n",
              "      <td>02/2019</td>\n",
              "      <td>10/2016</td>\n",
              "    </tr>\n",
              "    <tr>\n",
              "      <th>prev_owner</th>\n",
              "      <td>1 previous owner</td>\n",
              "      <td>None</td>\n",
              "      <td>1 previous owner</td>\n",
              "    </tr>\n",
              "    <tr>\n",
              "      <th>kW</th>\n",
              "      <td>NaN</td>\n",
              "      <td>NaN</td>\n",
              "      <td>NaN</td>\n",
              "    </tr>\n",
              "    <tr>\n",
              "      <th>hp</th>\n",
              "      <td>54 kW</td>\n",
              "      <td>85 kW</td>\n",
              "      <td>66 kW</td>\n",
              "    </tr>\n",
              "    <tr>\n",
              "      <th>Type</th>\n",
              "      <td>[, Used, , Super 95]</td>\n",
              "      <td>[, Pre-registered, , Diesel (Particulate Filter)]</td>\n",
              "      <td>[, Used, , Gasoline]</td>\n",
              "    </tr>\n",
              "    <tr>\n",
              "      <th>Previous Owners</th>\n",
              "      <td>\\n1\\n</td>\n",
              "      <td>NaN</td>\n",
              "      <td>\\n1\\n</td>\n",
              "    </tr>\n",
              "    <tr>\n",
              "      <th>Next Inspection</th>\n",
              "      <td>NaN</td>\n",
              "      <td>NaN</td>\n",
              "      <td>NaN</td>\n",
              "    </tr>\n",
              "    <tr>\n",
              "      <th>Inspection new</th>\n",
              "      <td>[\\nYes\\n, \\n127 g CO2/km (comb)\\n]</td>\n",
              "      <td>NaN</td>\n",
              "      <td>NaN</td>\n",
              "    </tr>\n",
              "    <tr>\n",
              "      <th>Warranty</th>\n",
              "      <td>NaN</td>\n",
              "      <td>\\n</td>\n",
              "      <td>NaN</td>\n",
              "    </tr>\n",
              "    <tr>\n",
              "      <th>Full Service</th>\n",
              "      <td>[\\n, \\n, \\n4 (Green)\\n]</td>\n",
              "      <td>NaN</td>\n",
              "      <td>NaN</td>\n",
              "    </tr>\n",
              "    <tr>\n",
              "      <th>Non-smoking Vehicle</th>\n",
              "      <td>[\\n, \\n]</td>\n",
              "      <td>NaN</td>\n",
              "      <td>NaN</td>\n",
              "    </tr>\n",
              "    <tr>\n",
              "      <th>null</th>\n",
              "      <td>[]</td>\n",
              "      <td>[]</td>\n",
              "      <td>[]</td>\n",
              "    </tr>\n",
              "    <tr>\n",
              "      <th>Make</th>\n",
              "      <td>\\nRenault\\n</td>\n",
              "      <td>\\nAudi\\n</td>\n",
              "      <td>\\nOpel\\n</td>\n",
              "    </tr>\n",
              "    <tr>\n",
              "      <th>Model</th>\n",
              "      <td>[\\n, Clio, \\n]</td>\n",
              "      <td>[\\n, A3, \\n]</td>\n",
              "      <td>[\\n, Corsa, \\n]</td>\n",
              "    </tr>\n",
              "    <tr>\n",
              "      <th>Offer Number</th>\n",
              "      <td>NaN</td>\n",
              "      <td>[\\nvu2289\\n]</td>\n",
              "      <td>[\\n80B_474_6130_181\\n]</td>\n",
              "    </tr>\n",
              "    <tr>\n",
              "      <th>First Registration</th>\n",
              "      <td>[\\n, 2016, \\n]</td>\n",
              "      <td>[\\n, 2019, \\n]</td>\n",
              "      <td>[\\n, 2016, \\n]</td>\n",
              "    </tr>\n",
              "    <tr>\n",
              "      <th>Body Color</th>\n",
              "      <td>[\\n, White, \\n]</td>\n",
              "      <td>[\\n, Grey, \\n]</td>\n",
              "      <td>[\\n, Red, \\n]</td>\n",
              "    </tr>\n",
              "    <tr>\n",
              "      <th>Paint Type</th>\n",
              "      <td>NaN</td>\n",
              "      <td>[\\nMetallic\\n]</td>\n",
              "      <td>NaN</td>\n",
              "    </tr>\n",
              "    <tr>\n",
              "      <th>Body Color Original</th>\n",
              "      <td>[\\nArktis-weiß\\n]</td>\n",
              "      <td>[\\nGrigio atomico metallizzato\\n]</td>\n",
              "      <td>[\\nRojo\\n]</td>\n",
              "    </tr>\n",
              "    <tr>\n",
              "      <th>Upholstery</th>\n",
              "      <td>[\\nCloth, Black\\n]</td>\n",
              "      <td>[\\nCloth, Other\\n]</td>\n",
              "      <td>NaN</td>\n",
              "    </tr>\n",
              "    <tr>\n",
              "      <th>Body</th>\n",
              "      <td>[\\n, Sedans, \\n]</td>\n",
              "      <td>[\\n, Sedans, \\n]</td>\n",
              "      <td>[\\n, Other, \\n]</td>\n",
              "    </tr>\n",
              "    <tr>\n",
              "      <th>Nr. of Doors</th>\n",
              "      <td>[\\n5\\n]</td>\n",
              "      <td>[\\n5\\n]</td>\n",
              "      <td>[\\n5\\n]</td>\n",
              "    </tr>\n",
              "    <tr>\n",
              "      <th>Nr. of Seats</th>\n",
              "      <td>[\\n5\\n]</td>\n",
              "      <td>[\\n5\\n]</td>\n",
              "      <td>[\\n5\\n]</td>\n",
              "    </tr>\n",
              "    <tr>\n",
              "      <th>Model Code</th>\n",
              "      <td>[\\n3333/BAJ\\n]</td>\n",
              "      <td>NaN</td>\n",
              "      <td>NaN</td>\n",
              "    </tr>\n",
              "    <tr>\n",
              "      <th>Gearing Type</th>\n",
              "      <td>[\\n, Manual, \\n]</td>\n",
              "      <td>[\\n, Manual, \\n]</td>\n",
              "      <td>[\\n, Manual, \\n]</td>\n",
              "    </tr>\n",
              "    <tr>\n",
              "      <th>Displacement</th>\n",
              "      <td>[\\n1,149 cc\\n]</td>\n",
              "      <td>[\\n1,598 cc\\n]</td>\n",
              "      <td>[\\n1,398 cc\\n]</td>\n",
              "    </tr>\n",
              "    <tr>\n",
              "      <th>Cylinders</th>\n",
              "      <td>[\\n4\\n]</td>\n",
              "      <td>[\\n4\\n]</td>\n",
              "      <td>[\\n4\\n]</td>\n",
              "    </tr>\n",
              "    <tr>\n",
              "      <th>Weight</th>\n",
              "      <td>[\\n1,055 kg\\n]</td>\n",
              "      <td>NaN</td>\n",
              "      <td>[\\n1,163 kg\\n]</td>\n",
              "    </tr>\n",
              "    <tr>\n",
              "      <th>Drive chain</th>\n",
              "      <td>[\\nfront\\n]</td>\n",
              "      <td>[\\nfront\\n]</td>\n",
              "      <td>NaN</td>\n",
              "    </tr>\n",
              "    <tr>\n",
              "      <th>Fuel</th>\n",
              "      <td>[\\n, Super 95, \\n]</td>\n",
              "      <td>[\\n, Diesel (Particulate Filter), \\n]</td>\n",
              "      <td>[\\n, Gasoline, \\n]</td>\n",
              "    </tr>\n",
              "    <tr>\n",
              "      <th>Consumption</th>\n",
              "      <td>[[5.5 l/100 km (comb)], [7.1 l/100 km (city)],...</td>\n",
              "      <td>[[4.4 l/100 km (comb)], [5 l/100 km (city)], [...</td>\n",
              "      <td>[[5.2 l/100 km (comb)], [6.9 l/100 km (city)],...</td>\n",
              "    </tr>\n",
              "    <tr>\n",
              "      <th>CO2 Emission</th>\n",
              "      <td>[\\n127 g CO2/km (comb)\\n]</td>\n",
              "      <td>[\\n114 g CO2/km (comb)\\n]</td>\n",
              "      <td>[\\n120 g CO2/km (comb)\\n]</td>\n",
              "    </tr>\n",
              "    <tr>\n",
              "      <th>Emission Class</th>\n",
              "      <td>[\\nEuro 6\\n]</td>\n",
              "      <td>NaN</td>\n",
              "      <td>[\\nEuro 6\\n]</td>\n",
              "    </tr>\n",
              "    <tr>\n",
              "      <th>\\nComfort &amp; Convenience\\n</th>\n",
              "      <td>[Air conditioning, Cruise control, Electrical ...</td>\n",
              "      <td>[Air conditioning, Armrest, Automatic climate ...</td>\n",
              "      <td>NaN</td>\n",
              "    </tr>\n",
              "    <tr>\n",
              "      <th>\\nEntertainment &amp; Media\\n</th>\n",
              "      <td>[Hands-free equipment, MP3, On-board computer,...</td>\n",
              "      <td>[Bluetooth, Hands-free equipment, MP3, On-boar...</td>\n",
              "      <td>NaN</td>\n",
              "    </tr>\n",
              "    <tr>\n",
              "      <th>\\nExtras\\n</th>\n",
              "      <td>[Catalytic Converter, Winter tyres]</td>\n",
              "      <td>[Alloy wheels]</td>\n",
              "      <td>NaN</td>\n",
              "    </tr>\n",
              "    <tr>\n",
              "      <th>\\nSafety &amp; Security\\n</th>\n",
              "      <td>[ABS, Central door lock with remote control, D...</td>\n",
              "      <td>[ABS, Central door lock, Driver-side airbag, I...</td>\n",
              "      <td>NaN</td>\n",
              "    </tr>\n",
              "    <tr>\n",
              "      <th>description</th>\n",
              "      <td>[\\nSehr gepflegter Renault Clio mit geringer L...</td>\n",
              "      <td>[\\n, POSSIBILITA' DI SOLUZIONI FINANZIARIE CON...</td>\n",
              "      <td>[\\nSAUTER - RED DE CONCESIONARIOS OFICIALES OP...</td>\n",
              "    </tr>\n",
              "    <tr>\n",
              "      <th>Emission Label</th>\n",
              "      <td>NaN</td>\n",
              "      <td>[\\n1 (No sticker)\\n]</td>\n",
              "      <td>NaN</td>\n",
              "    </tr>\n",
              "    <tr>\n",
              "      <th>Gears</th>\n",
              "      <td>[\\n5\\n]</td>\n",
              "      <td>[\\n6\\n]</td>\n",
              "      <td>[\\n5\\n]</td>\n",
              "    </tr>\n",
              "    <tr>\n",
              "      <th>Country version</th>\n",
              "      <td>[\\nGermany\\n]</td>\n",
              "      <td>NaN</td>\n",
              "      <td>NaN</td>\n",
              "    </tr>\n",
              "    <tr>\n",
              "      <th>Electricity consumption</th>\n",
              "      <td>NaN</td>\n",
              "      <td>NaN</td>\n",
              "      <td>NaN</td>\n",
              "    </tr>\n",
              "    <tr>\n",
              "      <th>Last Service Date</th>\n",
              "      <td>[\\n03/2019\\n, \\nEuro 6\\n]</td>\n",
              "      <td>NaN</td>\n",
              "      <td>NaN</td>\n",
              "    </tr>\n",
              "    <tr>\n",
              "      <th>Other Fuel Types</th>\n",
              "      <td>NaN</td>\n",
              "      <td>NaN</td>\n",
              "      <td>NaN</td>\n",
              "    </tr>\n",
              "    <tr>\n",
              "      <th>Availability</th>\n",
              "      <td>NaN</td>\n",
              "      <td>NaN</td>\n",
              "      <td>NaN</td>\n",
              "    </tr>\n",
              "    <tr>\n",
              "      <th>Last Timing Belt Service Date</th>\n",
              "      <td>NaN</td>\n",
              "      <td>NaN</td>\n",
              "      <td>NaN</td>\n",
              "    </tr>\n",
              "    <tr>\n",
              "      <th>Available from</th>\n",
              "      <td>NaN</td>\n",
              "      <td>NaN</td>\n",
              "      <td>NaN</td>\n",
              "    </tr>\n",
              "  </tbody>\n",
              "</table>\n",
              "</div>\n",
              "      <button class=\"colab-df-convert\" onclick=\"convertToInteractive('df-f5cf9b2f-1092-4651-9baa-6f1a0531936e')\"\n",
              "              title=\"Convert this dataframe to an interactive table.\"\n",
              "              style=\"display:none;\">\n",
              "        \n",
              "  <svg xmlns=\"http://www.w3.org/2000/svg\" height=\"24px\"viewBox=\"0 0 24 24\"\n",
              "       width=\"24px\">\n",
              "    <path d=\"M0 0h24v24H0V0z\" fill=\"none\"/>\n",
              "    <path d=\"M18.56 5.44l.94 2.06.94-2.06 2.06-.94-2.06-.94-.94-2.06-.94 2.06-2.06.94zm-11 1L8.5 8.5l.94-2.06 2.06-.94-2.06-.94L8.5 2.5l-.94 2.06-2.06.94zm10 10l.94 2.06.94-2.06 2.06-.94-2.06-.94-.94-2.06-.94 2.06-2.06.94z\"/><path d=\"M17.41 7.96l-1.37-1.37c-.4-.4-.92-.59-1.43-.59-.52 0-1.04.2-1.43.59L10.3 9.45l-7.72 7.72c-.78.78-.78 2.05 0 2.83L4 21.41c.39.39.9.59 1.41.59.51 0 1.02-.2 1.41-.59l7.78-7.78 2.81-2.81c.8-.78.8-2.07 0-2.86zM5.41 20L4 18.59l7.72-7.72 1.47 1.35L5.41 20z\"/>\n",
              "  </svg>\n",
              "      </button>\n",
              "      \n",
              "  <style>\n",
              "    .colab-df-container {\n",
              "      display:flex;\n",
              "      flex-wrap:wrap;\n",
              "      gap: 12px;\n",
              "    }\n",
              "\n",
              "    .colab-df-convert {\n",
              "      background-color: #E8F0FE;\n",
              "      border: none;\n",
              "      border-radius: 50%;\n",
              "      cursor: pointer;\n",
              "      display: none;\n",
              "      fill: #1967D2;\n",
              "      height: 32px;\n",
              "      padding: 0 0 0 0;\n",
              "      width: 32px;\n",
              "    }\n",
              "\n",
              "    .colab-df-convert:hover {\n",
              "      background-color: #E2EBFA;\n",
              "      box-shadow: 0px 1px 2px rgba(60, 64, 67, 0.3), 0px 1px 3px 1px rgba(60, 64, 67, 0.15);\n",
              "      fill: #174EA6;\n",
              "    }\n",
              "\n",
              "    [theme=dark] .colab-df-convert {\n",
              "      background-color: #3B4455;\n",
              "      fill: #D2E3FC;\n",
              "    }\n",
              "\n",
              "    [theme=dark] .colab-df-convert:hover {\n",
              "      background-color: #434B5C;\n",
              "      box-shadow: 0px 1px 3px 1px rgba(0, 0, 0, 0.15);\n",
              "      filter: drop-shadow(0px 1px 2px rgba(0, 0, 0, 0.3));\n",
              "      fill: #FFFFFF;\n",
              "    }\n",
              "  </style>\n",
              "\n",
              "      <script>\n",
              "        const buttonEl =\n",
              "          document.querySelector('#df-f5cf9b2f-1092-4651-9baa-6f1a0531936e button.colab-df-convert');\n",
              "        buttonEl.style.display =\n",
              "          google.colab.kernel.accessAllowed ? 'block' : 'none';\n",
              "\n",
              "        async function convertToInteractive(key) {\n",
              "          const element = document.querySelector('#df-f5cf9b2f-1092-4651-9baa-6f1a0531936e');\n",
              "          const dataTable =\n",
              "            await google.colab.kernel.invokeFunction('convertToInteractive',\n",
              "                                                     [key], {});\n",
              "          if (!dataTable) return;\n",
              "\n",
              "          const docLinkHtml = 'Like what you see? Visit the ' +\n",
              "            '<a target=\"_blank\" href=https://colab.research.google.com/notebooks/data_table.ipynb>data table notebook</a>'\n",
              "            + ' to learn more about interactive tables.';\n",
              "          element.innerHTML = '';\n",
              "          dataTable['output_type'] = 'display_data';\n",
              "          await google.colab.output.renderOutput(dataTable, element);\n",
              "          const docLink = document.createElement('div');\n",
              "          docLink.innerHTML = docLinkHtml;\n",
              "          element.appendChild(docLink);\n",
              "        }\n",
              "      </script>\n",
              "    </div>\n",
              "  </div>\n",
              "  "
            ]
          },
          "metadata": {},
          "execution_count": 29
        }
      ],
      "source": [
        "scout_car = pd.read_json ('/content/scout_car.json', lines = True)\n",
        "df = scout_car.copy()\n",
        "df.sample(3).T"
      ]
    },
    {
      "cell_type": "markdown",
      "source": [
        "**url**"
      ],
      "metadata": {
        "id": "asRqOVlwu9ag"
      }
    },
    {
      "cell_type": "code",
      "source": [
        "df[\"url_new\"] = df[\"url\"] \n",
        "#eksik bilgileri bundan yararlanarak doldurabiliriz.\n",
        "#onun için şimdilik tutuyoruz.\n",
        "#ici full\n",
        "#keep"
      ],
      "metadata": {
        "id": "q3_hFEPAup5P"
      },
      "execution_count": 37,
      "outputs": []
    },
    {
      "cell_type": "markdown",
      "source": [
        "**make_model**"
      ],
      "metadata": {
        "id": "M6eFLPiEu1V6"
      }
    },
    {
      "cell_type": "code",
      "source": [
        "df[\"make_model_new\"] = df[\"make_model\"]\n",
        "#ici full\n",
        "#make , model ile connection var\n",
        "#bu keep edilsin"
      ],
      "metadata": {
        "id": "QBV5k33wuRk6"
      },
      "execution_count": 36,
      "outputs": []
    },
    {
      "cell_type": "markdown",
      "source": [
        "**short_description**"
      ],
      "metadata": {
        "id": "LMlE0C01uwSo"
      }
    },
    {
      "cell_type": "code",
      "source": [
        "df[\"short_description_new\"] = df[\"short_description\"]\n",
        "#46 null değer var.\n",
        "#description ile baglantili \n",
        "#description icindeki tamamlanabilir\n",
        "#simdilik tut hangisi karar verilmedi"
      ],
      "metadata": {
        "id": "YaTK9eeouup2"
      },
      "execution_count": 38,
      "outputs": []
    },
    {
      "cell_type": "markdown",
      "source": [
        "**body_type**"
      ],
      "metadata": {
        "id": "xqk9RJvQuSeo"
      }
    },
    {
      "cell_type": "code",
      "source": [
        "df[\"body_type_new\"] = df[\"body_type\"]\n",
        "#NaN ve Other verileri araştırılacak\n",
        "#body ile connetionu var \n",
        "#icinde 9 cesit var"
      ],
      "metadata": {
        "id": "atquUMFWuRa9"
      },
      "execution_count": 54,
      "outputs": []
    },
    {
      "cell_type": "code",
      "source": [
        "df[\"body_type_new\"].value_counts()"
      ],
      "metadata": {
        "colab": {
          "base_uri": "https://localhost:8080/"
        },
        "id": "NmLbRB5hwP64",
        "outputId": "88c05f6e-a812-42db-8557-99541cac6dbe"
      },
      "execution_count": 56,
      "outputs": [
        {
          "output_type": "execute_result",
          "data": {
            "text/plain": [
              "Sedans           7903\n",
              "Station wagon    3553\n",
              "Compact          3153\n",
              "Van               783\n",
              "Other             290\n",
              "Transporter        88\n",
              "Off-Road           56\n",
              "Coupe              25\n",
              "Convertible         8\n",
              "Name: body_type_new, dtype: int64"
            ]
          },
          "metadata": {},
          "execution_count": 56
        }
      ]
    },
    {
      "cell_type": "code",
      "source": [
        "df[\"body_type_new\"].unique()"
      ],
      "metadata": {
        "colab": {
          "base_uri": "https://localhost:8080/"
        },
        "id": "j5CCy3KrwZAy",
        "outputId": "042f3916-76eb-43fc-9d3f-e69bcfd2e59a"
      },
      "execution_count": 47,
      "outputs": [
        {
          "output_type": "execute_result",
          "data": {
            "text/plain": [
              "array([nan])"
            ]
          },
          "metadata": {},
          "execution_count": 47
        }
      ]
    },
    {
      "cell_type": "code",
      "source": [
        "df[\"body_type_new\"].sample(5)"
      ],
      "metadata": {
        "colab": {
          "base_uri": "https://localhost:8080/"
        },
        "id": "PTBS3shrxDj1",
        "outputId": "22e4e0c0-6c54-4acc-c4ae-9e65b7d43b4b"
      },
      "execution_count": 57,
      "outputs": [
        {
          "output_type": "execute_result",
          "data": {
            "text/plain": [
              "7339             Other\n",
              "6508     Station wagon\n",
              "12858            Other\n",
              "12861           Sedans\n",
              "5754     Station wagon\n",
              "Name: body_type_new, dtype: object"
            ]
          },
          "metadata": {},
          "execution_count": 57
        }
      ]
    },
    {
      "cell_type": "markdown",
      "source": [
        "**price**"
      ],
      "metadata": {
        "id": "DLCgUAoKuMIq"
      }
    },
    {
      "cell_type": "code",
      "source": [
        "df[\"price_new\"] = df[\"price\"] #kullanıma hazır veri\n",
        "#ici full eksik data yok\n",
        "#ana degiskenimiz \n",
        "#keep"
      ],
      "metadata": {
        "id": "XLWFSfwAtP2f"
      },
      "execution_count": 34,
      "outputs": []
    },
    {
      "cell_type": "markdown",
      "source": [
        "**vat**"
      ],
      "metadata": {
        "id": "64btutZpt_QJ"
      }
    },
    {
      "cell_type": "code",
      "source": [
        "df[\"vat\"].value_counts(dropna= False)\n",
        "#vergi indirimi 3 deger var  \n",
        "#biz onu discount ya da degil diye ikiye ayirdirk \n",
        "#keep"
      ],
      "metadata": {
        "colab": {
          "base_uri": "https://localhost:8080/"
        },
        "id": "g5AFOLXNtPy7",
        "outputId": "986909a7-35d3-44ce-8960-93f9bb96749d"
      },
      "execution_count": 32,
      "outputs": [
        {
          "output_type": "execute_result",
          "data": {
            "text/plain": [
              "VAT deductible      10980\n",
              "NaN                  4513\n",
              "Price negotiable      426\n",
              "Name: vat, dtype: int64"
            ]
          },
          "metadata": {},
          "execution_count": 32
        }
      ]
    },
    {
      "cell_type": "code",
      "source": [
        "df[\"vat_new\"] = df[\"vat\"].apply(lambda x: \"Discount\" if x != None else np.nan)\n",
        "df[\"vat_new\"].value_counts(dropna=False)"
      ],
      "metadata": {
        "colab": {
          "base_uri": "https://localhost:8080/"
        },
        "id": "ZeQaNDoduHEg",
        "outputId": "bd880a37-17ba-4cdb-b051-bc4c7d09459e"
      },
      "execution_count": 33,
      "outputs": [
        {
          "output_type": "execute_result",
          "data": {
            "text/plain": [
              "Discount    11406\n",
              "NaN          4513\n",
              "Name: vat_new, dtype: int64"
            ]
          },
          "metadata": {},
          "execution_count": 33
        }
      ]
    },
    {
      "cell_type": "markdown",
      "source": [
        "**km**"
      ],
      "metadata": {
        "id": "SLmsGk3vtzY3"
      }
    },
    {
      "cell_type": "code",
      "source": [
        "df[\"km\"].value_counts()\n",
        "#keep\n",
        "#sadece km bilgisi var"
      ],
      "metadata": {
        "colab": {
          "base_uri": "https://localhost:8080/"
        },
        "id": "48Gr8N2EtPql",
        "outputId": "18fab750-f86e-493e-a919-ac453d564a03"
      },
      "execution_count": 30,
      "outputs": [
        {
          "output_type": "execute_result",
          "data": {
            "text/plain": [
              "10 km        1045\n",
              "- km         1024\n",
              "1 km          367\n",
              "5 km          170\n",
              "50 km         148\n",
              "             ... \n",
              "67,469 km       1\n",
              "43,197 km       1\n",
              "10,027 km       1\n",
              "35,882 km       1\n",
              "57 km           1\n",
              "Name: km, Length: 6690, dtype: int64"
            ]
          },
          "metadata": {},
          "execution_count": 30
        }
      ]
    },
    {
      "cell_type": "code",
      "source": [
        "df[\"km_new\"] = df[\"km\"].str.replace(\",\",\"\").str.strip(\" km\")\n",
        "df[\"km_new\"]"
      ],
      "metadata": {
        "colab": {
          "base_uri": "https://localhost:8080/"
        },
        "id": "5eD_i3jyt4c9",
        "outputId": "8ee122f1-14de-4755-d588-238b912ab61b"
      },
      "execution_count": 31,
      "outputs": [
        {
          "output_type": "execute_result",
          "data": {
            "text/plain": [
              "0        56013\n",
              "1        80000\n",
              "2        83450\n",
              "3        73000\n",
              "4        16200\n",
              "         ...  \n",
              "15914        -\n",
              "15915     9900\n",
              "15916       15\n",
              "15917       10\n",
              "15918        -\n",
              "Name: km_new, Length: 15919, dtype: object"
            ]
          },
          "metadata": {},
          "execution_count": 31
        }
      ]
    },
    {
      "cell_type": "markdown",
      "source": [
        "\n",
        "**registration**\n"
      ],
      "metadata": {
        "id": "igtd-18EIetR"
      }
    },
    {
      "cell_type": "code",
      "source": [
        "df[\"registration\"].value_counts()\n",
        "#tarih verisi \n",
        "#ici temiz\n",
        "#keep\n",
        "#first registration ile baglantili\n"
      ],
      "metadata": {
        "colab": {
          "base_uri": "https://localhost:8080/"
        },
        "id": "g1giUIZvIcga",
        "outputId": "ecc037f6-81ee-4780-d8ac-5240d81cf411"
      },
      "execution_count": 27,
      "outputs": [
        {
          "output_type": "execute_result",
          "data": {
            "text/plain": [
              "-/-        1597\n",
              "03/2018     695\n",
              "02/2019     585\n",
              "05/2018     572\n",
              "03/2019     543\n",
              "01/2019     541\n",
              "04/2018     541\n",
              "02/2018     539\n",
              "03/2016     536\n",
              "04/2016     532\n",
              "06/2018     532\n",
              "01/2018     511\n",
              "04/2019     506\n",
              "02/2016     472\n",
              "03/2017     471\n",
              "05/2016     459\n",
              "06/2016     452\n",
              "05/2019     440\n",
              "06/2017     409\n",
              "05/2017     404\n",
              "07/2018     396\n",
              "04/2017     380\n",
              "01/2016     376\n",
              "02/2017     368\n",
              "01/2017     306\n",
              "08/2018     285\n",
              "06/2019     224\n",
              "07/2017     215\n",
              "11/2017     180\n",
              "07/2016     176\n",
              "10/2016     160\n",
              "10/2017     154\n",
              "09/2017     149\n",
              "11/2016     142\n",
              "09/2018     141\n",
              "09/2016     141\n",
              "12/2016     134\n",
              "12/2017     123\n",
              "08/2017     114\n",
              "11/2018     110\n",
              "12/2018     103\n",
              "10/2018      97\n",
              "08/2016      94\n",
              "07/2019       6\n",
              "09/2019       5\n",
              "08/2019       1\n",
              "11/2019       1\n",
              "12/2019       1\n",
              "Name: registration, dtype: int64"
            ]
          },
          "metadata": {},
          "execution_count": 27
        }
      ]
    },
    {
      "cell_type": "code",
      "source": [
        "df[\"registration_new\"]=df[\"registration\"]"
      ],
      "metadata": {
        "id": "GVuBrxBmIckj"
      },
      "execution_count": 28,
      "outputs": []
    },
    {
      "cell_type": "code",
      "source": [
        ""
      ],
      "metadata": {
        "id": "-eJRvUJpF3Mu"
      },
      "execution_count": 17,
      "outputs": []
    },
    {
      "cell_type": "markdown",
      "source": [
        "**prev_owner**"
      ],
      "metadata": {
        "id": "gxChRW-kGBNK"
      }
    },
    {
      "cell_type": "code",
      "source": [
        "df[\"prev_owner\"].value_counts()\n",
        "#burda bilgiler birbirine tutiyor \n",
        "#prv o=wner alinabilir icersi dogeriyle bosluklar dooldurulabilir\n",
        "#bu previous owner ile baglantili \n",
        "#"
      ],
      "metadata": {
        "colab": {
          "base_uri": "https://localhost:8080/"
        },
        "id": "Lv8aEBvGFcfa",
        "outputId": "98912a59-55cc-4fa4-a3ca-be98c4fb7734"
      },
      "execution_count": 18,
      "outputs": [
        {
          "output_type": "execute_result",
          "data": {
            "text/plain": [
              "1 previous owner     8294\n",
              "2 previous owners     778\n",
              "3 previous owners      17\n",
              "4 previous owners       2\n",
              "Name: prev_owner, dtype: int64"
            ]
          },
          "metadata": {},
          "execution_count": 18
        }
      ]
    },
    {
      "cell_type": "code",
      "source": [
        "df[[\"prev_owner\",\"Previous Owners_new\"]].sample(5)\n",
        "#burda bilgiler birbirine tutiyor \n",
        "#prv o=wner alinabilir icersi dogeriyle bosluklar dooldurulabilir\n",
        "# bunu keep yap digerinden daha anlamli"
      ],
      "metadata": {
        "colab": {
          "base_uri": "https://localhost:8080/",
          "height": 206
        },
        "id": "XM3bPAWWGT_e",
        "outputId": "6f0b5e98-96ee-4eef-eeb2-903fef6c0a71"
      },
      "execution_count": 23,
      "outputs": [
        {
          "output_type": "execute_result",
          "data": {
            "text/plain": [
              "             prev_owner Previous Owners_new\n",
              "10988  1 previous owner                    \n",
              "10778              None                 NaN\n",
              "13292  1 previous owner                    \n",
              "6251   1 previous owner                    \n",
              "332    1 previous owner                    "
            ],
            "text/html": [
              "\n",
              "  <div id=\"df-a3766208-dd04-481f-aada-1efba41c3991\">\n",
              "    <div class=\"colab-df-container\">\n",
              "      <div>\n",
              "<style scoped>\n",
              "    .dataframe tbody tr th:only-of-type {\n",
              "        vertical-align: middle;\n",
              "    }\n",
              "\n",
              "    .dataframe tbody tr th {\n",
              "        vertical-align: top;\n",
              "    }\n",
              "\n",
              "    .dataframe thead th {\n",
              "        text-align: right;\n",
              "    }\n",
              "</style>\n",
              "<table border=\"1\" class=\"dataframe\">\n",
              "  <thead>\n",
              "    <tr style=\"text-align: right;\">\n",
              "      <th></th>\n",
              "      <th>prev_owner</th>\n",
              "      <th>Previous Owners_new</th>\n",
              "    </tr>\n",
              "  </thead>\n",
              "  <tbody>\n",
              "    <tr>\n",
              "      <th>10988</th>\n",
              "      <td>1 previous owner</td>\n",
              "      <td></td>\n",
              "    </tr>\n",
              "    <tr>\n",
              "      <th>10778</th>\n",
              "      <td>None</td>\n",
              "      <td>NaN</td>\n",
              "    </tr>\n",
              "    <tr>\n",
              "      <th>13292</th>\n",
              "      <td>1 previous owner</td>\n",
              "      <td></td>\n",
              "    </tr>\n",
              "    <tr>\n",
              "      <th>6251</th>\n",
              "      <td>1 previous owner</td>\n",
              "      <td></td>\n",
              "    </tr>\n",
              "    <tr>\n",
              "      <th>332</th>\n",
              "      <td>1 previous owner</td>\n",
              "      <td></td>\n",
              "    </tr>\n",
              "  </tbody>\n",
              "</table>\n",
              "</div>\n",
              "      <button class=\"colab-df-convert\" onclick=\"convertToInteractive('df-a3766208-dd04-481f-aada-1efba41c3991')\"\n",
              "              title=\"Convert this dataframe to an interactive table.\"\n",
              "              style=\"display:none;\">\n",
              "        \n",
              "  <svg xmlns=\"http://www.w3.org/2000/svg\" height=\"24px\"viewBox=\"0 0 24 24\"\n",
              "       width=\"24px\">\n",
              "    <path d=\"M0 0h24v24H0V0z\" fill=\"none\"/>\n",
              "    <path d=\"M18.56 5.44l.94 2.06.94-2.06 2.06-.94-2.06-.94-.94-2.06-.94 2.06-2.06.94zm-11 1L8.5 8.5l.94-2.06 2.06-.94-2.06-.94L8.5 2.5l-.94 2.06-2.06.94zm10 10l.94 2.06.94-2.06 2.06-.94-2.06-.94-.94-2.06-.94 2.06-2.06.94z\"/><path d=\"M17.41 7.96l-1.37-1.37c-.4-.4-.92-.59-1.43-.59-.52 0-1.04.2-1.43.59L10.3 9.45l-7.72 7.72c-.78.78-.78 2.05 0 2.83L4 21.41c.39.39.9.59 1.41.59.51 0 1.02-.2 1.41-.59l7.78-7.78 2.81-2.81c.8-.78.8-2.07 0-2.86zM5.41 20L4 18.59l7.72-7.72 1.47 1.35L5.41 20z\"/>\n",
              "  </svg>\n",
              "      </button>\n",
              "      \n",
              "  <style>\n",
              "    .colab-df-container {\n",
              "      display:flex;\n",
              "      flex-wrap:wrap;\n",
              "      gap: 12px;\n",
              "    }\n",
              "\n",
              "    .colab-df-convert {\n",
              "      background-color: #E8F0FE;\n",
              "      border: none;\n",
              "      border-radius: 50%;\n",
              "      cursor: pointer;\n",
              "      display: none;\n",
              "      fill: #1967D2;\n",
              "      height: 32px;\n",
              "      padding: 0 0 0 0;\n",
              "      width: 32px;\n",
              "    }\n",
              "\n",
              "    .colab-df-convert:hover {\n",
              "      background-color: #E2EBFA;\n",
              "      box-shadow: 0px 1px 2px rgba(60, 64, 67, 0.3), 0px 1px 3px 1px rgba(60, 64, 67, 0.15);\n",
              "      fill: #174EA6;\n",
              "    }\n",
              "\n",
              "    [theme=dark] .colab-df-convert {\n",
              "      background-color: #3B4455;\n",
              "      fill: #D2E3FC;\n",
              "    }\n",
              "\n",
              "    [theme=dark] .colab-df-convert:hover {\n",
              "      background-color: #434B5C;\n",
              "      box-shadow: 0px 1px 3px 1px rgba(0, 0, 0, 0.15);\n",
              "      filter: drop-shadow(0px 1px 2px rgba(0, 0, 0, 0.3));\n",
              "      fill: #FFFFFF;\n",
              "    }\n",
              "  </style>\n",
              "\n",
              "      <script>\n",
              "        const buttonEl =\n",
              "          document.querySelector('#df-a3766208-dd04-481f-aada-1efba41c3991 button.colab-df-convert');\n",
              "        buttonEl.style.display =\n",
              "          google.colab.kernel.accessAllowed ? 'block' : 'none';\n",
              "\n",
              "        async function convertToInteractive(key) {\n",
              "          const element = document.querySelector('#df-a3766208-dd04-481f-aada-1efba41c3991');\n",
              "          const dataTable =\n",
              "            await google.colab.kernel.invokeFunction('convertToInteractive',\n",
              "                                                     [key], {});\n",
              "          if (!dataTable) return;\n",
              "\n",
              "          const docLinkHtml = 'Like what you see? Visit the ' +\n",
              "            '<a target=\"_blank\" href=https://colab.research.google.com/notebooks/data_table.ipynb>data table notebook</a>'\n",
              "            + ' to learn more about interactive tables.';\n",
              "          element.innerHTML = '';\n",
              "          dataTable['output_type'] = 'display_data';\n",
              "          await google.colab.output.renderOutput(dataTable, element);\n",
              "          const docLink = document.createElement('div');\n",
              "          docLink.innerHTML = docLinkHtml;\n",
              "          element.appendChild(docLink);\n",
              "        }\n",
              "      </script>\n",
              "    </div>\n",
              "  </div>\n",
              "  "
            ]
          },
          "metadata": {},
          "execution_count": 23
        }
      ]
    },
    {
      "cell_type": "code",
      "source": [
        "df[[\"prev_owner\",\"Previous Owners_new\"]].isnull().sum()"
      ],
      "metadata": {
        "colab": {
          "base_uri": "https://localhost:8080/"
        },
        "id": "opLWKdvxHFrs",
        "outputId": "b4b84e53-4b92-4f68-c61a-66e235be53d9"
      },
      "execution_count": 24,
      "outputs": [
        {
          "output_type": "execute_result",
          "data": {
            "text/plain": [
              "prev_owner             6828\n",
              "Previous Owners_new    6640\n",
              "dtype: int64"
            ]
          },
          "metadata": {},
          "execution_count": 24
        }
      ]
    },
    {
      "cell_type": "code",
      "source": [
        "df[\"prev_owner_new\"]=df[\"prev_owner\"].str[0]"
      ],
      "metadata": {
        "id": "udzsofTrHknn"
      },
      "execution_count": 25,
      "outputs": []
    },
    {
      "cell_type": "code",
      "source": [
        "df[\"prev_owner_new\"].value_counts()"
      ],
      "metadata": {
        "colab": {
          "base_uri": "https://localhost:8080/"
        },
        "id": "r8dlrp7OHzo3",
        "outputId": "f37cbfee-a7d4-4640-e097-f5a43588b489"
      },
      "execution_count": 26,
      "outputs": [
        {
          "output_type": "execute_result",
          "data": {
            "text/plain": [
              "1    8294\n",
              "2     778\n",
              "3      17\n",
              "4       2\n",
              "Name: prev_owner_new, dtype: int64"
            ]
          },
          "metadata": {},
          "execution_count": 26
        }
      ]
    },
    {
      "cell_type": "markdown",
      "source": [
        "**kW**"
      ],
      "metadata": {
        "id": "V6_kUugoFc_t"
      }
    },
    {
      "cell_type": "code",
      "source": [
        "df[\"kW\"].value_counts()#hepsi bosumus \n",
        "#direk drop et"
      ],
      "metadata": {
        "colab": {
          "base_uri": "https://localhost:8080/"
        },
        "id": "E9Koy822FVE1",
        "outputId": "ed2edc72-f9d7-4e4c-f656-197782b79701"
      },
      "execution_count": 16,
      "outputs": [
        {
          "output_type": "execute_result",
          "data": {
            "text/plain": [
              "Series([], Name: kW, dtype: int64)"
            ]
          },
          "metadata": {},
          "execution_count": 16
        }
      ]
    },
    {
      "cell_type": "code",
      "source": [
        "df[\"kW\"].isnull().sum()"
      ],
      "metadata": {
        "colab": {
          "base_uri": "https://localhost:8080/"
        },
        "id": "msTkjOn0Frss",
        "outputId": "8f49c2da-e971-402a-be4c-71a37130a830"
      },
      "execution_count": 17,
      "outputs": [
        {
          "output_type": "execute_result",
          "data": {
            "text/plain": [
              "15919"
            ]
          },
          "metadata": {},
          "execution_count": 17
        }
      ]
    },
    {
      "cell_type": "markdown",
      "source": [
        "**HP**"
      ],
      "metadata": {
        "id": "gdso7eicFVt9"
      }
    },
    {
      "cell_type": "code",
      "source": [
        "df[\"hp\"].value_counts()\n",
        "#hp kolonu km ye donusucek \n",
        "#keep et bunu"
      ],
      "metadata": {
        "colab": {
          "base_uri": "https://localhost:8080/"
        },
        "id": "m624eNVRE222",
        "outputId": "49bd6055-fbde-4654-a1bb-65af194fa4f5"
      },
      "execution_count": 13,
      "outputs": [
        {
          "output_type": "execute_result",
          "data": {
            "text/plain": [
              "85 kW     2542\n",
              "66 kW     2122\n",
              "81 kW     1402\n",
              "100 kW    1308\n",
              "110 kW    1112\n",
              "70 kW      888\n",
              "125 kW     707\n",
              "51 kW      695\n",
              "55 kW      569\n",
              "118 kW     516\n",
              "92 kW      466\n",
              "121 kW     392\n",
              "147 kW     380\n",
              "77 kW      345\n",
              "56 kW      286\n",
              "54 kW      276\n",
              "103 kW     253\n",
              "87 kW      232\n",
              "165 kW     194\n",
              "88 kW      177\n",
              "60 kW      160\n",
              "162 kW      98\n",
              "- kW        88\n",
              "74 kW       81\n",
              "96 kW       72\n",
              "71 kW       59\n",
              "101 kW      47\n",
              "67 kW       40\n",
              "154 kW      39\n",
              "122 kW      35\n",
              "119 kW      30\n",
              "164 kW      27\n",
              "135 kW      24\n",
              "82 kW       22\n",
              "52 kW       22\n",
              "78 kW       20\n",
              "1 kW        20\n",
              "294 kW      18\n",
              "146 kW      18\n",
              "141 kW      16\n",
              "57 kW       10\n",
              "104 kW       8\n",
              "120 kW       8\n",
              "191 kW       7\n",
              "112 kW       7\n",
              "155 kW       6\n",
              "117 kW       6\n",
              "184 kW       5\n",
              "90 kW        4\n",
              "76 kW        4\n",
              "65 kW        4\n",
              "149 kW       3\n",
              "80 kW        3\n",
              "168 kW       3\n",
              "98 kW        3\n",
              "93 kW        3\n",
              "228 kW       2\n",
              "270 kW       2\n",
              "53 kW        2\n",
              "140 kW       2\n",
              "86 kW        2\n",
              "167 kW       2\n",
              "127 kW       2\n",
              "89 kW        2\n",
              "143 kW       2\n",
              "63 kW        2\n",
              "40 kW        2\n",
              "150 kW       2\n",
              "163 kW       1\n",
              "115 kW       1\n",
              "132 kW       1\n",
              "75 kW        1\n",
              "4 kW         1\n",
              "137 kW       1\n",
              "123 kW       1\n",
              "133 kW       1\n",
              "84 kW        1\n",
              "195 kW       1\n",
              "44 kW        1\n",
              "239 kW       1\n",
              "9 kW         1\n",
              "Name: hp, dtype: int64"
            ]
          },
          "metadata": {},
          "execution_count": 13
        }
      ]
    },
    {
      "cell_type": "code",
      "source": [
        "df[\"hp_new\"] = df[\"hp\"].str.strip(\" kW\")\n",
        "\n",
        "df[\"hp_new\"].value_counts()"
      ],
      "metadata": {
        "colab": {
          "base_uri": "https://localhost:8080/"
        },
        "id": "T1yjUUlgFR8v",
        "outputId": "d10411fd-77b4-45be-98dc-ba0cf812ea3e"
      },
      "execution_count": 14,
      "outputs": [
        {
          "output_type": "execute_result",
          "data": {
            "text/plain": [
              "85     2542\n",
              "66     2122\n",
              "81     1402\n",
              "100    1308\n",
              "110    1112\n",
              "70      888\n",
              "125     707\n",
              "51      695\n",
              "55      569\n",
              "118     516\n",
              "92      466\n",
              "121     392\n",
              "147     380\n",
              "77      345\n",
              "56      286\n",
              "54      276\n",
              "103     253\n",
              "87      232\n",
              "165     194\n",
              "88      177\n",
              "60      160\n",
              "162      98\n",
              "-        88\n",
              "74       81\n",
              "96       72\n",
              "71       59\n",
              "101      47\n",
              "67       40\n",
              "154      39\n",
              "122      35\n",
              "119      30\n",
              "164      27\n",
              "135      24\n",
              "82       22\n",
              "52       22\n",
              "78       20\n",
              "1        20\n",
              "294      18\n",
              "146      18\n",
              "141      16\n",
              "57       10\n",
              "104       8\n",
              "120       8\n",
              "191       7\n",
              "112       7\n",
              "155       6\n",
              "117       6\n",
              "184       5\n",
              "90        4\n",
              "76        4\n",
              "65        4\n",
              "149       3\n",
              "80        3\n",
              "168       3\n",
              "98        3\n",
              "93        3\n",
              "228       2\n",
              "270       2\n",
              "53        2\n",
              "140       2\n",
              "86        2\n",
              "167       2\n",
              "127       2\n",
              "89        2\n",
              "143       2\n",
              "63        2\n",
              "40        2\n",
              "150       2\n",
              "163       1\n",
              "115       1\n",
              "132       1\n",
              "75        1\n",
              "4         1\n",
              "137       1\n",
              "123       1\n",
              "133       1\n",
              "84        1\n",
              "195       1\n",
              "44        1\n",
              "239       1\n",
              "9         1\n",
              "Name: hp_new, dtype: int64"
            ]
          },
          "metadata": {},
          "execution_count": 14
        }
      ]
    },
    {
      "cell_type": "markdown",
      "source": [
        "**TYPE**"
      ],
      "metadata": {
        "id": "Fo3TqV_6E6ak"
      }
    },
    {
      "cell_type": "code",
      "source": [
        "df[\"Type\"].value_counts()\n",
        "#arac sifir mi ikinci elmi "
      ],
      "metadata": {
        "colab": {
          "base_uri": "https://localhost:8080/",
          "height": 426
        },
        "id": "LjWkt7DjE2zE",
        "outputId": "6d739674-c095-4a02-a9ae-3ce07c4874fb"
      },
      "execution_count": 68,
      "outputs": [
        {
          "output_type": "error",
          "ename": "TypeError",
          "evalue": "ignored",
          "traceback": [
            "\u001b[0;31m---------------------------------------------------------------------------\u001b[0m",
            "\u001b[0;31mTypeError\u001b[0m                                 Traceback (most recent call last)",
            "\u001b[0;32mpandas/_libs/hashtable_class_helper.pxi\u001b[0m in \u001b[0;36mpandas._libs.hashtable.PyObjectHashTable.map_locations\u001b[0;34m()\u001b[0m\n",
            "\u001b[0;31mTypeError\u001b[0m: unhashable type: 'list'"
          ]
        },
        {
          "output_type": "stream",
          "name": "stderr",
          "text": [
            "Exception ignored in: 'pandas._libs.index.IndexEngine._call_map_locations'\n",
            "Traceback (most recent call last):\n",
            "  File \"pandas/_libs/hashtable_class_helper.pxi\", line 5231, in pandas._libs.hashtable.PyObjectHashTable.map_locations\n",
            "TypeError: unhashable type: 'list'\n"
          ]
        },
        {
          "output_type": "execute_result",
          "data": {
            "text/plain": [
              "[, Used, , Diesel (Particulate Filter)]                                                                                 3475\n",
              "[, Used, , Diesel]                                                                                                      2516\n",
              "[, Used, , Gasoline]                                                                                                    2367\n",
              "[, Used, , Super 95]                                                                                                    1818\n",
              "[, Pre-registered, , Super 95]                                                                                           500\n",
              "                                                                                                                        ... \n",
              "[, New, , Regular/Benzine 91 / Super 95 / Super Plus 98 / Regular/Benzine E10 91 / Super Plus E10 98 / Super E10 95]       1\n",
              "[, Used, , Super 95 / Super Plus 98 / Super E10 95 / Super Plus E10 98 (Particulate Filter)]                               1\n",
              "[, Demonstration, , Super Plus 98]                                                                                         1\n",
              "[, New, , Super Plus E10 98]                                                                                               1\n",
              "[, Demonstration, , Regular/Benzine E10 91]                                                                                1\n",
              "Name: Type, Length: 169, dtype: int64"
            ]
          },
          "metadata": {},
          "execution_count": 68
        }
      ]
    },
    {
      "cell_type": "code",
      "source": [
        "df[\"Type_new\"] =  df[\"Type\"].str[1]\n",
        "df[\"Type_new\"].value_counts()"
      ],
      "metadata": {
        "colab": {
          "base_uri": "https://localhost:8080/"
        },
        "id": "hQlTDccKE2qv",
        "outputId": "2f934be0-7b1a-47ae-9d4a-511cea423f63"
      },
      "execution_count": 69,
      "outputs": [
        {
          "output_type": "execute_result",
          "data": {
            "text/plain": [
              "Used              11096\n",
              "New                1650\n",
              "Pre-registered     1364\n",
              "Employee's car     1011\n",
              "Demonstration       796\n",
              "Name: Type_new, dtype: int64"
            ]
          },
          "metadata": {},
          "execution_count": 69
        }
      ]
    },
    {
      "cell_type": "code",
      "source": [
        "used = ['Used', \"Employee's car\", 'Demonstration']\n",
        "new = [\"New\", \"Pre-registered\"]"
      ],
      "metadata": {
        "id": "vkp1169Wzyf2"
      },
      "execution_count": 70,
      "outputs": []
    },
    {
      "cell_type": "code",
      "source": [
        "def usage(x):\n",
        "    if x in used:\n",
        "        x = \"Used\"\n",
        "    elif x in new:\n",
        "        x = \"New\"\n",
        "    return x"
      ],
      "metadata": {
        "id": "PYbKgnNHzyYN"
      },
      "execution_count": 71,
      "outputs": []
    },
    {
      "cell_type": "code",
      "source": [
        "df[\"Type_new\"] = df[\"Type_new\"].apply(usage)\n",
        "df[\"Type_new\"].value_counts(dropna=False)"
      ],
      "metadata": {
        "colab": {
          "base_uri": "https://localhost:8080/"
        },
        "id": "lDQnM-AGz_iw",
        "outputId": "e55a732f-78ec-45c4-c4d2-c51fa4258d86"
      },
      "execution_count": 72,
      "outputs": [
        {
          "output_type": "execute_result",
          "data": {
            "text/plain": [
              "Used    12903\n",
              "New      3014\n",
              "NaN         2\n",
              "Name: Type_new, dtype: int64"
            ]
          },
          "metadata": {},
          "execution_count": 72
        }
      ]
    },
    {
      "cell_type": "markdown",
      "source": [
        "**Previous Owners**"
      ],
      "metadata": {
        "id": "pZD5yejRETzj"
      }
    },
    {
      "cell_type": "code",
      "source": [
        "df[\"Previous Owners\"].isnull().value_counts()\n",
        "#yukarda prev ovner diye iliskili oldugu sutun var onu keep edelim dedik\n",
        "#dolayisiyla bu drop olacak"
      ],
      "metadata": {
        "colab": {
          "base_uri": "https://localhost:8080/"
        },
        "id": "EUeDFBrVEStW",
        "outputId": "7732d74d-d3a5-4823-b109-3aca29668b31"
      },
      "execution_count": 9,
      "outputs": [
        {
          "output_type": "execute_result",
          "data": {
            "text/plain": [
              "False    9279\n",
              "True     6640\n",
              "Name: Previous Owners, dtype: int64"
            ]
          },
          "metadata": {},
          "execution_count": 9
        }
      ]
    },
    {
      "cell_type": "code",
      "source": [
        "df['Previous Owners_new'] = df['Previous Owners'].apply(take_1).replace(\"\\\\n\", \"\", regex=True)\n",
        "df['Previous Owners_new'].value_counts()"
      ],
      "metadata": {
        "colab": {
          "base_uri": "https://localhost:8080/"
        },
        "id": "GREdyzs-ESpN",
        "outputId": "0828ebaa-a1e8-42c3-9aec-c8d436f31edc"
      },
      "execution_count": 10,
      "outputs": [
        {
          "output_type": "execute_result",
          "data": {
            "text/plain": [
              "     9049\n",
              "1     193\n",
              "0      25\n",
              "2      12\n",
              "Name: Previous Owners_new, dtype: int64"
            ]
          },
          "metadata": {},
          "execution_count": 10
        }
      ]
    },
    {
      "cell_type": "code",
      "source": [
        ""
      ],
      "metadata": {
        "id": "DqPD8f38Cumn"
      },
      "execution_count": null,
      "outputs": []
    },
    {
      "cell_type": "markdown",
      "source": [
        "**Next Inspection**"
      ],
      "metadata": {
        "id": "V1RiZLobELlz"
      }
    },
    {
      "cell_type": "code",
      "source": [
        ""
      ],
      "metadata": {
        "id": "6PO3S7g3ELV1"
      },
      "execution_count": null,
      "outputs": []
    },
    {
      "cell_type": "code",
      "source": [
        "df[\"Next Inspection\"].isnull().value_counts()\n",
        "# Muayne bilgisi fiyata ettiki etmeyen bir parametre olduğu için sutün'u düşürmek yerinde bir karar olur.\n",
        "# Eğer fiyata ettiki etseydi, sutünün %77'sinin null değer olmasına rağmen düşürmek yerine değerleri anlamlı bir şekide doldurmaya çalışırdık.\n",
        "#drop edilsin cok iliskili degil anlamli yok"
      ],
      "metadata": {
        "colab": {
          "base_uri": "https://localhost:8080/"
        },
        "id": "k-6KvOvYCuin",
        "outputId": "3edcae7f-a7ef-4613-a05d-0f05e7f1d453"
      },
      "execution_count": 11,
      "outputs": [
        {
          "output_type": "execute_result",
          "data": {
            "text/plain": [
              "True     12384\n",
              "False     3535\n",
              "Name: Next Inspection, dtype: int64"
            ]
          },
          "metadata": {},
          "execution_count": 11
        }
      ]
    },
    {
      "cell_type": "markdown",
      "source": [
        "**Inspection new**"
      ],
      "metadata": {
        "id": "NulHEc6MDeiB"
      }
    },
    {
      "cell_type": "code",
      "source": [
        "df[\"Inspection new\"].isnull().value_counts()\n",
        "# Muayne bilgisi fiyata ettiki etmeyen bir parametre olduğu için sutün'u düşürmek yerinde bir karar olur.\n",
        "#icinde yes 102 co2 flan gibi degerler var\n",
        "# Eğer fiyata ettiki etseydi, sutünün %75'nin null değer olmasına rağmen düşürmek yerine değerleri anlamlı bir şekide doldurmaya çalışırdık.\n",
        "#drop edilsin anlamli veri yok"
      ],
      "metadata": {
        "id": "ZWDxmPT7CuYy"
      },
      "execution_count": null,
      "outputs": []
    },
    {
      "cell_type": "code",
      "source": [
        "df[\"Inspection new\"].sample()"
      ],
      "metadata": {
        "colab": {
          "base_uri": "https://localhost:8080/"
        },
        "id": "PL2OQ7upDuK7",
        "outputId": "e5d2cd89-a77e-439a-c658-0f5e2bbc5f71"
      },
      "execution_count": 12,
      "outputs": [
        {
          "output_type": "execute_result",
          "data": {
            "text/plain": [
              "9972    NaN\n",
              "Name: Inspection new, dtype: object"
            ]
          },
          "metadata": {},
          "execution_count": 12
        }
      ]
    },
    {
      "cell_type": "markdown",
      "source": [
        "**Warranty**"
      ],
      "metadata": {
        "id": "PAdVutWCeguV"
      }
    },
    {
      "cell_type": "code",
      "source": [
        "df[\"Warranty\"].value_counts() \n",
        "# ??? biz icinden aylari cektik ama icinde axra bilgiler var \n",
        "#country km falan bu diger sutunlarin doldurulmasinda yararli olur mu?\n",
        "#keep "
      ],
      "metadata": {
        "colab": {
          "base_uri": "https://localhost:8080/",
          "height": 426
        },
        "id": "eLXLR1R_egYU",
        "outputId": "de9f907f-ea96-48f9-a9d7-28a20590df11"
      },
      "execution_count": 237,
      "outputs": [
        {
          "output_type": "error",
          "ename": "TypeError",
          "evalue": "ignored",
          "traceback": [
            "\u001b[0;31m---------------------------------------------------------------------------\u001b[0m",
            "\u001b[0;31mTypeError\u001b[0m                                 Traceback (most recent call last)",
            "\u001b[0;32mpandas/_libs/hashtable_class_helper.pxi\u001b[0m in \u001b[0;36mpandas._libs.hashtable.PyObjectHashTable.map_locations\u001b[0;34m()\u001b[0m\n",
            "\u001b[0;31mTypeError\u001b[0m: unhashable type: 'list'"
          ]
        },
        {
          "output_type": "stream",
          "name": "stderr",
          "text": [
            "Exception ignored in: 'pandas._libs.index.IndexEngine._call_map_locations'\n",
            "Traceback (most recent call last):\n",
            "  File \"pandas/_libs/hashtable_class_helper.pxi\", line 5231, in pandas._libs.hashtable.PyObjectHashTable.map_locations\n",
            "TypeError: unhashable type: 'list'\n"
          ]
        },
        {
          "output_type": "execute_result",
          "data": {
            "text/plain": [
              "[\\n, \\n, \\nEuro 6\\n]                                                                               1868\n",
              "\\n12 months\\n                                                                                      1177\n",
              "\\n                                                                                                  979\n",
              "\\n24 months\\n                                                                                       566\n",
              "[\\n, \\n, \\n4 (Green)\\n]                                                                             517\n",
              "                                                                                                   ... \n",
              "[\\n72 months\\n, \\n125 g CO2/km (comb)\\n]                                                              1\n",
              "[\\n60 months\\n, \\n14 g CO2/km (comb)\\n]                                                               1\n",
              "[\\n24 months\\n, \\n121 g CO2/km (comb)\\n]                                                              1\n",
              "[\\n12 months\\n, \\nEuro 6d\\n]                                                                          1\n",
              "[\\n36 months\\n, \\n, 7.4 l/100 km (comb), \\n, 9.6 l/100 km (city), \\n, 6 l/100 km (country), \\n]       1\n",
              "Name: Warranty, Length: 515, dtype: int64"
            ]
          },
          "metadata": {},
          "execution_count": 237
        }
      ]
    },
    {
      "cell_type": "code",
      "source": [
        "def take_1(x):\n",
        "    if type(x)==float: \n",
        "        return np.nan \n",
        "    elif type(x[0])==list:\n",
        "        return np.nan\n",
        "    else:\n",
        "        return x[0]"
      ],
      "metadata": {
        "id": "yvraWFOAfXiS"
      },
      "execution_count": 1,
      "outputs": []
    },
    {
      "cell_type": "code",
      "source": [
        "df['Warranty_new'] = df['Warranty'].apply(take_1).replace(\"\\\\n\", \"\", regex=True)\n",
        "df['Warranty']"
      ],
      "metadata": {
        "colab": {
          "base_uri": "https://localhost:8080/"
        },
        "id": "UC7eh7LNegUZ",
        "outputId": "432b08b7-536c-467a-9a41-2e3b0930ac2f"
      },
      "execution_count": 87,
      "outputs": [
        {
          "output_type": "execute_result",
          "data": {
            "text/plain": [
              "0                 [\\n, \\n, \\n4 (Green)\\n]\n",
              "1                                     NaN\n",
              "2        [\\n, \\n, \\n99 g CO2/km (comb)\\n]\n",
              "3                                     NaN\n",
              "4                    [\\n, \\n, \\nEuro 6\\n]\n",
              "                       ...               \n",
              "15914                       \\n24 months\\n\n",
              "15915                [\\n, \\n, \\nEuro 6\\n]\n",
              "15916             [\\n, \\n, \\n4 (Green)\\n]\n",
              "15917                                  \\n\n",
              "15918                                 NaN\n",
              "Name: Warranty, Length: 15919, dtype: object"
            ]
          },
          "metadata": {},
          "execution_count": 87
        }
      ]
    },
    {
      "cell_type": "code",
      "source": [
        "df[\"Warranty_new\"].value_counts() "
      ],
      "metadata": {
        "colab": {
          "base_uri": "https://localhost:8080/"
        },
        "id": "RHElHsAcedX6",
        "outputId": "68f8f513-6311-4a34-856f-ec9e438709ee"
      },
      "execution_count": 88,
      "outputs": [
        {
          "output_type": "execute_result",
          "data": {
            "text/plain": [
              "             7703\n",
              "12 months    1417\n",
              "24 months     552\n",
              "60 months     382\n",
              "36 months     223\n",
              "6 months       49\n",
              "72 months      44\n",
              "48 months      40\n",
              "3 months       14\n",
              "23 months      10\n",
              "18 months       7\n",
              "20 months       7\n",
              "25 months       5\n",
              "50 months       4\n",
              "16 months       4\n",
              "2 months        4\n",
              "34 months       3\n",
              "1 months        2\n",
              "11 months       2\n",
              "14 months       2\n",
              "45 months       2\n",
              "22 months       2\n",
              "21 months       2\n",
              "17 months       2\n",
              "46 months       2\n",
              "26 months       2\n",
              "13 months       2\n",
              "65 months       1\n",
              "33 months       1\n",
              "28 months       1\n",
              "15 months       1\n",
              "7 months        1\n",
              "19 months       1\n",
              "10 months       1\n",
              "56 months       1\n",
              "49 months       1\n",
              "47 months       1\n",
              "40 months       1\n",
              "Name: Warranty_new, dtype: int64"
            ]
          },
          "metadata": {},
          "execution_count": 88
        }
      ]
    },
    {
      "cell_type": "code",
      "source": [
        ""
      ],
      "metadata": {
        "id": "h3czrRXw1WD2"
      },
      "execution_count": null,
      "outputs": []
    },
    {
      "cell_type": "markdown",
      "source": [
        "**Full Service**"
      ],
      "metadata": {
        "id": "P-xYH1Cgcv_g"
      }
    },
    {
      "cell_type": "code",
      "source": [
        "df[\"Full Service\"].value_counts() \n",
        "#non smoking ile bilgileri benzer \n",
        "#fill islemi icinde yararli\\\n",
        "#keep "
      ],
      "metadata": {
        "colab": {
          "base_uri": "https://localhost:8080/",
          "height": 426
        },
        "id": "BpRkqTZ5cvpH",
        "outputId": "0b8326d8-dcc8-44b4-db2d-0c5cc8273476"
      },
      "execution_count": 82,
      "outputs": [
        {
          "output_type": "error",
          "ename": "TypeError",
          "evalue": "ignored",
          "traceback": [
            "\u001b[0;31m---------------------------------------------------------------------------\u001b[0m",
            "\u001b[0;31mTypeError\u001b[0m                                 Traceback (most recent call last)",
            "\u001b[0;32mpandas/_libs/hashtable_class_helper.pxi\u001b[0m in \u001b[0;36mpandas._libs.hashtable.PyObjectHashTable.map_locations\u001b[0;34m()\u001b[0m\n",
            "\u001b[0;31mTypeError\u001b[0m: unhashable type: 'list'"
          ]
        },
        {
          "output_type": "stream",
          "name": "stderr",
          "text": [
            "Exception ignored in: 'pandas._libs.index.IndexEngine._call_map_locations'\n",
            "Traceback (most recent call last):\n",
            "  File \"pandas/_libs/hashtable_class_helper.pxi\", line 5231, in pandas._libs.hashtable.PyObjectHashTable.map_locations\n",
            "TypeError: unhashable type: 'list'\n"
          ]
        },
        {
          "output_type": "execute_result",
          "data": {
            "text/plain": [
              "[\\n, \\n, \\n4 (Green)\\n]                                                                       2235\n",
              "[\\n, \\n, \\nEuro 6\\n]                                                                          2097\n",
              "[\\n, \\n]                                                                                      1702\n",
              "[\\n, \\n, \\nEuro 6d-TEMP\\n]                                                                     399\n",
              "\\n                                                                                             283\n",
              "                                                                                              ... \n",
              "[\\n, \\n, \\n, 6 l/100 km (comb), \\n, 8 l/100 km (city), \\n, 4.9 l/100 km (country), \\n]           1\n",
              "[\\n, \\n, \\n84 g CO2/km (comb)\\n]                                                                 1\n",
              "[\\n, \\n, \\n87 g CO2/km (comb)\\n]                                                                 1\n",
              "[\\n, \\n, \\n, 5.7 l/100 km (comb), \\n, 7.3 l/100 km (city), \\n, 4.9 l/100 km (country), \\n]       1\n",
              "[\\n, \\n, \\nEuro 4\\n]                                                                             1\n",
              "Name: Full Service, Length: 122, dtype: int64"
            ]
          },
          "metadata": {},
          "execution_count": 82
        }
      ]
    },
    {
      "cell_type": "code",
      "source": [
        "df[\"Full Service_new\"] =df[\"Full Service\"].str[2].str.strip(\"\\n\")"
      ],
      "metadata": {
        "id": "a7_ZLtROcvlT"
      },
      "execution_count": 83,
      "outputs": []
    },
    {
      "cell_type": "code",
      "source": [
        "df[\"Full Service_new\"].value_counts()"
      ],
      "metadata": {
        "colab": {
          "base_uri": "https://localhost:8080/"
        },
        "id": "BZWuJwlvcvhO",
        "outputId": "01e51cdd-f4c5-4fbe-ad86-02c88c878bc2"
      },
      "execution_count": 84,
      "outputs": [
        {
          "output_type": "execute_result",
          "data": {
            "text/plain": [
              "4 (Green)                 2235\n",
              "Euro 6                    2097\n",
              "Euro 6d-TEMP               399\n",
              "120 g CO2/km (comb)        105\n",
              "126 g CO2/km (comb)         84\n",
              "104 g CO2/km (comb)         77\n",
              "97 g CO2/km (comb)          76\n",
              "124 g CO2/km (comb)         61\n",
              "99 g CO2/km (comb)          60\n",
              "128 g CO2/km (comb)         53\n",
              "119 g CO2/km (comb)         49\n",
              "                            40\n",
              "140 g CO2/km (comb)         39\n",
              "106 g CO2/km (comb)         38\n",
              "92 g CO2/km (comb)          33\n",
              "107 g CO2/km (comb)         32\n",
              "114 g CO2/km (comb)         31\n",
              "102 g CO2/km (comb)         29\n",
              "103 g CO2/km (comb)         29\n",
              "1 (No sticker)              29\n",
              "Euro 6c                     28\n",
              "117 g CO2/km (comb)         24\n",
              "139 g CO2/km (comb)         24\n",
              "127 g CO2/km (comb)         23\n",
              "141 g CO2/km (comb)         22\n",
              "136 g CO2/km (comb)         20\n",
              "85 g CO2/km (comb)          20\n",
              "125 g CO2/km (comb)         20\n",
              "108 g CO2/km (comb)         19\n",
              "112 g CO2/km (comb)         18\n",
              "109 g CO2/km (comb)         17\n",
              "5 (Blue)                    17\n",
              "150 g CO2/km (comb)         16\n",
              "129 g CO2/km (comb)         16\n",
              "130 g CO2/km (comb)         15\n",
              "154 g CO2/km (comb)         15\n",
              "133 g CO2/km (comb)         15\n",
              "113 g CO2/km (comb)         15\n",
              "135 g CO2/km (comb)         14\n",
              "116 g CO2/km (comb)         13\n",
              "110 g CO2/km (comb)         13\n",
              "123 g CO2/km (comb)         12\n",
              "137 g CO2/km (comb)         12\n",
              "143 g CO2/km (comb)         12\n",
              "105 g CO2/km (comb)         11\n",
              "Euro 6d                     11\n",
              "132 g CO2/km (comb)         10\n",
              "95 g CO2/km (comb)          10\n",
              "101 g CO2/km (comb)         10\n",
              "118 g CO2/km (comb)         10\n",
              "91 g CO2/km (comb)           9\n",
              "111 g CO2/km (comb)          9\n",
              "147 g CO2/km (comb)          9\n",
              "149 g CO2/km (comb)          9\n",
              "145 g CO2/km (comb)          8\n",
              "Euro 5                       8\n",
              "121 g CO2/km (comb)          7\n",
              "96 g CO2/km (comb)           6\n",
              "82 g CO2/km (comb)           5\n",
              "142 g CO2/km (comb)          5\n",
              "134 g CO2/km (comb)          5\n",
              "138 g CO2/km (comb)          5\n",
              "131 g CO2/km (comb)          4\n",
              "89 g CO2/km (comb)           4\n",
              "189 g CO2/km (comb)          4\n",
              "148 g CO2/km (comb)          4\n",
              "152 g CO2/km (comb)          3\n",
              "151 g CO2/km (comb)          3\n",
              "94 g CO2/km (comb)           3\n",
              "153 g CO2/km (comb)          3\n",
              "115 g CO2/km (comb)          3\n",
              "122 g CO2/km (comb)          3\n",
              "98 g CO2/km (comb)           3\n",
              "169 g CO2/km (comb)          2\n",
              "166 g CO2/km (comb)          2\n",
              "157 g CO2/km (comb)          2\n",
              "93 g CO2/km (comb)           2\n",
              "144 g CO2/km (comb)          2\n",
              "146 g CO2/km (comb)          2\n",
              "88 g CO2/km (comb)           2\n",
              "90 g CO2/km (comb)           2\n",
              "188 g CO2/km (comb)          2\n",
              "0 kWh/100 km (comb)          2\n",
              "87 g CO2/km (comb)           1\n",
              "84 g CO2/km (comb)           1\n",
              "80 g CO2/km (comb)           1\n",
              "156 g CO2/km (comb)          1\n",
              "159 g CO2/km (comb)          1\n",
              "253 g CO2/km (comb)          1\n",
              "164 g CO2/km (comb)          1\n",
              "13,983 g CO2/km (comb)       1\n",
              "197 g CO2/km (comb)          1\n",
              "Euro 4                       1\n",
              "Name: Full Service_new, dtype: int64"
            ]
          },
          "metadata": {},
          "execution_count": 84
        }
      ]
    },
    {
      "cell_type": "code",
      "source": [
        "df[[\"Non-smoking Vehicle_new\",\"Full Service_new\",\"Warranty_new\"]].sample(5)\n",
        "#burda bunlarin icndeki bilgiler benzer gibi bunlar eger drop edilmeyecekse birbirleri ile doldurularbilir"
      ],
      "metadata": {
        "colab": {
          "base_uri": "https://localhost:8080/",
          "height": 206
        },
        "id": "HzPRMAAUdRVC",
        "outputId": "43048d2a-c002-4157-f856-9c07a6eb2444"
      },
      "execution_count": 89,
      "outputs": [
        {
          "output_type": "execute_result",
          "data": {
            "text/plain": [
              "      Non-smoking Vehicle_new     Full Service_new Warranty_new\n",
              "12269                     NaN                  NaN             \n",
              "12476               4 (Green)         Euro 6d-TEMP             \n",
              "10986                  Euro 6  147 g CO2/km (comb)          NaN\n",
              "8230                4 (Green)               Euro 6    60 months\n",
              "9332                      NaN                  NaN          NaN"
            ],
            "text/html": [
              "\n",
              "  <div id=\"df-f0f33548-b403-4994-b317-47c69f78e2e1\">\n",
              "    <div class=\"colab-df-container\">\n",
              "      <div>\n",
              "<style scoped>\n",
              "    .dataframe tbody tr th:only-of-type {\n",
              "        vertical-align: middle;\n",
              "    }\n",
              "\n",
              "    .dataframe tbody tr th {\n",
              "        vertical-align: top;\n",
              "    }\n",
              "\n",
              "    .dataframe thead th {\n",
              "        text-align: right;\n",
              "    }\n",
              "</style>\n",
              "<table border=\"1\" class=\"dataframe\">\n",
              "  <thead>\n",
              "    <tr style=\"text-align: right;\">\n",
              "      <th></th>\n",
              "      <th>Non-smoking Vehicle_new</th>\n",
              "      <th>Full Service_new</th>\n",
              "      <th>Warranty_new</th>\n",
              "    </tr>\n",
              "  </thead>\n",
              "  <tbody>\n",
              "    <tr>\n",
              "      <th>12269</th>\n",
              "      <td>NaN</td>\n",
              "      <td>NaN</td>\n",
              "      <td></td>\n",
              "    </tr>\n",
              "    <tr>\n",
              "      <th>12476</th>\n",
              "      <td>4 (Green)</td>\n",
              "      <td>Euro 6d-TEMP</td>\n",
              "      <td></td>\n",
              "    </tr>\n",
              "    <tr>\n",
              "      <th>10986</th>\n",
              "      <td>Euro 6</td>\n",
              "      <td>147 g CO2/km (comb)</td>\n",
              "      <td>NaN</td>\n",
              "    </tr>\n",
              "    <tr>\n",
              "      <th>8230</th>\n",
              "      <td>4 (Green)</td>\n",
              "      <td>Euro 6</td>\n",
              "      <td>60 months</td>\n",
              "    </tr>\n",
              "    <tr>\n",
              "      <th>9332</th>\n",
              "      <td>NaN</td>\n",
              "      <td>NaN</td>\n",
              "      <td>NaN</td>\n",
              "    </tr>\n",
              "  </tbody>\n",
              "</table>\n",
              "</div>\n",
              "      <button class=\"colab-df-convert\" onclick=\"convertToInteractive('df-f0f33548-b403-4994-b317-47c69f78e2e1')\"\n",
              "              title=\"Convert this dataframe to an interactive table.\"\n",
              "              style=\"display:none;\">\n",
              "        \n",
              "  <svg xmlns=\"http://www.w3.org/2000/svg\" height=\"24px\"viewBox=\"0 0 24 24\"\n",
              "       width=\"24px\">\n",
              "    <path d=\"M0 0h24v24H0V0z\" fill=\"none\"/>\n",
              "    <path d=\"M18.56 5.44l.94 2.06.94-2.06 2.06-.94-2.06-.94-.94-2.06-.94 2.06-2.06.94zm-11 1L8.5 8.5l.94-2.06 2.06-.94-2.06-.94L8.5 2.5l-.94 2.06-2.06.94zm10 10l.94 2.06.94-2.06 2.06-.94-2.06-.94-.94-2.06-.94 2.06-2.06.94z\"/><path d=\"M17.41 7.96l-1.37-1.37c-.4-.4-.92-.59-1.43-.59-.52 0-1.04.2-1.43.59L10.3 9.45l-7.72 7.72c-.78.78-.78 2.05 0 2.83L4 21.41c.39.39.9.59 1.41.59.51 0 1.02-.2 1.41-.59l7.78-7.78 2.81-2.81c.8-.78.8-2.07 0-2.86zM5.41 20L4 18.59l7.72-7.72 1.47 1.35L5.41 20z\"/>\n",
              "  </svg>\n",
              "      </button>\n",
              "      \n",
              "  <style>\n",
              "    .colab-df-container {\n",
              "      display:flex;\n",
              "      flex-wrap:wrap;\n",
              "      gap: 12px;\n",
              "    }\n",
              "\n",
              "    .colab-df-convert {\n",
              "      background-color: #E8F0FE;\n",
              "      border: none;\n",
              "      border-radius: 50%;\n",
              "      cursor: pointer;\n",
              "      display: none;\n",
              "      fill: #1967D2;\n",
              "      height: 32px;\n",
              "      padding: 0 0 0 0;\n",
              "      width: 32px;\n",
              "    }\n",
              "\n",
              "    .colab-df-convert:hover {\n",
              "      background-color: #E2EBFA;\n",
              "      box-shadow: 0px 1px 2px rgba(60, 64, 67, 0.3), 0px 1px 3px 1px rgba(60, 64, 67, 0.15);\n",
              "      fill: #174EA6;\n",
              "    }\n",
              "\n",
              "    [theme=dark] .colab-df-convert {\n",
              "      background-color: #3B4455;\n",
              "      fill: #D2E3FC;\n",
              "    }\n",
              "\n",
              "    [theme=dark] .colab-df-convert:hover {\n",
              "      background-color: #434B5C;\n",
              "      box-shadow: 0px 1px 3px 1px rgba(0, 0, 0, 0.15);\n",
              "      filter: drop-shadow(0px 1px 2px rgba(0, 0, 0, 0.3));\n",
              "      fill: #FFFFFF;\n",
              "    }\n",
              "  </style>\n",
              "\n",
              "      <script>\n",
              "        const buttonEl =\n",
              "          document.querySelector('#df-f0f33548-b403-4994-b317-47c69f78e2e1 button.colab-df-convert');\n",
              "        buttonEl.style.display =\n",
              "          google.colab.kernel.accessAllowed ? 'block' : 'none';\n",
              "\n",
              "        async function convertToInteractive(key) {\n",
              "          const element = document.querySelector('#df-f0f33548-b403-4994-b317-47c69f78e2e1');\n",
              "          const dataTable =\n",
              "            await google.colab.kernel.invokeFunction('convertToInteractive',\n",
              "                                                     [key], {});\n",
              "          if (!dataTable) return;\n",
              "\n",
              "          const docLinkHtml = 'Like what you see? Visit the ' +\n",
              "            '<a target=\"_blank\" href=https://colab.research.google.com/notebooks/data_table.ipynb>data table notebook</a>'\n",
              "            + ' to learn more about interactive tables.';\n",
              "          element.innerHTML = '';\n",
              "          dataTable['output_type'] = 'display_data';\n",
              "          await google.colab.output.renderOutput(dataTable, element);\n",
              "          const docLink = document.createElement('div');\n",
              "          docLink.innerHTML = docLinkHtml;\n",
              "          element.appendChild(docLink);\n",
              "        }\n",
              "      </script>\n",
              "    </div>\n",
              "  </div>\n",
              "  "
            ]
          },
          "metadata": {},
          "execution_count": 89
        }
      ]
    },
    {
      "cell_type": "markdown",
      "source": [
        "**Non-smoking Vehicle**"
      ],
      "metadata": {
        "id": "uyKUl5zwbcyg"
      }
    },
    {
      "cell_type": "code",
      "source": [
        "df[\"Non-smoking Vehicle\"].value_counts() \n",
        "#full sevice ile baglantili\n",
        "#simdilik filling icin tut "
      ],
      "metadata": {
        "colab": {
          "base_uri": "https://localhost:8080/",
          "height": 1000
        },
        "id": "ceI7tH7zbQhF",
        "outputId": "5254c515-1c3c-4673-98ef-644a0b818aae"
      },
      "execution_count": 76,
      "outputs": [
        {
          "output_type": "error",
          "ename": "TypeError",
          "evalue": "ignored",
          "traceback": [
            "\u001b[0;31m---------------------------------------------------------------------------\u001b[0m",
            "\u001b[0;31mTypeError\u001b[0m                                 Traceback (most recent call last)",
            "\u001b[0;32mpandas/_libs/hashtable_class_helper.pxi\u001b[0m in \u001b[0;36mpandas._libs.hashtable.PyObjectHashTable.map_locations\u001b[0;34m()\u001b[0m\n",
            "\u001b[0;31mTypeError\u001b[0m: unhashable type: 'list'"
          ]
        },
        {
          "output_type": "stream",
          "name": "stderr",
          "text": [
            "Exception ignored in: 'pandas._libs.index.IndexEngine._call_map_locations'\n",
            "Traceback (most recent call last):\n",
            "  File \"pandas/_libs/hashtable_class_helper.pxi\", line 5231, in pandas._libs.hashtable.PyObjectHashTable.map_locations\n",
            "TypeError: unhashable type: 'list'\n"
          ]
        },
        {
          "output_type": "execute_result",
          "data": {
            "text/plain": [
              "[\\n, \\n]                                                                                      3647\n",
              "[\\n, \\n, \\n4 (Green)\\n]                                                                       1240\n",
              "[\\n, \\n, \\nEuro 6\\n]                                                                          1127\n",
              "[\\n, \\n, \\nEuro 6d-TEMP\\n]                                                                     345\n",
              "\\n                                                                                              70\n",
              "[\\n, \\n, \\n120 g CO2/km (comb)\\n]                                                               63\n",
              "[\\n, \\n, \\n85 g CO2/km (comb)\\n]                                                                46\n",
              "[\\n, \\n, \\n104 g CO2/km (comb)\\n]                                                               36\n",
              "[\\n, \\n, \\n107 g CO2/km (comb)\\n]                                                               36\n",
              "[\\n, \\n, \\n153 g CO2/km (comb)\\n]                                                               31\n",
              "[\\n, \\n, \\n124 g CO2/km (comb)\\n]                                                               29\n",
              "[\\n, \\n, \\n1 (No sticker)\\n]                                                                    24\n",
              "[\\n, \\n, \\n99 g CO2/km (comb)\\n]                                                                23\n",
              "[\\n, \\n, \\n106 g CO2/km (comb)\\n]                                                               20\n",
              "[\\n, \\n, \\n97 g CO2/km (comb)\\n]                                                                20\n",
              "[\\n, \\n, \\n108 g CO2/km (comb)\\n]                                                               19\n",
              "[\\n, \\n, \\n100 g CO2/km (comb)\\n]                                                               18\n",
              "[\\n, \\n, \\n109 g CO2/km (comb)\\n]                                                               18\n",
              "[\\n, \\n, \\n113 g CO2/km (comb)\\n]                                                               18\n",
              "[\\n, \\n, \\n105 g CO2/km (comb)\\n]                                                               18\n",
              "[\\n, \\n, \\nEuro 6c\\n]                                                                           17\n",
              "[\\n, \\n, \\n98 g CO2/km (comb)\\n]                                                                15\n",
              "[\\n, \\n, \\n129 g CO2/km (comb)\\n]                                                               14\n",
              "[\\n, \\n, \\n131 g CO2/km (comb)\\n]                                                               13\n",
              "[\\n, \\n, \\n133 g CO2/km (comb)\\n]                                                               12\n",
              "[\\n, \\n, \\n103 g CO2/km (comb)\\n]                                                               12\n",
              "[\\n, \\n, \\n114 g CO2/km (comb)\\n]                                                               12\n",
              "[\\n, \\n, \\n135 g CO2/km (comb)\\n]                                                               11\n",
              "[\\n, \\n, \\n116 g CO2/km (comb)\\n]                                                               11\n",
              "[\\n, \\n, \\n102 g CO2/km (comb)\\n]                                                               11\n",
              "[\\n, \\n, \\n143 g CO2/km (comb)\\n]                                                               10\n",
              "[\\n, \\n, \\n127 g CO2/km (comb)\\n]                                                               10\n",
              "[\\n, \\n, \\nEuro 6d\\n]                                                                            9\n",
              "[\\n, \\n, \\n92 g CO2/km (comb)\\n]                                                                 9\n",
              "[\\n, \\n, \\n112 g CO2/km (comb)\\n]                                                                9\n",
              "[\\n, \\n, \\n5 (Blue)\\n]                                                                           8\n",
              "[\\n, \\n, \\n118 g CO2/km (comb)\\n]                                                                8\n",
              "[\\n, \\n, \\n147 g CO2/km (comb)\\n]                                                                7\n",
              "[\\n, \\n, \\n128 g CO2/km (comb)\\n]                                                                7\n",
              "[\\n, \\n, \\n139 g CO2/km (comb)\\n]                                                                7\n",
              "[\\n, \\n, \\n140 g CO2/km (comb)\\n]                                                                6\n",
              "[\\n, \\n, \\n137 g CO2/km (comb)\\n]                                                                6\n",
              "[\\n, \\n, \\n117 g CO2/km (comb)\\n]                                                                6\n",
              "[\\n, \\n, \\n126 g CO2/km (comb)\\n]                                                                6\n",
              "[\\n, \\n, \\n130 g CO2/km (comb)\\n]                                                                5\n",
              "[\\n, \\n, \\n115 g CO2/km (comb)\\n]                                                                5\n",
              "[\\n, \\n, \\n, 5.2 l/100 km (comb), \\n, 5.8 l/100 km (city), \\n, 4.8 l/100 km (country), \\n]       4\n",
              "[\\n, \\n, \\n123 g CO2/km (comb)\\n]                                                                4\n",
              "[\\n, \\n, \\nEuro 5\\n]                                                                             4\n",
              "[\\n, \\n, \\n151 g CO2/km (comb)\\n]                                                                4\n",
              "[\\n, \\n, \\n136 g CO2/km (comb)\\n]                                                                3\n",
              "[\\n, \\n, \\n110 g CO2/km (comb)\\n]                                                                3\n",
              "[\\n, \\n, \\n148 g CO2/km (comb)\\n]                                                                3\n",
              "[\\n, \\n, \\n157 g CO2/km (comb)\\n]                                                                3\n",
              "[\\n, \\n, \\n95 g CO2/km (comb)\\n]                                                                 3\n",
              "[\\n, \\n, \\n119 g CO2/km (comb)\\n]                                                                3\n",
              "[\\n, \\n, \\n149 g CO2/km (comb)\\n]                                                                3\n",
              "[\\n, \\n, \\n166 g CO2/km (comb)\\n]                                                                2\n",
              "[\\n, \\n, \\n138 g CO2/km (comb)\\n]                                                                2\n",
              "[\\n, \\n, \\n121 g CO2/km (comb)\\n]                                                                2\n",
              "[\\n, \\n, \\n111 g CO2/km (comb)\\n]                                                                2\n",
              "[\\n, \\n, \\n90 g CO2/km (comb)\\n]                                                                 2\n",
              "[\\n, \\n, \\n142 g CO2/km (comb)\\n]                                                                2\n",
              "[\\n, \\n, \\n125 g CO2/km (comb)\\n]                                                                2\n",
              "[\\n, \\n, \\n134 g CO2/km (comb)\\n]                                                                2\n",
              "[\\n, \\n, \\n, 5.2 l/100 km (comb), \\n, 6.4 l/100 km (city), \\n, 4.4 l/100 km (country), \\n]       2\n",
              "[\\n, \\n, \\n, 6.5 l/100 km (comb), \\n, 8.5 l/100 km (city), \\n, 5.4 l/100 km (country), \\n]       1\n",
              "[\\n, \\n, \\n146 g CO2/km (comb)\\n]                                                                1\n",
              "[\\n, \\n, \\n189 g CO2/km (comb)\\n]                                                                1\n",
              "[\\n, \\n, \\n, 6.1 l/100 km (comb), \\n, 7.7 l/100 km (city), \\n, 5.2 l/100 km (country), \\n]       1\n",
              "[\\n, \\n, \\n, 6.3 l/100 km (comb), \\n, 8 l/100 km (city), \\n, 5.3 l/100 km (country), \\n]         1\n",
              "[\\n, \\n, \\n154 g CO2/km (comb)\\n]                                                                1\n",
              "[\\n, \\n, \\n, 6.5 l/100 km (comb), \\n, 7.9 l/100 km (city), \\n, 5.6 l/100 km (country), \\n]       1\n",
              "[\\n, \\n, \\n, 6.4 l/100 km (comb), \\n, 8.1 l/100 km (city), \\n, 5.4 l/100 km (country), \\n]       1\n",
              "[\\n, \\n, \\n122 g CO2/km (comb)\\n]                                                                1\n",
              "[\\n, \\n, \\n82 g CO2/km (comb)\\n]                                                                 1\n",
              "[\\n, \\n, \\n, 1.6 l/100 km (comb), \\n, \\n, \\n]                                                    1\n",
              "[\\n, \\n, \\n172 g CO2/km (comb)\\n]                                                                1\n",
              "[\\n, \\n, \\n161 g CO2/km (comb)\\n]                                                                1\n",
              "[\\n, \\n, \\n156 g CO2/km (comb)\\n]                                                                1\n",
              "[\\n, \\n, \\n169 g CO2/km (comb)\\n]                                                                1\n",
              "[\\n, \\n, \\n, 6.1 l/100 km (comb), \\n, 7.8 l/100 km (city), \\n, 5.1 l/100 km (country), \\n]       1\n",
              "[\\n, \\n, \\n152 g CO2/km (comb)\\n]                                                                1\n",
              "[\\n, \\n, \\n144 g CO2/km (comb)\\n]                                                                1\n",
              "[\\n, \\n, \\n132 g CO2/km (comb)\\n]                                                                1\n",
              "[\\n, \\n, \\n159 g CO2/km (comb)\\n]                                                                1\n",
              "[\\n, \\n, \\n, 5.6 l/100 km (comb), \\n, 7.3 l/100 km (city), \\n, 4.7 l/100 km (country), \\n]       1\n",
              "[\\n, \\n, \\n158 g CO2/km (comb)\\n]                                                                1\n",
              "[\\n, \\n, \\n150 g CO2/km (comb)\\n]                                                                1\n",
              "[\\n, \\n, \\n, 6.2 l/100 km (comb), \\n, 7.9 l/100 km (city), \\n, 5.3 l/100 km (country), \\n]       1\n",
              "[\\n, \\n, \\n91 g CO2/km (comb)\\n]                                                                 1\n",
              "[\\n, \\n, \\n101 g CO2/km (comb)\\n]                                                                1\n",
              "[\\n, \\n, \\n, 5.7 l/100 km (comb), \\n, 7.3 l/100 km (city), \\n, 4.7 l/100 km (country), \\n]       1\n",
              "[\\n, \\n, \\n175 g CO2/km (comb)\\n]                                                                1\n",
              "Name: Non-smoking Vehicle, dtype: int64"
            ]
          },
          "metadata": {},
          "execution_count": 76
        }
      ]
    },
    {
      "cell_type": "code",
      "source": [
        "df[\"Non-smoking Vehicle_new\"] =df[\"Non-smoking Vehicle\"].str[2].str.strip(\"\\n\")"
      ],
      "metadata": {
        "id": "Ym5YrOcxbQdz"
      },
      "execution_count": 77,
      "outputs": []
    },
    {
      "cell_type": "code",
      "source": [
        "df[\"Non-smoking Vehicle_new\"].value_counts()\n",
        "#burda bunun icinde extra ayristirma gerekebilir "
      ],
      "metadata": {
        "colab": {
          "base_uri": "https://localhost:8080/"
        },
        "id": "0x-IZ2NNbQax",
        "outputId": "a6ac3dd3-6a3f-4525-b633-6e2a5f209868"
      },
      "execution_count": 78,
      "outputs": [
        {
          "output_type": "execute_result",
          "data": {
            "text/plain": [
              "4 (Green)              1240\n",
              "Euro 6                 1127\n",
              "Euro 6d-TEMP            345\n",
              "120 g CO2/km (comb)      63\n",
              "85 g CO2/km (comb)       46\n",
              "104 g CO2/km (comb)      36\n",
              "107 g CO2/km (comb)      36\n",
              "153 g CO2/km (comb)      31\n",
              "124 g CO2/km (comb)      29\n",
              "1 (No sticker)           24\n",
              "99 g CO2/km (comb)       23\n",
              "106 g CO2/km (comb)      20\n",
              "97 g CO2/km (comb)       20\n",
              "108 g CO2/km (comb)      19\n",
              "109 g CO2/km (comb)      18\n",
              "105 g CO2/km (comb)      18\n",
              "100 g CO2/km (comb)      18\n",
              "113 g CO2/km (comb)      18\n",
              "Euro 6c                  17\n",
              "                         16\n",
              "98 g CO2/km (comb)       15\n",
              "129 g CO2/km (comb)      14\n",
              "131 g CO2/km (comb)      13\n",
              "103 g CO2/km (comb)      12\n",
              "114 g CO2/km (comb)      12\n",
              "133 g CO2/km (comb)      12\n",
              "135 g CO2/km (comb)      11\n",
              "102 g CO2/km (comb)      11\n",
              "116 g CO2/km (comb)      11\n",
              "127 g CO2/km (comb)      10\n",
              "143 g CO2/km (comb)      10\n",
              "Euro 6d                   9\n",
              "92 g CO2/km (comb)        9\n",
              "112 g CO2/km (comb)       9\n",
              "118 g CO2/km (comb)       8\n",
              "5 (Blue)                  8\n",
              "128 g CO2/km (comb)       7\n",
              "139 g CO2/km (comb)       7\n",
              "147 g CO2/km (comb)       7\n",
              "117 g CO2/km (comb)       6\n",
              "137 g CO2/km (comb)       6\n",
              "140 g CO2/km (comb)       6\n",
              "126 g CO2/km (comb)       6\n",
              "115 g CO2/km (comb)       5\n",
              "130 g CO2/km (comb)       5\n",
              "Euro 5                    4\n",
              "151 g CO2/km (comb)       4\n",
              "123 g CO2/km (comb)       4\n",
              "148 g CO2/km (comb)       3\n",
              "119 g CO2/km (comb)       3\n",
              "149 g CO2/km (comb)       3\n",
              "110 g CO2/km (comb)       3\n",
              "136 g CO2/km (comb)       3\n",
              "157 g CO2/km (comb)       3\n",
              "95 g CO2/km (comb)        3\n",
              "166 g CO2/km (comb)       2\n",
              "90 g CO2/km (comb)        2\n",
              "138 g CO2/km (comb)       2\n",
              "121 g CO2/km (comb)       2\n",
              "125 g CO2/km (comb)       2\n",
              "134 g CO2/km (comb)       2\n",
              "111 g CO2/km (comb)       2\n",
              "142 g CO2/km (comb)       2\n",
              "152 g CO2/km (comb)       1\n",
              "82 g CO2/km (comb)        1\n",
              "172 g CO2/km (comb)       1\n",
              "154 g CO2/km (comb)       1\n",
              "161 g CO2/km (comb)       1\n",
              "146 g CO2/km (comb)       1\n",
              "156 g CO2/km (comb)       1\n",
              "91 g CO2/km (comb)        1\n",
              "144 g CO2/km (comb)       1\n",
              "132 g CO2/km (comb)       1\n",
              "169 g CO2/km (comb)       1\n",
              "159 g CO2/km (comb)       1\n",
              "158 g CO2/km (comb)       1\n",
              "150 g CO2/km (comb)       1\n",
              "122 g CO2/km (comb)       1\n",
              "189 g CO2/km (comb)       1\n",
              "101 g CO2/km (comb)       1\n",
              "175 g CO2/km (comb)       1\n",
              "Name: Non-smoking Vehicle_new, dtype: int64"
            ]
          },
          "metadata": {},
          "execution_count": 78
        }
      ]
    },
    {
      "cell_type": "markdown",
      "source": [
        "**null**"
      ],
      "metadata": {
        "id": "PecvGIPebUht"
      }
    },
    {
      "cell_type": "code",
      "source": [
        "#bunu tamami parantezden olusan null analizi yok :) \n",
        "#15919 null diyor\n",
        "#drop"
      ],
      "metadata": {
        "id": "9NiBEilVbWGs"
      },
      "execution_count": null,
      "outputs": []
    },
    {
      "cell_type": "markdown",
      "source": [
        "**Make**"
      ],
      "metadata": {
        "id": "JZsa6PqGaaeY"
      }
    },
    {
      "cell_type": "code",
      "source": [
        "df[\"Make\"].value_counts() \n",
        "#make model ve model ile baglantili \n",
        "#bunu drop et"
      ],
      "metadata": {
        "colab": {
          "base_uri": "https://localhost:8080/"
        },
        "id": "NBLZEHomaYgL",
        "outputId": "d9e6d0bf-7a10-4242-b499-744be1fef1d8"
      },
      "execution_count": 90,
      "outputs": [
        {
          "output_type": "execute_result",
          "data": {
            "text/plain": [
              "\\nOpel\\n       7343\n",
              "\\nAudi\\n       5712\n",
              "\\nRenault\\n    2864\n",
              "Name: Make, dtype: int64"
            ]
          },
          "metadata": {},
          "execution_count": 90
        }
      ]
    },
    {
      "cell_type": "code",
      "source": [
        "df[\"Make_new\"] =df[\"Make\"].str.strip(\"\\n\")#bu bir liste olmadigi icin str [1]kismini sildik dikkat heee"
      ],
      "metadata": {
        "id": "afgdANRsaYcV"
      },
      "execution_count": 91,
      "outputs": []
    },
    {
      "cell_type": "code",
      "source": [
        "df[\"Make_new\"].sample(5)"
      ],
      "metadata": {
        "colab": {
          "base_uri": "https://localhost:8080/"
        },
        "id": "Tln8ITigaYYc",
        "outputId": "2746ae38-9639-47ce-8b3f-a98fa046221f"
      },
      "execution_count": 92,
      "outputs": [
        {
          "output_type": "execute_result",
          "data": {
            "text/plain": [
              "6333        Opel\n",
              "15678    Renault\n",
              "9120        Opel\n",
              "8000        Opel\n",
              "1712        Audi\n",
              "Name: Make_new, dtype: object"
            ]
          },
          "metadata": {},
          "execution_count": 92
        }
      ]
    },
    {
      "cell_type": "code",
      "source": [
        ""
      ],
      "metadata": {
        "id": "wOhAQbpDaYUd"
      },
      "execution_count": null,
      "outputs": []
    },
    {
      "cell_type": "markdown",
      "source": [
        "**Model**"
      ],
      "metadata": {
        "id": "mL1cH0m-ZhRw"
      }
    },
    {
      "cell_type": "code",
      "source": [
        "df[\"Model\"].value_counts() \n",
        "##make model ve make ile baglantili \n",
        "#bunu drop et"
      ],
      "metadata": {
        "colab": {
          "base_uri": "https://localhost:8080/",
          "height": 392
        },
        "id": "7QdlbU1tZcL7",
        "outputId": "b8096115-7d3a-4584-ff3e-70e51bcaa692"
      },
      "execution_count": 93,
      "outputs": [
        {
          "output_type": "error",
          "ename": "TypeError",
          "evalue": "ignored",
          "traceback": [
            "\u001b[0;31m---------------------------------------------------------------------------\u001b[0m",
            "\u001b[0;31mTypeError\u001b[0m                                 Traceback (most recent call last)",
            "\u001b[0;32mpandas/_libs/hashtable_class_helper.pxi\u001b[0m in \u001b[0;36mpandas._libs.hashtable.PyObjectHashTable.map_locations\u001b[0;34m()\u001b[0m\n",
            "\u001b[0;31mTypeError\u001b[0m: unhashable type: 'list'"
          ]
        },
        {
          "output_type": "stream",
          "name": "stderr",
          "text": [
            "Exception ignored in: 'pandas._libs.index.IndexEngine._call_map_locations'\n",
            "Traceback (most recent call last):\n",
            "  File \"pandas/_libs/hashtable_class_helper.pxi\", line 5231, in pandas._libs.hashtable.PyObjectHashTable.map_locations\n",
            "TypeError: unhashable type: 'list'\n"
          ]
        },
        {
          "output_type": "execute_result",
          "data": {
            "text/plain": [
              "[\\n, A3, \\n]          3097\n",
              "[\\n, A1, \\n]          2614\n",
              "[\\n, Insignia, \\n]    2598\n",
              "[\\n, Astra, \\n]       2526\n",
              "[\\n, Corsa, \\n]       2219\n",
              "[\\n, Clio, \\n]        1839\n",
              "[\\n, Espace, \\n]       991\n",
              "[\\n, Duster, \\n]        34\n",
              "[\\n, A2, \\n]             1\n",
              "Name: Model, dtype: int64"
            ]
          },
          "metadata": {},
          "execution_count": 93
        }
      ]
    },
    {
      "cell_type": "code",
      "source": [
        "df[\"Model_new\"] =df[\"Model\"].str[1].str.strip(\"\\n\")"
      ],
      "metadata": {
        "id": "2mHfdH51ZcCT"
      },
      "execution_count": 94,
      "outputs": []
    },
    {
      "cell_type": "code",
      "source": [
        "df[\"Model_new\"].sample(5)"
      ],
      "metadata": {
        "colab": {
          "base_uri": "https://localhost:8080/"
        },
        "id": "g76DrtHAZb3B",
        "outputId": "7f98fd2f-e93c-47f8-d4f7-40c60029f3a6"
      },
      "execution_count": 95,
      "outputs": [
        {
          "output_type": "execute_result",
          "data": {
            "text/plain": [
              "4892    A3\n",
              "3769    A3\n",
              "5577    A3\n",
              "4908    A3\n",
              "4882    A3\n",
              "Name: Model_new, dtype: object"
            ]
          },
          "metadata": {},
          "execution_count": 95
        }
      ]
    },
    {
      "cell_type": "markdown",
      "source": [
        "**Offer Number**"
      ],
      "metadata": {
        "id": "TMIWBB3dYkhh"
      }
    },
    {
      "cell_type": "code",
      "source": [
        "df[\"Offer Number\"].value_counts() \n",
        "#drop edlebilir icinde sadece kodlar var \n",
        "#id no gibi bilgiler var price ile ilgisi yok"
      ],
      "metadata": {
        "colab": {
          "base_uri": "https://localhost:8080/",
          "height": 426
        },
        "id": "voUBty7eYj7j",
        "outputId": "9670a9e3-bac1-42fe-814c-9bfe0f173657"
      },
      "execution_count": 96,
      "outputs": [
        {
          "output_type": "error",
          "ename": "TypeError",
          "evalue": "ignored",
          "traceback": [
            "\u001b[0;31m---------------------------------------------------------------------------\u001b[0m",
            "\u001b[0;31mTypeError\u001b[0m                                 Traceback (most recent call last)",
            "\u001b[0;32mpandas/_libs/hashtable_class_helper.pxi\u001b[0m in \u001b[0;36mpandas._libs.hashtable.PyObjectHashTable.map_locations\u001b[0;34m()\u001b[0m\n",
            "\u001b[0;31mTypeError\u001b[0m: unhashable type: 'list'"
          ]
        },
        {
          "output_type": "stream",
          "name": "stderr",
          "text": [
            "Exception ignored in: 'pandas._libs.index.IndexEngine._call_map_locations'\n",
            "Traceback (most recent call last):\n",
            "  File \"pandas/_libs/hashtable_class_helper.pxi\", line 5231, in pandas._libs.hashtable.PyObjectHashTable.map_locations\n",
            "TypeError: unhashable type: 'list'\n"
          ]
        },
        {
          "output_type": "execute_result",
          "data": {
            "text/plain": [
              "[\\nLT67679\\n]                                     27\n",
              "[\\nAK13780\\n]                                     27\n",
              "[\\nTP62881\\n]                                     27\n",
              "[\\nTA76392\\n]                                     27\n",
              "[\\nXT61649\\n]                                     27\n",
              "                                                  ..\n",
              "[\\n160_dcbb6c3e-a6da-43a3-8754-ccd994cec93b\\n]     1\n",
              "[\\n6701576\\n]                                      1\n",
              "[\\n6701569\\n]                                      1\n",
              "[\\n158121\\n]                                       1\n",
              "[\\nRe_30000008029\\n]                               1\n",
              "Name: Offer Number, Length: 11440, dtype: int64"
            ]
          },
          "metadata": {},
          "execution_count": 96
        }
      ]
    },
    {
      "cell_type": "code",
      "source": [
        "df[\"Offer Number_new\"] =df[\"Offer Number\"].str[0].str.strip(\"\\n\")"
      ],
      "metadata": {
        "id": "VhMgvdEnYj4b"
      },
      "execution_count": 97,
      "outputs": []
    },
    {
      "cell_type": "code",
      "source": [
        "df[\"Offer Number_new\"].sample(5)"
      ],
      "metadata": {
        "colab": {
          "base_uri": "https://localhost:8080/"
        },
        "id": "8J05sAW7Yj1J",
        "outputId": "69ec0eca-4e05-489f-89df-3a520dea953c"
      },
      "execution_count": 98,
      "outputs": [
        {
          "output_type": "execute_result",
          "data": {
            "text/plain": [
              "6881      8467JYB\n",
              "10622    11-53492\n",
              "11660      015531\n",
              "1827        26150\n",
              "4598       497666\n",
              "Name: Offer Number_new, dtype: object"
            ]
          },
          "metadata": {},
          "execution_count": 98
        }
      ]
    },
    {
      "cell_type": "markdown",
      "source": [
        "**First Registration**"
      ],
      "metadata": {
        "id": "_kR0ee23X9Ct"
      }
    },
    {
      "cell_type": "code",
      "source": [
        "df[\"First Registration\"].value_counts() \n",
        "#registrition ile ilgili  bu ikisini kullan yeni bir yas sutunu eolde et\n",
        "#dolayisyla bu sutunu olusturana kadar tut\n",
        "#sonra drop"
      ],
      "metadata": {
        "colab": {
          "base_uri": "https://localhost:8080/",
          "height": 305
        },
        "id": "EAb9Q3NjX85e",
        "outputId": "ba61b4ff-6807-48b0-cc0f-73a433f59517"
      },
      "execution_count": 99,
      "outputs": [
        {
          "output_type": "error",
          "ename": "TypeError",
          "evalue": "ignored",
          "traceback": [
            "\u001b[0;31m---------------------------------------------------------------------------\u001b[0m",
            "\u001b[0;31mTypeError\u001b[0m                                 Traceback (most recent call last)",
            "\u001b[0;32mpandas/_libs/hashtable_class_helper.pxi\u001b[0m in \u001b[0;36mpandas._libs.hashtable.PyObjectHashTable.map_locations\u001b[0;34m()\u001b[0m\n",
            "\u001b[0;31mTypeError\u001b[0m: unhashable type: 'list'"
          ]
        },
        {
          "output_type": "stream",
          "name": "stderr",
          "text": [
            "Exception ignored in: 'pandas._libs.index.IndexEngine._call_map_locations'\n",
            "Traceback (most recent call last):\n",
            "  File \"pandas/_libs/hashtable_class_helper.pxi\", line 5231, in pandas._libs.hashtable.PyObjectHashTable.map_locations\n",
            "TypeError: unhashable type: 'list'\n"
          ]
        },
        {
          "output_type": "execute_result",
          "data": {
            "text/plain": [
              "[\\n, 2018, \\n]    4522\n",
              "[\\n, 2016, \\n]    3674\n",
              "[\\n, 2017, \\n]    3273\n",
              "[\\n, 2019, \\n]    2853\n",
              "Name: First Registration, dtype: int64"
            ]
          },
          "metadata": {},
          "execution_count": 99
        }
      ]
    },
    {
      "cell_type": "code",
      "source": [
        "df[\"First Registration_new\"] =df[\"First Registration\"].str[1].str.strip(\"\\n\")"
      ],
      "metadata": {
        "id": "d9p124dLX82W"
      },
      "execution_count": 100,
      "outputs": []
    },
    {
      "cell_type": "code",
      "source": [
        "df[\"First Registration_new\"].sample(5)"
      ],
      "metadata": {
        "colab": {
          "base_uri": "https://localhost:8080/"
        },
        "id": "VZUcrvzYX8zO",
        "outputId": "d37892bf-c8dc-4157-da66-20ea6f9ca504"
      },
      "execution_count": 101,
      "outputs": [
        {
          "output_type": "execute_result",
          "data": {
            "text/plain": [
              "11687    2017\n",
              "10365    2019\n",
              "8701     2016\n",
              "13860    2016\n",
              "12526    2019\n",
              "Name: First Registration_new, dtype: object"
            ]
          },
          "metadata": {},
          "execution_count": 101
        }
      ]
    },
    {
      "cell_type": "markdown",
      "source": [
        "**Body Color**"
      ],
      "metadata": {
        "id": "89omfKzwXexV"
      }
    },
    {
      "cell_type": "code",
      "source": [
        "df[\"Body Color\"].value_counts() \n",
        "# simdilik tut\n",
        "#body orginal ile ilgili\n",
        "#body color orginal ile karsilastirilip arabanin 0 olup olmadigi belirlernir\n",
        "# sayet prev owner bilgisi bos ise burdan  yorum yapilabilir"
      ],
      "metadata": {
        "colab": {
          "base_uri": "https://localhost:8080/",
          "height": 478
        },
        "id": "H7aAGkADXczR",
        "outputId": "ffe49669-84b4-4bf7-d89f-0b6f2863e945"
      },
      "execution_count": 102,
      "outputs": [
        {
          "output_type": "error",
          "ename": "TypeError",
          "evalue": "ignored",
          "traceback": [
            "\u001b[0;31m---------------------------------------------------------------------------\u001b[0m",
            "\u001b[0;31mTypeError\u001b[0m                                 Traceback (most recent call last)",
            "\u001b[0;32mpandas/_libs/hashtable_class_helper.pxi\u001b[0m in \u001b[0;36mpandas._libs.hashtable.PyObjectHashTable.map_locations\u001b[0;34m()\u001b[0m\n",
            "\u001b[0;31mTypeError\u001b[0m: unhashable type: 'list'"
          ]
        },
        {
          "output_type": "stream",
          "name": "stderr",
          "text": [
            "Exception ignored in: 'pandas._libs.index.IndexEngine._call_map_locations'\n",
            "Traceback (most recent call last):\n",
            "  File \"pandas/_libs/hashtable_class_helper.pxi\", line 5231, in pandas._libs.hashtable.PyObjectHashTable.map_locations\n",
            "TypeError: unhashable type: 'list'\n"
          ]
        },
        {
          "output_type": "execute_result",
          "data": {
            "text/plain": [
              "[\\n, Black, \\n]     3745\n",
              "[\\n, Grey, \\n]      3505\n",
              "[\\n, White, \\n]     3406\n",
              "[\\n, Silver, \\n]    1647\n",
              "[\\n, Blue, \\n]      1431\n",
              "[\\n, Red, \\n]        957\n",
              "[\\n, Brown, \\n]      289\n",
              "[\\n, Green, \\n]      154\n",
              "[\\n, Beige, \\n]      108\n",
              "[\\n, Yellow, \\n]      51\n",
              "[\\n, Violet, \\n]      18\n",
              "[\\n, Bronze, \\n]       6\n",
              "[\\n, Orange, \\n]       3\n",
              "[\\n, Gold, \\n]         2\n",
              "Name: Body Color, dtype: int64"
            ]
          },
          "metadata": {},
          "execution_count": 102
        }
      ]
    },
    {
      "cell_type": "code",
      "source": [
        "df[\"Body Color_new\"] =df[\"Body Color\"].str[1].str.strip(\"\\n\")"
      ],
      "metadata": {
        "id": "gy8mm-TpXcwq"
      },
      "execution_count": 103,
      "outputs": []
    },
    {
      "cell_type": "code",
      "source": [
        "df[\"Body Color_new\"].sample(5)"
      ],
      "metadata": {
        "colab": {
          "base_uri": "https://localhost:8080/"
        },
        "id": "unlnzNpqXctI",
        "outputId": "3fdc8464-f385-453e-fe3b-f88f1da038c2"
      },
      "execution_count": 104,
      "outputs": [
        {
          "output_type": "execute_result",
          "data": {
            "text/plain": [
              "3979       Grey\n",
              "1055     Silver\n",
              "10349     White\n",
              "14419       Red\n",
              "2232      Black\n",
              "Name: Body Color_new, dtype: object"
            ]
          },
          "metadata": {},
          "execution_count": 104
        }
      ]
    },
    {
      "cell_type": "markdown",
      "source": [
        "**Paint** **Type**"
      ],
      "metadata": {
        "id": "W5o_5nqzW_KR"
      }
    },
    {
      "cell_type": "code",
      "source": [
        "df[\"Paint Type\"].value_counts() \n",
        "##iicnde metalic basic efet olmak uzere 3 tane\n",
        "#price etkisi var \n",
        "#keep it\n",
        "# "
      ],
      "metadata": {
        "colab": {
          "base_uri": "https://localhost:8080/",
          "height": 287
        },
        "id": "tvo9ryIjW-T8",
        "outputId": "3d40b7a2-e920-4f27-eae9-d020950c7d52"
      },
      "execution_count": 105,
      "outputs": [
        {
          "output_type": "error",
          "ename": "TypeError",
          "evalue": "ignored",
          "traceback": [
            "\u001b[0;31m---------------------------------------------------------------------------\u001b[0m",
            "\u001b[0;31mTypeError\u001b[0m                                 Traceback (most recent call last)",
            "\u001b[0;32mpandas/_libs/hashtable_class_helper.pxi\u001b[0m in \u001b[0;36mpandas._libs.hashtable.PyObjectHashTable.map_locations\u001b[0;34m()\u001b[0m\n",
            "\u001b[0;31mTypeError\u001b[0m: unhashable type: 'list'"
          ]
        },
        {
          "output_type": "stream",
          "name": "stderr",
          "text": [
            "Exception ignored in: 'pandas._libs.index.IndexEngine._call_map_locations'\n",
            "Traceback (most recent call last):\n",
            "  File \"pandas/_libs/hashtable_class_helper.pxi\", line 5231, in pandas._libs.hashtable.PyObjectHashTable.map_locations\n",
            "TypeError: unhashable type: 'list'\n"
          ]
        },
        {
          "output_type": "execute_result",
          "data": {
            "text/plain": [
              "[\\nMetallic\\n]       9794\n",
              "[\\nUni/basic\\n]       347\n",
              "[\\nPerl effect\\n]       6\n",
              "Name: Paint Type, dtype: int64"
            ]
          },
          "metadata": {},
          "execution_count": 105
        }
      ]
    },
    {
      "cell_type": "code",
      "source": [
        "df[\"Paint Type_new\"] =df[\"Paint Type\"].str[0].str.strip(\"\\n\")"
      ],
      "metadata": {
        "id": "-0u2Tl30W-Q1"
      },
      "execution_count": 106,
      "outputs": []
    },
    {
      "cell_type": "code",
      "source": [
        "df[\"Paint Type_new\"].sample(5)"
      ],
      "metadata": {
        "colab": {
          "base_uri": "https://localhost:8080/"
        },
        "id": "da05W3o5W-NY",
        "outputId": "05336bc2-4d1e-4ae8-e245-2eb84a406d79"
      },
      "execution_count": 107,
      "outputs": [
        {
          "output_type": "execute_result",
          "data": {
            "text/plain": [
              "1009     Metallic\n",
              "11834    Metallic\n",
              "3509     Metallic\n",
              "11007    Metallic\n",
              "15743    Metallic\n",
              "Name: Paint Type_new, dtype: object"
            ]
          },
          "metadata": {},
          "execution_count": 107
        }
      ]
    },
    {
      "cell_type": "code",
      "source": [
        ""
      ],
      "metadata": {
        "id": "R7Fq4NM2W-KF"
      },
      "execution_count": null,
      "outputs": []
    },
    {
      "cell_type": "markdown",
      "source": [
        "**Body Color Original**"
      ],
      "metadata": {
        "id": "NIoqy9UCWizb"
      }
    },
    {
      "cell_type": "code",
      "source": [
        "df[\"Body Color Original\"].value_counts() \n",
        "#body color ile iliskili\n",
        "#simdilik keep"
      ],
      "metadata": {
        "colab": {
          "base_uri": "https://localhost:8080/",
          "height": 426
        },
        "id": "M4yUYVXwWiiy",
        "outputId": "4cf200ec-5aed-47c4-9bdb-7681525f9b55"
      },
      "execution_count": 173,
      "outputs": [
        {
          "output_type": "error",
          "ename": "TypeError",
          "evalue": "ignored",
          "traceback": [
            "\u001b[0;31m---------------------------------------------------------------------------\u001b[0m",
            "\u001b[0;31mTypeError\u001b[0m                                 Traceback (most recent call last)",
            "\u001b[0;32mpandas/_libs/hashtable_class_helper.pxi\u001b[0m in \u001b[0;36mpandas._libs.hashtable.PyObjectHashTable.map_locations\u001b[0;34m()\u001b[0m\n",
            "\u001b[0;31mTypeError\u001b[0m: unhashable type: 'list'"
          ]
        },
        {
          "output_type": "stream",
          "name": "stderr",
          "text": [
            "Exception ignored in: 'pandas._libs.index.IndexEngine._call_map_locations'\n",
            "Traceback (most recent call last):\n",
            "  File \"pandas/_libs/hashtable_class_helper.pxi\", line 5231, in pandas._libs.hashtable.PyObjectHashTable.map_locations\n",
            "TypeError: unhashable type: 'list'\n"
          ]
        },
        {
          "output_type": "execute_result",
          "data": {
            "text/plain": [
              "[\\nOnyx Schwarz\\n]                     338\n",
              "[\\nBianco\\n]                           282\n",
              "[\\nMythosschwarz Metallic\\n]           238\n",
              "[\\nBrillantschwarz\\n]                  216\n",
              "[\\nGris\\n]                             204\n",
              "                                      ... \n",
              "[\\nRouge-Braun (G0Y)\\n]                  1\n",
              "[\\nVARI COLRI DISPONIBILI\\n]             1\n",
              "[\\nKokosnussbraun Metallic\\n]            1\n",
              "[\\nFarbe frei wählbar\\n]                 1\n",
              "[\\nPerlmutt-Weiß Metallic (Weiß)\\n]      1\n",
              "Name: Body Color Original, Length: 1927, dtype: int64"
            ]
          },
          "metadata": {},
          "execution_count": 173
        }
      ]
    },
    {
      "cell_type": "code",
      "source": [
        "df[\"Body Color Original_new\"] =df[\"Body Color Original\"].str[0].str.strip(\"\\n\")"
      ],
      "metadata": {
        "id": "n3rfGkErWifv"
      },
      "execution_count": 108,
      "outputs": []
    },
    {
      "cell_type": "code",
      "source": [
        "df[\"Body Color Original_new\"].sample(5)"
      ],
      "metadata": {
        "colab": {
          "base_uri": "https://localhost:8080/"
        },
        "id": "cJVYys_HWicl",
        "outputId": "3ce73326-aa38-4364-b596-5b326f95280e"
      },
      "execution_count": 109,
      "outputs": [
        {
          "output_type": "execute_result",
          "data": {
            "text/plain": [
              "15674     arktis-weiß\n",
              "3450              NaN\n",
              "12412    Onyx Schwarz\n",
              "3745           Grigio\n",
              "6397              NaN\n",
              "Name: Body Color Original_new, dtype: object"
            ]
          },
          "metadata": {},
          "execution_count": 109
        }
      ]
    },
    {
      "cell_type": "markdown",
      "source": [
        "**Upholstery**"
      ],
      "metadata": {
        "id": "qHcHztXGUZ1d"
      }
    },
    {
      "cell_type": "code",
      "source": [
        "df[\"Upholstery\"].value_counts() \n",
        "#fiyat farkettirir\n",
        "#baglantili bir veri yok "
      ],
      "metadata": {
        "colab": {
          "base_uri": "https://localhost:8080/",
          "height": 1000
        },
        "id": "JbNM0CuhUZox",
        "outputId": "3a2644f7-645c-4297-e201-cd9290a9c6f3"
      },
      "execution_count": 110,
      "outputs": [
        {
          "output_type": "error",
          "ename": "TypeError",
          "evalue": "ignored",
          "traceback": [
            "\u001b[0;31m---------------------------------------------------------------------------\u001b[0m",
            "\u001b[0;31mTypeError\u001b[0m                                 Traceback (most recent call last)",
            "\u001b[0;32mpandas/_libs/hashtable_class_helper.pxi\u001b[0m in \u001b[0;36mpandas._libs.hashtable.PyObjectHashTable.map_locations\u001b[0;34m()\u001b[0m\n",
            "\u001b[0;31mTypeError\u001b[0m: unhashable type: 'list'"
          ]
        },
        {
          "output_type": "stream",
          "name": "stderr",
          "text": [
            "Exception ignored in: 'pandas._libs.index.IndexEngine._call_map_locations'\n",
            "Traceback (most recent call last):\n",
            "  File \"pandas/_libs/hashtable_class_helper.pxi\", line 5231, in pandas._libs.hashtable.PyObjectHashTable.map_locations\n",
            "TypeError: unhashable type: 'list'\n"
          ]
        },
        {
          "output_type": "execute_result",
          "data": {
            "text/plain": [
              "[\\nCloth, Black\\n]           5821\n",
              "[\\nPart leather, Black\\n]    1121\n",
              "[\\nCloth\\n]                  1005\n",
              "[\\nCloth, Grey\\n]             891\n",
              "[\\nCloth, Other\\n]            639\n",
              "[\\nFull leather, Black\\n]     575\n",
              "[\\nBlack\\n]                   491\n",
              "[\\nGrey\\n]                    273\n",
              "[\\nOther, Other\\n]            182\n",
              "[\\nPart leather\\n]            140\n",
              "[\\nFull leather\\n]            139\n",
              "[\\nPart leather, Grey\\n]      116\n",
              "[\\nFull leather, Brown\\n]     116\n",
              "[\\nOther, Black\\n]            110\n",
              "[\\nFull leather, Other\\n]      72\n",
              "[\\nFull leather, Grey\\n]       67\n",
              "[\\nPart leather, Other\\n]      65\n",
              "[\\nOther\\n]                    56\n",
              "[\\nPart leather, Brown\\n]      50\n",
              "[\\nalcantara, Black\\n]         47\n",
              "[\\nFull leather, Beige\\n]      36\n",
              "[\\nVelour, Black\\n]            36\n",
              "[\\nCloth, Brown\\n]             28\n",
              "[\\nVelour\\n]                   16\n",
              "[\\nOther, Grey\\n]              15\n",
              "[\\nCloth, Beige\\n]             13\n",
              "[\\nBrown\\n]                    12\n",
              "[\\nCloth, Blue\\n]              12\n",
              "[\\nCloth, White\\n]              8\n",
              "[\\nVelour, Grey\\n]              8\n",
              "[\\nalcantara, Grey\\n]           6\n",
              "[\\nCloth, Red\\n]                5\n",
              "[\\nOther, Yellow\\n]             4\n",
              "[\\nBeige\\n]                     3\n",
              "[\\nPart leather, Red\\n]         3\n",
              "[\\nalcantara\\n]                 2\n",
              "[\\nPart leather, White\\n]       2\n",
              "[\\nBlue\\n]                      2\n",
              "[\\nWhite\\n]                     2\n",
              "[\\nPart leather, Beige\\n]       2\n",
              "[\\nalcantara, Other\\n]          2\n",
              "[\\nFull leather, Blue\\n]        2\n",
              "[\\nOther, Brown\\n]              1\n",
              "[\\nCloth, Orange\\n]             1\n",
              "[\\nFull leather, Red\\n]         1\n",
              "[\\nFull leather, White\\n]       1\n",
              "Name: Upholstery, dtype: int64"
            ]
          },
          "metadata": {},
          "execution_count": 110
        }
      ]
    },
    {
      "cell_type": "code",
      "source": [
        "df[\"Upholstery_new\"] =df[\"Upholstery\"].str[0].str.strip(\"\\n\")"
      ],
      "metadata": {
        "id": "qAqNo4BSUZkz"
      },
      "execution_count": 111,
      "outputs": []
    },
    {
      "cell_type": "code",
      "source": [
        "df[\"Upholstery_new\"].sample(5)"
      ],
      "metadata": {
        "colab": {
          "base_uri": "https://localhost:8080/"
        },
        "id": "IWGeGcpoUZhr",
        "outputId": "7a3be632-7ada-43db-c568-c300068c0f6c"
      },
      "execution_count": 112,
      "outputs": [
        {
          "output_type": "execute_result",
          "data": {
            "text/plain": [
              "10102           Cloth, Black\n",
              "14932    Full leather, Brown\n",
              "4526            Cloth, Black\n",
              "1456            Cloth, Other\n",
              "9563                     NaN\n",
              "Name: Upholstery_new, dtype: object"
            ]
          },
          "metadata": {},
          "execution_count": 112
        }
      ]
    },
    {
      "cell_type": "markdown",
      "source": [
        "**Body**"
      ],
      "metadata": {
        "id": "94WLmSc6T_dL"
      }
    },
    {
      "cell_type": "code",
      "source": [
        "df[\"Body\"].value_counts() \n",
        "#body type ile iliskili \n",
        "#body dusebilir hemen hemn ayni bilgiler "
      ],
      "metadata": {
        "colab": {
          "base_uri": "https://localhost:8080/",
          "height": 392
        },
        "id": "ihcXcEZBT6nu",
        "outputId": "5ac64753-3712-4790-ee3e-e581fbbc62e6"
      },
      "execution_count": 114,
      "outputs": [
        {
          "output_type": "error",
          "ename": "TypeError",
          "evalue": "ignored",
          "traceback": [
            "\u001b[0;31m---------------------------------------------------------------------------\u001b[0m",
            "\u001b[0;31mTypeError\u001b[0m                                 Traceback (most recent call last)",
            "\u001b[0;32mpandas/_libs/hashtable_class_helper.pxi\u001b[0m in \u001b[0;36mpandas._libs.hashtable.PyObjectHashTable.map_locations\u001b[0;34m()\u001b[0m\n",
            "\u001b[0;31mTypeError\u001b[0m: unhashable type: 'list'"
          ]
        },
        {
          "output_type": "stream",
          "name": "stderr",
          "text": [
            "Exception ignored in: 'pandas._libs.index.IndexEngine._call_map_locations'\n",
            "Traceback (most recent call last):\n",
            "  File \"pandas/_libs/hashtable_class_helper.pxi\", line 5231, in pandas._libs.hashtable.PyObjectHashTable.map_locations\n",
            "TypeError: unhashable type: 'list'\n"
          ]
        },
        {
          "output_type": "execute_result",
          "data": {
            "text/plain": [
              "[\\n, Sedans, \\n]           7903\n",
              "[\\n, Station wagon, \\n]    3553\n",
              "[\\n, Compact, \\n]          3153\n",
              "[\\n, Van, \\n]               783\n",
              "[\\n, Other, \\n]             290\n",
              "[\\n, Transporter, \\n]        88\n",
              "[\\n, Off-Road, \\n]           56\n",
              "[\\n, Coupe, \\n]              25\n",
              "[\\n, Convertible, \\n]         8\n",
              "Name: Body, dtype: int64"
            ]
          },
          "metadata": {},
          "execution_count": 114
        }
      ]
    },
    {
      "cell_type": "code",
      "source": [
        "df[\"Body_new\"] =df[\"Body\"].str[1].str.strip(\"\\n\")"
      ],
      "metadata": {
        "id": "JkemnB4qT6kb"
      },
      "execution_count": 115,
      "outputs": []
    },
    {
      "cell_type": "code",
      "source": [
        "df[\"Body_new\"].sample(5)"
      ],
      "metadata": {
        "colab": {
          "base_uri": "https://localhost:8080/"
        },
        "id": "vjb-ZzZ5T6aq",
        "outputId": "88b14274-05c7-457a-db39-d02d31c301e8"
      },
      "execution_count": 116,
      "outputs": [
        {
          "output_type": "execute_result",
          "data": {
            "text/plain": [
              "13495      Transporter\n",
              "12435    Station wagon\n",
              "12328    Station wagon\n",
              "632             Sedans\n",
              "6500            Sedans\n",
              "Name: Body_new, dtype: object"
            ]
          },
          "metadata": {},
          "execution_count": 116
        }
      ]
    },
    {
      "cell_type": "markdown",
      "source": [
        "**Nr. of Doors**"
      ],
      "metadata": {
        "id": "dk-75kmPTyk4"
      }
    },
    {
      "cell_type": "code",
      "source": [
        "df[\"Nr. of Doors\"].value_counts() \n",
        "#keep \n",
        "#fiyati etkiler"
      ],
      "metadata": {
        "colab": {
          "base_uri": "https://localhost:8080/",
          "height": 339
        },
        "id": "mvCHKM5cTf1K",
        "outputId": "dfd6622e-5263-4725-ef7a-255b7d94604b"
      },
      "execution_count": 117,
      "outputs": [
        {
          "output_type": "error",
          "ename": "TypeError",
          "evalue": "ignored",
          "traceback": [
            "\u001b[0;31m---------------------------------------------------------------------------\u001b[0m",
            "\u001b[0;31mTypeError\u001b[0m                                 Traceback (most recent call last)",
            "\u001b[0;32mpandas/_libs/hashtable_class_helper.pxi\u001b[0m in \u001b[0;36mpandas._libs.hashtable.PyObjectHashTable.map_locations\u001b[0;34m()\u001b[0m\n",
            "\u001b[0;31mTypeError\u001b[0m: unhashable type: 'list'"
          ]
        },
        {
          "output_type": "stream",
          "name": "stderr",
          "text": [
            "Exception ignored in: 'pandas._libs.index.IndexEngine._call_map_locations'\n",
            "Traceback (most recent call last):\n",
            "  File \"pandas/_libs/hashtable_class_helper.pxi\", line 5231, in pandas._libs.hashtable.PyObjectHashTable.map_locations\n",
            "TypeError: unhashable type: 'list'\n"
          ]
        },
        {
          "output_type": "execute_result",
          "data": {
            "text/plain": [
              "[\\n5\\n]    11575\n",
              "[\\n4\\n]     3079\n",
              "[\\n3\\n]      832\n",
              "[\\n2\\n]      219\n",
              "[\\n1\\n]        1\n",
              "[\\n7\\n]        1\n",
              "Name: Nr. of Doors, dtype: int64"
            ]
          },
          "metadata": {},
          "execution_count": 117
        }
      ]
    },
    {
      "cell_type": "code",
      "source": [
        "df[\"Nr. of Doors_new\"] =df[\"Nr. of Seats\"].str[0].str.strip(\"\\n\")"
      ],
      "metadata": {
        "id": "ERbMhgrvTfxX"
      },
      "execution_count": 118,
      "outputs": []
    },
    {
      "cell_type": "code",
      "source": [
        "df[\"Nr. of Doors_new\"].sample(5)"
      ],
      "metadata": {
        "colab": {
          "base_uri": "https://localhost:8080/"
        },
        "id": "8r-G9ATlTCzY",
        "outputId": "1b2f32aa-112b-4478-fbc0-2fc7b68372e5"
      },
      "execution_count": 119,
      "outputs": [
        {
          "output_type": "execute_result",
          "data": {
            "text/plain": [
              "13633    NaN\n",
              "8626       5\n",
              "13793      5\n",
              "11942      5\n",
              "184        5\n",
              "Name: Nr. of Doors_new, dtype: object"
            ]
          },
          "metadata": {},
          "execution_count": 119
        }
      ]
    },
    {
      "cell_type": "markdown",
      "source": [
        "**Nr. of Seats**"
      ],
      "metadata": {
        "id": "8_tSudASTFTR"
      }
    },
    {
      "cell_type": "code",
      "source": [
        "df[\"Nr. of Seats\"].value_counts() \n",
        "#keep \n",
        "#fiyati etkiler"
      ],
      "metadata": {
        "colab": {
          "base_uri": "https://localhost:8080/",
          "height": 339
        },
        "id": "QPcVtUfCTCvI",
        "outputId": "664a9f99-7d72-4f9a-f3f7-601d18ea05ba"
      },
      "execution_count": 120,
      "outputs": [
        {
          "output_type": "error",
          "ename": "TypeError",
          "evalue": "ignored",
          "traceback": [
            "\u001b[0;31m---------------------------------------------------------------------------\u001b[0m",
            "\u001b[0;31mTypeError\u001b[0m                                 Traceback (most recent call last)",
            "\u001b[0;32mpandas/_libs/hashtable_class_helper.pxi\u001b[0m in \u001b[0;36mpandas._libs.hashtable.PyObjectHashTable.map_locations\u001b[0;34m()\u001b[0m\n",
            "\u001b[0;31mTypeError\u001b[0m: unhashable type: 'list'"
          ]
        },
        {
          "output_type": "stream",
          "name": "stderr",
          "text": [
            "Exception ignored in: 'pandas._libs.index.IndexEngine._call_map_locations'\n",
            "Traceback (most recent call last):\n",
            "  File \"pandas/_libs/hashtable_class_helper.pxi\", line 5231, in pandas._libs.hashtable.PyObjectHashTable.map_locations\n",
            "TypeError: unhashable type: 'list'\n"
          ]
        },
        {
          "output_type": "execute_result",
          "data": {
            "text/plain": [
              "[\\n5\\n]    13336\n",
              "[\\n4\\n]     1125\n",
              "[\\n7\\n]      362\n",
              "[\\n2\\n]      116\n",
              "[\\n6\\n]        2\n",
              "[\\n3\\n]        1\n",
              "Name: Nr. of Seats, dtype: int64"
            ]
          },
          "metadata": {},
          "execution_count": 120
        }
      ]
    },
    {
      "cell_type": "code",
      "source": [
        "df[\"Nr. of Seats_new\"] =df[\"Nr. of Seats\"].str[0].str.strip(\"\\n\")"
      ],
      "metadata": {
        "id": "vIDV7DoYTCsI"
      },
      "execution_count": 121,
      "outputs": []
    },
    {
      "cell_type": "code",
      "source": [
        "df[\"Nr. of Seats_new\"].sample(5)"
      ],
      "metadata": {
        "colab": {
          "base_uri": "https://localhost:8080/"
        },
        "id": "p1uHVindTCpJ",
        "outputId": "5416d3d9-5c51-48f4-e29b-4fa9694e57c0"
      },
      "execution_count": 122,
      "outputs": [
        {
          "output_type": "execute_result",
          "data": {
            "text/plain": [
              "11888    5\n",
              "14090    5\n",
              "9899     5\n",
              "6567     5\n",
              "2071     5\n",
              "Name: Nr. of Seats_new, dtype: object"
            ]
          },
          "metadata": {},
          "execution_count": 122
        }
      ]
    },
    {
      "cell_type": "markdown",
      "source": [
        "**Model Code**"
      ],
      "metadata": {
        "id": "Fl3sHVE1SRZi"
      }
    },
    {
      "cell_type": "code",
      "source": [
        "df[\"Model Code\"].value_counts() \n",
        "#drop et  id gibi nolar var icinde"
      ],
      "metadata": {
        "colab": {
          "base_uri": "https://localhost:8080/",
          "height": 426
        },
        "id": "My-DxtTwRiYU",
        "outputId": "95738f68-9630-4d17-d910-4f459b6de7e0"
      },
      "execution_count": 123,
      "outputs": [
        {
          "output_type": "error",
          "ename": "TypeError",
          "evalue": "ignored",
          "traceback": [
            "\u001b[0;31m---------------------------------------------------------------------------\u001b[0m",
            "\u001b[0;31mTypeError\u001b[0m                                 Traceback (most recent call last)",
            "\u001b[0;32mpandas/_libs/hashtable_class_helper.pxi\u001b[0m in \u001b[0;36mpandas._libs.hashtable.PyObjectHashTable.map_locations\u001b[0;34m()\u001b[0m\n",
            "\u001b[0;31mTypeError\u001b[0m: unhashable type: 'list'"
          ]
        },
        {
          "output_type": "stream",
          "name": "stderr",
          "text": [
            "Exception ignored in: 'pandas._libs.index.IndexEngine._call_map_locations'\n",
            "Traceback (most recent call last):\n",
            "  File \"pandas/_libs/hashtable_class_helper.pxi\", line 5231, in pandas._libs.hashtable.PyObjectHashTable.map_locations\n",
            "TypeError: unhashable type: 'list'\n"
          ]
        },
        {
          "output_type": "execute_result",
          "data": {
            "text/plain": [
              "[\\n0035/BCB\\n]    268\n",
              "[\\n0588/BNO\\n]    245\n",
              "[\\n0588/BDB\\n]    206\n",
              "[\\n0588/BHX\\n]    188\n",
              "[\\n1844/ADJ\\n]    175\n",
              "                 ... \n",
              "[\\n0000/ACP\\n]      1\n",
              "[\\n0035/BGY\\n]      1\n",
              "[\\n0035/bgp\\n]      1\n",
              "[\\n0035/BGS\\n]      1\n",
              "[\\n3333/BKG\\n]      1\n",
              "Name: Model Code, Length: 232, dtype: int64"
            ]
          },
          "metadata": {},
          "execution_count": 123
        }
      ]
    },
    {
      "cell_type": "code",
      "source": [
        "df[\"Model Code_new\"] =df[\"Model Code\"].str[0].str.strip(\"\\n\")"
      ],
      "metadata": {
        "id": "tjCLh9rxRiUo"
      },
      "execution_count": 124,
      "outputs": []
    },
    {
      "cell_type": "code",
      "source": [
        "df[\"Model Code_new\"].sample(5)"
      ],
      "metadata": {
        "colab": {
          "base_uri": "https://localhost:8080/"
        },
        "id": "o_CPFZLSRiAP",
        "outputId": "f44a386c-b64a-4ac4-fdef-f393084713a2"
      },
      "execution_count": 125,
      "outputs": [
        {
          "output_type": "execute_result",
          "data": {
            "text/plain": [
              "11186    0035/BEL\n",
              "5459     0588/BLL\n",
              "10064    1844/ADJ\n",
              "14060         NaN\n",
              "8572          NaN\n",
              "Name: Model Code_new, dtype: object"
            ]
          },
          "metadata": {},
          "execution_count": 125
        }
      ]
    },
    {
      "cell_type": "markdown",
      "source": [
        "**Gearing Type**"
      ],
      "metadata": {
        "id": "f6oibpdYRni2"
      }
    },
    {
      "cell_type": "code",
      "source": [
        "df[\"Gearing Type\"].value_counts() \n",
        "#otomatik manual semi otomotik  3 tip vites var \n",
        "#fyati etkiler\n",
        "#keep"
      ],
      "metadata": {
        "colab": {
          "base_uri": "https://localhost:8080/",
          "height": 287
        },
        "id": "PQjn7pr5Rh8l",
        "outputId": "c2a875f9-7f2f-4c00-b62c-3cb5330cc1be"
      },
      "execution_count": 126,
      "outputs": [
        {
          "output_type": "error",
          "ename": "TypeError",
          "evalue": "ignored",
          "traceback": [
            "\u001b[0;31m---------------------------------------------------------------------------\u001b[0m",
            "\u001b[0;31mTypeError\u001b[0m                                 Traceback (most recent call last)",
            "\u001b[0;32mpandas/_libs/hashtable_class_helper.pxi\u001b[0m in \u001b[0;36mpandas._libs.hashtable.PyObjectHashTable.map_locations\u001b[0;34m()\u001b[0m\n",
            "\u001b[0;31mTypeError\u001b[0m: unhashable type: 'list'"
          ]
        },
        {
          "output_type": "stream",
          "name": "stderr",
          "text": [
            "Exception ignored in: 'pandas._libs.index.IndexEngine._call_map_locations'\n",
            "Traceback (most recent call last):\n",
            "  File \"pandas/_libs/hashtable_class_helper.pxi\", line 5231, in pandas._libs.hashtable.PyObjectHashTable.map_locations\n",
            "TypeError: unhashable type: 'list'\n"
          ]
        },
        {
          "output_type": "execute_result",
          "data": {
            "text/plain": [
              "[\\n, Manual, \\n]            8153\n",
              "[\\n, Automatic, \\n]         7297\n",
              "[\\n, Semi-automatic, \\n]     469\n",
              "Name: Gearing Type, dtype: int64"
            ]
          },
          "metadata": {},
          "execution_count": 126
        }
      ]
    },
    {
      "cell_type": "code",
      "source": [
        "df[\"Gearing Type_new\"] =df[\"Gearing Type\"].str[1].str.strip(\"\\n\")"
      ],
      "metadata": {
        "id": "-02vq0oiRh5Y"
      },
      "execution_count": 129,
      "outputs": []
    },
    {
      "cell_type": "code",
      "source": [
        "df[\"Gearing Type_new\"].sample(5)"
      ],
      "metadata": {
        "colab": {
          "base_uri": "https://localhost:8080/"
        },
        "id": "6R8fm1fKRh2U",
        "outputId": "e5a9e3bd-cd22-47d4-8580-b15393d28175"
      },
      "execution_count": 130,
      "outputs": [
        {
          "output_type": "execute_result",
          "data": {
            "text/plain": [
              "10733    Automatic\n",
              "8685        Manual\n",
              "15683    Automatic\n",
              "13081    Automatic\n",
              "7551        Manual\n",
              "Name: Gearing Type_new, dtype: object"
            ]
          },
          "metadata": {},
          "execution_count": 130
        }
      ]
    },
    {
      "cell_type": "markdown",
      "source": [
        "**Displacement**"
      ],
      "metadata": {
        "id": "y0T_0KafQ7Xq"
      }
    },
    {
      "cell_type": "code",
      "source": [
        "df[\"Displacement\"].value_counts() \n",
        "#cc leri temizleyelim :)\n",
        "#motor gucu onemli fiyat icin \n",
        "#keep "
      ],
      "metadata": {
        "colab": {
          "base_uri": "https://localhost:8080/",
          "height": 1000
        },
        "id": "O5uazW_UQyRn",
        "outputId": "979f1ad4-cc0e-49d0-b164-e859b61828a4"
      },
      "execution_count": 131,
      "outputs": [
        {
          "output_type": "error",
          "ename": "TypeError",
          "evalue": "ignored",
          "traceback": [
            "\u001b[0;31m---------------------------------------------------------------------------\u001b[0m",
            "\u001b[0;31mTypeError\u001b[0m                                 Traceback (most recent call last)",
            "\u001b[0;32mpandas/_libs/hashtable_class_helper.pxi\u001b[0m in \u001b[0;36mpandas._libs.hashtable.PyObjectHashTable.map_locations\u001b[0;34m()\u001b[0m\n",
            "\u001b[0;31mTypeError\u001b[0m: unhashable type: 'list'"
          ]
        },
        {
          "output_type": "stream",
          "name": "stderr",
          "text": [
            "Exception ignored in: 'pandas._libs.index.IndexEngine._call_map_locations'\n",
            "Traceback (most recent call last):\n",
            "  File \"pandas/_libs/hashtable_class_helper.pxi\", line 5231, in pandas._libs.hashtable.PyObjectHashTable.map_locations\n",
            "TypeError: unhashable type: 'list'\n"
          ]
        },
        {
          "output_type": "execute_result",
          "data": {
            "text/plain": [
              "[\\n1,598 cc\\n]     4761\n",
              "[\\n999 cc\\n]       2438\n",
              "[\\n1,398 cc\\n]     1314\n",
              "[\\n1,399 cc\\n]      749\n",
              "[\\n1,229 cc\\n]      677\n",
              "[\\n1,956 cc\\n]      670\n",
              "[\\n1,461 cc\\n]      595\n",
              "[\\n1,490 cc\\n]      559\n",
              "[\\n1,422 cc\\n]      467\n",
              "[\\n1,197 cc\\n]      353\n",
              "[\\n898 cc\\n]        351\n",
              "[\\n1,395 cc\\n]      320\n",
              "[\\n1,968 cc\\n]      301\n",
              "[\\n1,149 cc\\n]      288\n",
              "[\\n1,618 cc\\n]      212\n",
              "[\\n1,798 cc\\n]      210\n",
              "[\\n1,498 cc\\n]      196\n",
              "[\\n1,600 cc\\n]      130\n",
              "[\\n1,248 cc\\n]      110\n",
              "[\\n1,997 cc\\n]      103\n",
              "[\\n1,364 cc\\n]      102\n",
              "[\\n1,400 cc\\n]       90\n",
              "[\\n998 cc\\n]         72\n",
              "[\\n1,500 cc\\n]       50\n",
              "[\\n2,000 cc\\n]       46\n",
              "[\\n1,000 cc\\n]       40\n",
              "[\\n1 cc\\n]           36\n",
              "[\\n1,998 cc\\n]       25\n",
              "[\\n2,480 cc\\n]       20\n",
              "[\\n1,200 cc\\n]       18\n",
              "[\\n1,984 cc\\n]       18\n",
              "[\\n1,397 cc\\n]       11\n",
              "[\\n899 cc\\n]         11\n",
              "[\\n160 cc\\n]          6\n",
              "[\\n929 cc\\n]          5\n",
              "[\\n1,499 cc\\n]        5\n",
              "[\\n997 cc\\n]          4\n",
              "[\\n1,596 cc\\n]        4\n",
              "[\\n139 cc\\n]          4\n",
              "[\\n900 cc\\n]          4\n",
              "[\\n1,599 cc\\n]        3\n",
              "[\\n1,199 cc\\n]        3\n",
              "[\\n1,396 cc\\n]        3\n",
              "[\\n1,495 cc\\n]        2\n",
              "[\\n1,589 cc\\n]        2\n",
              "[\\n1,300 cc\\n]        2\n",
              "[\\n2 cc\\n]            2\n",
              "[\\n995 cc\\n]          2\n",
              "[\\n1,496 cc\\n]        1\n",
              "[\\n890 cc\\n]          1\n",
              "[\\n1,580 cc\\n]        1\n",
              "[\\n1,995 cc\\n]        1\n",
              "[\\n1,333 cc\\n]        1\n",
              "[\\n54 cc\\n]           1\n",
              "[\\n1,533 cc\\n]        1\n",
              "[\\n1,100 cc\\n]        1\n",
              "[\\n1,350 cc\\n]        1\n",
              "[\\n16,000 cc\\n]       1\n",
              "[\\n1,856 cc\\n]        1\n",
              "[\\n1,568 cc\\n]        1\n",
              "[\\n1,896 cc\\n]        1\n",
              "[\\n1,584 cc\\n]        1\n",
              "[\\n996 cc\\n]          1\n",
              "[\\n1,696 cc\\n]        1\n",
              "[\\n1,686 cc\\n]        1\n",
              "[\\n15,898 cc\\n]       1\n",
              "[\\n1,368 cc\\n]        1\n",
              "[\\n140 cc\\n]          1\n",
              "[\\n973 cc\\n]          1\n",
              "[\\n1,239 cc\\n]        1\n",
              "[\\n1,369 cc\\n]        1\n",
              "[\\n1,390 cc\\n]        1\n",
              "[\\n122 cc\\n]          1\n",
              "[\\n1,198 cc\\n]        1\n",
              "[\\n1,195 cc\\n]        1\n",
              "[\\n2,967 cc\\n]        1\n",
              "[\\n1,800 cc\\n]        1\n",
              "Name: Displacement, dtype: int64"
            ]
          },
          "metadata": {},
          "execution_count": 131
        }
      ]
    },
    {
      "cell_type": "code",
      "source": [
        "df[\"Displacement_new\"] =df[\"Displacement\"].str[0].str.strip(\"\\n kg\").str.replace(\",\",\".\")"
      ],
      "metadata": {
        "id": "iWbsQ8ClQyOm"
      },
      "execution_count": 132,
      "outputs": []
    },
    {
      "cell_type": "code",
      "source": [
        "df[\"Displacement_new\"].value_counts()"
      ],
      "metadata": {
        "colab": {
          "base_uri": "https://localhost:8080/"
        },
        "id": "f3ULkottQyLG",
        "outputId": "0949d0fb-380c-442c-e0e8-1706a6a1c603"
      },
      "execution_count": 133,
      "outputs": [
        {
          "output_type": "execute_result",
          "data": {
            "text/plain": [
              "1.598 cc     4761\n",
              "999 cc       2438\n",
              "1.398 cc     1314\n",
              "1.399 cc      749\n",
              "1.229 cc      677\n",
              "1.956 cc      670\n",
              "1.461 cc      595\n",
              "1.490 cc      559\n",
              "1.422 cc      467\n",
              "1.197 cc      353\n",
              "898 cc        351\n",
              "1.395 cc      320\n",
              "1.968 cc      301\n",
              "1.149 cc      288\n",
              "1.618 cc      212\n",
              "1.798 cc      210\n",
              "1.498 cc      196\n",
              "1.600 cc      130\n",
              "1.248 cc      110\n",
              "1.997 cc      103\n",
              "1.364 cc      102\n",
              "1.400 cc       90\n",
              "998 cc         72\n",
              "1.500 cc       50\n",
              "2.000 cc       46\n",
              "1.000 cc       40\n",
              "1 cc           36\n",
              "1.998 cc       25\n",
              "2.480 cc       20\n",
              "1.200 cc       18\n",
              "1.984 cc       18\n",
              "1.397 cc       11\n",
              "899 cc         11\n",
              "160 cc          6\n",
              "929 cc          5\n",
              "1.499 cc        5\n",
              "997 cc          4\n",
              "1.596 cc        4\n",
              "139 cc          4\n",
              "900 cc          4\n",
              "1.599 cc        3\n",
              "1.199 cc        3\n",
              "1.396 cc        3\n",
              "1.495 cc        2\n",
              "1.589 cc        2\n",
              "1.300 cc        2\n",
              "2 cc            2\n",
              "995 cc          2\n",
              "1.496 cc        1\n",
              "890 cc          1\n",
              "1.580 cc        1\n",
              "1.995 cc        1\n",
              "1.333 cc        1\n",
              "54 cc           1\n",
              "1.533 cc        1\n",
              "1.100 cc        1\n",
              "1.350 cc        1\n",
              "16.000 cc       1\n",
              "1.856 cc        1\n",
              "1.568 cc        1\n",
              "1.896 cc        1\n",
              "1.584 cc        1\n",
              "996 cc          1\n",
              "1.696 cc        1\n",
              "1.686 cc        1\n",
              "15.898 cc       1\n",
              "1.368 cc        1\n",
              "140 cc          1\n",
              "973 cc          1\n",
              "1.239 cc        1\n",
              "1.369 cc        1\n",
              "1.390 cc        1\n",
              "122 cc          1\n",
              "1.198 cc        1\n",
              "1.195 cc        1\n",
              "2.967 cc        1\n",
              "1.800 cc        1\n",
              "Name: Displacement_new, dtype: int64"
            ]
          },
          "metadata": {},
          "execution_count": 133
        }
      ]
    },
    {
      "cell_type": "markdown",
      "source": [
        "**Cylinders**"
      ],
      "metadata": {
        "id": "aeCq7dR9QzMM"
      }
    },
    {
      "cell_type": "code",
      "source": [
        "df[\"Cylinders\"].value_counts() \n",
        "#iliskili oldugunsutunnyok \n",
        "#keep ediyoruz"
      ],
      "metadata": {
        "colab": {
          "base_uri": "https://localhost:8080/",
          "height": 356
        },
        "id": "CQfswrw2QOIs",
        "outputId": "293075e3-716c-41fe-9a6e-7befe6df7827"
      },
      "execution_count": 131,
      "outputs": [
        {
          "output_type": "error",
          "ename": "TypeError",
          "evalue": "ignored",
          "traceback": [
            "\u001b[0;31m---------------------------------------------------------------------------\u001b[0m",
            "\u001b[0;31mTypeError\u001b[0m                                 Traceback (most recent call last)",
            "\u001b[0;32mpandas/_libs/hashtable_class_helper.pxi\u001b[0m in \u001b[0;36mpandas._libs.hashtable.PyObjectHashTable.map_locations\u001b[0;34m()\u001b[0m\n",
            "\u001b[0;31mTypeError\u001b[0m: unhashable type: 'list'"
          ]
        },
        {
          "output_type": "stream",
          "name": "stderr",
          "text": [
            "Exception ignored in: 'pandas._libs.index.IndexEngine._call_map_locations'\n",
            "Traceback (most recent call last):\n",
            "  File \"pandas/_libs/hashtable_class_helper.pxi\", line 5231, in pandas._libs.hashtable.PyObjectHashTable.map_locations\n",
            "TypeError: unhashable type: 'list'\n"
          ]
        },
        {
          "output_type": "execute_result",
          "data": {
            "text/plain": [
              "[\\n4\\n]    8105\n",
              "[\\n3\\n]    2104\n",
              "[\\n5\\n]      22\n",
              "[\\n6\\n]       3\n",
              "[\\n8\\n]       2\n",
              "[\\n2\\n]       2\n",
              "[\\n1\\n]       1\n",
              "Name: Cylinders, dtype: int64"
            ]
          },
          "metadata": {},
          "execution_count": 131
        }
      ]
    },
    {
      "cell_type": "code",
      "source": [
        "df[\"Cylinders_new\"] =df[\"Cylinders\"].str[0].str.strip(\"\\n\")"
      ],
      "metadata": {
        "id": "PA7j_GzdQN9r"
      },
      "execution_count": 134,
      "outputs": []
    },
    {
      "cell_type": "code",
      "source": [
        "df[\"Cylinders\"].sample(5)"
      ],
      "metadata": {
        "colab": {
          "base_uri": "https://localhost:8080/"
        },
        "id": "IS02_vPGQN3T",
        "outputId": "d1d2442b-7ccc-42e1-f982-d67ed9660c02"
      },
      "execution_count": 135,
      "outputs": [
        {
          "output_type": "execute_result",
          "data": {
            "text/plain": [
              "4835       4\n",
              "14667      3\n",
              "5327     NaN\n",
              "2401       3\n",
              "117        4\n",
              "Name: Cylinders, dtype: object"
            ]
          },
          "metadata": {},
          "execution_count": 135
        }
      ]
    },
    {
      "cell_type": "markdown",
      "source": [
        "**Weight**"
      ],
      "metadata": {
        "id": "g_5NG6Y9N4yX"
      }
    },
    {
      "cell_type": "code",
      "source": [
        "df[\"Weight\"].value_counts() \n",
        "#fiyat ile cok alakali degil \n",
        "#drop edilebilir yaris arabsi degil sonucta :)"
      ],
      "metadata": {
        "colab": {
          "base_uri": "https://localhost:8080/",
          "height": 426
        },
        "id": "CifZqbFsN8HQ",
        "outputId": "34d6f686-05e5-42e0-badb-5483a74f757b"
      },
      "execution_count": 125,
      "outputs": [
        {
          "output_type": "error",
          "ename": "TypeError",
          "evalue": "ignored",
          "traceback": [
            "\u001b[0;31m---------------------------------------------------------------------------\u001b[0m",
            "\u001b[0;31mTypeError\u001b[0m                                 Traceback (most recent call last)",
            "\u001b[0;32mpandas/_libs/hashtable_class_helper.pxi\u001b[0m in \u001b[0;36mpandas._libs.hashtable.PyObjectHashTable.map_locations\u001b[0;34m()\u001b[0m\n",
            "\u001b[0;31mTypeError\u001b[0m: unhashable type: 'list'"
          ]
        },
        {
          "output_type": "stream",
          "name": "stderr",
          "text": [
            "Exception ignored in: 'pandas._libs.index.IndexEngine._call_map_locations'\n",
            "Traceback (most recent call last):\n",
            "  File \"pandas/_libs/hashtable_class_helper.pxi\", line 5231, in pandas._libs.hashtable.PyObjectHashTable.map_locations\n",
            "TypeError: unhashable type: 'list'\n"
          ]
        },
        {
          "output_type": "execute_result",
          "data": {
            "text/plain": [
              "[\\n1,163 kg\\n]    574\n",
              "[\\n1,360 kg\\n]    356\n",
              "[\\n1,165 kg\\n]    301\n",
              "[\\n1,335 kg\\n]    242\n",
              "[\\n1,135 kg\\n]    213\n",
              "                 ... \n",
              "[\\n1,331 kg\\n]      1\n",
              "[\\n1,132 kg\\n]      1\n",
              "[\\n1,252 kg\\n]      1\n",
              "[\\n1,792 kg\\n]      1\n",
              "[\\n2,037 kg\\n]      1\n",
              "Name: Weight, Length: 434, dtype: int64"
            ]
          },
          "metadata": {},
          "execution_count": 125
        }
      ]
    },
    {
      "cell_type": "code",
      "source": [
        "df[\"Weight_new\"] =df[\"Weight\"].str[0].str.strip(\"\\n kg\").str.replace(\",\",\".\")"
      ],
      "metadata": {
        "id": "mWkWq65CN8cx"
      },
      "execution_count": 128,
      "outputs": []
    },
    {
      "cell_type": "code",
      "source": [
        ""
      ],
      "metadata": {
        "id": "A_VAz83jOutb"
      },
      "execution_count": null,
      "outputs": []
    },
    {
      "cell_type": "code",
      "source": [
        "df[\"Weight_new\"].value_counts()"
      ],
      "metadata": {
        "colab": {
          "base_uri": "https://localhost:8080/"
        },
        "id": "bzC-ZmIXN8Yy",
        "outputId": "dfd6c056-df48-4784-ad29-14768f08ae65"
      },
      "execution_count": 129,
      "outputs": [
        {
          "output_type": "execute_result",
          "data": {
            "text/plain": [
              "1.163    574\n",
              "1.360    356\n",
              "1.165    301\n",
              "1.335    242\n",
              "1.135    213\n",
              "        ... \n",
              "1.331      1\n",
              "1.132      1\n",
              "1.252      1\n",
              "1.792      1\n",
              "2.037      1\n",
              "Name: Weight_new, Length: 434, dtype: int64"
            ]
          },
          "metadata": {},
          "execution_count": 129
        }
      ]
    },
    {
      "cell_type": "markdown",
      "source": [
        "\n",
        "**Drive chain**\n",
        "\n"
      ],
      "metadata": {
        "id": "V5YNN4RXNI45"
      }
    },
    {
      "cell_type": "code",
      "source": [
        "df[\"Drive chain\"].value_counts() \n",
        "#on arka 4x4olmak uyzere 3 tane\n",
        "#keep "
      ],
      "metadata": {
        "colab": {
          "base_uri": "https://localhost:8080/",
          "height": 287
        },
        "id": "-djQ1TDWNOir",
        "outputId": "8ef53f23-def9-4e28-a42a-5a60c113bc3c"
      },
      "execution_count": 122,
      "outputs": [
        {
          "output_type": "error",
          "ename": "TypeError",
          "evalue": "ignored",
          "traceback": [
            "\u001b[0;31m---------------------------------------------------------------------------\u001b[0m",
            "\u001b[0;31mTypeError\u001b[0m                                 Traceback (most recent call last)",
            "\u001b[0;32mpandas/_libs/hashtable_class_helper.pxi\u001b[0m in \u001b[0;36mpandas._libs.hashtable.PyObjectHashTable.map_locations\u001b[0;34m()\u001b[0m\n",
            "\u001b[0;31mTypeError\u001b[0m: unhashable type: 'list'"
          ]
        },
        {
          "output_type": "stream",
          "name": "stderr",
          "text": [
            "Exception ignored in: 'pandas._libs.index.IndexEngine._call_map_locations'\n",
            "Traceback (most recent call last):\n",
            "  File \"pandas/_libs/hashtable_class_helper.pxi\", line 5231, in pandas._libs.hashtable.PyObjectHashTable.map_locations\n",
            "TypeError: unhashable type: 'list'\n"
          ]
        },
        {
          "output_type": "execute_result",
          "data": {
            "text/plain": [
              "[\\nfront\\n]    8886\n",
              "[\\n4WD\\n]       171\n",
              "[\\nrear\\n]        4\n",
              "Name: Drive chain, dtype: int64"
            ]
          },
          "metadata": {},
          "execution_count": 122
        }
      ]
    },
    {
      "cell_type": "code",
      "source": [
        "df[\"Drive chain_new\"] =df[\"Drive chain\"].str[0].str.strip(\"\\n\")"
      ],
      "metadata": {
        "id": "QDJ0IqRzNOeY"
      },
      "execution_count": 123,
      "outputs": []
    },
    {
      "cell_type": "code",
      "source": [
        "df[\"Drive chain_new\"].value_counts()"
      ],
      "metadata": {
        "colab": {
          "base_uri": "https://localhost:8080/"
        },
        "id": "sxWL_XleNfU7",
        "outputId": "bbedc729-a155-4154-85e9-9e077bfabe97"
      },
      "execution_count": 124,
      "outputs": [
        {
          "output_type": "execute_result",
          "data": {
            "text/plain": [
              "front    8886\n",
              "4WD       171\n",
              "rear        4\n",
              "Name: Drive chain_new, dtype: int64"
            ]
          },
          "metadata": {},
          "execution_count": 124
        }
      ]
    },
    {
      "cell_type": "code",
      "source": [
        ""
      ],
      "metadata": {
        "id": "2ViQ8q0NNfPJ"
      },
      "execution_count": null,
      "outputs": []
    },
    {
      "cell_type": "markdown",
      "source": [
        "**Fuel**"
      ],
      "metadata": {
        "id": "aGUJSAbsG4b0"
      }
    },
    {
      "cell_type": "code",
      "source": [
        "df[\"Fuel\"].value_counts() \n",
        "#bunu tut\n",
        "#duzenleme sini yap disel lpg benzin elektrikli olarak4 grup ayiralacak \n",
        "#islemleri burda yapildi"
      ],
      "metadata": {
        "colab": {
          "base_uri": "https://localhost:8080/",
          "height": 1000
        },
        "id": "016WREGqDSCW",
        "outputId": "10b1eb99-00db-4659-a144-1ca35de5ecae"
      },
      "execution_count": 135,
      "outputs": [
        {
          "output_type": "error",
          "ename": "TypeError",
          "evalue": "ignored",
          "traceback": [
            "\u001b[0;31m---------------------------------------------------------------------------\u001b[0m",
            "\u001b[0;31mTypeError\u001b[0m                                 Traceback (most recent call last)",
            "\u001b[0;32mpandas/_libs/hashtable_class_helper.pxi\u001b[0m in \u001b[0;36mpandas._libs.hashtable.PyObjectHashTable.map_locations\u001b[0;34m()\u001b[0m\n",
            "\u001b[0;31mTypeError\u001b[0m: unhashable type: 'list'"
          ]
        },
        {
          "output_type": "stream",
          "name": "stderr",
          "text": [
            "Exception ignored in: 'pandas._libs.index.IndexEngine._call_map_locations'\n",
            "Traceback (most recent call last):\n",
            "  File \"pandas/_libs/hashtable_class_helper.pxi\", line 5231, in pandas._libs.hashtable.PyObjectHashTable.map_locations\n",
            "TypeError: unhashable type: 'list'\n"
          ]
        },
        {
          "output_type": "execute_result",
          "data": {
            "text/plain": [
              "[\\n, Diesel (Particulate Filter), \\n]                                                                                                       4315\n",
              "[\\n, Super 95, \\n]                                                                                                                          3338\n",
              "[\\n, Gasoline, \\n]                                                                                                                          3175\n",
              "[\\n, Diesel, \\n]                                                                                                                            2984\n",
              "[\\n, Super 95 / Regular/Benzine 91, \\n]                                                                                                      424\n",
              "[\\n, Regular/Benzine 91, \\n]                                                                                                                 354\n",
              "[\\n, Super E10 95, \\n]                                                                                                                       331\n",
              "[\\n, Super 95 (Particulate Filter), \\n]                                                                                                      268\n",
              "[\\n, Super 95 / Super E10 95, \\n]                                                                                                            131\n",
              "[\\n, Regular/Benzine 91 (Particulate Filter), \\n]                                                                                            100\n",
              "[\\n, Super 95 / Super Plus 98, \\n]                                                                                                            85\n",
              "[\\n, Gasoline (Particulate Filter), \\n]                                                                                                       77\n",
              "[\\n, Super 95 / Super Plus 98 / Super E10 95 / Super Plus E10 98, \\n]                                                                         40\n",
              "[\\n, Super E10 95 / Super 95, \\n]                                                                                                             38\n",
              "[\\n, CNG, \\n]                                                                                                                                 33\n",
              "[\\n, Super 95 / Super E10 95 (Particulate Filter), \\n]                                                                                        25\n",
              "[\\n, Super E10 95 / Super 95 / Super Plus 98 / Super Plus E10 98, \\n]                                                                         19\n",
              "[\\n, LPG, \\n]                                                                                                                                 16\n",
              "[\\n, Super 95 / Super Plus 98 (Particulate Filter), \\n]                                                                                       14\n",
              "[\\n, Regular/Benzine 91 / Super 95 / Super Plus 98 / Regular/Benzine E10 91 / Super E10 95 / Super Plus E10 98, \\n]                           13\n",
              "[\\n, Regular/Benzine E10 91, \\n]                                                                                                              11\n",
              "[\\n, Liquid petroleum gas (LPG), \\n]                                                                                                          10\n",
              "[\\n, Super 95 / Super Plus 98 / Super E10 95, \\n]                                                                                              8\n",
              "[\\n, Regular/Benzine 91 / Regular/Benzine E10 91, \\n]                                                                                          7\n",
              "[\\n, Super 95 / Regular/Benzine 91 / Super Plus 98 / Regular/Benzine E10 91 / Super E10 95 / Super Plus E10 98, \\n]                            7\n",
              "[\\n, Super Plus 98, \\n]                                                                                                                        7\n",
              "[\\n, Super E10 95 (Particulate Filter), \\n]                                                                                                    7\n",
              "[\\n, Super 95 / Super Plus 98 / Super Plus E10 98 / Super E10 95, \\n]                                                                          5\n",
              "[\\n, Others, \\n]                                                                                                                               5\n",
              "[\\n, Super E10 95 / Super Plus E10 98, \\n]                                                                                                     4\n",
              "[\\n, Electric/Gasoline, \\n]                                                                                                                    4\n",
              "[\\n, Super 95 / Super Plus 98 / Super E10 95 / Super Plus E10 98 (Particulate Filter), \\n]                                                     4\n",
              "[\\n, Super 95 / Super E10 95 / Super Plus E10 98 / Super Plus 98, \\n]                                                                          4\n",
              "[\\n, Regular/Benzine 91 / Super 95 / Super Plus 98 / Regular/Benzine E10 91 / Super Plus E10 98 / Super E10 95, \\n]                            4\n",
              "[\\n, CNG (Particulate Filter), \\n]                                                                                                             3\n",
              "[\\n, Super E10 95 / Super 95 / Super Plus 98 / Super Plus E10 98 (Particulate Filter), \\n]                                                     3\n",
              "[\\n, Super E10 95 / Super 95 / Super Plus 98, \\n]                                                                                              3\n",
              "[\\n, Super E10 95 / Regular/Benzine 91, \\n]                                                                                                    2\n",
              "[\\n, Super 95 / Regular/Benzine 91 / Super Plus 98, \\n]                                                                                        2\n",
              "[\\n, Regular/Benzine 91 / Super 95 / Super Plus 98 / Super Plus E10 98 / Super E10 95 / Regular/Benzine E10 91, \\n]                            2\n",
              "[\\n, Regular/Benzine 91 / Super 95 / Super E10 95, \\n]                                                                                         1\n",
              "[\\n, Electric, \\n]                                                                                                                             1\n",
              "[\\n, Regular/Benzine 91 / Super 95 / Super E10 95 / Super Plus E10 98 / Super Plus 98 / Regular/Benzine E10 91, \\n]                            1\n",
              "[\\n, Super 95 / Super E10 95 / Super Plus E10 98, \\n]                                                                                          1\n",
              "[\\n, Super 95 / Super E10 95 / Super Plus 98, \\n]                                                                                              1\n",
              "[\\n, Regular/Benzine 91 / Super 95 / Super Plus E10 98 / Super E10 95 / Regular/Benzine E10 91 / Super Plus 98, \\n]                            1\n",
              "[\\n, Super 95 / Super Plus 98 / Regular/Benzine E10 91 / Super Plus E10 98 / Super E10 95 / Regular/Benzine 91, \\n]                            1\n",
              "[\\n, Super 95 / Regular/Benzine E10 91, \\n]                                                                                                    1\n",
              "[\\n, Super E10 95 / Regular/Benzine 91 / Regular/Benzine E10 91 / Super 95, \\n]                                                                1\n",
              "[\\n, Super Plus 98 / Regular/Benzine 91, \\n]                                                                                                   1\n",
              "[\\n, Super 95 / Regular/Benzine 91 / Super E10 95 / Super Plus 98 / Super Plus E10 98 / Regular/Benzine E10 91, \\n]                            1\n",
              "[\\n, Super 95 / Super Plus 98 / Super Plus E10 98, \\n]                                                                                         1\n",
              "[\\n, Super 95 / Regular/Benzine 91 (Particulate Filter), \\n]                                                                                   1\n",
              "[\\n, Super 95 / Super E10 95 / Regular/Benzine 91, \\n]                                                                                         1\n",
              "[\\n, Regular/Benzine 91 / Super 95 / Super E10 95 / Regular/Benzine E10 91, \\n]                                                                1\n",
              "[\\n, Super 95 / Regular/Benzine E10 91 / Super E10 95, \\n]                                                                                     1\n",
              "[\\n, Super 95 / Regular/Benzine 91 / Super Plus 98 / Regular/Benzine E10 91 / Super Plus E10 98 / Super E10 95, \\n]                            1\n",
              "[\\n, Regular/Benzine E10 91 / Super E10 95 / Super Plus E10 98 / Super Plus 98 / Super 95 / Regular/Benzine 91, \\n]                            1\n",
              "[\\n, Super 95 / Regular/Benzine 91 / Super E10 95 / Super Plus E10 98 / Super Plus 98, \\n]                                                     1\n",
              "[\\n, Others (Particulate Filter), \\n]                                                                                                          1\n",
              "[\\n, Biogas, \\n]                                                                                                                               1\n",
              "[\\n, Super 95 / Biodiesel, \\n]                                                                                                                 1\n",
              "[\\n, Regular/Benzine 91 / Super 95 / Super Plus 98 / Super Plus E10 98 / Super E10 95 / Regular/Benzine E10 91 (Particulate Filter), \\n]       1\n",
              "[\\n, Regular/Benzine 91 / Super 95 / Super Plus 98, \\n]                                                                                        1\n",
              "[\\n, Regular/Benzine 91 / Super 95, \\n]                                                                                                        1\n",
              "[\\n, Regular/Benzine E10 91 / Regular/Benzine 91 / Super 95 / Super Plus 98 / Super E10 95 / Super Plus E10 98, \\n]                            1\n",
              "[\\n, Domestic gas H, \\n]                                                                                                                       1\n",
              "[\\n, Super E10 95 / Regular/Benzine 91 / Super 95 / Super Plus 98 / Regular/Benzine E10 91 / Super Plus E10 98, \\n]                            1\n",
              "[\\n, Super Plus E10 98 / Super 95 / Super Plus 98 / Super E10 95, \\n]                                                                          1\n",
              "[\\n, Super 95 / Regular/Benzine 91 / Super E10 95 / Super Plus E10 98 / Super Plus 98 / Regular/Benzine E10 91, \\n]                            1\n",
              "[\\n, Super Plus 98 / Super 95 / Super E10 95, \\n]                                                                                              1\n",
              "[\\n, Super Plus E10 98, \\n]                                                                                                                    1\n",
              "[\\n, Regular/Benzine 91 / Super 95 / Regular/Benzine E10 91, \\n]                                                                               1\n",
              "[\\n, Super Plus 98 / Super E10 95, \\n]                                                                                                         1\n",
              "[\\n, Regular/Benzine 91 / Super 95 / Regular/Benzine E10 91 / Super E10 95 / Super Plus 98 / Super Plus E10 98, \\n]                            1\n",
              "[\\n, Regular/Benzine 91 / Super Plus 98 / Regular/Benzine E10 91 / Super 95 / Super E10 95 / Super Plus E10 98, \\n]                            1\n",
              "[\\n, Super Plus 98 / Super 95 / Super Plus E10 98, \\n]                                                                                         1\n",
              "Name: Fuel, dtype: int64"
            ]
          },
          "metadata": {},
          "execution_count": 135
        }
      ]
    },
    {
      "cell_type": "code",
      "source": [
        "#df[\"Fuel_new\"] =df[\"Fuel\"].str[0].str.strip(\"\\n\")"
      ],
      "metadata": {
        "id": "mDdv8_rxMBRg"
      },
      "execution_count": 116,
      "outputs": []
    },
    {
      "cell_type": "code",
      "source": [
        "df[\"Fuel_new\"] =df[\"Fuel\"].str[1]"
      ],
      "metadata": {
        "id": "6x4X_kbVDR_O"
      },
      "execution_count": 136,
      "outputs": []
    },
    {
      "cell_type": "code",
      "source": [
        "df[\"Fuel_new\"].sample(5)"
      ],
      "metadata": {
        "colab": {
          "base_uri": "https://localhost:8080/"
        },
        "id": "a2-fP18WLdAs",
        "outputId": "05baf270-6bb2-4a20-cddd-41072e7633c0"
      },
      "execution_count": 137,
      "outputs": [
        {
          "output_type": "execute_result",
          "data": {
            "text/plain": [
              "11870      Diesel\n",
              "5327     Super 95\n",
              "12208      Diesel\n",
              "15409      Diesel\n",
              "13669      Diesel\n",
              "Name: Fuel_new, dtype: object"
            ]
          },
          "metadata": {},
          "execution_count": 137
        }
      ]
    },
    {
      "cell_type": "code",
      "source": [
        "df[\"Fuel_new\"].value_counts()"
      ],
      "metadata": {
        "colab": {
          "base_uri": "https://localhost:8080/"
        },
        "id": "WN389fk9M2hG",
        "outputId": "ba1424c7-8265-4aa6-d146-bc2f2bd34983"
      },
      "execution_count": 138,
      "outputs": [
        {
          "output_type": "execute_result",
          "data": {
            "text/plain": [
              "Diesel (Particulate Filter)                                                                                                       4315\n",
              "Super 95                                                                                                                          3338\n",
              "Gasoline                                                                                                                          3175\n",
              "Diesel                                                                                                                            2984\n",
              "Super 95 / Regular/Benzine 91                                                                                                      424\n",
              "Regular/Benzine 91                                                                                                                 354\n",
              "Super E10 95                                                                                                                       331\n",
              "Super 95 (Particulate Filter)                                                                                                      268\n",
              "Super 95 / Super E10 95                                                                                                            131\n",
              "Regular/Benzine 91 (Particulate Filter)                                                                                            100\n",
              "Super 95 / Super Plus 98                                                                                                            85\n",
              "Gasoline (Particulate Filter)                                                                                                       77\n",
              "Super 95 / Super Plus 98 / Super E10 95 / Super Plus E10 98                                                                         40\n",
              "Super E10 95 / Super 95                                                                                                             38\n",
              "CNG                                                                                                                                 33\n",
              "Super 95 / Super E10 95 (Particulate Filter)                                                                                        25\n",
              "Super E10 95 / Super 95 / Super Plus 98 / Super Plus E10 98                                                                         19\n",
              "LPG                                                                                                                                 16\n",
              "Super 95 / Super Plus 98 (Particulate Filter)                                                                                       14\n",
              "Regular/Benzine 91 / Super 95 / Super Plus 98 / Regular/Benzine E10 91 / Super E10 95 / Super Plus E10 98                           13\n",
              "Regular/Benzine E10 91                                                                                                              11\n",
              "Liquid petroleum gas (LPG)                                                                                                          10\n",
              "Super 95 / Super Plus 98 / Super E10 95                                                                                              8\n",
              "Regular/Benzine 91 / Regular/Benzine E10 91                                                                                          7\n",
              "Super 95 / Regular/Benzine 91 / Super Plus 98 / Regular/Benzine E10 91 / Super E10 95 / Super Plus E10 98                            7\n",
              "Super Plus 98                                                                                                                        7\n",
              "Super E10 95 (Particulate Filter)                                                                                                    7\n",
              "Super 95 / Super Plus 98 / Super Plus E10 98 / Super E10 95                                                                          5\n",
              "Others                                                                                                                               5\n",
              "Super E10 95 / Super Plus E10 98                                                                                                     4\n",
              "Electric/Gasoline                                                                                                                    4\n",
              "Super 95 / Super Plus 98 / Super E10 95 / Super Plus E10 98 (Particulate Filter)                                                     4\n",
              "Super 95 / Super E10 95 / Super Plus E10 98 / Super Plus 98                                                                          4\n",
              "Regular/Benzine 91 / Super 95 / Super Plus 98 / Regular/Benzine E10 91 / Super Plus E10 98 / Super E10 95                            4\n",
              "CNG (Particulate Filter)                                                                                                             3\n",
              "Super E10 95 / Super 95 / Super Plus 98 / Super Plus E10 98 (Particulate Filter)                                                     3\n",
              "Super E10 95 / Super 95 / Super Plus 98                                                                                              3\n",
              "Super E10 95 / Regular/Benzine 91                                                                                                    2\n",
              "Super 95 / Regular/Benzine 91 / Super Plus 98                                                                                        2\n",
              "Regular/Benzine 91 / Super 95 / Super Plus 98 / Super Plus E10 98 / Super E10 95 / Regular/Benzine E10 91                            2\n",
              "Regular/Benzine 91 / Super 95 / Super E10 95                                                                                         1\n",
              "Electric                                                                                                                             1\n",
              "Regular/Benzine 91 / Super 95 / Super E10 95 / Super Plus E10 98 / Super Plus 98 / Regular/Benzine E10 91                            1\n",
              "Super 95 / Super E10 95 / Super Plus E10 98                                                                                          1\n",
              "Super 95 / Super E10 95 / Super Plus 98                                                                                              1\n",
              "Regular/Benzine 91 / Super 95 / Super Plus E10 98 / Super E10 95 / Regular/Benzine E10 91 / Super Plus 98                            1\n",
              "Super 95 / Super Plus 98 / Regular/Benzine E10 91 / Super Plus E10 98 / Super E10 95 / Regular/Benzine 91                            1\n",
              "Super 95 / Regular/Benzine E10 91                                                                                                    1\n",
              "Super E10 95 / Regular/Benzine 91 / Regular/Benzine E10 91 / Super 95                                                                1\n",
              "Super Plus 98 / Regular/Benzine 91                                                                                                   1\n",
              "Super 95 / Regular/Benzine 91 / Super E10 95 / Super Plus 98 / Super Plus E10 98 / Regular/Benzine E10 91                            1\n",
              "Super 95 / Super Plus 98 / Super Plus E10 98                                                                                         1\n",
              "Super 95 / Regular/Benzine 91 (Particulate Filter)                                                                                   1\n",
              "Super 95 / Super E10 95 / Regular/Benzine 91                                                                                         1\n",
              "Regular/Benzine 91 / Super 95 / Super E10 95 / Regular/Benzine E10 91                                                                1\n",
              "Super 95 / Regular/Benzine E10 91 / Super E10 95                                                                                     1\n",
              "Super 95 / Regular/Benzine 91 / Super Plus 98 / Regular/Benzine E10 91 / Super Plus E10 98 / Super E10 95                            1\n",
              "Regular/Benzine E10 91 / Super E10 95 / Super Plus E10 98 / Super Plus 98 / Super 95 / Regular/Benzine 91                            1\n",
              "Super 95 / Regular/Benzine 91 / Super E10 95 / Super Plus E10 98 / Super Plus 98                                                     1\n",
              "Others (Particulate Filter)                                                                                                          1\n",
              "Biogas                                                                                                                               1\n",
              "Super 95 / Biodiesel                                                                                                                 1\n",
              "Regular/Benzine 91 / Super 95 / Super Plus 98 / Super Plus E10 98 / Super E10 95 / Regular/Benzine E10 91 (Particulate Filter)       1\n",
              "Regular/Benzine 91 / Super 95 / Super Plus 98                                                                                        1\n",
              "Regular/Benzine 91 / Super 95                                                                                                        1\n",
              "Regular/Benzine E10 91 / Regular/Benzine 91 / Super 95 / Super Plus 98 / Super E10 95 / Super Plus E10 98                            1\n",
              "Domestic gas H                                                                                                                       1\n",
              "Super E10 95 / Regular/Benzine 91 / Super 95 / Super Plus 98 / Regular/Benzine E10 91 / Super Plus E10 98                            1\n",
              "Super Plus E10 98 / Super 95 / Super Plus 98 / Super E10 95                                                                          1\n",
              "Super 95 / Regular/Benzine 91 / Super E10 95 / Super Plus E10 98 / Super Plus 98 / Regular/Benzine E10 91                            1\n",
              "Super Plus 98 / Super 95 / Super E10 95                                                                                              1\n",
              "Super Plus E10 98                                                                                                                    1\n",
              "Regular/Benzine 91 / Super 95 / Regular/Benzine E10 91                                                                               1\n",
              "Super Plus 98 / Super E10 95                                                                                                         1\n",
              "Regular/Benzine 91 / Super 95 / Regular/Benzine E10 91 / Super E10 95 / Super Plus 98 / Super Plus E10 98                            1\n",
              "Regular/Benzine 91 / Super Plus 98 / Regular/Benzine E10 91 / Super 95 / Super E10 95 / Super Plus E10 98                            1\n",
              "Super Plus 98 / Super 95 / Super Plus E10 98                                                                                         1\n",
              "Name: Fuel_new, dtype: int64"
            ]
          },
          "metadata": {},
          "execution_count": 138
        }
      ]
    },
    {
      "cell_type": "code",
      "source": [
        "df[\"Fuel_new\"] = df.Fuel.str[1].str.split(\"/\").str[0].str.strip()"
      ],
      "metadata": {
        "id": "9qY1uzK5pAH0"
      },
      "execution_count": 155,
      "outputs": []
    },
    {
      "cell_type": "code",
      "source": [
        "df[\"Fuel_new\"].sample(5)"
      ],
      "metadata": {
        "colab": {
          "base_uri": "https://localhost:8080/"
        },
        "id": "ZX0tWzy4pOB6",
        "outputId": "8b1cd8fd-4b61-4880-e067-7fa079c0616b"
      },
      "execution_count": 156,
      "outputs": [
        {
          "output_type": "execute_result",
          "data": {
            "text/plain": [
              "15559    Diesel (Particulate Filter)\n",
              "12322    Diesel (Particulate Filter)\n",
              "2055                        Super 95\n",
              "9060                        Super 95\n",
              "15259                         Diesel\n",
              "Name: Fuel_new, dtype: object"
            ]
          },
          "metadata": {},
          "execution_count": 156
        }
      ]
    },
    {
      "cell_type": "code",
      "source": [
        "df[\"Fuel_new\"].value_counts()"
      ],
      "metadata": {
        "colab": {
          "base_uri": "https://localhost:8080/"
        },
        "id": "7mkwtVrppTS5",
        "outputId": "a1dae6b5-dcc0-4f89-98cb-2ea2b9e88c4a"
      },
      "execution_count": 157,
      "outputs": [
        {
          "output_type": "execute_result",
          "data": {
            "text/plain": [
              "Diesel (Particulate Filter)          4315\n",
              "Super 95                             4100\n",
              "Gasoline                             3175\n",
              "Diesel                               2984\n",
              "Regular                               503\n",
              "Super E10 95                          402\n",
              "Super 95 (Particulate Filter)         268\n",
              "Gasoline (Particulate Filter)          77\n",
              "CNG                                    33\n",
              "LPG                                    16\n",
              "Super Plus 98                          11\n",
              "Liquid petroleum gas (LPG)             10\n",
              "Super E10 95 (Particulate Filter)       7\n",
              "Electric                                5\n",
              "Others                                  5\n",
              "CNG (Particulate Filter)                3\n",
              "Super Plus E10 98                       2\n",
              "Others (Particulate Filter)             1\n",
              "Biogas                                  1\n",
              "Domestic gas H                          1\n",
              "Name: Fuel_new, dtype: int64"
            ]
          },
          "metadata": {},
          "execution_count": 157
        }
      ]
    },
    {
      "cell_type": "code",
      "source": [
        "df[\"Fuel_new\"] = df.Fuel_new.str.split(\"(\").str[0].str.strip()"
      ],
      "metadata": {
        "id": "DveRVy-prL8g"
      },
      "execution_count": 160,
      "outputs": []
    },
    {
      "cell_type": "code",
      "source": [
        "df[\"Fuel_new\"].value_counts()"
      ],
      "metadata": {
        "colab": {
          "base_uri": "https://localhost:8080/"
        },
        "id": "kB2yeDdlrQM3",
        "outputId": "f6eadd22-42ee-4e87-f826-3156d2bb9999"
      },
      "execution_count": 161,
      "outputs": [
        {
          "output_type": "execute_result",
          "data": {
            "text/plain": [
              "Diesel                  7299\n",
              "Super 95                4368\n",
              "Gasoline                3252\n",
              "Regular                  503\n",
              "Super E10 95             409\n",
              "CNG                       36\n",
              "LPG                       16\n",
              "Super Plus 98             11\n",
              "Liquid petroleum gas      10\n",
              "Others                     6\n",
              "Electric                   5\n",
              "Super Plus E10 98          2\n",
              "Biogas                     1\n",
              "Domestic gas H             1\n",
              "Name: Fuel_new, dtype: int64"
            ]
          },
          "metadata": {},
          "execution_count": 161
        }
      ]
    },
    {
      "cell_type": "code",
      "source": [
        "benzine = [\"Gasoline\", \"Super 95\", \"Regular\", \"Super E10 95\", \"Super Plus 98\", \"Super Plus E10 98\", \"Others\"]\n",
        "lpg = [\"LPG\", \"Liquid petroleum gas\", \"CNG\", \"Biogas\", \"Domestic gas H\"]"
      ],
      "metadata": {
        "id": "9DP-c4ZbrQGs"
      },
      "execution_count": 162,
      "outputs": []
    },
    {
      "cell_type": "code",
      "source": [
        "def fueltype(x):\n",
        "    if x in benzine:\n",
        "        return \"Benzine\"\n",
        "    elif x in lpg:\n",
        "        return \"LPG/CNG\"\n",
        "    else:\n",
        "        return x"
      ],
      "metadata": {
        "id": "akeOi2f9rQB6"
      },
      "execution_count": 163,
      "outputs": []
    },
    {
      "cell_type": "code",
      "source": [
        "df[\"Fuel_new\"] = df.Fuel_new.apply(fueltype)"
      ],
      "metadata": {
        "id": "HAR4v-3Zr5T8"
      },
      "execution_count": 164,
      "outputs": []
    },
    {
      "cell_type": "code",
      "source": [
        "df[\"Fuel_new\"] "
      ],
      "metadata": {
        "colab": {
          "base_uri": "https://localhost:8080/"
        },
        "id": "JL-VZFBtsCPf",
        "outputId": "784e7e6b-9902-4f87-e29b-26dcb45eb861"
      },
      "execution_count": 165,
      "outputs": [
        {
          "output_type": "execute_result",
          "data": {
            "text/plain": [
              "0         Diesel\n",
              "1        Benzine\n",
              "2         Diesel\n",
              "3         Diesel\n",
              "4         Diesel\n",
              "          ...   \n",
              "15914     Diesel\n",
              "15915    Benzine\n",
              "15916     Diesel\n",
              "15917     Diesel\n",
              "15918    Benzine\n",
              "Name: Fuel_new, Length: 15919, dtype: object"
            ]
          },
          "metadata": {},
          "execution_count": 165
        }
      ]
    },
    {
      "cell_type": "code",
      "source": [
        "df[\"Fuel_new\"].value_counts()"
      ],
      "metadata": {
        "colab": {
          "base_uri": "https://localhost:8080/"
        },
        "id": "9EufNlVdCLsz",
        "outputId": "d46c8e54-8a52-4234-8ba9-c456b696af13"
      },
      "execution_count": 166,
      "outputs": [
        {
          "output_type": "execute_result",
          "data": {
            "text/plain": [
              "Benzine     8551\n",
              "Diesel      7299\n",
              "LPG/CNG       64\n",
              "Electric       5\n",
              "Name: Fuel_new, dtype: int64"
            ]
          },
          "metadata": {},
          "execution_count": 166
        }
      ]
    },
    {
      "cell_type": "markdown",
      "source": [
        "***Consumption***"
      ],
      "metadata": {
        "id": "09Rq3dOFDYtU"
      }
    },
    {
      "cell_type": "code",
      "source": [
        "df[\"Consumption\"].value_counts()\n",
        "#bunu keep\n",
        "# tuketim sehir ici dis ort tuketimi var  "
      ],
      "metadata": {
        "colab": {
          "base_uri": "https://localhost:8080/",
          "height": 426
        },
        "id": "jQHQDp7HDR8T",
        "outputId": "bcc7aea3-8554-4138-8e2e-fcd72ae8f0f8"
      },
      "execution_count": 167,
      "outputs": [
        {
          "output_type": "error",
          "ename": "TypeError",
          "evalue": "ignored",
          "traceback": [
            "\u001b[0;31m---------------------------------------------------------------------------\u001b[0m",
            "\u001b[0;31mTypeError\u001b[0m                                 Traceback (most recent call last)",
            "\u001b[0;32mpandas/_libs/hashtable_class_helper.pxi\u001b[0m in \u001b[0;36mpandas._libs.hashtable.PyObjectHashTable.map_locations\u001b[0;34m()\u001b[0m\n",
            "\u001b[0;31mTypeError\u001b[0m: unhashable type: 'list'"
          ]
        },
        {
          "output_type": "stream",
          "name": "stderr",
          "text": [
            "Exception ignored in: 'pandas._libs.index.IndexEngine._call_map_locations'\n",
            "Traceback (most recent call last):\n",
            "  File \"pandas/_libs/hashtable_class_helper.pxi\", line 5231, in pandas._libs.hashtable.PyObjectHashTable.map_locations\n",
            "TypeError: unhashable type: 'list'\n"
          ]
        },
        {
          "output_type": "execute_result",
          "data": {
            "text/plain": [
              "[[3.9 l/100 km (comb)], [4.1 l/100 km (city)], [3.7 l/100 km (country)]]              304\n",
              "[[4.2 l/100 km (comb)], [5 l/100 km (city)], [3.7 l/100 km (country)]]                276\n",
              "[[5.4 l/100 km (comb)], [6.8 l/100 km (city)], [4.5 l/100 km (country)]]              257\n",
              "[[3.8 l/100 km (comb)], [4.3 l/100 km (city)], [3.5 l/100 km (country)]]              253\n",
              "[[4.7 l/100 km (comb)], [5.1 l/100 km (city)], [4.4 l/100 km (country)]]              244\n",
              "                                                                                     ... \n",
              "[[4.2 l/100 km (comb)], [5.3 l/100 km (city)], [3.6 l/100 km (country)]]                1\n",
              "[\\n, 5.1 l/100 km (comb), \\n, 6.4 l/100 km (city), \\n, 4.3 l/100 km (country), \\n]      1\n",
              "[[4.6 l/100 km (comb)], [5.4 l/100 km (city)], [6.7 l/100 km (country)]]                1\n",
              "[\\n, 6.3 l/100 km (comb), \\n, \\n, \\n]                                                   1\n",
              "[\\n, 7.4 l/100 km (comb), \\n, 9.6 l/100 km (city), \\n, 6 l/100 km (country), \\n]        1\n",
              "Name: Consumption, Length: 881, dtype: int64"
            ]
          },
          "metadata": {},
          "execution_count": 167
        }
      ]
    },
    {
      "cell_type": "code",
      "source": [
        "comb = df.Consumption.str[0].str[0]\n",
        "city = df.Consumption.str[1].str[0]\n",
        "country = df.Consumption.str[2].str[0]"
      ],
      "metadata": {
        "id": "kVIkQDLPDR5G"
      },
      "execution_count": 168,
      "outputs": []
    },
    {
      "cell_type": "code",
      "source": [
        "comb.value_counts()"
      ],
      "metadata": {
        "colab": {
          "base_uri": "https://localhost:8080/"
        },
        "id": "gJqGdYRfIXVX",
        "outputId": "dcaf2453-b263-4830-fe6b-6c6525a54bf0"
      },
      "execution_count": 97,
      "outputs": [
        {
          "output_type": "execute_result",
          "data": {
            "text/plain": [
              "\\n                      850\n",
              "3.9 l/100 km (comb)     732\n",
              "4 l/100 km (comb)       712\n",
              "5.4 l/100 km (comb)     662\n",
              "5.1 l/100 km (comb)     627\n",
              "4.4 l/100 km (comb)     595\n",
              "3.8 l/100 km (comb)     585\n",
              "5.6 l/100 km (comb)     568\n",
              "4.7 l/100 km (comb)     555\n",
              "4.8 l/100 km (comb)     523\n",
              "5 l/100 km (comb)       513\n",
              "4.5 l/100 km (comb)     511\n",
              "5.2 l/100 km (comb)     429\n",
              "4.6 l/100 km (comb)     420\n",
              "4.2 l/100 km (comb)     408\n",
              "5.3 l/100 km (comb)     374\n",
              "3.7 l/100 km (comb)     369\n",
              "4.9 l/100 km (comb)     348\n",
              "5.5 l/100 km (comb)     342\n",
              "4.1 l/100 km (comb)     341\n",
              "5.9 l/100 km (comb)     308\n",
              "5.7 l/100 km (comb)     302\n",
              "3.3 l/100 km (comb)     298\n",
              "4.3 l/100 km (comb)     295\n",
              "3.5 l/100 km (comb)     285\n",
              "6 l/100 km (comb)       278\n",
              "3.6 l/100 km (comb)     193\n",
              "6.2 l/100 km (comb)     184\n",
              "5.8 l/100 km (comb)     142\n",
              "6.3 l/100 km (comb)     141\n",
              "6.1 l/100 km (comb)     135\n",
              "6.8 l/100 km (comb)     134\n",
              "6.6 l/100 km (comb)     119\n",
              "3.4 l/100 km (comb)      94\n",
              "3 l/100 km (comb)        69\n",
              "6.4 l/100 km (comb)      64\n",
              "7.4 l/100 km (comb)      62\n",
              "7.1 l/100 km (comb)      38\n",
              "6.5 l/100 km (comb)      36\n",
              "10 l/100 km (comb)       34\n",
              "6.7 l/100 km (comb)      33\n",
              "3.2 l/100 km (comb)      25\n",
              "6.9 l/100 km (comb)      21\n",
              "8.3 l/100 km (comb)      19\n",
              "7.6 l/100 km (comb)      14\n",
              "3.4 kg/100 km (comb)     12\n",
              "3.3 kg/100 km (comb)      9\n",
              "7 l/100 km (comb)         9\n",
              "3.1 l/100 km (comb)       7\n",
              "7.2 l/100 km (comb)       6\n",
              "7.8 l/100 km (comb)       6\n",
              "8 l/100 km (comb)         5\n",
              "51 l/100 km (comb)        4\n",
              "3.5 kg/100 km (comb)      3\n",
              "5.1 kg/100 km (comb)      3\n",
              "8.7 l/100 km (comb)       3\n",
              "8.6 l/100 km (comb)       3\n",
              "8.1 l/100 km (comb)       2\n",
              "7.9 l/100 km (comb)       2\n",
              "38 l/100 km (comb)        2\n",
              "40 l/100 km (comb)        2\n",
              "7.3 l/100 km (comb)       2\n",
              "0 l/100 km (comb)         2\n",
              "7.5 l/100 km (comb)       1\n",
              "54 l/100 km (comb)        1\n",
              "46 l/100 km (comb)        1\n",
              "1 l/100 km (comb)         1\n",
              "50 l/100 km (comb)        1\n",
              "33 l/100 km (comb)        1\n",
              "32 l/100 km (comb)        1\n",
              "1.2 l/100 km (comb)       1\n",
              "55 l/100 km (comb)        1\n",
              "13.8 l/100 km (comb)      1\n",
              "43 l/100 km (comb)        1\n",
              "5.4 kg/100 km (comb)      1\n",
              "8.3 kg/100 km (comb)      1\n",
              "9.1 l/100 km (comb)       1\n",
              "11 l/100 km (comb)        1\n",
              "5.3 kg/100 km (comb)      1\n",
              "3.6 kg/100 km (comb)      1\n",
              "Name: Consumption, dtype: int64"
            ]
          },
          "metadata": {},
          "execution_count": 97
        }
      ]
    },
    {
      "cell_type": "code",
      "source": [
        "comb#sehir ici ve disi almis bunlarin ortalamasi"
      ],
      "metadata": {
        "colab": {
          "base_uri": "https://localhost:8080/"
        },
        "id": "WcaErNzmCYKm",
        "outputId": "8ade929f-d41a-45ce-8b3d-bd68df939347"
      },
      "execution_count": 98,
      "outputs": [
        {
          "output_type": "execute_result",
          "data": {
            "text/plain": [
              "0        3.8 l/100 km (comb)\n",
              "1        5.6 l/100 km (comb)\n",
              "2        3.8 l/100 km (comb)\n",
              "3        3.8 l/100 km (comb)\n",
              "4        4.1 l/100 km (comb)\n",
              "                ...         \n",
              "15914    5.3 l/100 km (comb)\n",
              "15915                     \\n\n",
              "15916    5.3 l/100 km (comb)\n",
              "15917    5.3 l/100 km (comb)\n",
              "15918    6.8 l/100 km (comb)\n",
              "Name: Consumption, Length: 15919, dtype: object"
            ]
          },
          "metadata": {},
          "execution_count": 98
        }
      ]
    },
    {
      "cell_type": "code",
      "source": [
        "city"
      ],
      "metadata": {
        "colab": {
          "base_uri": "https://localhost:8080/"
        },
        "id": "Y61YMmxLEuaC",
        "outputId": "fcce7bd2-0594-4ab5-a101-2ffdd1ccf2d9"
      },
      "execution_count": 99,
      "outputs": [
        {
          "output_type": "execute_result",
          "data": {
            "text/plain": [
              "0        4.3 l/100 km (city)\n",
              "1        7.1 l/100 km (city)\n",
              "2        4.4 l/100 km (city)\n",
              "3        4.3 l/100 km (city)\n",
              "4        4.6 l/100 km (city)\n",
              "                ...         \n",
              "15914    6.2 l/100 km (city)\n",
              "15915                      7\n",
              "15916    6.2 l/100 km (city)\n",
              "15917    6.2 l/100 km (city)\n",
              "15918    8.7 l/100 km (city)\n",
              "Name: Consumption, Length: 15919, dtype: object"
            ]
          },
          "metadata": {},
          "execution_count": 99
        }
      ]
    },
    {
      "cell_type": "code",
      "source": [
        "country"
      ],
      "metadata": {
        "colab": {
          "base_uri": "https://localhost:8080/"
        },
        "id": "VRFCczZ6EwiA",
        "outputId": "aa023f90-ec5c-446b-f498-e5e37a35a6d5"
      },
      "execution_count": 100,
      "outputs": [
        {
          "output_type": "execute_result",
          "data": {
            "text/plain": [
              "0        3.5 l/100 km (country)\n",
              "1        4.7 l/100 km (country)\n",
              "2        3.4 l/100 km (country)\n",
              "3        3.5 l/100 km (country)\n",
              "4        3.8 l/100 km (country)\n",
              "                  ...          \n",
              "15914    4.7 l/100 km (country)\n",
              "15915                        \\n\n",
              "15916    4.7 l/100 km (country)\n",
              "15917    4.7 l/100 km (country)\n",
              "15918    5.7 l/100 km (country)\n",
              "Name: Consumption, Length: 15919, dtype: object"
            ]
          },
          "metadata": {},
          "execution_count": 100
        }
      ]
    },
    {
      "cell_type": "code",
      "source": [
        "def cons_clean(x):\n",
        "    if \"/100\" in str(x):\n",
        "        x = x.split(\"/\")[0].strip(\" lkg\")\n",
        "    else:\n",
        "        x = np.nan\n",
        "    return x"
      ],
      "metadata": {
        "id": "tgOEkJwMGoYY"
      },
      "execution_count": 103,
      "outputs": []
    },
    {
      "cell_type": "code",
      "source": [
        "comb = comb.apply(cons_clean)\n",
        "city = city.apply(cons_clean)\n",
        "country = country.apply(cons_clean)"
      ],
      "metadata": {
        "id": "xbvuAA2BGoVA"
      },
      "execution_count": 104,
      "outputs": []
    },
    {
      "cell_type": "code",
      "source": [
        "df[\"Consumption_comb\"] = df.Consumption.str[0].str[0]\n",
        "df[\"Consumption_city\"]  = df.Consumption.str[1].str[0]\n",
        "df[\"Consumption_country\"] = df.Consumption.str[2].str[0]"
      ],
      "metadata": {
        "id": "szL5cTPjJs5x"
      },
      "execution_count": 106,
      "outputs": []
    },
    {
      "cell_type": "code",
      "source": [
        "comb.isna().sum()"
      ],
      "metadata": {
        "colab": {
          "base_uri": "https://localhost:8080/"
        },
        "id": "w2BN0vEFGoLw",
        "outputId": "bd6dc48f-1a49-4ddb-adab-75df55f24749"
      },
      "execution_count": 82,
      "outputs": [
        {
          "output_type": "execute_result",
          "data": {
            "text/plain": [
              "2883"
            ]
          },
          "metadata": {},
          "execution_count": 82
        }
      ]
    },
    {
      "cell_type": "code",
      "source": [
        "comb = comb.astype(float)\n",
        "city = city.astype(float)\n",
        "country = country.astype(float)"
      ],
      "metadata": {
        "id": "AYazHvW-HWNf"
      },
      "execution_count": 85,
      "outputs": []
    },
    {
      "cell_type": "code",
      "source": [
        "#comb.fillna((city+country)/2, inplace=True)"
      ],
      "metadata": {
        "id": "Jyo5Pc63HWJG"
      },
      "execution_count": null,
      "outputs": []
    },
    {
      "cell_type": "code",
      "source": [
        "df[[\"Consumption_comb\",\"Consumption_city\",\"Consumption_country\"]].sample(5)"
      ],
      "metadata": {
        "colab": {
          "base_uri": "https://localhost:8080/",
          "height": 206
        },
        "id": "waVpNuPyHbL2",
        "outputId": "f5c2ff99-1120-4988-9ddc-24bd86dea226"
      },
      "execution_count": 108,
      "outputs": [
        {
          "output_type": "execute_result",
          "data": {
            "text/plain": [
              "          Consumption_comb     Consumption_city     Consumption_country\n",
              "107      4 l/100 km (comb)  4.6 l/100 km (city)  3.6 l/100 km (country)\n",
              "13698  3.3 l/100 km (comb)  3.5 l/100 km (city)  3.1 l/100 km (country)\n",
              "12692  6.1 l/100 km (comb)  7.8 l/100 km (city)  5.1 l/100 km (country)\n",
              "943    4.9 l/100 km (comb)  6.2 l/100 km (city)  4.2 l/100 km (country)\n",
              "11291  5.7 l/100 km (comb)  7.4 l/100 km (city)  4.7 l/100 km (country)"
            ],
            "text/html": [
              "\n",
              "  <div id=\"df-4ced5ee3-6e9b-4b56-ac00-1bcd6bb12b10\">\n",
              "    <div class=\"colab-df-container\">\n",
              "      <div>\n",
              "<style scoped>\n",
              "    .dataframe tbody tr th:only-of-type {\n",
              "        vertical-align: middle;\n",
              "    }\n",
              "\n",
              "    .dataframe tbody tr th {\n",
              "        vertical-align: top;\n",
              "    }\n",
              "\n",
              "    .dataframe thead th {\n",
              "        text-align: right;\n",
              "    }\n",
              "</style>\n",
              "<table border=\"1\" class=\"dataframe\">\n",
              "  <thead>\n",
              "    <tr style=\"text-align: right;\">\n",
              "      <th></th>\n",
              "      <th>Consumption_comb</th>\n",
              "      <th>Consumption_city</th>\n",
              "      <th>Consumption_country</th>\n",
              "    </tr>\n",
              "  </thead>\n",
              "  <tbody>\n",
              "    <tr>\n",
              "      <th>107</th>\n",
              "      <td>4 l/100 km (comb)</td>\n",
              "      <td>4.6 l/100 km (city)</td>\n",
              "      <td>3.6 l/100 km (country)</td>\n",
              "    </tr>\n",
              "    <tr>\n",
              "      <th>13698</th>\n",
              "      <td>3.3 l/100 km (comb)</td>\n",
              "      <td>3.5 l/100 km (city)</td>\n",
              "      <td>3.1 l/100 km (country)</td>\n",
              "    </tr>\n",
              "    <tr>\n",
              "      <th>12692</th>\n",
              "      <td>6.1 l/100 km (comb)</td>\n",
              "      <td>7.8 l/100 km (city)</td>\n",
              "      <td>5.1 l/100 km (country)</td>\n",
              "    </tr>\n",
              "    <tr>\n",
              "      <th>943</th>\n",
              "      <td>4.9 l/100 km (comb)</td>\n",
              "      <td>6.2 l/100 km (city)</td>\n",
              "      <td>4.2 l/100 km (country)</td>\n",
              "    </tr>\n",
              "    <tr>\n",
              "      <th>11291</th>\n",
              "      <td>5.7 l/100 km (comb)</td>\n",
              "      <td>7.4 l/100 km (city)</td>\n",
              "      <td>4.7 l/100 km (country)</td>\n",
              "    </tr>\n",
              "  </tbody>\n",
              "</table>\n",
              "</div>\n",
              "      <button class=\"colab-df-convert\" onclick=\"convertToInteractive('df-4ced5ee3-6e9b-4b56-ac00-1bcd6bb12b10')\"\n",
              "              title=\"Convert this dataframe to an interactive table.\"\n",
              "              style=\"display:none;\">\n",
              "        \n",
              "  <svg xmlns=\"http://www.w3.org/2000/svg\" height=\"24px\"viewBox=\"0 0 24 24\"\n",
              "       width=\"24px\">\n",
              "    <path d=\"M0 0h24v24H0V0z\" fill=\"none\"/>\n",
              "    <path d=\"M18.56 5.44l.94 2.06.94-2.06 2.06-.94-2.06-.94-.94-2.06-.94 2.06-2.06.94zm-11 1L8.5 8.5l.94-2.06 2.06-.94-2.06-.94L8.5 2.5l-.94 2.06-2.06.94zm10 10l.94 2.06.94-2.06 2.06-.94-2.06-.94-.94-2.06-.94 2.06-2.06.94z\"/><path d=\"M17.41 7.96l-1.37-1.37c-.4-.4-.92-.59-1.43-.59-.52 0-1.04.2-1.43.59L10.3 9.45l-7.72 7.72c-.78.78-.78 2.05 0 2.83L4 21.41c.39.39.9.59 1.41.59.51 0 1.02-.2 1.41-.59l7.78-7.78 2.81-2.81c.8-.78.8-2.07 0-2.86zM5.41 20L4 18.59l7.72-7.72 1.47 1.35L5.41 20z\"/>\n",
              "  </svg>\n",
              "      </button>\n",
              "      \n",
              "  <style>\n",
              "    .colab-df-container {\n",
              "      display:flex;\n",
              "      flex-wrap:wrap;\n",
              "      gap: 12px;\n",
              "    }\n",
              "\n",
              "    .colab-df-convert {\n",
              "      background-color: #E8F0FE;\n",
              "      border: none;\n",
              "      border-radius: 50%;\n",
              "      cursor: pointer;\n",
              "      display: none;\n",
              "      fill: #1967D2;\n",
              "      height: 32px;\n",
              "      padding: 0 0 0 0;\n",
              "      width: 32px;\n",
              "    }\n",
              "\n",
              "    .colab-df-convert:hover {\n",
              "      background-color: #E2EBFA;\n",
              "      box-shadow: 0px 1px 2px rgba(60, 64, 67, 0.3), 0px 1px 3px 1px rgba(60, 64, 67, 0.15);\n",
              "      fill: #174EA6;\n",
              "    }\n",
              "\n",
              "    [theme=dark] .colab-df-convert {\n",
              "      background-color: #3B4455;\n",
              "      fill: #D2E3FC;\n",
              "    }\n",
              "\n",
              "    [theme=dark] .colab-df-convert:hover {\n",
              "      background-color: #434B5C;\n",
              "      box-shadow: 0px 1px 3px 1px rgba(0, 0, 0, 0.15);\n",
              "      filter: drop-shadow(0px 1px 2px rgba(0, 0, 0, 0.3));\n",
              "      fill: #FFFFFF;\n",
              "    }\n",
              "  </style>\n",
              "\n",
              "      <script>\n",
              "        const buttonEl =\n",
              "          document.querySelector('#df-4ced5ee3-6e9b-4b56-ac00-1bcd6bb12b10 button.colab-df-convert');\n",
              "        buttonEl.style.display =\n",
              "          google.colab.kernel.accessAllowed ? 'block' : 'none';\n",
              "\n",
              "        async function convertToInteractive(key) {\n",
              "          const element = document.querySelector('#df-4ced5ee3-6e9b-4b56-ac00-1bcd6bb12b10');\n",
              "          const dataTable =\n",
              "            await google.colab.kernel.invokeFunction('convertToInteractive',\n",
              "                                                     [key], {});\n",
              "          if (!dataTable) return;\n",
              "\n",
              "          const docLinkHtml = 'Like what you see? Visit the ' +\n",
              "            '<a target=\"_blank\" href=https://colab.research.google.com/notebooks/data_table.ipynb>data table notebook</a>'\n",
              "            + ' to learn more about interactive tables.';\n",
              "          element.innerHTML = '';\n",
              "          dataTable['output_type'] = 'display_data';\n",
              "          await google.colab.output.renderOutput(dataTable, element);\n",
              "          const docLink = document.createElement('div');\n",
              "          docLink.innerHTML = docLinkHtml;\n",
              "          element.appendChild(docLink);\n",
              "        }\n",
              "      </script>\n",
              "    </div>\n",
              "  </div>\n",
              "  "
            ]
          },
          "metadata": {},
          "execution_count": 108
        }
      ]
    },
    {
      "cell_type": "markdown",
      "source": [
        "**CO2 Emission**"
      ],
      "metadata": {
        "id": "Nm1cBlox-YD2"
      }
    },
    {
      "cell_type": "code",
      "source": [
        "df[\"CO2 Emission\"].value_counts()\n",
        " #burda analamadaigim bise oldu co2 temiz gibi dolayisiyla new kismisni eklemedim \n",
        " #keep \n",
        " #biraz daha temizle az kirli :)"
      ],
      "metadata": {
        "colab": {
          "base_uri": "https://localhost:8080/"
        },
        "id": "U9rtkTaE-WDY",
        "outputId": "77706a2e-e0fa-4057-d1ae-9ab8c6f2e7dc"
      },
      "execution_count": 66,
      "outputs": [
        {
          "output_type": "execute_result",
          "data": {
            "text/plain": [
              "120 g CO2/km (comb)       740\n",
              "99 g CO2/km (comb)        545\n",
              "97 g CO2/km (comb)        537\n",
              "104 g CO2/km (comb)       501\n",
              "102 g CO2/km (comb)       477\n",
              "                         ... \n",
              "80 g CO2/km (comb)          1\n",
              "51 g CO2/km (comb)          1\n",
              "165 g CO2/km (comb)         1\n",
              "12,324 g CO2/km (comb)      1\n",
              "193 g CO2/km (comb)         1\n",
              "Name: CO2 Emission, Length: 122, dtype: int64"
            ]
          },
          "metadata": {},
          "execution_count": 66
        }
      ]
    },
    {
      "cell_type": "code",
      "source": [
        "df[\"CO2 Emission_new\"]=df[\"CO2 Emission\"]"
      ],
      "metadata": {
        "id": "xFf5nWlCC8g_"
      },
      "execution_count": 70,
      "outputs": []
    },
    {
      "cell_type": "code",
      "source": [
        "#df[\"CO2 Emission_new\"] = df[\"CO2 Emission\"].str[0].str.strip(\"\\n\")"
      ],
      "metadata": {
        "id": "58rQlPkC-WAU"
      },
      "execution_count": 69,
      "outputs": []
    },
    {
      "cell_type": "code",
      "source": [
        "df[\"CO2 Emission_new\"].sample(5)"
      ],
      "metadata": {
        "colab": {
          "base_uri": "https://localhost:8080/"
        },
        "id": "P3asWMro-V9C",
        "outputId": "f46dc029-89ad-4413-c475-65900f1c6a41"
      },
      "execution_count": 72,
      "outputs": [
        {
          "output_type": "execute_result",
          "data": {
            "text/plain": [
              "1986                    NaN\n",
              "9383    124 g CO2/km (comb)\n",
              "3508     97 g CO2/km (comb)\n",
              "4975    106 g CO2/km (comb)\n",
              "4992    108 g CO2/km (comb)\n",
              "Name: CO2 Emission_new, dtype: object"
            ]
          },
          "metadata": {},
          "execution_count": 72
        }
      ]
    },
    {
      "cell_type": "markdown",
      "source": [
        "**Emission Class**"
      ],
      "metadata": {
        "id": "QFVwEoPn-SrD"
      }
    },
    {
      "cell_type": "code",
      "source": [
        "df[\"Emission Class\"].value_counts() \n",
        "#emission class ile co2 emisyon  iliskili \n",
        "#birnden biri dusurulebilir \n",
        "#aracin klasi bilinirse salgiladigi co2 miktari bilinir \n",
        "#dolaysiyla co2 emisyona gerek yoktur"
      ],
      "metadata": {
        "colab": {
          "base_uri": "https://localhost:8080/",
          "height": 356
        },
        "id": "t1r36bUc-QN5",
        "outputId": "e8a1ee6e-5ea8-4f52-e74f-d05da8f52275"
      },
      "execution_count": 38,
      "outputs": [
        {
          "output_type": "error",
          "ename": "TypeError",
          "evalue": "ignored",
          "traceback": [
            "\u001b[0;31m---------------------------------------------------------------------------\u001b[0m",
            "\u001b[0;31mTypeError\u001b[0m                                 Traceback (most recent call last)",
            "\u001b[0;32mpandas/_libs/hashtable_class_helper.pxi\u001b[0m in \u001b[0;36mpandas._libs.hashtable.PyObjectHashTable.map_locations\u001b[0;34m()\u001b[0m\n",
            "\u001b[0;31mTypeError\u001b[0m: unhashable type: 'list'"
          ]
        },
        {
          "output_type": "stream",
          "name": "stderr",
          "text": [
            "Exception ignored in: 'pandas._libs.index.IndexEngine._call_map_locations'\n",
            "Traceback (most recent call last):\n",
            "  File \"pandas/_libs/hashtable_class_helper.pxi\", line 5231, in pandas._libs.hashtable.PyObjectHashTable.map_locations\n",
            "TypeError: unhashable type: 'list'\n"
          ]
        },
        {
          "output_type": "execute_result",
          "data": {
            "text/plain": [
              "[\\nEuro 6\\n]          10139\n",
              "[\\nEuro 6d-TEMP\\n]     1845\n",
              "[[], [], []]            607\n",
              "[\\nEuro 6c\\n]           127\n",
              "[\\nEuro 5\\n]             78\n",
              "[\\nEuro 6d\\n]            62\n",
              "[\\nEuro 4\\n]             40\n",
              "Name: Emission Class, dtype: int64"
            ]
          },
          "metadata": {},
          "execution_count": 38
        }
      ]
    },
    {
      "cell_type": "code",
      "source": [
        "df[\"Emission_Class_new\"] =df[\"Emission Class\"].str[0].str.strip(\"\\n\")"
      ],
      "metadata": {
        "id": "CsjLsY-7AuhO"
      },
      "execution_count": 45,
      "outputs": []
    },
    {
      "cell_type": "code",
      "source": [
        "df[\"Emission_Class_new\"].sample(5)"
      ],
      "metadata": {
        "colab": {
          "base_uri": "https://localhost:8080/"
        },
        "id": "GFk0GNe9A41J",
        "outputId": "1a9b3214-39bf-4c10-8b8e-46adae2b2c2b"
      },
      "execution_count": 47,
      "outputs": [
        {
          "output_type": "execute_result",
          "data": {
            "text/plain": [
              "5100           Euro 6\n",
              "6440              NaN\n",
              "8875              NaN\n",
              "9332              NaN\n",
              "13011    Euro 6d-TEMP\n",
              "Name: Emission_Class_new, dtype: object"
            ]
          },
          "metadata": {},
          "execution_count": 47
        }
      ]
    },
    {
      "cell_type": "code",
      "source": [
        "def take_2(x):\n",
        "    if type(x)==float: \n",
        "        return np.nan \n",
        "    else:\n",
        "        return x[1]"
      ],
      "metadata": {
        "id": "EzcPb1OI-QLJ"
      },
      "execution_count": 40,
      "outputs": []
    },
    {
      "cell_type": "code",
      "source": [
        "def take_item(x,y):\n",
        "    if type(x)==float: \n",
        "        return np.nan \n",
        "    else:\n",
        "        return x[y]"
      ],
      "metadata": {
        "id": "lljj-OEV-QID"
      },
      "execution_count": 41,
      "outputs": []
    },
    {
      "cell_type": "code",
      "source": [
        "#df['Emission Class'].apply(take_2())"
      ],
      "metadata": {
        "id": "1CHd7ysK-QEs"
      },
      "execution_count": 44,
      "outputs": []
    },
    {
      "cell_type": "markdown",
      "source": [
        "**Burda extra ,\\nComfort & Convenience\\n, Upholstery ,\\nEntertainment & Media\\n, Safety & Security bunlarin bilgileri birbirleriyle baglantili bunlar bir sutunda birlestirlebilir null lar doldurulablir anlamli bir sutun elde edilebbilir**"
      ],
      "metadata": {
        "id": "unKdShvGG05F"
      }
    },
    {
      "cell_type": "markdown",
      "source": [
        "\n",
        "\n",
        "**\\nComfort & Convenience\\n**\n"
      ],
      "metadata": {
        "id": "OFuVE4kX95mO"
      }
    },
    {
      "cell_type": "code",
      "source": [
        "\n",
        "df[\"\\nComfort & Convenience\\n\"].value_counts() \n",
        "#bu uphalstery ile iliskili bilgiler var \n",
        "#extra ile de alakali \n",
        "#fiyati etkileyen seyler \n",
        "#duzenlendikten sonra karar verilsin keep veya drop\n",
        "\n"
      ],
      "metadata": {
        "colab": {
          "base_uri": "https://localhost:8080/",
          "height": 446
        },
        "id": "6ra6xR01-bfC",
        "outputId": "edec774b-b023-4e39-847b-835c338d4906"
      },
      "execution_count": 169,
      "outputs": [
        {
          "output_type": "error",
          "ename": "TypeError",
          "evalue": "ignored",
          "traceback": [
            "\u001b[0;31m---------------------------------------------------------------------------\u001b[0m",
            "\u001b[0;31mTypeError\u001b[0m                                 Traceback (most recent call last)",
            "\u001b[0;32mpandas/_libs/hashtable_class_helper.pxi\u001b[0m in \u001b[0;36mpandas._libs.hashtable.PyObjectHashTable.map_locations\u001b[0;34m()\u001b[0m\n",
            "\u001b[0;31mTypeError\u001b[0m: unhashable type: 'list'"
          ]
        },
        {
          "output_type": "stream",
          "name": "stderr",
          "text": [
            "Exception ignored in: 'pandas._libs.index.IndexEngine._call_map_locations'\n",
            "Traceback (most recent call last):\n",
            "  File \"pandas/_libs/hashtable_class_helper.pxi\", line 5231, in pandas._libs.hashtable.PyObjectHashTable.map_locations\n",
            "TypeError: unhashable type: 'list'\n"
          ]
        },
        {
          "output_type": "execute_result",
          "data": {
            "text/plain": [
              "[Air conditioning, Electrical side mirrors, Hill Holder, Power windows]                                                                                                                                                                                                                                                                                                                                                                                                                                                      216\n",
              "[Air conditioning, Electrical side mirrors, Power windows]                                                                                                                                                                                                                                                                                                                                                                                                                                                                   134\n",
              "[Air conditioning, Power windows]                                                                                                                                                                                                                                                                                                                                                                                                                                                                                            130\n",
              "[Air conditioning, Armrest, Automatic climate control, Cruise control, Electrical side mirrors, Leather steering wheel, Light sensor, Lumbar support, Multi-function steering wheel, Navigation system, Park Distance Control, Parking assist system sensors front, Parking assist system sensors rear, Power windows, Rain sensor, Seat heating, Start-stop system]                                                                                                                                                         105\n",
              "[Air conditioning, Armrest, Automatic climate control, Cruise control, Electrical side mirrors, Hill Holder, Leather steering wheel, Light sensor, Multi-function steering wheel, Navigation system, Park Distance Control, Parking assist system sensors rear, Power windows, Rain sensor, Seat heating, Start-stop system]                                                                                                                                                                                                  92\n",
              "                                                                                                                                                                                                                                                                                                                                                                                                                                                                                                                            ... \n",
              "[Air conditioning, Cruise control, Electrical side mirrors, Multi-function steering wheel, Park Distance Control, Parking assist system sensors front, Parking assist system sensors rear, Power windows, Start-stop system]                                                                                                                                                                                                                                                                                                   1\n",
              "[Air conditioning, Armrest, Cruise control, Electrical side mirrors, Heated steering wheel, Hill Holder, Leather steering wheel, Light sensor, Multi-function steering wheel, Park Distance Control, Parking assist system camera, Parking assist system sensors rear, Power windows, Rain sensor, Seat heating, Split rear seats, Start-stop system, Sunroof, Tinted windows]                                                                                                                                                 1\n",
              "[Air conditioning, Armrest, Cruise control, Hill Holder, Leather steering wheel, Multi-function steering wheel, Park Distance Control, Parking assist system sensors front, Parking assist system sensors rear, Power windows]                                                                                                                                                                                                                                                                                                 1\n",
              "[Air conditioning, Armrest, Automatic climate control, Cruise control, Electrical side mirrors, Leather steering wheel, Multi-function steering wheel, Power windows, Rain sensor, Start-stop system, Tinted windows]                                                                                                                                                                                                                                                                                                          1\n",
              "[Air conditioning, Automatic climate control, Cruise control, Electrically heated windshield, Electrical side mirrors, Electric tailgate, Heads-up display, Heated steering wheel, Hill Holder, Keyless central door lock, Leather steering wheel, Light sensor, Lumbar support, Navigation system, Park Distance Control, Parking assist system camera, Parking assist system self-steering, Parking assist system sensors front, Parking assist system sensors rear, Power windows, Rain sensor, Seat heating, Sunroof]      1\n",
              "Name: \\nComfort & Convenience\\n, Length: 6198, dtype: int64"
            ]
          },
          "metadata": {},
          "execution_count": 169
        }
      ]
    },
    {
      "cell_type": "code",
      "source": [
        "df[\"Comfort & Convenience\"]=df[\"\\nComfort & Convenience\\n\"]"
      ],
      "metadata": {
        "id": "-sG-rU1y8DWw"
      },
      "execution_count": 37,
      "outputs": []
    },
    {
      "cell_type": "markdown",
      "source": [
        "**\\nEntertainment & Media\\n**"
      ],
      "metadata": {
        "id": "63eNY6LEGY5q"
      }
    },
    {
      "cell_type": "code",
      "source": [
        "df[\"\\nEntertainment & Media\\n\"].sample()\n",
        "#extra , confort , upholstry ile baglantili \n",
        "#keep incele "
      ],
      "metadata": {
        "colab": {
          "base_uri": "https://localhost:8080/"
        },
        "id": "Hzc2M_wlGG8w",
        "outputId": "8370ddfe-c38e-40f3-cbdb-9967d551c4ec"
      },
      "execution_count": 170,
      "outputs": [
        {
          "output_type": "execute_result",
          "data": {
            "text/plain": [
              "2361    NaN\n",
              "Name: \\nEntertainment & Media\\n, dtype: object"
            ]
          },
          "metadata": {},
          "execution_count": 170
        }
      ]
    },
    {
      "cell_type": "code",
      "source": [
        "df[\"\\nEntertainment & Media\\n\"].isnull().value_counts()"
      ],
      "metadata": {
        "colab": {
          "base_uri": "https://localhost:8080/"
        },
        "id": "w1yF8NX1GdDW",
        "outputId": "8d750c1c-adc0-4d89-806e-24abf2864c7b"
      },
      "execution_count": 171,
      "outputs": [
        {
          "output_type": "execute_result",
          "data": {
            "text/plain": [
              "False    14545\n",
              "True      1374\n",
              "Name: \\nEntertainment & Media\\n, dtype: int64"
            ]
          },
          "metadata": {},
          "execution_count": 171
        }
      ]
    },
    {
      "cell_type": "code",
      "source": [
        "# Araçlar medya oynatıcıları hakkında özellikler içerdiği için fiyatlandırmada etkili olabilir\n",
        "# Şimdilik sadece sütun adı değiştirip, sonra detaylı bakılacaktır. \n",
        "df[\"Entertainment & Media\"] = df[\"\\nEntertainment & Media\\n\"]"
      ],
      "metadata": {
        "id": "8eixfuCYIMQc"
      },
      "execution_count": null,
      "outputs": []
    },
    {
      "cell_type": "markdown",
      "source": [
        "**\\nExtras\\n**"
      ],
      "metadata": {
        "id": "r4eSH-WvEIJR"
      }
    },
    {
      "cell_type": "code",
      "source": [
        "df[\"\\nExtras\\n\"].value_counts() \n",
        "#iki yerle baglantili security , comfort convenience\n",
        "#ici incelenip karar verlmeli"
      ],
      "metadata": {
        "colab": {
          "base_uri": "https://localhost:8080/",
          "height": 426
        },
        "id": "MBEvf1UH8DZl",
        "outputId": "5bbb2962-0cf8-44ec-d0f8-14f4e23dc1e5"
      },
      "execution_count": 35,
      "outputs": [
        {
          "output_type": "error",
          "ename": "TypeError",
          "evalue": "ignored",
          "traceback": [
            "\u001b[0;31m---------------------------------------------------------------------------\u001b[0m",
            "\u001b[0;31mTypeError\u001b[0m                                 Traceback (most recent call last)",
            "\u001b[0;32mpandas/_libs/hashtable_class_helper.pxi\u001b[0m in \u001b[0;36mpandas._libs.hashtable.PyObjectHashTable.map_locations\u001b[0;34m()\u001b[0m\n",
            "\u001b[0;31mTypeError\u001b[0m: unhashable type: 'list'"
          ]
        },
        {
          "output_type": "stream",
          "name": "stderr",
          "text": [
            "Exception ignored in: 'pandas._libs.index.IndexEngine._call_map_locations'\n",
            "Traceback (most recent call last):\n",
            "  File \"pandas/_libs/hashtable_class_helper.pxi\", line 5231, in pandas._libs.hashtable.PyObjectHashTable.map_locations\n",
            "TypeError: unhashable type: 'list'\n"
          ]
        },
        {
          "output_type": "execute_result",
          "data": {
            "text/plain": [
              "[Alloy wheels]                                                                                                     3245\n",
              "[Alloy wheels, Touch screen]                                                                                        697\n",
              "[Alloy wheels, Voice Control]                                                                                       577\n",
              "[Alloy wheels, Touch screen, Voice Control]                                                                         541\n",
              "[Alloy wheels, Roof rack]                                                                                           385\n",
              "                                                                                                                   ... \n",
              "[Alloy wheels, Catalytic Converter, Shift paddles, Sport package, Sport seats, Sport suspension, Voice Control]       1\n",
              "[Alloy wheels, Catalytic Converter, Roof rack, Sport package, Sport seats, Trailer hitch]                             1\n",
              "[Alloy wheels, Catalytic Converter, Ski bag, Sport package, Voice Control]                                            1\n",
              "[Catalytic Converter, Roof rack, Sport seats, Sport suspension]                                                       1\n",
              "[Alloy wheels, Shift paddles, Ski bag, Sport seats, Sport suspension, Touch screen, Voice Control]                    1\n",
              "Name: \\nExtras\\n, Length: 659, dtype: int64"
            ]
          },
          "metadata": {},
          "execution_count": 35
        }
      ]
    },
    {
      "cell_type": "code",
      "source": [
        ""
      ],
      "metadata": {
        "id": "X2wBKlE_8DIw"
      },
      "execution_count": null,
      "outputs": []
    },
    {
      "cell_type": "code",
      "source": [
        ""
      ],
      "metadata": {
        "id": "9Wkej5pN8DFv"
      },
      "execution_count": null,
      "outputs": []
    },
    {
      "cell_type": "markdown",
      "source": [
        "**Safety & Security**"
      ],
      "metadata": {
        "id": "16Sb44TEqM1O"
      }
    },
    {
      "cell_type": "code",
      "source": [
        "df[\"Safety & Security\"] = df[\"\\nSafety & Security\\n\"]\n",
        "#3 yerle baglantili extra , confort ,uphulstery\n",
        "#analiz sonucunda karar verilsin"
      ],
      "metadata": {
        "id": "rfSyPbc_p1eB"
      },
      "execution_count": 27,
      "outputs": []
    },
    {
      "cell_type": "code",
      "source": [
        "df[\"Safety & Security\"][1]"
      ],
      "metadata": {
        "colab": {
          "base_uri": "https://localhost:8080/"
        },
        "id": "hgLIPaEQp1aj",
        "outputId": "39596ec5-7eae-4bd0-816a-f4aeba6d6e76"
      },
      "execution_count": 28,
      "outputs": [
        {
          "output_type": "execute_result",
          "data": {
            "text/plain": [
              "['ABS',\n",
              " 'Central door lock',\n",
              " 'Central door lock with remote control',\n",
              " 'Daytime running lights',\n",
              " 'Driver-side airbag',\n",
              " 'Electronic stability control',\n",
              " 'Head airbag',\n",
              " 'Immobilizer',\n",
              " 'Isofix',\n",
              " 'Passenger-side airbag',\n",
              " 'Power steering',\n",
              " 'Side airbag',\n",
              " 'Tire pressure monitoring system',\n",
              " 'Traction control',\n",
              " 'Xenon headlights']"
            ]
          },
          "metadata": {},
          "execution_count": 28
        }
      ]
    },
    {
      "cell_type": "code",
      "source": [
        ""
      ],
      "metadata": {
        "id": "XsCOvsc1qFmG"
      },
      "execution_count": null,
      "outputs": []
    },
    {
      "cell_type": "markdown",
      "source": [
        "**description**"
      ],
      "metadata": {
        "id": "EeToB6uEqGSx"
      }
    },
    {
      "cell_type": "code",
      "source": [
        "\n",
        "df[\"description\"].value_counts() \n",
        "# short description ile aynı değerleri içeriyor.\n",
        "# almanca bilgi var\n",
        "#Bunun için bu sütunu eleyebiliriz "
      ],
      "metadata": {
        "colab": {
          "base_uri": "https://localhost:8080/",
          "height": 446
        },
        "id": "lkNPe_0Sp1XT",
        "outputId": "c63a39b2-f3b1-437e-b0e2-c6a7d992f4d8"
      },
      "execution_count": 29,
      "outputs": [
        {
          "output_type": "error",
          "ename": "TypeError",
          "evalue": "ignored",
          "traceback": [
            "\u001b[0;31m---------------------------------------------------------------------------\u001b[0m",
            "\u001b[0;31mTypeError\u001b[0m                                 Traceback (most recent call last)",
            "\u001b[0;32mpandas/_libs/hashtable_class_helper.pxi\u001b[0m in \u001b[0;36mpandas._libs.hashtable.PyObjectHashTable.map_locations\u001b[0;34m()\u001b[0m\n",
            "\u001b[0;31mTypeError\u001b[0m: unhashable type: 'list'"
          ]
        },
        {
          "output_type": "stream",
          "name": "stderr",
          "text": [
            "Exception ignored in: 'pandas._libs.index.IndexEngine._call_map_locations'\n",
            "Traceback (most recent call last):\n",
            "  File \"pandas/_libs/hashtable_class_helper.pxi\", line 5231, in pandas._libs.hashtable.PyObjectHashTable.map_locations\n",
            "TypeError: unhashable type: 'list'\n"
          ]
        },
        {
          "output_type": "execute_result",
          "data": {
            "text/plain": [
              "[]                                                                                                                                                                                                                                                                                                                                                                                                                                                                                                                                                                                                                                                                                                                                                                                                                                                                                                                                                                                                                                                                                                                                                                                                                                                                                                                                                                                                                                                                                                                                                                                                                                                                                                                                                                                                                                                                                                                                                                                                                                                                                                                                                                                                                                                                                                                                                                                                                                                                                                                                                                                                                                                                                        636\n",
              "[\\n, \\n]                                                                                                                                                                                                                                                                                                                                                                                                                                                                                                                                                                                                                                                                                                                                                                                                                                                                                                                                                                                                                                                                                                                                                                                                                                                                                                                                                                                                                                                                                                                                                                                                                                                                                                                                                                                                                                                                                                                                                                                                                                                                                                                                                                                                                                                                                                                                                                                                                                                                                                                                                                                                                                                                                   30\n",
              "[\\n, Fahrzeugbeschreibung,  Sichern Sie sich diesen Renault Clio 1.6 TCE Energy Sport Trophy zum Top-Preis inklusive dem , AUTOHERO-RUNDUM-SORGLOS-PAKET,  , Infos:,  1.Hand, deutsche Auslieferung, Unfallfrei, scheckheftgepflegt,  , Highlights,  , Audio-Navigationssystem R-Link Evolution mit Touchscreen und Carminat TomTom,  , Sportsitze ,  , Sportfahrwerk,  , Scheinwerfer Full-LED , Komfort,  , Geschwindigkeits-Regelanlage (Tempomat) ,  , Klimaanlage,  , Einparkhilfe hinten,  , Multifunktionslenkrad (Sport/Leder) mit Schaltwippen/-tasten ,  , Fensterheber elektr. mit Impulsgeber links/rechts vorn,  , Zentralverriegelung / Startanlage Handsfree Entry & Drive ,  , Berganfahr-Assistent (HSA) , Multimedia,  , Audiosystem: Radio R & GO (Bluetooth, DAB-Tuner),  , Bordcomputer,  , Freisprecheinrichtung Bluetooth ,  , USB-Anschluss inkl. AUX-IN-Anschluss (Plug & Music) , Licht und Sicht,  , Außenspiegel elektr. verstell- und heizbar ,  , Licht- und Regensensor ,  , Tagfahrlicht LED ,  , Nebelscheinwerfer LED ,  , Coming-Home-Lichtfunktion ,  , Heckleuchten LED , Sicherheit,  , Isofix-Aufnahmen für Kindersitz ,  , Seitenairbag vorn,  , Wegfahrsperre,  , Differentialsperre,  , Bremsassistent ,  , Elektron. Stabilitäts-Programm (ESP),  , Anti-Blockier-System (ABS),  , Anti-Submarining-Airbag im Fond,  , Airbag Fahrer-/Beifahrerseite ,  , Differentialsperre ,  , Reifendruck-Kontrollsystem ,  , Untersteuerungskontrolle (USC) ,  , Antischlupfregelung (ASR) , Weiteres,  , Start/Stop-Anlage ,  , Servolenkung geschwindigkeitsabhängig,  , R.S. Drive (Fahrmodusschalter) ,  , Gepäckraumabdeckung / Rollo ,  , Heckdiffusor ,  , LM-Felgen ,  , Heckspoiler (Renault Sport) ,  , Pedale Aluminium ,  , Energierückgewinnung (Energy Smart Management) , ...]                                                                                                                                                                                                                                                                                                                                                                                                                                                                                                                                                                                                                                                                                                                                                                                                                                                              27\n",
              "[\\nPosibilidad de prueba del vehículo hasta 5 días. Consultar condiciones. PVP para particulares. Varias unidades y colores disponibles. Precios publicados para vehículos industriales (furgonetas) válidos para compradores autónomos o empresas, consultar condiciones para particulares. Las imágenes y kilómetros pueden no corresponder con el modelo anunciado. Para confirmar póngase en contacto con nuestro departamento comercial. Consulta las excepcionales condiciones de financiación que tenemos disponibles. Precio de venta final IVA y gastos de transferencia incluidos. Horario de atención al cliente: Lunes a Viernes de 09:00 a 18:00.\\n]                                                                                                                                                                                                                                                                                                                                                                                                                                                                                                                                                                                                                                                                                                                                                                                                                                                                                                                                                                                                                                                                                                                                                                                                                                                                                                                                                                                                                                                                                                                                                                                                                                                                                                                                                                                                                                                                                                                                                                                                                          27\n",
              "[\\nSichern Sie sich diesen RENAULT CLIO 1.2 LIMITED zum Top-Preis inklusive dem, AUTOHERO-RUNDUM-SORGLOS-PAKET,  , Infos:,  2.Hand, mindestens 12 Monate gültige HU und AU, deutsche Ausführung, unfallfrei ,  , Highlights,  , Audio-Navigationssystem mit Touchscreen-Farbdisplay, Komfort,  , Klimaanlage ,  , Multifunktionslenkrad in Leder ,  , Berganfahr-Assistent (HSA),  , Fensterheber elektrisch vorn ,  , Geschwindigkeits-Regelanlage (Tempomat) ,  , Heckscheibe heizbar ,  , Sitz vorn links höhenverstellbar,  , Sitz vorn rechts umklappbar ,  , Stau-/Ablagefach im Laderaumboden ,  , Zentralverriegelung mit Fernbedienung , Multimedia,  , Radio R&GO,  , Bluetooth Freisprechanlage ,  , USB-/AUX-Schnittstelle ,  , Bordcomputer,  , Licht und Sicht,  , Tagfahrlicht LED ,  , Außenspiegel elektrisch verstell- und heizbar, Sicherheit,  , Airbag für Fahrer und Beifahrer,  , Beifahrerairbag deaktivierbar ,  , Seitenairbags vorn ,  , Kopfairbagsystem,  , Anti-Blockier-System (ABS),  , Elektronische Bremskraftverteilung ,  , Elektronische Stabilitäts-Programm (ESP) ,  , Reifen-Reparaturkit ,  , Reifendruck-Kontrollsystem ,  , Untersteuerungskontrolle (USC) ,  , ISOFIX Kindersitzverankerung , Weiteres,  , Dachreling silber ,  , Look-Paket Chrom (außen) ,  , Look-Paket Grau (innen) ,  , R&GO-Paket ,  , Style-Paket ,  Ihr , AUTOHERO-RUNDUM-SORGLOS-PAKET,  beinhaltet:, Kostenlose Lieferung in Ihre Nähe, Optische & technische Aufbereitung, Mindestens 12 Monate gültige HU und AU, 1-Jahr-Premium-Garantie, Zulassung inklusive , 14-Tage-Rückgaberecht, Markenunabhängige Inzahlungnahme , Individuelle Finanzierungen zu fairen Konditionen,  , HIER GEHT ES ZUR 360° - ANSICHT DES FAHRZEUGES:, :, https://www.autohero.com/de/renault-clio-1-2-limited/id/30f99516-8785-47e7-a4a3-6cdac4d8e633/,  , Haftungsausschluss, :, Für Angaben vom Verkäufer, des Herstellers oder von Datenbankabfragen übernimmt Autohero keine Haftung. Änderungen, Zwischenverkauf und Irrtümer sind vorbehalten.\\n]                                                                                                                                                                                                                                                                                                                                                                                                                                                                                                                                                                                                                                27\n",
              "                                                                                                                                                                                                                                                                                                                                                                                                                                                                                                                                                                                                                                                                                                                                                                                                                                                                                                                                                                                                                                                                                                                                                                                                                                                                                                                                                                                                                                                                                                                                                                                                                                                                                                                                                                                                                                                                                                                                                                                                                                                                                                                                                                                                                                                                                                                                                                                                                                                                                                                                                                                                                                                                                         ... \n",
              "[\\nPratica 67374, Airbag fullsize per conducente e passeggero, Alzacristalli elettrici ant. e post. con funzione attivaz. a pressione, Assetto dinamico, Audi drive select, Inserti in micrometallic argento, Kit riparazione pneumatici, Pacchetto di navigazione, Piano di copertura del vano bagagli estraibile, Presa AUX-IN, Proiettori allo Xenon Plus con reg. aut. prof. fari, Lavafari, Rivestimenti dei sedili in tessuto, Serbatoio AdBlue, Sistema controllo pressione pneumatici, Sistema di ancoraggio ISOFIX e 3° punto di ancoraggio Top Tether sui sedili post. laterali, Sistema di informazioni per il conducente con display monocromatico, Tappetini anteriori e posteriori, Versione Business, Volante sportivo multifunzionale in pelle 3 razze, ABS, EBV (Ripartitore elettronico della forza frenante), Airbag laterali anteriori integrati negli schienali dei sedili, Airbag per la testa, Airbag per le ginocchia (lato conducente), Appoggiatesta anteriori (2) e posteriori (3) regolabili, Radio MMI plus, Interfaccia Bluetooth, Appoggiabraccia centrale anteriore, Cambio manuale, Cerchi in lega 7 J x 16\" a 5 razze a stella, Chiusura centralizzata con telecomando, Regolatore di velocità, ESC - Sistema elettronico di controllo della stabilizzazione con bloccaggio trasversale elettronico, ASR - Dispositivo di controllo della trazione, EDS (Dispositivo antislittamento in partenza), Filtro anti particolato, Cinture di sicurezza con pretensionatore, Specchietti retrovisivi esterni riscaldabili e ripiegabili elettricamente, Schienale del sedile posteriore ribaltabile (divisibile in rapporto 40:60 o ribaltabile completam.), Sistema di ausilio al parcheggio posteriore, Servosterzo elettromeccanico, Tergilunotto\\n]                                                                                                                                                                                                                                                                                                                                                                                                                                                                                                                                                                                                                                                                                                                                                                                                                                                                                                          1\n",
              "[\\n, Getriebe:,  Schaltgetriebe, Technik:,  Bordcomputer, Start-Stop-Automatik, Assistenten:,  Regensensor, Lichtsensor, Berganfahrassistent, Komfort:,  Servolenkung, Zentralverriegelung, Elektrischer Fensterheber, Sitzheizung, Elektrische Aussenspiegel, Teilbare Ruecksitzlehne, Tempomat, Park Distance Control, Multifunktionslenkrad, Innenspiegel autom. abblendbar, Mittelarmlehne, Innenraumfilter, Lenksaeule einstellbar, Sportsitze, Klimaautomatik-2-Zonen, Sicht:,  Xenon Scheinwerfer, Colorverglasung, Scheinwerferreinigung, Aussenspiegel beheizbar, Privacyverglasung, Sicherheit:,  ABS, Airbag, Beifahrer-Airbag, Wegfahrsperre, Seitenairbags, ESP, Antriebsschlupfregelung, Reifendruckkontrolle, Traktionskontrolle, Kopfairbag, Knieairbag, Kindersitzbefestigung, Pannenkit, Entertainment:,  CD, Radio, AUX-In, USB-Anschluss, MP3, Bluetooth, Freisprecheinrichtung, Umwelt:,  Grüne Umweltplakette, , Energieeffizienzklasse B, Qualität:,  Garantie, Scheckheftgepflegt, HUAU neu, Nichtraucherfahrzeug, Sonstiges:,  Metallic, Alufelgen, Dachreling, Gepaeckraumabdeckung, Stossfaenger in Wagenfarbe, Sportfahrwerk, Weiteres:,  Connectivity-Paket inkl. Bluetooth-Schnittstelle, Klimaautomatik 2-Zonen, Optik-Paket schwarz Audi exclusive, Einparkhilfe (APS), Verglasung hinten abgedunkelt, Sitzheizung vorn, Dachreling (Aluminium), Soundsystem DSP / Audi Sound-System, Ablage- und Gepäckraum-Paket, Audi music interface, Scheibenwaschdüsen heizbar, Vorbereitung Navigationssystem, Adaptives Bremslicht, Anfahr-Assistent (hold assist), Antriebsart: Frontantrieb, Audi Drive Select, Außenspiegel Wagenfarbe, Blinkleuchten LED in Außenspiegel integriert, Bremsanlage mit Rekuperation - Bremsenergierückgewinnung, Bremsassistent, Dachspoiler, Dekoreinlagen Aluminium Mistral, Einstiegsleisten Aluminium, Elektron. Differentialsperre (EDS), Elektron. Stabilitätskontrolle (ESC), Elektron. Stabilitäts-Programm, Euro 6, Fahrer-Informations-System (FIS), Fensterheber elektrisch vorn und hinten, Frontscheibe Akustikglas, Fußmatten Velours, Getriebe 6-Gang, Heckscheibe heizbar, Interieur Aluminium-Optik, Isofix-Aufnahmen für Kindersitz, Kopfstützen hinten, Multi-Media-Interface MMI, Parkbremse elektro-mechanisch, Polster: Stoff Rallye, Servolenkung elektro-mechanisch, Sitze vorn mit ausziehbarer Oberschenkelauflage, Sitzhöhenverstellung, Sport/Lederlenkrad, Sport-Fahrwerk, Start/Stop-Anlage, Telefon-Vorbereitung mit Bluetooth-Schnittstelle, Wagenheber, Wärmeschutzverglasung, Xenon Plus, ZV mit Fernbedienung, ... Änderungen, Zwischenverkauf und Irrtümer vorbehalten.,  by CG360.de\\n]      1\n",
              "[\\n, Getriebe, 6-Gang, Licht und Sicht, Xenon-Scheinwerfer Plus (Abblend- und Fernlicht), Technik und Sicherheit, Fahrerairbag, Airbag Fahrer-/Beifahrerseite, Seitenairbag vorn, Kopfairbags, Anti-Blockier-System (ABS), Elektron. Stabilitätskontrolle (ESC), Elektron. Differentialsperre (EDS), Zentralverriegelung mit Fernbedienung, Schließ-/Startsystem Advanced Key (Komfortschlüssel), Servolenkung elektro-mechanisch, Geschwindigkeits-Regelanlage (Tempomat), Elektronische Wegfahrsperre, Bordcomputer, Reifendruck-Kontrollsystem, Assistenzsysteme, Fahrassistenz-System: Anfahr-Assistent (hold assist), Multimedia, Multi-Media-Interface MMI Basic Plus / MMI Radio Plus, Audi Smartphone Interface, Komfort, Komfort-Klimaautomatik 2-Zonen, Einparkhilfe hinten (APS), Fensterheber elektrisch, Licht- und Regensensor, Außenspiegel elektr. verstellbar beide, Scheibenwaschdüsen und Außenspiegel beheizt, Wärmeschutzverglasung grün getönt, Innenausstattung, Sitzheizung vorn, Lenkrad (Sport/Leder - 3-Speichen) mit Multifunktion, Mittelarmlehne vorn, Rücksitzlehne geteilt/klappbar, Aussenausstattung, LM-Felgen, Pakete, Komfort-Paket, Sonstiges, Rußpartikelfilter, Scheckheftgepflegt, Nichtraucherfahrzeug, Weitere Informationen, Schadstoffklasse: EURO 6D-TEMP, Connectivity-Paket, Glanz-Paket, LM-Felgen 7.5x17 (5-Speichen Y-Design), Progressivlenkung, Antriebs-Schlupfregelung (ASR), Elektron. Stabilitäts-Programm (ESP), Getriebe 6-Gang, Lenkrad (Sport - 3-Speichen), Parkbremse elektro-mechanisch, Sitze vorn höhenverstellbar, Vorrüstung Mobiltelefon/Handy mit Bluetooth-Schnittstelle, Audi music interface, Außenspiegel elektr. verstell- und heizbar beide, Vorbereitung Navigationssystem, Irrtümer und Änderungen vorbehalten., Die im Internet angebotene Ausstattung ist kein Vertragsbestandteil., Die Ausstattung muss vor Ort geprüft werden., Das angebotene Fahrzeug kann von einer Rückrufaktion betroffen sein. Co2 Angaben können abweichen., \\n]                                                                                                                                                                                                                                                                                                                                                                                                                                                                                                                                                                                                                                                                  1\n",
              "[\\n, Aluminium-Gussräder im 5-Speichen-Stern-Design Größe 7 J x 16 mit Reifen 205/55 R 16, Dachreling eloxiert, Einparkhilfe hinten, Fahrerinformationssystem mit Farbdisplay, Lederlenkrad im 3-Speichen-Design mit Multifunktion plus, Ablage-/Gepäckraumpaket mit erweitertem USB-Buchsen-Angebot, Lichtpaket, Reifen 16', Anlaufvariante RdW, Vorbereitung für Anhängevorrichtung, Audi sound system, Reifen 205/55 R16 91W, Xenon plus, Allwetterlicht, Kopfstützen hinten (3 Stück), MMI Radio plus, Zentralverriegelung mit Funkschlüssel, Bluetooth-Schnittstelle, Innenspiegel abblendbar, elektronische Stabilisierungskontrolle (ESC), Airbags, 6-Gang-Schaltgetriebe, Seitenairbags vorn und Kopfairbagsystem, elektromechanische Servolenkung, Leuchtweitenregulierung automatisch-statisch, Scheibenwaschdüsen beheizbar vorn, Reifendruck-Kontrollanzeige, Tagfahrlicht, Start-Stop-System, AUX-IN-Anschluss, Kindersitzverankerung ISOFIX und Top Tether für die äußeren Fondsitze, Sitzbezüge in Stoff Index, Wärmeschutzverglasung, Akustikfrontscheibe, Außenspiegel links asphärisch, Außen-Sound Standard, Außenspiegel rechts (großes Sichtfeld) konvex, elektromechanische Parkbremse, Dachhimmel in Stoff felsgrau, Kraftstoffsystem Otto-Einspritzer, Linkslenker, Reifenreparaturset, Heckleuchten, Scheibenwaschanlage, Entriegelung Hintersitz Standard, Waschwasserstandsanzeige, Abgaskonzept EU6 AG/H/I, Frontantrieb, A3, Außenspiegelgehäuse in Wagenfarbe, Ohne erweitertem Sicherheitssystem, Geschwindigkeitsbegrenzungsanlage, Dachkantenspoiler, Heckscheibenwischer, Sportback, Kindersicherung manuell, Ohne Kamerasysteme/Umfeldsensorik, 4-Zyl. Ottomotor 1 5 L/110KW TSI Grundmotor ist: TJ7/N09/T9F, Nebelschlussleuchten, Nichtraucherausführung, Radstand, Doppeltonfanfare, Serienfahrwerk, 4 Türen, Modellbezeichnung gemäß neuer Leistungskennzeichnung, Warnleuchten, Zierleisten schwarz, Nichtraucherfahrzeug, Irrtümer Änderungen und Zwischenverkauf vorbehalten, sehr guter Zustand, Komfortklima, Aussenspiegel heizbar, elektrische Aussenspiegel, geteilte Rückbank, Scheckheft gepflegt, Fahrersitz höhenverstellbar, Beifahrersitz höhenverstellbar, \\n]                                                                                                                                                                                                                                                                                                                                                                                                                                                                        1\n",
              "[\\nDEK:[2691331], Renault Espace Blue dCi 200CV EDC Business, Nuova da Immatricolare, COLORE: Grigio Titanio, INTERNO: Pelle+Tessuto, TRASMISSIONE: Cambio Automatico EDC, ---, ACCESSORI: , 7 Posti, , , Cerchi in Lega 17, Navigatore con Display 8.7, Clima Automatico, Sensori di Parcheggio Anteriori e Posteriori con Retrocamera, Fari Full LED Pure Vision, Cruise Control, Renault Multisense, ---, Listino Nuovo 44.300 Euro, Prezzo Gruppo Carmeli: 39.700 Euro (Esclusa IPT e Messa in Strada), IVA Esposta, In caso di Adesione alla PROMO GRUPPO CARMELI puoi Averla a 36.000 Euro, Contattaci per scoprire tutti i vantaggi della PROMO GRUPPO CARMELI, ____________________________________, Gruppo Carmeli S.p.A. è Concessionaria e Service ufficiale dei Marchi Renault, Dacia, Nissan, Mercedes e Smart per la provincia di Brescia e Bergamo ed opera nel mercato dell’auto da più di 40 anni., Nelle sedi di Brescia (Nissan e Renault-Dacia Autospazio), di Coccaglio (Renault-Dacia e Nissan) e di Bergamo (Nissan) oltre a tutta la gamma di veicoli dei Marchi rappresentati, propone anche 2.000 auto a Km Zero e Aziendali di tutte le marche., Offriamo Servizi:, -VALUTAZIONE e PERMUTA del tuo USATO, -ACQUISTO con pagamento immediato del tuo USATO, -FINANZIAMENTI e LEASING agevolati, -NOLEGGIO A LUNGO TERMINE di veicoli di tutte le marche, -PACCHETTI ASSICURATIVI su misura con possibilità di garanzia del valore a Nuovo, ____________________________________, Sebbene sia stato fatto ogni ragionevole sforzo per assicurare l'esattezza delle informazioni riportate, vi potrebbero essere involontarie incongruenze riguardanti le immagini e la descrizione degli accessori, che pertanto non rappresentano vincolo contrattuale. Per ulteriori informazioni sulle condizioni economiche ti invitiamo a contattarci., \\n]                                                                                                                                                                                                                                                                                                                                                                                                                                                                                                                                                                                                                                                                                                                                                                                                                   1\n",
              "Name: description, Length: 12874, dtype: int64"
            ]
          },
          "metadata": {},
          "execution_count": 29
        }
      ]
    },
    {
      "cell_type": "code",
      "source": [
        ""
      ],
      "metadata": {
        "id": "go9Hf1aMp1RH"
      },
      "execution_count": null,
      "outputs": []
    },
    {
      "cell_type": "markdown",
      "source": [
        "**Emission Label**"
      ],
      "metadata": {
        "id": "5rHDd-s2p5l6"
      }
    },
    {
      "cell_type": "code",
      "source": [
        "df[\"Emission Label\"].value_counts()\n",
        "# co2 emission ,emision level ile baglantili \n",
        "#drop edilebilir"
      ],
      "metadata": {
        "colab": {
          "base_uri": "https://localhost:8080/",
          "height": 339
        },
        "id": "k5pg8uybpp14",
        "outputId": "1d9e82a1-c4d1-43dd-cdb0-5ccfbec26476"
      },
      "execution_count": 23,
      "outputs": [
        {
          "output_type": "error",
          "ename": "TypeError",
          "evalue": "ignored",
          "traceback": [
            "\u001b[0;31m---------------------------------------------------------------------------\u001b[0m",
            "\u001b[0;31mTypeError\u001b[0m                                 Traceback (most recent call last)",
            "\u001b[0;32mpandas/_libs/hashtable_class_helper.pxi\u001b[0m in \u001b[0;36mpandas._libs.hashtable.PyObjectHashTable.map_locations\u001b[0;34m()\u001b[0m\n",
            "\u001b[0;31mTypeError\u001b[0m: unhashable type: 'list'"
          ]
        },
        {
          "output_type": "stream",
          "name": "stderr",
          "text": [
            "Exception ignored in: 'pandas._libs.index.IndexEngine._call_map_locations'\n",
            "Traceback (most recent call last):\n",
            "  File \"pandas/_libs/hashtable_class_helper.pxi\", line 5231, in pandas._libs.hashtable.PyObjectHashTable.map_locations\n",
            "TypeError: unhashable type: 'list'\n"
          ]
        },
        {
          "output_type": "execute_result",
          "data": {
            "text/plain": [
              "[\\n4 (Green)\\n]         3553\n",
              "[\\n1 (No sticker)\\n]     381\n",
              "[[], [], []]              40\n",
              "[\\n5 (Blue)\\n]             8\n",
              "[\\n3 (Yellow)\\n]           2\n",
              "[\\n2 (Red)\\n]              1\n",
              "Name: Emission Label, dtype: int64"
            ]
          },
          "metadata": {},
          "execution_count": 23
        }
      ]
    },
    {
      "cell_type": "code",
      "source": [
        "df[\"Emission_Label_new\"] = df[\"Emission Label\"].str[0].str.split().str[1].str.strip(\"()\")"
      ],
      "metadata": {
        "id": "GJGK4SRuppzF"
      },
      "execution_count": 24,
      "outputs": []
    },
    {
      "cell_type": "code",
      "source": [
        "df[\"Emission_Label_new\"].value_counts()"
      ],
      "metadata": {
        "colab": {
          "base_uri": "https://localhost:8080/"
        },
        "id": "q9-EjCYqppwE",
        "outputId": "e8155201-dbe5-41bf-f631-443619ed22e6"
      },
      "execution_count": 25,
      "outputs": [
        {
          "output_type": "execute_result",
          "data": {
            "text/plain": [
              "Green     3553\n",
              "No         381\n",
              "Blue         8\n",
              "Yellow       2\n",
              "Red          1\n",
              "Name: Emission_Label_new, dtype: int64"
            ]
          },
          "metadata": {},
          "execution_count": 25
        }
      ]
    },
    {
      "cell_type": "code",
      "source": [
        ""
      ],
      "metadata": {
        "id": "97075J-rppnw"
      },
      "execution_count": null,
      "outputs": []
    },
    {
      "cell_type": "markdown",
      "source": [
        "**Gears**"
      ],
      "metadata": {
        "id": "rbA4YUXUFCKG"
      }
    },
    {
      "cell_type": "code",
      "source": [
        "df[\"Gears\"].value_counts()\n",
        "#vites sayisi yanlis veriler var check edilmeli 50 vites gibi konrol et\n",
        "#keep"
      ],
      "metadata": {
        "colab": {
          "base_uri": "https://localhost:8080/",
          "height": 409
        },
        "id": "_ZDgIh2f5BBg",
        "outputId": "72d33df5-836d-43ad-f5e9-d4ea875f952c"
      },
      "execution_count": 20,
      "outputs": [
        {
          "output_type": "error",
          "ename": "TypeError",
          "evalue": "ignored",
          "traceback": [
            "\u001b[0;31m---------------------------------------------------------------------------\u001b[0m",
            "\u001b[0;31mTypeError\u001b[0m                                 Traceback (most recent call last)",
            "\u001b[0;32mpandas/_libs/hashtable_class_helper.pxi\u001b[0m in \u001b[0;36mpandas._libs.hashtable.PyObjectHashTable.map_locations\u001b[0;34m()\u001b[0m\n",
            "\u001b[0;31mTypeError\u001b[0m: unhashable type: 'list'"
          ]
        },
        {
          "output_type": "stream",
          "name": "stderr",
          "text": [
            "Exception ignored in: 'pandas._libs.index.IndexEngine._call_map_locations'\n",
            "Traceback (most recent call last):\n",
            "  File \"pandas/_libs/hashtable_class_helper.pxi\", line 5231, in pandas._libs.hashtable.PyObjectHashTable.map_locations\n",
            "TypeError: unhashable type: 'list'\n"
          ]
        },
        {
          "output_type": "execute_result",
          "data": {
            "text/plain": [
              "[\\n6\\n]     5822\n",
              "[\\n5\\n]     3239\n",
              "[\\n7\\n]     1908\n",
              "[\\n8\\n]      224\n",
              "[\\n9\\n]        6\n",
              "[\\n1\\n]        2\n",
              "[\\n3\\n]        2\n",
              "[\\n4\\n]        2\n",
              "[\\n2\\n]        1\n",
              "[\\n50\\n]       1\n",
              "Name: Gears, dtype: int64"
            ]
          },
          "metadata": {},
          "execution_count": 20
        }
      ]
    },
    {
      "cell_type": "code",
      "source": [
        "df[\"Gears_new\"] = df.Gears.str[0].str.strip(\"\\n\")"
      ],
      "metadata": {
        "id": "E-_HJWKF5A-s"
      },
      "execution_count": 21,
      "outputs": []
    },
    {
      "cell_type": "code",
      "source": [
        "df[\"Gears_new\"].value_counts(dropna=False)"
      ],
      "metadata": {
        "colab": {
          "base_uri": "https://localhost:8080/"
        },
        "id": "EB9HMIQZpbBU",
        "outputId": "5a55cb04-3f20-475a-a9e7-057cb77cddc4"
      },
      "execution_count": 22,
      "outputs": [
        {
          "output_type": "execute_result",
          "data": {
            "text/plain": [
              "6      5822\n",
              "NaN    4712\n",
              "5      3239\n",
              "7      1908\n",
              "8       224\n",
              "9         6\n",
              "1         2\n",
              "3         2\n",
              "4         2\n",
              "2         1\n",
              "50        1\n",
              "Name: Gears_new, dtype: int64"
            ]
          },
          "metadata": {},
          "execution_count": 22
        }
      ]
    },
    {
      "cell_type": "code",
      "source": [
        ""
      ],
      "metadata": {
        "id": "v45pPaVOpa0t"
      },
      "execution_count": null,
      "outputs": []
    },
    {
      "cell_type": "markdown",
      "source": [
        "**Country version**"
      ],
      "metadata": {
        "id": "3XpKo0uIFyjK"
      }
    },
    {
      "cell_type": "code",
      "source": [
        "df[\"Country version\"].value_counts()\n",
        "# bu drop edilebilir fiyata etkisi yok nerde uretidlgi gibi  bir bilgi"
      ],
      "metadata": {
        "colab": {
          "base_uri": "https://localhost:8080/",
          "height": 635
        },
        "id": "Hc8uc-To5A1x",
        "outputId": "5b4e7092-3817-44c3-fd87-f6eaaffed909"
      },
      "execution_count": 4,
      "outputs": [
        {
          "output_type": "error",
          "ename": "TypeError",
          "evalue": "ignored",
          "traceback": [
            "\u001b[0;31m---------------------------------------------------------------------------\u001b[0m",
            "\u001b[0;31mTypeError\u001b[0m                                 Traceback (most recent call last)",
            "\u001b[0;32mpandas/_libs/hashtable_class_helper.pxi\u001b[0m in \u001b[0;36mpandas._libs.hashtable.PyObjectHashTable.map_locations\u001b[0;34m()\u001b[0m\n",
            "\u001b[0;31mTypeError\u001b[0m: unhashable type: 'list'"
          ]
        },
        {
          "output_type": "stream",
          "name": "stderr",
          "text": [
            "Exception ignored in: 'pandas._libs.index.IndexEngine._call_map_locations'\n",
            "Traceback (most recent call last):\n",
            "  File \"pandas/_libs/hashtable_class_helper.pxi\", line 5231, in pandas._libs.hashtable.PyObjectHashTable.map_locations\n",
            "TypeError: unhashable type: 'list'\n"
          ]
        },
        {
          "output_type": "execute_result",
          "data": {
            "text/plain": [
              "[\\nGermany\\n]           4502\n",
              "[\\nItaly\\n]             1038\n",
              "[\\nEuropean Union\\n]     507\n",
              "[\\nNetherlands\\n]        464\n",
              "[\\nSpain\\n]              325\n",
              "[\\nBelgium\\n]            314\n",
              "[\\nAustria\\n]            208\n",
              "[\\nCzech Republic\\n]      52\n",
              "[\\nPoland\\n]              49\n",
              "[\\nFrance\\n]              38\n",
              "[\\nDenmark\\n]             33\n",
              "[\\nHungary\\n]             28\n",
              "[\\nJapan\\n]                8\n",
              "[\\nSlovakia\\n]             4\n",
              "[\\nCroatia\\n]              4\n",
              "[\\nSweden\\n]               3\n",
              "[\\nRomania\\n]              2\n",
              "[\\nBulgaria\\n]             2\n",
              "[\\nLuxembourg\\n]           1\n",
              "[\\nSwitzerland\\n]          1\n",
              "[\\nSlovenia\\n]             1\n",
              "[\\nEgypt\\n]                1\n",
              "[\\nSerbia\\n]               1\n",
              "Name: Country version, dtype: int64"
            ]
          },
          "metadata": {},
          "execution_count": 4
        }
      ]
    },
    {
      "cell_type": "code",
      "source": [
        "df[\"Country_version_ new\"] = df[\"Country version\"].str[0].str.strip(\"\\n\")\n"
      ],
      "metadata": {
        "id": "lKU6Jeff5Ayt"
      },
      "execution_count": 18,
      "outputs": []
    },
    {
      "cell_type": "code",
      "source": [
        "df[\"Country_version_ new\"].value_counts()"
      ],
      "metadata": {
        "colab": {
          "base_uri": "https://localhost:8080/"
        },
        "id": "54hPweJ1pIJS",
        "outputId": "e583e34e-5747-4ad6-8c29-e6031219a339"
      },
      "execution_count": 19,
      "outputs": [
        {
          "output_type": "execute_result",
          "data": {
            "text/plain": [
              "Germany           4502\n",
              "Italy             1038\n",
              "European Union     507\n",
              "Netherlands        464\n",
              "Spain              325\n",
              "Belgium            314\n",
              "Austria            208\n",
              "Czech Republic      52\n",
              "Poland              49\n",
              "France              38\n",
              "Denmark             33\n",
              "Hungary             28\n",
              "Japan                8\n",
              "Slovakia             4\n",
              "Croatia              4\n",
              "Sweden               3\n",
              "Romania              2\n",
              "Bulgaria             2\n",
              "Luxembourg           1\n",
              "Switzerland          1\n",
              "Slovenia             1\n",
              "Egypt                1\n",
              "Serbia               1\n",
              "Name: Country_version_ new, dtype: int64"
            ]
          },
          "metadata": {},
          "execution_count": 19
        }
      ]
    },
    {
      "cell_type": "markdown",
      "source": [
        "**Electricity consumption**"
      ],
      "metadata": {
        "id": "W0Vh3eTPHqy6"
      }
    },
    {
      "cell_type": "code",
      "source": [
        "df[\"Electricity consumption\"].value_counts()\n",
        "#zaten 15000 den fazla deger null kalanda 137 de anlamli bise yazmiyor\n",
        "#drop edilebilir"
      ],
      "metadata": {
        "colab": {
          "base_uri": "https://localhost:8080/",
          "height": 253
        },
        "id": "jBLwfZap3HLM",
        "outputId": "207d540d-b53e-4999-ac58-fa0ea645615c"
      },
      "execution_count": 5,
      "outputs": [
        {
          "output_type": "error",
          "ename": "TypeError",
          "evalue": "ignored",
          "traceback": [
            "\u001b[0;31m---------------------------------------------------------------------------\u001b[0m",
            "\u001b[0;31mTypeError\u001b[0m                                 Traceback (most recent call last)",
            "\u001b[0;32mpandas/_libs/hashtable_class_helper.pxi\u001b[0m in \u001b[0;36mpandas._libs.hashtable.PyObjectHashTable.map_locations\u001b[0;34m()\u001b[0m\n",
            "\u001b[0;31mTypeError\u001b[0m: unhashable type: 'list'"
          ]
        },
        {
          "output_type": "stream",
          "name": "stderr",
          "text": [
            "Exception ignored in: 'pandas._libs.index.IndexEngine._call_map_locations'\n",
            "Traceback (most recent call last):\n",
            "  File \"pandas/_libs/hashtable_class_helper.pxi\", line 5231, in pandas._libs.hashtable.PyObjectHashTable.map_locations\n",
            "TypeError: unhashable type: 'list'\n"
          ]
        },
        {
          "output_type": "execute_result",
          "data": {
            "text/plain": [
              "[\\n0 kWh/100 km (comb)\\n]    137\n",
              "Name: Electricity consumption, dtype: int64"
            ]
          },
          "metadata": {},
          "execution_count": 5
        }
      ]
    },
    {
      "cell_type": "code",
      "source": [
        ""
      ],
      "metadata": {
        "id": "f_pc1LR83HIE"
      },
      "execution_count": null,
      "outputs": []
    },
    {
      "cell_type": "markdown",
      "source": [
        "**Last Service Date**"
      ],
      "metadata": {
        "id": "CBbSZ12yH8Dj"
      }
    },
    {
      "cell_type": "code",
      "source": [
        "df[\"Last Service Date\"].value_counts()\n",
        "#bununda 15000 den fala nunu var liste icinde elamanlar \n",
        "# drop edilmeli"
      ],
      "metadata": {
        "colab": {
          "base_uri": "https://localhost:8080/",
          "height": 426
        },
        "id": "YuK2JyKY3HE-",
        "outputId": "d17ddffd-7be0-41b2-841b-73fc0eab11ce"
      },
      "execution_count": 38,
      "outputs": [
        {
          "output_type": "error",
          "ename": "TypeError",
          "evalue": "ignored",
          "traceback": [
            "\u001b[0;31m---------------------------------------------------------------------------\u001b[0m",
            "\u001b[0;31mTypeError\u001b[0m                                 Traceback (most recent call last)",
            "\u001b[0;32mpandas/_libs/hashtable_class_helper.pxi\u001b[0m in \u001b[0;36mpandas._libs.hashtable.PyObjectHashTable.map_locations\u001b[0;34m()\u001b[0m\n",
            "\u001b[0;31mTypeError\u001b[0m: unhashable type: 'list'"
          ]
        },
        {
          "output_type": "stream",
          "name": "stderr",
          "text": [
            "Exception ignored in: 'pandas._libs.index.IndexEngine._call_map_locations'\n",
            "Traceback (most recent call last):\n",
            "  File \"pandas/_libs/hashtable_class_helper.pxi\", line 5231, in pandas._libs.hashtable.PyObjectHashTable.map_locations\n",
            "TypeError: unhashable type: 'list'\n"
          ]
        },
        {
          "output_type": "execute_result",
          "data": {
            "text/plain": [
              "[\\n02/2019\\n, \\nEuro 6\\n]                 23\n",
              "[\\n05/2019\\n, \\nEuro 6\\n]                 16\n",
              "[\\n01/2018\\n, \\n118 g CO2/km (comb)\\n]    15\n",
              "[\\n03/2019\\n, \\nEuro 6\\n]                 15\n",
              "[\\n06/2019\\n, \\nEuro 6\\n]                 13\n",
              "                                          ..\n",
              "[\\n01/2017\\n, \\n95 g CO2/km (comb)\\n]      1\n",
              "[\\n06/2019\\n, \\n87 g CO2/km (comb)\\n]      1\n",
              "[\\n10/2018\\n, \\n100 g CO2/km (comb)\\n]     1\n",
              "[\\n02/2018\\n, \\n97 g CO2/km (comb)\\n]      1\n",
              "[\\n03/2019\\n, \\n120 g CO2/km (comb)\\n]     1\n",
              "Name: Last Service Date, Length: 266, dtype: int64"
            ]
          },
          "metadata": {},
          "execution_count": 38
        }
      ]
    },
    {
      "cell_type": "code",
      "source": [
        ""
      ],
      "metadata": {
        "id": "LY3BJgEa3HCD"
      },
      "execution_count": null,
      "outputs": []
    },
    {
      "cell_type": "markdown",
      "source": [
        "**Other Fuel Types**"
      ],
      "metadata": {
        "id": "Xu-0Xe8uIT2h"
      }
    },
    {
      "cell_type": "code",
      "source": [
        "df[\"Other Fuel Types\"].isnull().sum() \n",
        "#columlarin nullardan arta kalani koseli parantze cesitleri drop edilmeli\n",
        "#drop et tmm mi?"
      ],
      "metadata": {
        "colab": {
          "base_uri": "https://localhost:8080/"
        },
        "id": "ClpVjdC43G9s",
        "outputId": "dfa31942-e635-46c7-cb2f-26dd3ae0bfc4"
      },
      "execution_count": 6,
      "outputs": [
        {
          "output_type": "execute_result",
          "data": {
            "text/plain": [
              "15039"
            ]
          },
          "metadata": {},
          "execution_count": 6
        }
      ]
    },
    {
      "cell_type": "code",
      "source": [
        ""
      ],
      "metadata": {
        "id": "nYmwMbShIk8a"
      },
      "execution_count": null,
      "outputs": []
    },
    {
      "cell_type": "markdown",
      "source": [
        "**Availability_new**"
      ],
      "metadata": {
        "id": "GzbE3R8YIlia"
      }
    },
    {
      "cell_type": "code",
      "source": [
        "df[\"Availability_new\"].value_counts()\n",
        "#drop edilebilir fiyat ile ilgisi cok yok"
      ],
      "metadata": {
        "colab": {
          "base_uri": "https://localhost:8080/",
          "height": 495
        },
        "id": "Gm69Z6aMshkm",
        "outputId": "dee57768-1913-4ac5-a093-d4b66f01389e"
      },
      "execution_count": 9,
      "outputs": [
        {
          "output_type": "error",
          "ename": "TypeError",
          "evalue": "ignored",
          "traceback": [
            "\u001b[0;31m---------------------------------------------------------------------------\u001b[0m",
            "\u001b[0;31mTypeError\u001b[0m                                 Traceback (most recent call last)",
            "\u001b[0;32mpandas/_libs/hashtable_class_helper.pxi\u001b[0m in \u001b[0;36mpandas._libs.hashtable.PyObjectHashTable.map_locations\u001b[0;34m()\u001b[0m\n",
            "\u001b[0;31mTypeError\u001b[0m: unhashable type: 'list'"
          ]
        },
        {
          "output_type": "stream",
          "name": "stderr",
          "text": [
            "Exception ignored in: 'pandas._libs.index.IndexEngine._call_map_locations'\n",
            "Traceback (most recent call last):\n",
            "  File \"pandas/_libs/hashtable_class_helper.pxi\", line 5231, in pandas._libs.hashtable.PyObjectHashTable.map_locations\n",
            "TypeError: unhashable type: 'list'\n"
          ]
        },
        {
          "output_type": "execute_result",
          "data": {
            "text/plain": [
              "[,  90 days from ordering\\n]     196\n",
              "[,  120 days from ordering\\n]    182\n",
              "[,  1 day from ordering\\n]        51\n",
              "[,  5 days from ordering\\n]       35\n",
              "[,  3 days from ordering\\n]       35\n",
              "[,  180 days from ordering\\n]     24\n",
              "[,  14 days from ordering\\n]      24\n",
              "[,  7 days from ordering\\n]       20\n",
              "[,  150 days from ordering\\n]     18\n",
              "[,  2 days from ordering\\n]       16\n",
              "[,  60 days from ordering\\n]      13\n",
              "[,  42 days from ordering\\n]      10\n",
              "[,  21 days from ordering\\n]       8\n",
              "[,  4 days from ordering\\n]        2\n",
              "[,  6 days from ordering\\n]        1\n",
              "Name: Availability_new, dtype: int64"
            ]
          },
          "metadata": {},
          "execution_count": 9
        }
      ]
    },
    {
      "cell_type": "code",
      "source": [
        "df[[\"Availability\",\"Available from\"]].sample(5)"
      ],
      "metadata": {
        "colab": {
          "base_uri": "https://localhost:8080/",
          "height": 206
        },
        "id": "4FhhesYeshp1",
        "outputId": "ebbb6d04-e4d5-47a2-b63d-4456c0739147"
      },
      "execution_count": 7,
      "outputs": [
        {
          "output_type": "execute_result",
          "data": {
            "text/plain": [
              "      Availability Available from\n",
              "1757           NaN            NaN\n",
              "11598          NaN            NaN\n",
              "6336           NaN            NaN\n",
              "11813          NaN            NaN\n",
              "14763          NaN            NaN"
            ],
            "text/html": [
              "\n",
              "  <div id=\"df-65600ccd-ac97-4e10-ba47-24b98db506b9\">\n",
              "    <div class=\"colab-df-container\">\n",
              "      <div>\n",
              "<style scoped>\n",
              "    .dataframe tbody tr th:only-of-type {\n",
              "        vertical-align: middle;\n",
              "    }\n",
              "\n",
              "    .dataframe tbody tr th {\n",
              "        vertical-align: top;\n",
              "    }\n",
              "\n",
              "    .dataframe thead th {\n",
              "        text-align: right;\n",
              "    }\n",
              "</style>\n",
              "<table border=\"1\" class=\"dataframe\">\n",
              "  <thead>\n",
              "    <tr style=\"text-align: right;\">\n",
              "      <th></th>\n",
              "      <th>Availability</th>\n",
              "      <th>Available from</th>\n",
              "    </tr>\n",
              "  </thead>\n",
              "  <tbody>\n",
              "    <tr>\n",
              "      <th>1757</th>\n",
              "      <td>NaN</td>\n",
              "      <td>NaN</td>\n",
              "    </tr>\n",
              "    <tr>\n",
              "      <th>11598</th>\n",
              "      <td>NaN</td>\n",
              "      <td>NaN</td>\n",
              "    </tr>\n",
              "    <tr>\n",
              "      <th>6336</th>\n",
              "      <td>NaN</td>\n",
              "      <td>NaN</td>\n",
              "    </tr>\n",
              "    <tr>\n",
              "      <th>11813</th>\n",
              "      <td>NaN</td>\n",
              "      <td>NaN</td>\n",
              "    </tr>\n",
              "    <tr>\n",
              "      <th>14763</th>\n",
              "      <td>NaN</td>\n",
              "      <td>NaN</td>\n",
              "    </tr>\n",
              "  </tbody>\n",
              "</table>\n",
              "</div>\n",
              "      <button class=\"colab-df-convert\" onclick=\"convertToInteractive('df-65600ccd-ac97-4e10-ba47-24b98db506b9')\"\n",
              "              title=\"Convert this dataframe to an interactive table.\"\n",
              "              style=\"display:none;\">\n",
              "        \n",
              "  <svg xmlns=\"http://www.w3.org/2000/svg\" height=\"24px\"viewBox=\"0 0 24 24\"\n",
              "       width=\"24px\">\n",
              "    <path d=\"M0 0h24v24H0V0z\" fill=\"none\"/>\n",
              "    <path d=\"M18.56 5.44l.94 2.06.94-2.06 2.06-.94-2.06-.94-.94-2.06-.94 2.06-2.06.94zm-11 1L8.5 8.5l.94-2.06 2.06-.94-2.06-.94L8.5 2.5l-.94 2.06-2.06.94zm10 10l.94 2.06.94-2.06 2.06-.94-2.06-.94-.94-2.06-.94 2.06-2.06.94z\"/><path d=\"M17.41 7.96l-1.37-1.37c-.4-.4-.92-.59-1.43-.59-.52 0-1.04.2-1.43.59L10.3 9.45l-7.72 7.72c-.78.78-.78 2.05 0 2.83L4 21.41c.39.39.9.59 1.41.59.51 0 1.02-.2 1.41-.59l7.78-7.78 2.81-2.81c.8-.78.8-2.07 0-2.86zM5.41 20L4 18.59l7.72-7.72 1.47 1.35L5.41 20z\"/>\n",
              "  </svg>\n",
              "      </button>\n",
              "      \n",
              "  <style>\n",
              "    .colab-df-container {\n",
              "      display:flex;\n",
              "      flex-wrap:wrap;\n",
              "      gap: 12px;\n",
              "    }\n",
              "\n",
              "    .colab-df-convert {\n",
              "      background-color: #E8F0FE;\n",
              "      border: none;\n",
              "      border-radius: 50%;\n",
              "      cursor: pointer;\n",
              "      display: none;\n",
              "      fill: #1967D2;\n",
              "      height: 32px;\n",
              "      padding: 0 0 0 0;\n",
              "      width: 32px;\n",
              "    }\n",
              "\n",
              "    .colab-df-convert:hover {\n",
              "      background-color: #E2EBFA;\n",
              "      box-shadow: 0px 1px 2px rgba(60, 64, 67, 0.3), 0px 1px 3px 1px rgba(60, 64, 67, 0.15);\n",
              "      fill: #174EA6;\n",
              "    }\n",
              "\n",
              "    [theme=dark] .colab-df-convert {\n",
              "      background-color: #3B4455;\n",
              "      fill: #D2E3FC;\n",
              "    }\n",
              "\n",
              "    [theme=dark] .colab-df-convert:hover {\n",
              "      background-color: #434B5C;\n",
              "      box-shadow: 0px 1px 3px 1px rgba(0, 0, 0, 0.15);\n",
              "      filter: drop-shadow(0px 1px 2px rgba(0, 0, 0, 0.3));\n",
              "      fill: #FFFFFF;\n",
              "    }\n",
              "  </style>\n",
              "\n",
              "      <script>\n",
              "        const buttonEl =\n",
              "          document.querySelector('#df-65600ccd-ac97-4e10-ba47-24b98db506b9 button.colab-df-convert');\n",
              "        buttonEl.style.display =\n",
              "          google.colab.kernel.accessAllowed ? 'block' : 'none';\n",
              "\n",
              "        async function convertToInteractive(key) {\n",
              "          const element = document.querySelector('#df-65600ccd-ac97-4e10-ba47-24b98db506b9');\n",
              "          const dataTable =\n",
              "            await google.colab.kernel.invokeFunction('convertToInteractive',\n",
              "                                                     [key], {});\n",
              "          if (!dataTable) return;\n",
              "\n",
              "          const docLinkHtml = 'Like what you see? Visit the ' +\n",
              "            '<a target=\"_blank\" href=https://colab.research.google.com/notebooks/data_table.ipynb>data table notebook</a>'\n",
              "            + ' to learn more about interactive tables.';\n",
              "          element.innerHTML = '';\n",
              "          dataTable['output_type'] = 'display_data';\n",
              "          await google.colab.output.renderOutput(dataTable, element);\n",
              "          const docLink = document.createElement('div');\n",
              "          docLink.innerHTML = docLinkHtml;\n",
              "          element.appendChild(docLink);\n",
              "        }\n",
              "      </script>\n",
              "    </div>\n",
              "  </div>\n",
              "  "
            ]
          },
          "metadata": {},
          "execution_count": 7
        }
      ]
    },
    {
      "cell_type": "code",
      "source": [
        "df[[\"Availability_new\"]]= df[[\"Availability\"]].apply(lambda x: x.str.strip(\"\\nin\"))"
      ],
      "metadata": {
        "id": "Bwzw0f-Lshhs"
      },
      "execution_count": 16,
      "outputs": []
    },
    {
      "cell_type": "code",
      "source": [
        ""
      ],
      "metadata": {
        "id": "ATamrzooshe_"
      },
      "execution_count": null,
      "outputs": []
    },
    {
      "cell_type": "code",
      "source": [
        "df[[\"Availability_new\"]].value_counts()"
      ],
      "metadata": {
        "colab": {
          "base_uri": "https://localhost:8080/"
        },
        "id": "R4flYok1shcJ",
        "outputId": "ae7fc646-432a-4302-e037-04a69247f382"
      },
      "execution_count": 17,
      "outputs": [
        {
          "output_type": "execute_result",
          "data": {
            "text/plain": [
              "Availability_new       \n",
              " 90 days from ordering     196\n",
              " 120 days from ordering    182\n",
              " 1 day from ordering        51\n",
              " 3 days from ordering       35\n",
              " 5 days from ordering       35\n",
              " 14 days from ordering      24\n",
              " 180 days from ordering     24\n",
              " 7 days from ordering       20\n",
              " 150 days from ordering     18\n",
              " 2 days from ordering       16\n",
              " 60 days from ordering      13\n",
              " 42 days from ordering      10\n",
              " 21 days from ordering       8\n",
              " 4 days from ordering        2\n",
              " 6 days from ordering        1\n",
              "dtype: int64"
            ]
          },
          "metadata": {},
          "execution_count": 17
        }
      ]
    },
    {
      "cell_type": "code",
      "source": [
        ""
      ],
      "metadata": {
        "id": "PUZL0QCNshZS"
      },
      "execution_count": null,
      "outputs": []
    },
    {
      "cell_type": "markdown",
      "source": [
        "**Last Timing Belt Service Date**"
      ],
      "metadata": {
        "id": "54qReLdvIu2E"
      }
    },
    {
      "cell_type": "code",
      "source": [
        "df[\"Last Timing Belt Service Date\"].value_counts()#burda bir tane sutunda lste icinde iki degerr var o duzeltilmeden diger \\nler temizlenmiyir\n",
        "#bu duzeltuldiginde \\n fprmulasyonu ile icinden deger cekilebilir\n",
        "#bu fill asamasi icin keep edilsin"
      ],
      "metadata": {
        "colab": {
          "base_uri": "https://localhost:8080/",
          "height": 495
        },
        "id": "fdXd-AdnshWd",
        "outputId": "e45c011b-6f4f-4943-f2aa-f99b3c0065f2"
      },
      "execution_count": 11,
      "outputs": [
        {
          "output_type": "error",
          "ename": "TypeError",
          "evalue": "ignored",
          "traceback": [
            "\u001b[0;31m---------------------------------------------------------------------------\u001b[0m",
            "\u001b[0;31mTypeError\u001b[0m                                 Traceback (most recent call last)",
            "\u001b[0;32mpandas/_libs/hashtable_class_helper.pxi\u001b[0m in \u001b[0;36mpandas._libs.hashtable.PyObjectHashTable.map_locations\u001b[0;34m()\u001b[0m\n",
            "\u001b[0;31mTypeError\u001b[0m: unhashable type: 'list'"
          ]
        },
        {
          "output_type": "stream",
          "name": "stderr",
          "text": [
            "Exception ignored in: 'pandas._libs.index.IndexEngine._call_map_locations'\n",
            "Traceback (most recent call last):\n",
            "  File \"pandas/_libs/hashtable_class_helper.pxi\", line 5231, in pandas._libs.hashtable.PyObjectHashTable.map_locations\n",
            "TypeError: unhashable type: 'list'\n"
          ]
        },
        {
          "output_type": "execute_result",
          "data": {
            "text/plain": [
              "[\\n04/2016\\n]                2\n",
              "[\\n12/1900\\n]                1\n",
              "[\\n07/2018\\n]                1\n",
              "[\\n01/1900\\n]                1\n",
              "[\\n05/2019\\n]                1\n",
              "[\\n09/2018\\n]                1\n",
              "[\\n05/2018\\n, \\nEuro 6\\n]    1\n",
              "[\\n06/2017\\n]                1\n",
              "[\\n01/2019\\n]                1\n",
              "[\\n02/2019\\n]                1\n",
              "[\\n02/2018\\n]                1\n",
              "[\\n06/2019\\n]                1\n",
              "[\\n01/2018\\n]                1\n",
              "[\\n04/2019\\n]                1\n",
              "[\\n01/1970\\n]                1\n",
              "Name: Last Timing Belt Service Date, dtype: int64"
            ]
          },
          "metadata": {},
          "execution_count": 11
        }
      ]
    },
    {
      "cell_type": "code",
      "source": [
        "df[[\"Last Timing Belt Service Date_new\"]] = df[[\"Last Timing Belt Service Date\"]].apply(lambda x: x.str.strip(\"\\n\") )\n",
        "df[[\"Last Timing Belt Service Date_new\"]]"
      ],
      "metadata": {
        "colab": {
          "base_uri": "https://localhost:8080/",
          "height": 424
        },
        "id": "nYKS646AshP5",
        "outputId": "440aa709-e5bc-4859-ebc8-1110ac93ad5c"
      },
      "execution_count": 13,
      "outputs": [
        {
          "output_type": "execute_result",
          "data": {
            "text/plain": [
              "       Last Timing Belt Service Date_new\n",
              "0                                    NaN\n",
              "1                                    NaN\n",
              "2                                    NaN\n",
              "3                                    NaN\n",
              "4                                    NaN\n",
              "...                                  ...\n",
              "15914                                NaN\n",
              "15915                                NaN\n",
              "15916                                NaN\n",
              "15917                                NaN\n",
              "15918                                NaN\n",
              "\n",
              "[15919 rows x 1 columns]"
            ],
            "text/html": [
              "\n",
              "  <div id=\"df-85aa7d68-1c8d-4d25-bfa7-8df10620a96e\">\n",
              "    <div class=\"colab-df-container\">\n",
              "      <div>\n",
              "<style scoped>\n",
              "    .dataframe tbody tr th:only-of-type {\n",
              "        vertical-align: middle;\n",
              "    }\n",
              "\n",
              "    .dataframe tbody tr th {\n",
              "        vertical-align: top;\n",
              "    }\n",
              "\n",
              "    .dataframe thead th {\n",
              "        text-align: right;\n",
              "    }\n",
              "</style>\n",
              "<table border=\"1\" class=\"dataframe\">\n",
              "  <thead>\n",
              "    <tr style=\"text-align: right;\">\n",
              "      <th></th>\n",
              "      <th>Last Timing Belt Service Date_new</th>\n",
              "    </tr>\n",
              "  </thead>\n",
              "  <tbody>\n",
              "    <tr>\n",
              "      <th>0</th>\n",
              "      <td>NaN</td>\n",
              "    </tr>\n",
              "    <tr>\n",
              "      <th>1</th>\n",
              "      <td>NaN</td>\n",
              "    </tr>\n",
              "    <tr>\n",
              "      <th>2</th>\n",
              "      <td>NaN</td>\n",
              "    </tr>\n",
              "    <tr>\n",
              "      <th>3</th>\n",
              "      <td>NaN</td>\n",
              "    </tr>\n",
              "    <tr>\n",
              "      <th>4</th>\n",
              "      <td>NaN</td>\n",
              "    </tr>\n",
              "    <tr>\n",
              "      <th>...</th>\n",
              "      <td>...</td>\n",
              "    </tr>\n",
              "    <tr>\n",
              "      <th>15914</th>\n",
              "      <td>NaN</td>\n",
              "    </tr>\n",
              "    <tr>\n",
              "      <th>15915</th>\n",
              "      <td>NaN</td>\n",
              "    </tr>\n",
              "    <tr>\n",
              "      <th>15916</th>\n",
              "      <td>NaN</td>\n",
              "    </tr>\n",
              "    <tr>\n",
              "      <th>15917</th>\n",
              "      <td>NaN</td>\n",
              "    </tr>\n",
              "    <tr>\n",
              "      <th>15918</th>\n",
              "      <td>NaN</td>\n",
              "    </tr>\n",
              "  </tbody>\n",
              "</table>\n",
              "<p>15919 rows × 1 columns</p>\n",
              "</div>\n",
              "      <button class=\"colab-df-convert\" onclick=\"convertToInteractive('df-85aa7d68-1c8d-4d25-bfa7-8df10620a96e')\"\n",
              "              title=\"Convert this dataframe to an interactive table.\"\n",
              "              style=\"display:none;\">\n",
              "        \n",
              "  <svg xmlns=\"http://www.w3.org/2000/svg\" height=\"24px\"viewBox=\"0 0 24 24\"\n",
              "       width=\"24px\">\n",
              "    <path d=\"M0 0h24v24H0V0z\" fill=\"none\"/>\n",
              "    <path d=\"M18.56 5.44l.94 2.06.94-2.06 2.06-.94-2.06-.94-.94-2.06-.94 2.06-2.06.94zm-11 1L8.5 8.5l.94-2.06 2.06-.94-2.06-.94L8.5 2.5l-.94 2.06-2.06.94zm10 10l.94 2.06.94-2.06 2.06-.94-2.06-.94-.94-2.06-.94 2.06-2.06.94z\"/><path d=\"M17.41 7.96l-1.37-1.37c-.4-.4-.92-.59-1.43-.59-.52 0-1.04.2-1.43.59L10.3 9.45l-7.72 7.72c-.78.78-.78 2.05 0 2.83L4 21.41c.39.39.9.59 1.41.59.51 0 1.02-.2 1.41-.59l7.78-7.78 2.81-2.81c.8-.78.8-2.07 0-2.86zM5.41 20L4 18.59l7.72-7.72 1.47 1.35L5.41 20z\"/>\n",
              "  </svg>\n",
              "      </button>\n",
              "      \n",
              "  <style>\n",
              "    .colab-df-container {\n",
              "      display:flex;\n",
              "      flex-wrap:wrap;\n",
              "      gap: 12px;\n",
              "    }\n",
              "\n",
              "    .colab-df-convert {\n",
              "      background-color: #E8F0FE;\n",
              "      border: none;\n",
              "      border-radius: 50%;\n",
              "      cursor: pointer;\n",
              "      display: none;\n",
              "      fill: #1967D2;\n",
              "      height: 32px;\n",
              "      padding: 0 0 0 0;\n",
              "      width: 32px;\n",
              "    }\n",
              "\n",
              "    .colab-df-convert:hover {\n",
              "      background-color: #E2EBFA;\n",
              "      box-shadow: 0px 1px 2px rgba(60, 64, 67, 0.3), 0px 1px 3px 1px rgba(60, 64, 67, 0.15);\n",
              "      fill: #174EA6;\n",
              "    }\n",
              "\n",
              "    [theme=dark] .colab-df-convert {\n",
              "      background-color: #3B4455;\n",
              "      fill: #D2E3FC;\n",
              "    }\n",
              "\n",
              "    [theme=dark] .colab-df-convert:hover {\n",
              "      background-color: #434B5C;\n",
              "      box-shadow: 0px 1px 3px 1px rgba(0, 0, 0, 0.15);\n",
              "      filter: drop-shadow(0px 1px 2px rgba(0, 0, 0, 0.3));\n",
              "      fill: #FFFFFF;\n",
              "    }\n",
              "  </style>\n",
              "\n",
              "      <script>\n",
              "        const buttonEl =\n",
              "          document.querySelector('#df-85aa7d68-1c8d-4d25-bfa7-8df10620a96e button.colab-df-convert');\n",
              "        buttonEl.style.display =\n",
              "          google.colab.kernel.accessAllowed ? 'block' : 'none';\n",
              "\n",
              "        async function convertToInteractive(key) {\n",
              "          const element = document.querySelector('#df-85aa7d68-1c8d-4d25-bfa7-8df10620a96e');\n",
              "          const dataTable =\n",
              "            await google.colab.kernel.invokeFunction('convertToInteractive',\n",
              "                                                     [key], {});\n",
              "          if (!dataTable) return;\n",
              "\n",
              "          const docLinkHtml = 'Like what you see? Visit the ' +\n",
              "            '<a target=\"_blank\" href=https://colab.research.google.com/notebooks/data_table.ipynb>data table notebook</a>'\n",
              "            + ' to learn more about interactive tables.';\n",
              "          element.innerHTML = '';\n",
              "          dataTable['output_type'] = 'display_data';\n",
              "          await google.colab.output.renderOutput(dataTable, element);\n",
              "          const docLink = document.createElement('div');\n",
              "          docLink.innerHTML = docLinkHtml;\n",
              "          element.appendChild(docLink);\n",
              "        }\n",
              "      </script>\n",
              "    </div>\n",
              "  </div>\n",
              "  "
            ]
          },
          "metadata": {},
          "execution_count": 13
        }
      ]
    },
    {
      "cell_type": "code",
      "source": [
        ""
      ],
      "metadata": {
        "id": "rDyN3KKFtbpV"
      },
      "execution_count": null,
      "outputs": []
    },
    {
      "cell_type": "code",
      "source": [
        "df[[\"Last Timing Belt Service Date_new\"]].value_counts()"
      ],
      "metadata": {
        "colab": {
          "base_uri": "https://localhost:8080/"
        },
        "id": "vCKbtPRBs_g8",
        "outputId": "b5fdbaf3-301d-4326-ff52-774e49a576e4"
      },
      "execution_count": 13,
      "outputs": [
        {
          "output_type": "execute_result",
          "data": {
            "text/plain": [
              "Series([], dtype: int64)"
            ]
          },
          "metadata": {},
          "execution_count": 13
        }
      ]
    },
    {
      "cell_type": "code",
      "source": [
        "df[[\"Last Timing Belt Service Date_new\"]].isnull().sum()"
      ],
      "metadata": {
        "colab": {
          "base_uri": "https://localhost:8080/"
        },
        "id": "ZFI5aMCQtdVj",
        "outputId": "56772aff-508c-459a-c312-4ee6ca8129a4"
      },
      "execution_count": 14,
      "outputs": [
        {
          "output_type": "execute_result",
          "data": {
            "text/plain": [
              "Last Timing Belt Service Date_new    15919\n",
              "dtype: int64"
            ]
          },
          "metadata": {},
          "execution_count": 14
        }
      ]
    },
    {
      "cell_type": "code",
      "source": [
        ""
      ],
      "metadata": {
        "id": "kScNX8nCI6nw"
      },
      "execution_count": null,
      "outputs": []
    },
    {
      "cell_type": "markdown",
      "source": [
        "**Available from**"
      ],
      "metadata": {
        "id": "q4zkthK2I7Cs"
      }
    },
    {
      "cell_type": "code",
      "source": [
        "#bu siilenebilir anlamli degil price icin\n",
        "#drop :)"
      ],
      "metadata": {
        "id": "J0q6sjtHJBFR"
      },
      "execution_count": null,
      "outputs": []
    },
    {
      "cell_type": "code",
      "execution_count": 14,
      "metadata": {
        "colab": {
          "base_uri": "https://localhost:8080/",
          "height": 424
        },
        "id": "j4iLDniGotd7",
        "outputId": "e5f9ecc4-2f0e-4f9e-9d15-be1fa73b4427"
      },
      "outputs": [
        {
          "output_type": "execute_result",
          "data": {
            "text/plain": [
              "      Available_from_new\n",
              "0                    NaN\n",
              "1                    NaN\n",
              "2                    NaN\n",
              "3                    NaN\n",
              "4                    NaN\n",
              "...                  ...\n",
              "15914                NaN\n",
              "15915                NaN\n",
              "15916                NaN\n",
              "15917                NaN\n",
              "15918                NaN\n",
              "\n",
              "[15919 rows x 1 columns]"
            ],
            "text/html": [
              "\n",
              "  <div id=\"df-ed55e5bb-24a2-4be8-b798-4d6bfa1cb872\">\n",
              "    <div class=\"colab-df-container\">\n",
              "      <div>\n",
              "<style scoped>\n",
              "    .dataframe tbody tr th:only-of-type {\n",
              "        vertical-align: middle;\n",
              "    }\n",
              "\n",
              "    .dataframe tbody tr th {\n",
              "        vertical-align: top;\n",
              "    }\n",
              "\n",
              "    .dataframe thead th {\n",
              "        text-align: right;\n",
              "    }\n",
              "</style>\n",
              "<table border=\"1\" class=\"dataframe\">\n",
              "  <thead>\n",
              "    <tr style=\"text-align: right;\">\n",
              "      <th></th>\n",
              "      <th>Available_from_new</th>\n",
              "    </tr>\n",
              "  </thead>\n",
              "  <tbody>\n",
              "    <tr>\n",
              "      <th>0</th>\n",
              "      <td>NaN</td>\n",
              "    </tr>\n",
              "    <tr>\n",
              "      <th>1</th>\n",
              "      <td>NaN</td>\n",
              "    </tr>\n",
              "    <tr>\n",
              "      <th>2</th>\n",
              "      <td>NaN</td>\n",
              "    </tr>\n",
              "    <tr>\n",
              "      <th>3</th>\n",
              "      <td>NaN</td>\n",
              "    </tr>\n",
              "    <tr>\n",
              "      <th>4</th>\n",
              "      <td>NaN</td>\n",
              "    </tr>\n",
              "    <tr>\n",
              "      <th>...</th>\n",
              "      <td>...</td>\n",
              "    </tr>\n",
              "    <tr>\n",
              "      <th>15914</th>\n",
              "      <td>NaN</td>\n",
              "    </tr>\n",
              "    <tr>\n",
              "      <th>15915</th>\n",
              "      <td>NaN</td>\n",
              "    </tr>\n",
              "    <tr>\n",
              "      <th>15916</th>\n",
              "      <td>NaN</td>\n",
              "    </tr>\n",
              "    <tr>\n",
              "      <th>15917</th>\n",
              "      <td>NaN</td>\n",
              "    </tr>\n",
              "    <tr>\n",
              "      <th>15918</th>\n",
              "      <td>NaN</td>\n",
              "    </tr>\n",
              "  </tbody>\n",
              "</table>\n",
              "<p>15919 rows × 1 columns</p>\n",
              "</div>\n",
              "      <button class=\"colab-df-convert\" onclick=\"convertToInteractive('df-ed55e5bb-24a2-4be8-b798-4d6bfa1cb872')\"\n",
              "              title=\"Convert this dataframe to an interactive table.\"\n",
              "              style=\"display:none;\">\n",
              "        \n",
              "  <svg xmlns=\"http://www.w3.org/2000/svg\" height=\"24px\"viewBox=\"0 0 24 24\"\n",
              "       width=\"24px\">\n",
              "    <path d=\"M0 0h24v24H0V0z\" fill=\"none\"/>\n",
              "    <path d=\"M18.56 5.44l.94 2.06.94-2.06 2.06-.94-2.06-.94-.94-2.06-.94 2.06-2.06.94zm-11 1L8.5 8.5l.94-2.06 2.06-.94-2.06-.94L8.5 2.5l-.94 2.06-2.06.94zm10 10l.94 2.06.94-2.06 2.06-.94-2.06-.94-.94-2.06-.94 2.06-2.06.94z\"/><path d=\"M17.41 7.96l-1.37-1.37c-.4-.4-.92-.59-1.43-.59-.52 0-1.04.2-1.43.59L10.3 9.45l-7.72 7.72c-.78.78-.78 2.05 0 2.83L4 21.41c.39.39.9.59 1.41.59.51 0 1.02-.2 1.41-.59l7.78-7.78 2.81-2.81c.8-.78.8-2.07 0-2.86zM5.41 20L4 18.59l7.72-7.72 1.47 1.35L5.41 20z\"/>\n",
              "  </svg>\n",
              "      </button>\n",
              "      \n",
              "  <style>\n",
              "    .colab-df-container {\n",
              "      display:flex;\n",
              "      flex-wrap:wrap;\n",
              "      gap: 12px;\n",
              "    }\n",
              "\n",
              "    .colab-df-convert {\n",
              "      background-color: #E8F0FE;\n",
              "      border: none;\n",
              "      border-radius: 50%;\n",
              "      cursor: pointer;\n",
              "      display: none;\n",
              "      fill: #1967D2;\n",
              "      height: 32px;\n",
              "      padding: 0 0 0 0;\n",
              "      width: 32px;\n",
              "    }\n",
              "\n",
              "    .colab-df-convert:hover {\n",
              "      background-color: #E2EBFA;\n",
              "      box-shadow: 0px 1px 2px rgba(60, 64, 67, 0.3), 0px 1px 3px 1px rgba(60, 64, 67, 0.15);\n",
              "      fill: #174EA6;\n",
              "    }\n",
              "\n",
              "    [theme=dark] .colab-df-convert {\n",
              "      background-color: #3B4455;\n",
              "      fill: #D2E3FC;\n",
              "    }\n",
              "\n",
              "    [theme=dark] .colab-df-convert:hover {\n",
              "      background-color: #434B5C;\n",
              "      box-shadow: 0px 1px 3px 1px rgba(0, 0, 0, 0.15);\n",
              "      filter: drop-shadow(0px 1px 2px rgba(0, 0, 0, 0.3));\n",
              "      fill: #FFFFFF;\n",
              "    }\n",
              "  </style>\n",
              "\n",
              "      <script>\n",
              "        const buttonEl =\n",
              "          document.querySelector('#df-ed55e5bb-24a2-4be8-b798-4d6bfa1cb872 button.colab-df-convert');\n",
              "        buttonEl.style.display =\n",
              "          google.colab.kernel.accessAllowed ? 'block' : 'none';\n",
              "\n",
              "        async function convertToInteractive(key) {\n",
              "          const element = document.querySelector('#df-ed55e5bb-24a2-4be8-b798-4d6bfa1cb872');\n",
              "          const dataTable =\n",
              "            await google.colab.kernel.invokeFunction('convertToInteractive',\n",
              "                                                     [key], {});\n",
              "          if (!dataTable) return;\n",
              "\n",
              "          const docLinkHtml = 'Like what you see? Visit the ' +\n",
              "            '<a target=\"_blank\" href=https://colab.research.google.com/notebooks/data_table.ipynb>data table notebook</a>'\n",
              "            + ' to learn more about interactive tables.';\n",
              "          element.innerHTML = '';\n",
              "          dataTable['output_type'] = 'display_data';\n",
              "          await google.colab.output.renderOutput(dataTable, element);\n",
              "          const docLink = document.createElement('div');\n",
              "          docLink.innerHTML = docLinkHtml;\n",
              "          element.appendChild(docLink);\n",
              "        }\n",
              "      </script>\n",
              "    </div>\n",
              "  </div>\n",
              "  "
            ]
          },
          "metadata": {},
          "execution_count": 14
        }
      ],
      "source": [
        "df[[\"Available_from_new\"]] = df[[\"Available from\"]].apply(lambda x: x.str.strip(\"\\n\") )\n",
        "df[[\"Available_from_new\"]]"
      ]
    },
    {
      "cell_type": "code",
      "execution_count": 15,
      "metadata": {
        "colab": {
          "base_uri": "https://localhost:8080/"
        },
        "id": "tTO6tZDjotd8",
        "outputId": "fd93cf7e-0621-4793-9db6-8b0077f8ab9d"
      },
      "outputs": [
        {
          "output_type": "execute_result",
          "data": {
            "text/plain": [
              "Available_from_new\n",
              "31/08/19              98\n",
              "30/07/19              25\n",
              "15/08/19              24\n",
              "16/09/19              14\n",
              "29/06/19              12\n",
              "01/07/19              11\n",
              "28/06/19              10\n",
              "19/08/19               7\n",
              "10/09/19               6\n",
              "27/06/19               5\n",
              "10/11/19               5\n",
              "26/06/19               5\n",
              "08/07/19               4\n",
              "25/10/19               3\n",
              "01/08/19               3\n",
              "15/07/19               3\n",
              "24/08/19               2\n",
              "16/07/19               2\n",
              "04/07/19               2\n",
              "05/07/19               2\n",
              "20/07/19               2\n",
              "05/08/19               2\n",
              "30/06/19               2\n",
              "03/08/19               1\n",
              "27/07/19               1\n",
              "29/07/19               1\n",
              "29/09/19               1\n",
              "02/07/19               1\n",
              "30/09/19               1\n",
              "01/09/19               1\n",
              "24/09/19               1\n",
              "18/08/19               1\n",
              "24/07/19               1\n",
              "19/07/19               1\n",
              "18/07/19               1\n",
              "17/08/19               1\n",
              "16/08/19               1\n",
              "03/12/19               1\n",
              "14/09/19               1\n",
              "11/08/19               1\n",
              "10/12/19               1\n",
              "10/10/19               1\n",
              "10/07/19               1\n",
              "06/12/19               1\n",
              "05/12/19               1\n",
              "31/10/19               1\n",
              "dtype: int64"
            ]
          },
          "metadata": {},
          "execution_count": 15
        }
      ],
      "source": [
        "df[[\"Available_from_new\"]].value_counts()"
      ]
    },
    {
      "cell_type": "code",
      "execution_count": null,
      "metadata": {
        "id": "i1rDJd-Botd8"
      },
      "outputs": [],
      "source": [
        "#bitiiiiii :)"
      ]
    },
    {
      "cell_type": "code",
      "execution_count": null,
      "metadata": {
        "id": "m9KAcpKzotd8"
      },
      "outputs": [],
      "source": [
        ""
      ]
    },
    {
      "cell_type": "markdown",
      "metadata": {
        "id": "kkasvdseotd8"
      },
      "source": [
        "## Import Libraries and Data"
      ]
    },
    {
      "cell_type": "code",
      "execution_count": null,
      "metadata": {
        "id": "kIeeBE64otd8"
      },
      "outputs": [],
      "source": [
        "df_dummied.to_csv(\"final_scout_dummy.csv\", index=False)"
      ]
    },
    {
      "cell_type": "code",
      "execution_count": null,
      "metadata": {
        "id": "jgQEM6acotd9"
      },
      "outputs": [],
      "source": [
        "df.to_csv(\"final_scout_not_dummy.csv\", index=False)"
      ]
    }
  ],
  "metadata": {
    "kernelspec": {
      "display_name": "Python 3",
      "language": "python",
      "name": "python3"
    },
    "language_info": {
      "codemirror_mode": {
        "name": "ipython",
        "version": 3
      },
      "file_extension": ".py",
      "mimetype": "text/x-python",
      "name": "python",
      "nbconvert_exporter": "python",
      "pygments_lexer": "ipython3",
      "version": "3.8.5"
    },
    "colab": {
      "name": "DAwPython-Capstone (AutoScout) Projectcleaning_Student.ipynb",
      "provenance": [],
      "collapsed_sections": [],
      "include_colab_link": true
    }
  },
  "nbformat": 4,
  "nbformat_minor": 0
}