{
  "nbformat": 4,
  "nbformat_minor": 0,
  "metadata": {
    "colab": {
      "name": "Perparingforfilnaa.ipynb",
      "provenance": [],
      "collapsed_sections": [],
      "authorship_tag": "ABX9TyMd3WcLn2TC9RdMi7LSX1zx",
      "include_colab_link": true
    },
    "kernelspec": {
      "name": "python3",
      "display_name": "Python 3"
    },
    "language_info": {
      "name": "python"
    }
  },
  "cells": [
    {
      "cell_type": "markdown",
      "metadata": {
        "id": "view-in-github",
        "colab_type": "text"
      },
      "source": [
        "<a href=\"https://colab.research.google.com/github/eildes06/Assigments/blob/main/Perparingforfilnaa.ipynb\" target=\"_parent\"><img src=\"https://colab.research.google.com/assets/colab-badge.svg\" alt=\"Open In Colab\"/></a>"
      ]
    },
    {
      "cell_type": "code",
      "execution_count": 1,
      "metadata": {
        "id": "jVxsI-wz65pj"
      },
      "outputs": [],
      "source": [
        "import pandas as pd\n",
        "import re\n",
        "import numpy as np\n",
        "import seaborn as sns\n",
        "sns.set_style(\"whitegrid\")\n",
        "\n",
        "import matplotlib.pyplot as plt\n",
        "%matplotlib inline\n",
        "\n",
        "import warnings\n",
        "warnings.filterwarnings(\"ignore\")\n",
        "warnings.warn(\"this will not show\")\n",
        "\n",
        "pd.set_option('display.float_format', lambda x: '%.3f' % x)\n",
        "pd.options.display.max_rows=100\n",
        "pd.options.display.max_columns=100"
      ]
    },
    {
      "cell_type": "code",
      "source": [
        "scout_car_clean= pd.read_csv('/content/scout_car_clean.csv')\n",
        "df=scout_car_clean.copy()"
      ],
      "metadata": {
        "id": "TtkO7gEa7yYT"
      },
      "execution_count": 2,
      "outputs": []
    },
    {
      "cell_type": "code",
      "source": [
        "df.columns"
      ],
      "metadata": {
        "colab": {
          "base_uri": "https://localhost:8080/"
        },
        "id": "Czqo2glU8Nmi",
        "outputId": "aa0d99af-77f9-45cc-dca7-60110d3a054a"
      },
      "execution_count": 4,
      "outputs": [
        {
          "output_type": "execute_result",
          "data": {
            "text/plain": [
              "Index(['Safety_Security', 'Extras', 'Entertainment_Media',\n",
              "       'Comfort_Convenience', 'Emission_Class', 'CO2_Emission', 'Consumption',\n",
              "       'Fuel', 'Drive_chain', 'Cylinders', 'Displacement', 'Gearing_Type',\n",
              "       'Seats', 'Doors', 'Upholstery', 'Body_Color_Original', 'Paint_Type',\n",
              "       'Body_Color', 'First_Registration', 'Non_smoking_Vehicle',\n",
              "       'Full_Service', 'Warranty', 'Type', 'hp', 'prev_owner', 'km', 'vat',\n",
              "       'price', 'body_type', 'make_model', 'url', 'description',\n",
              "       'Emission_Label', 'Gears', 'Country_version',\n",
              "       'Last_Timing_Belt_Service_Date'],\n",
              "      dtype='object')"
            ]
          },
          "metadata": {},
          "execution_count": 4
        }
      ]
    },
    {
      "cell_type": "code",
      "source": [
        "df.shape"
      ],
      "metadata": {
        "colab": {
          "base_uri": "https://localhost:8080/"
        },
        "id": "VAqLXQrJ89Qn",
        "outputId": "e5ac5fe1-095f-41b0-e30d-e484dd25190e"
      },
      "execution_count": 6,
      "outputs": [
        {
          "output_type": "execute_result",
          "data": {
            "text/plain": [
              "(15919, 36)"
            ]
          },
          "metadata": {},
          "execution_count": 6
        }
      ]
    },
    {
      "cell_type": "markdown",
      "source": [
        "Keep =['Entertainment_Media', 'Comfort_Convenience', 'CO2_Emission','Fuel','Drive_chain','Cylinders', 'Displacement','Gearing_Type','Seats','Doors',\n",
        "'Upholstery', 'Paint_Type', 'Full_Service', 'Full_Service', 'Type', 'hp', 'prev_owner', 'km', 'vat',\n",
        "       'price', 'body_type','description','Gears'] **kalın metin**"
      ],
      "metadata": {
        "id": "pLlHWxdF9zUL"
      }
    },
    {
      "cell_type": "code",
      "source": [
        ""
      ],
      "metadata": {
        "id": "Q3cuW4IE9GA1"
      },
      "execution_count": null,
      "outputs": []
    },
    {
      "cell_type": "markdown",
      "source": [
        "\n",
        "**drop_columns_inplace = ['Available_from', 'Weight', 'Model_Code','Body', 'Offer_Number', 'Model', 'Make', 'Previous_Owners', 'short_description','registration_new']**"
      ],
      "metadata": {
        "id": "MFy6tv5M9_0r"
      }
    },
    {
      "cell_type": "markdown",
      "source": [
        "# **Drop_later =[\"Safety_Security\",'Extras', 'Emission_Class','Consumption', 'Body_Color_Original', 'Body_Color', 'First_Registration', 'Non_smoking_Vehicle' ,**\n",
        "# 'make_model',\"Contry_version\",'Last_Timing_Belt_Servic_Date', 'Emisson_label' ] **kalın metin**"
      ],
      "metadata": {
        "id": "pHRSPu1_-LkX"
      }
    },
    {
      "cell_type": "code",
      "source": [
        ""
      ],
      "metadata": {
        "id": "Sr42JSyf-LVJ"
      },
      "execution_count": null,
      "outputs": []
    }
  ]
}