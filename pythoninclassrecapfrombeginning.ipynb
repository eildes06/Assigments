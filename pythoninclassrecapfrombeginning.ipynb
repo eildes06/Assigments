{
  "nbformat": 4,
  "nbformat_minor": 0,
  "metadata": {
    "colab": {
      "name": "pythoninclassrecapfrombeginning.ipynb",
      "provenance": [],
      "authorship_tag": "ABX9TyOm+6yjD/JqmYia2wgts+QE",
      "include_colab_link": true
    },
    "kernelspec": {
      "name": "python3",
      "display_name": "Python 3"
    },
    "language_info": {
      "name": "python"
    }
  },
  "cells": [
    {
      "cell_type": "markdown",
      "metadata": {
        "id": "view-in-github",
        "colab_type": "text"
      },
      "source": [
        "<a href=\"https://colab.research.google.com/github/eildes06/Assigments/blob/main/pythoninclassrecapfrombeginning.ipynb\" target=\"_parent\"><img src=\"https://colab.research.google.com/assets/colab-badge.svg\" alt=\"Open In Colab\"/></a>"
      ]
    },
    {
      "cell_type": "code",
      "execution_count": 4,
      "metadata": {
        "colab": {
          "base_uri": "https://localhost:8080/"
        },
        "id": "GF4aHpVMt2ny",
        "outputId": "cc21b76b-2a29-4187-ad54-c3cf6ee9c0bf"
      },
      "outputs": [
        {
          "output_type": "stream",
          "name": "stdout",
          "text": [
            "enter a num :6\n",
            "6 is even\n"
          ]
        }
      ],
      "source": [
        "number= int (input (\"enter a num :\"))\n",
        "if number %2 ==0  :\n",
        "  print (\"{} is even\".format(number))\n",
        "else :\n",
        "  print(\"{} is odd\".format(number))"
      ]
    },
    {
      "cell_type": "code",
      "source": [
        "number= float (input (\"enter a num :\"))\n",
        "if number > 0  :\n",
        "  print (\"{}is  pozitive\".format(number))\n",
        "else :\n",
        "  print(\"{} is negative\".format(number))"
      ],
      "metadata": {
        "colab": {
          "base_uri": "https://localhost:8080/"
        },
        "id": "w06U4R8CuctW",
        "outputId": "7a50edcf-e931-4018-cc8e-3825935a9504"
      },
      "execution_count": 6,
      "outputs": [
        {
          "output_type": "stream",
          "name": "stdout",
          "text": [
            "enter a num :0\n",
            "0.0 is negative\n"
          ]
        }
      ]
    },
    {
      "cell_type": "code",
      "source": [
        "num1= float(input(\"enter a num\"))\n",
        "num2= float(input(\"enter a num\"))\n",
        "if num1 > num2 :\n",
        "  print(\"num1 is big\")\n",
        "else :\n",
        "  print(\"num2 is big\")\n"
      ],
      "metadata": {
        "colab": {
          "base_uri": "https://localhost:8080/"
        },
        "id": "bQ9U8YDbvCLA",
        "outputId": "bd0fd65a-26c9-4534-f0df-5e50b16fa543"
      },
      "execution_count": 7,
      "outputs": [
        {
          "output_type": "stream",
          "name": "stdout",
          "text": [
            "enter a num3\n",
            "enter a num5\n",
            "num2 is big\n"
          ]
        }
      ]
    },
    {
      "cell_type": "code",
      "source": [
        "num1= float(input(\"enter a num\"))\n",
        "num2= float(input(\"enter a num\"))\n",
        "if num1 > num2 :\n",
        "   larger =num1\n",
        "else :\n",
        "  larger=num2\n",
        "print(\"the larger is :\" ,larger)\n"
      ],
      "metadata": {
        "colab": {
          "base_uri": "https://localhost:8080/"
        },
        "id": "ig-zi6hVv1lk",
        "outputId": "d2187cca-9394-4e73-a913-4a2bb8decfda"
      },
      "execution_count": 8,
      "outputs": [
        {
          "output_type": "stream",
          "name": "stdout",
          "text": [
            "enter a num7\n",
            "enter a num6\n",
            "the larger is : 7.0\n"
          ]
        }
      ]
    },
    {
      "cell_type": "code",
      "source": [
        "num1= float(input(\"enter a num \"))\n",
        "num2= float(input(\"enter a num \"))\n",
        "num3= float(input(\"enter a num \"))\n",
        "if (num1 > num2) and (num1 >num3):\n",
        "   largest =num1\n",
        "elif (num2> num1) and (num2>num3):\n",
        "  largest = num2\n",
        "else :\n",
        "  largest=num3\n",
        "print(\"the largest is :\" ,largest)"
      ],
      "metadata": {
        "id": "zTF-NwZ73fT8"
      },
      "execution_count": null,
      "outputs": []
    },
    {
      "cell_type": "code",
      "source": [
        "score = (input(\"enter your score: \"))\n",
        "if score >=85\n",
        " degree = \"A\"\n",
        "elif "
      ],
      "metadata": {
        "id": "B2scxDrK3fQs"
      },
      "execution_count": null,
      "outputs": []
    },
    {
      "cell_type": "code",
      "source": [
        "Input        Output\n",
        "--------:    ------:\n",
        "\"()\"         True\n",
        "\"()[]{}\"     True\n",
        "\"(]\"         False\n",
        "\"([)]\"       False\n",
        "\"{[]}\"       True\n",
        "\"\"           True"
      ],
      "metadata": {
        "id": "4yvaVg8V3fNi"
      },
      "execution_count": null,
      "outputs": []
    },
    {
      "cell_type": "code",
      "source": [
        "while True :\n",
        "    a = int(input(\"ilk sayı :\"))\n",
        "    b = int(input(\"ikinci sayı :\"))\n",
        "    \n",
        "    try:\n",
        "        c = a / b\n",
        "        print(c)\n",
        "        break\n",
        "    except :\n",
        "        print(\"Bir şeyler ters gitti.\")"
      ],
      "metadata": {
        "id": "mEGJfKSr3fKV"
      },
      "execution_count": null,
      "outputs": []
    },
    {
      "cell_type": "code",
      "source": [
        "try :\n",
        "    print(\"4\" + 4)\n",
        "except :\n",
        "    print(\"muhtemelen yanlış birşeyler yaptın.\")"
      ],
      "metadata": {
        "id": "N9v_aH1kZrnC"
      },
      "execution_count": null,
      "outputs": []
    },
    {
      "cell_type": "code",
      "source": [
        "while True :\n",
        "    a = int(input(\"ilk sayı :\"))\n",
        "    b = int(input(\"ikinci sayı :\"))\n",
        "    \n",
        "    try:\n",
        "        c = a / b\n",
        "        print(c)\n",
        "        break\n",
        "    except ZeroDivisionError:\n",
        "        print(\"Sıfıra bölünememe kuralını hatırla. İkinci sayıyı sıfır girme lütfen.\")\n",
        "ilk sayı :6"
      ],
      "metadata": {
        "id": "Zikwph4TZrkV"
      },
      "execution_count": null,
      "outputs": []
    },
    {
      "cell_type": "code",
      "source": [
        "try :\n",
        "    print(\"4\" + \"4\")\n",
        "except TypeError:\n",
        "    print(\"Type hatası var. Tipi kontrol etsen iyi olur.\")\n",
        "else :\n",
        "    print(\"Aaaa demek ki exception yükselmemiş. MMmm. Super.\")\n",
        "finally:\n",
        "    print(\"Eh nihayet bana sıra geldi. Ben çalıştım.\")"
      ],
      "metadata": {
        "id": "_rz1OjtAZrhM"
      },
      "execution_count": null,
      "outputs": []
    },
    {
      "cell_type": "code",
      "source": [
        "while True :\n",
        "    \n",
        "    try :\n",
        "        index = int(input(\"Favori meyve indexini girer misin? : \"))\n",
        "        print(\"Benim favori meyvem {}'dir.\".format(fruits[index]))\n",
        "        break\n",
        "    \n",
        "    except IndexError :\n",
        "        print(\"Böyle bir index bulunmamaktadır. Lütfen doğru giriş yapınız.\")\n",
        "        \n",
        "    except ValueError :\n",
        "        print(\"Integer yani numeric bir değer giriniz. Tekrar deneyin.\")"
      ],
      "metadata": {
        "id": "KPr5cKOpZreH"
      },
      "execution_count": null,
      "outputs": []
    },
    {
      "cell_type": "code",
      "source": [
        "fruits = ['Banana', 'Orange', 'Apple', 'Strawberry', 'Cherry']\n",
        "with open(\"fruits_24.txt\", \"w\", encoding=\"utf-8\") as ff :\n",
        "    for meyve in fruits :\n",
        "        ff.write(meyve + \"\\n\")\n",
        "\n",
        "with open(\"fruits_24.txt\", \"r\", encoding=\"utf-8\") as ff :\n",
        "    print(ff.read())"
      ],
      "metadata": {
        "id": "8HRPqMaQZraq"
      },
      "execution_count": null,
      "outputs": []
    },
    {
      "cell_type": "code",
      "source": [
        "counter = 0\n",
        "with open(\"istiklal.txt\", \"w\", encoding=\"utf-8\") as f:\n",
        "    \n",
        "    for i in lines :\n",
        "        counter += 1\n",
        "        if counter % 4 == 0 :\n",
        "            f.write(i + \"\\n\")\n",
        "        else :\n",
        "            f.write(i)\n",
        "            \n",
        "with open(\"istiklal.txt\", \"r\", encoding = \"utf-8\") as f:\n",
        "    print(f.read())"
      ],
      "metadata": {
        "id": "rEdZk1dpO9P4"
      },
      "execution_count": null,
      "outputs": []
    },
    {
      "cell_type": "code",
      "source": [
        "with open(\"istiklal.txt\", \"r\", encoding = \"utf-8\") as f:\n",
        "    new_lines = f. readlines()\n",
        "new_lines"
      ],
      "metadata": {
        "id": "9I6t6X9QO9NH"
      },
      "execution_count": null,
      "outputs": []
    },
    {
      "cell_type": "code",
      "source": [
        "with open(\"istiklal.txt\", \"a\", encoding=\"utf-8\") as f:\n",
        "    f.write(\"\\n\")\n",
        "    \n",
        "    for i in new_lines :\n",
        "        if i == \"\\n\" :\n",
        "            i.replace(\"\\n\", \"\")  #pass\n",
        "        else :\n",
        "            f.write(i)\n",
        "with open(\"istiklal.txt\", \"r\", encoding = \"utf-8\") as f:\n",
        "    print(f.read()) "
      ],
      "metadata": {
        "id": "CNxdrrVFO9Jz"
      },
      "execution_count": null,
      "outputs": []
    },
    {
      "cell_type": "code",
      "source": [
        "string = \"bir berber, bir'e berber.\"\n",
        "\n",
        "word_dict = {}\n",
        "\n",
        "for n in string :\n",
        "    keys = word_dict.keys()\n",
        "    if n in keys :\n",
        "        word_dict[n] += 1\n",
        "    else :\n",
        "        word_dict[n] = 1\n",
        "        \n",
        "print(word_dict)"
      ],
      "metadata": {
        "id": "b872ANylO9GW"
      },
      "execution_count": null,
      "outputs": []
    },
    {
      "cell_type": "code",
      "source": [
        "sudoku = [\n",
        "    [0, 0, 0, 0, 6, 4, 0, 0, 0],\n",
        "    [7, 0, 0, 0, 0, 0, 3, 9, 0],\n",
        "    [8, 0, 0, 0, 0, 0, 0, 0, 0],\n",
        "    [0, 0, 0, 5, 0, 2, 0, 6, 0],\n",
        "    [0, 8, 0, 4, 0, 0, 0, 0, 0],\n",
        "    [3, 5, 0, 6, 0, 0, 0, 7, 0],\n",
        "    [0, 0, 2, 0, 0, 0, 1, 0, 3],\n",
        "    [0, 0, 1, 0, 5, 9, 0, 0, 0],\n",
        "    [0, 0, 0, 0, 0, 0, 7, 0, 0]\n",
        "]"
      ],
      "metadata": {
        "id": "ZZs8BY8WPtwB"
      },
      "execution_count": null,
      "outputs": []
    },
    {
      "cell_type": "code",
      "source": [
        "count = 0\n",
        "\n",
        "print(\"- - - - - - - - - - - - - - - \")\n",
        "for i in sudoku:\n",
        "    for j in range(len(i)) :\n",
        "        print(i[j], \" \", end = \"\")\n",
        "        if (j + 1) == 9 :\n",
        "            print()\n",
        "            count += 1\n",
        "            if count % 3 == 0 and count != 0 :\n",
        "                print(\"- - - - - - - - - - - - - - - \")\n",
        "        if (j + 1) % 3 == 0 and j != 0 and j != 8:\n",
        "            print(\"| \", end = \"\")"
      ],
      "metadata": {
        "id": "oHOpQJkpPttG"
      },
      "execution_count": null,
      "outputs": []
    },
    {
      "cell_type": "code",
      "source": [
        "yList = \"selvi vahit ayşe\".split()\n",
        "yList"
      ],
      "metadata": {
        "id": "MNDOcMRKQtUE"
      },
      "execution_count": null,
      "outputs": []
    },
    {
      "cell_type": "code",
      "source": [
        "xList = \"elma armut muz\".split()\n",
        "xList"
      ],
      "metadata": {
        "id": "26u5sgbHQwNd"
      },
      "execution_count": null,
      "outputs": []
    },
    {
      "cell_type": "code",
      "source": [
        "result = []\n",
        "\n",
        "for i in xList :\n",
        "    for j in yList:\n",
        "        result.append(i + j)\n",
        "result"
      ],
      "metadata": {
        "id": "WpcPUh3TPtqV"
      },
      "execution_count": null,
      "outputs": []
    },
    {
      "cell_type": "code",
      "source": [
        "[i + j for i in xList for j in yList]"
      ],
      "metadata": {
        "id": "7Jm6F8MwPtnT"
      },
      "execution_count": null,
      "outputs": []
    },
    {
      "cell_type": "code",
      "source": [
        "[[i + j] for i in xList for j in yList]"
      ],
      "metadata": {
        "id": "2cmGeb0APtkN"
      },
      "execution_count": null,
      "outputs": []
    },
    {
      "cell_type": "code",
      "source": [
        "result = []\n",
        "sayılar = [\"bir\", \"iki\", \"üç\"]\n",
        "for i in range(5):\n",
        "    if i%2==0:\n",
        "        for j in sayılar :\n",
        "            result.append(str(i) + \" --> \" + j)\n",
        "result"
      ],
      "metadata": {
        "id": "6mFzPIiMQ9DC"
      },
      "execution_count": null,
      "outputs": []
    },
    {
      "cell_type": "code",
      "source": [
        "def equal(a, b, c) :\n",
        "    numbers = [a, b, c]\n",
        "    result = numbers.count(max(numbers, key = numbers.count))\n",
        "    if result > 1 :\n",
        "        return result\n",
        "    else :\n",
        "        return 0"
      ],
      "metadata": {
        "id": "qvYiGD3-Q8_1"
      },
      "execution_count": null,
      "outputs": []
    },
    {
      "cell_type": "code",
      "source": [
        "equal(1,1,5)"
      ],
      "metadata": {
        "id": "S9fBT_gEQ86t"
      },
      "execution_count": null,
      "outputs": []
    },
    {
      "cell_type": "code",
      "source": [
        "def equal(*a) :\n",
        "    numbers = list(a)\n",
        "    result = numbers.count(max(numbers, key = numbers.count))\n",
        "    if result > 1 :\n",
        "        return result\n",
        "    else :\n",
        "        return 0"
      ],
      "metadata": {
        "id": "EYS9zzzuRYlb"
      },
      "execution_count": null,
      "outputs": []
    },
    {
      "cell_type": "code",
      "source": [
        "equal(1,2,3,4,5,5,5,6,7,7)"
      ],
      "metadata": {
        "id": "ZgCclDM4RYh4"
      },
      "execution_count": null,
      "outputs": []
    },
    {
      "cell_type": "code",
      "source": [
        "x = []\n",
        "for i in range(3) :\n",
        "    for j in range(4) :\n",
        "        x.append(j+i)\n",
        "x"
      ],
      "metadata": {
        "id": "YduUGxtaRYeR"
      },
      "execution_count": null,
      "outputs": []
    },
    {
      "cell_type": "code",
      "source": [
        "[j+i for i in range(3) for j in range(4)]"
      ],
      "metadata": {
        "id": "XBMDh2YsSILf"
      },
      "execution_count": null,
      "outputs": []
    },
    {
      "cell_type": "code",
      "source": [
        ""
      ],
      "metadata": {
        "id": "O8BUZQOxSIIF"
      },
      "execution_count": null,
      "outputs": []
    },
    {
      "cell_type": "code",
      "source": [
        ""
      ],
      "metadata": {
        "id": "s6RHewOlSIEm"
      },
      "execution_count": null,
      "outputs": []
    }
  ]
}