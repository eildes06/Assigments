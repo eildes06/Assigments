{
  "nbformat": 4,
  "nbformat_minor": 0,
  "metadata": {
    "colab": {
      "name": "samestringinsidelist.ipynb",
      "provenance": [],
      "authorship_tag": "ABX9TyN2W93BI/fFBlwZUF3G08hZ",
      "include_colab_link": true
    },
    "kernelspec": {
      "name": "python3",
      "display_name": "Python 3"
    },
    "language_info": {
      "name": "python"
    }
  },
  "cells": [
    {
      "cell_type": "markdown",
      "metadata": {
        "id": "view-in-github",
        "colab_type": "text"
      },
      "source": [
        "<a href=\"https://colab.research.google.com/github/eildes06/Assigments/blob/main/samestringinsidelist.ipynb\" target=\"_parent\"><img src=\"https://colab.research.google.com/assets/colab-badge.svg\" alt=\"Open In Colab\"/></a>"
      ]
    },
    {
      "cell_type": "markdown",
      "source": [
        "Given two arrays of strings a1 and a2 return a sorted array r in lexicographical order of the strings of a1 which are substrings of strings of a2.\n",
        "\n",
        "Example 1:\n",
        "a1 = [\"arp\", \"live\", \"strong\"]\n",
        "\n",
        "a2 = [\"lively\", \"alive\", \"harp\", \"sharp\", \"armstrong\"]\n",
        "\n",
        "returns [\"arp\", \"live\", \"strong\"]\n",
        "\n",
        "Example 2:\n",
        "a1 = [\"tarp\", \"mice\", \"bull\"]\n",
        "\n",
        "a2 = [\"lively\", \"alive\", \"harp\", \"sharp\", \"armstrong\"]\n",
        "\n",
        "returns []\n",
        "\n",
        "Notes:\n",
        "Arrays are written in \"general\" notation. See \"Your Test Cases\" for examples in your language.\n",
        "\n",
        "In Shell bash a1 and a2 are strings. The return is a string where words are separated by commas.\n",
        "\n",
        "Beware: r must be without duplicates.\n"
      ],
      "metadata": {
        "id": "a_mbmFcMsSUJ"
      }
    },
    {
      "cell_type": "code",
      "source": [
        "a1 = [\"tarp\", \"mice\", \"bull\"]\n",
        "\n",
        "a2 = [\"lively\", \"alive\", \"harp\", \"sharp\", \"armstrong\"]"
      ],
      "metadata": {
        "id": "j_Jgah82tway"
      },
      "execution_count": null,
      "outputs": []
    },
    {
      "cell_type": "code",
      "source": [
        "def samewords(l1,l2):\n",
        " s=[]\n",
        " for i in l1 :\n",
        "   for k in l2:\n",
        "     if i in k and i is not s :\n",
        "        s.append(i)\n",
        " return sorted(s)\n"
      ],
      "metadata": {
        "id": "CKP6N6tbsVNm"
      },
      "execution_count": null,
      "outputs": []
    },
    {
      "cell_type": "code",
      "source": [
        "k=samewords(a1,a2)\n",
        "k"
      ],
      "metadata": {
        "colab": {
          "base_uri": "https://localhost:8080/"
        },
        "id": "pWS7LUDht6g3",
        "outputId": "c3899ceb-799b-45fd-8e48-ae8fd9e79451"
      },
      "execution_count": null,
      "outputs": [
        {
          "output_type": "execute_result",
          "data": {
            "text/plain": [
              "[]"
            ]
          },
          "metadata": {},
          "execution_count": 20
        }
      ]
    },
    {
      "cell_type": "code",
      "source": [
        "s"
      ],
      "metadata": {
        "colab": {
          "base_uri": "https://localhost:8080/",
          "height": 167
        },
        "id": "Oy642mwyt_uo",
        "outputId": "3ed50e1b-22bb-48b6-8a22-947f294ca4e3"
      },
      "execution_count": null,
      "outputs": [
        {
          "output_type": "error",
          "ename": "NameError",
          "evalue": "ignored",
          "traceback": [
            "\u001b[0;31m---------------------------------------------------------------------------\u001b[0m",
            "\u001b[0;31mNameError\u001b[0m                                 Traceback (most recent call last)",
            "\u001b[0;32m<ipython-input-11-ded5ba42480f>\u001b[0m in \u001b[0;36m<module>\u001b[0;34m()\u001b[0m\n\u001b[0;32m----> 1\u001b[0;31m \u001b[0ms\u001b[0m\u001b[0;34m\u001b[0m\u001b[0;34m\u001b[0m\u001b[0m\n\u001b[0m",
            "\u001b[0;31mNameError\u001b[0m: name 's' is not defined"
          ]
        }
      ]
    },
    {
      "cell_type": "code",
      "source": [
        "def anagrams(word, words):\n",
        "    return [i for i in words  if sorted(word)==sorted(i)]\n",
        "anagrams('abba', ['aabb', 'abcd', 'bbaa', 'dada'])"
      ],
      "metadata": {
        "colab": {
          "base_uri": "https://localhost:8080/"
        },
        "id": "eEBJCGq3uHm-",
        "outputId": "0886daba-87ff-4407-f424-d90fd3f42653"
      },
      "execution_count": null,
      "outputs": [
        {
          "output_type": "execute_result",
          "data": {
            "text/plain": [
              "['aabb', 'bbaa']"
            ]
          },
          "metadata": {},
          "execution_count": 23
        }
      ]
    }
  ]
}