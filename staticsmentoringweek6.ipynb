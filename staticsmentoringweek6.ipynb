{
  "nbformat": 4,
  "nbformat_minor": 0,
  "metadata": {
    "colab": {
      "name": "staticsmentoringweek6.ipynb",
      "provenance": [],
      "authorship_tag": "ABX9TyPBGRbkF0VQijl3BhuN/xZT",
      "include_colab_link": true
    },
    "kernelspec": {
      "name": "python3",
      "display_name": "Python 3"
    },
    "language_info": {
      "name": "python"
    }
  },
  "cells": [
    {
      "cell_type": "markdown",
      "metadata": {
        "id": "view-in-github",
        "colab_type": "text"
      },
      "source": [
        "<a href=\"https://colab.research.google.com/github/eildes06/Assigments/blob/main/staticsmentoringweek6.ipynb\" target=\"_parent\"><img src=\"https://colab.research.google.com/assets/colab-badge.svg\" alt=\"Open In Colab\"/></a>"
      ]
    },
    {
      "cell_type": "markdown",
      "source": [
        "\n",
        "5 erkek ve 5 kız olmak üzere toplam 3 erkek ve 2 kızdan oluşan bir grup kaç farklı şekilde oluşturulabilir?"
      ],
      "metadata": {
        "id": "Y9LE0JXINT3h"
      }
    },
    {
      "cell_type": "markdown",
      "source": [
        "1. In how many ways, a group of 3 boys and 2 girls can be formed out of a total of 5 boys and 5 girls?"
      ],
      "metadata": {
        "id": "FQ0vwK_7NYEh"
      }
    },
    {
      "cell_type": "markdown",
      "source": [
        "3 boys  2 girls out off 4 boys  4 girls \n",
        "Number of ways of arranging \n",
        "4\n",
        " C \n",
        "3\n",
        "​\n",
        " × \n",
        "4\n",
        " C \n",
        "2\n",
        "​\n",
        " \n",
        "=(4)( \n",
        "2\n",
        "4×3\n",
        "​\n",
        " )\n",
        "=4×6\n",
        "=24 Ways"
      ],
      "metadata": {
        "id": "rusOFs8ZQrLy"
      }
    },
    {
      "cell_type": "code",
      "execution_count": null,
      "metadata": {
        "id": "2Wv7HmiWNQHA"
      },
      "outputs": [],
      "source": [
        ""
      ]
    },
    {
      "cell_type": "markdown",
      "source": [
        " Bir kadının 6 bluzu, 4 eteği ve 5 çift ayakkabısı vardır. Bir bluz, bir etek ve bir çift ayakkabıdan oluşan kaç farklı kıyafet giyebilir?"
      ],
      "metadata": {
        "id": "ocJJL38eNhKF"
      }
    },
    {
      "cell_type": "markdown",
      "source": [
        "A woman has 6 blouses, 4 skirts, and 5 pairs of shoes. How many different outfits consisting of a blouse, a skirt, and a pair of shoes can she wear?"
      ],
      "metadata": {
        "id": "zYSp92dnNlgL"
      }
    },
    {
      "cell_type": "markdown",
      "source": [
        "6.4.5=120"
      ],
      "metadata": {
        "id": "pZ2PedWzTZVh"
      }
    },
    {
      "cell_type": "code",
      "source": [
        ""
      ],
      "metadata": {
        "id": "7diYzUsuNpzk"
      },
      "execution_count": null,
      "outputs": []
    },
    {
      "cell_type": "markdown",
      "source": [
        "Serena Williams won the 2010 Wimbledon Ladies’ Singles Championship. For the seven matches she played in the tournament, her total number of first serves was 379, total number of good first serves was 256, and total number of double faults was 15."
      ],
      "metadata": {
        "id": "ZMdLKS7cNqn2"
      }
    },
    {
      "cell_type": "markdown",
      "source": [
        "a. Find the probability that her first serve is good.\n",
        "a) 379 /256 = .675\n",
        "b. Find the conditional probability of double faulting, given that her first serve resulted in a fault.\n",
        ".68?\n",
        "\n",
        "c. On what percentage of her service points does she double fault?\n",
        "\n",
        "---c) 67.5 / 15 = 4.5\n",
        "\n"
      ],
      "metadata": {
        "id": "LjWkedFRNuP8"
      }
    },
    {
      "cell_type": "markdown",
      "source": [
        "P(D|F’) = P(D and F’) / P(F’) = P(D) / (1 - P(F))\n",
        "P(D) = 15 / 379 = 0.0396\n",
        "1 - P(F) = 1 - 0.6754 = 0.3246\n",
        "P(D|F’) = 0.0396 / 0.3246 = 0.122"
      ],
      "metadata": {
        "id": "wOWPTsCA2Mog"
      }
    },
    {
      "cell_type": "markdown",
      "source": [
        "Serena Williams, 2010 Wimbledon Tek Bayanlar Şampiyonası'nı kazandı. Turnuvada oynadığı yedi maçta toplam ilk servis sayısı 379, toplam iyi ilk servis sayısı 256 ve toplam çift hata sayısı 15 oldu."
      ],
      "metadata": {
        "id": "tFBbqx6xN21K"
      }
    },
    {
      "cell_type": "code",
      "source": [
        ""
      ],
      "metadata": {
        "id": "-P90aprENtxc"
      },
      "execution_count": null,
      "outputs": []
    },
    {
      "cell_type": "markdown",
      "source": [
        "4. Suppose that in the world exist a very rare disease. The chance for anyone to have this disease is 0.1%. You want to know whether you are infected so you go take a test, and the test results come positive. The accuracy of the test is 99%, meaning that 99% of the people who have the disease will test positive, and 99% of the people who do not have the disease will test negative. What is the chance that you are actually infected? .......Bayes Theory....."
      ],
      "metadata": {
        "id": "l5oT09CyN_sH"
      }
    },
    {
      "cell_type": "markdown",
      "source": [
        "https://towardsdatascience.com/will-you-become-a-zombie-if-a-99-accuracy-test-result-positive-3da371f5134"
      ],
      "metadata": {
        "id": "Sl4ZTGehVJDG"
      }
    },
    {
      "cell_type": "markdown",
      "source": [
        "\n",
        "Diyelim ki dünyada çok nadir görülen bir hastalık var. Herhangi birinin bu hastalığa sahip olma şansı %0,1'dir. Enfekte olup olmadığınızı bilmek istiyorsunuz, bu yüzden bir test yapın ve test sonuçları pozitif çıkıyor. Testin doğruluğu %99'dur, yani hastalığı olan kişilerin %99'unun testi pozitif çıkar ve hastalığı olmayanların %99'unun testi negatif çıkar. Gerçekten enfekte olma ihtimalin nedir? .......Bayes Teorisi....."
      ],
      "metadata": {
        "id": "Ejt-3-hIN8eG"
      }
    },
    {
      "cell_type": "markdown",
      "source": [
        "![image.png](data:image/png;base64,iVBORw0KGgoAAAANSUhEUgAAAJcAAAAoCAIAAAB8Yf+OAAAMaWlDQ1BJQ0MgUHJvZmlsZQAASImVVwdYU8kWnluSkJDQAhGQEnoTRHqREkKLICBVEJWQBBJKDAlBxV4WFVy7iGJFV0UUXF0BWVTEriyCvS8WVJR1URdFUXkTEtB1X/neyTd3/vxz5rTM5M4AoNnHlUhyUC0AcsX50tiwIObE5BQm6SlAgC78EIELlyeTsGJiIgGUof7v8u4G1IZy1VFh65/j/1V0+AIZDwAkFeJ0voyXC3ETAPhmnkSaDwBRwVtMz5co8HyIdaUwQIjXKXCmEu9V4HQlbhzUiY9lQ9wGgBqVy5VmAqBxD/LMAl4mtKPxCWJnMV8kBkBzFMT+PCGXD7Ei9lG5udMUuAxiW6gvgRjGA7zSv7GZ+Tf76cP2udzMYazMa1DUgkUySQ535v9Zmv8tuTnyIR/WsFGF0vBYRf6whreyp0UoMBXibnF6VLSi1hD3ifjKugOAUoTy8ASlPmrEk7Fh/QADYmc+NzgCYiOIQ8U5UZEqPj1DFMqBGK4WdIYonxMPsT7ESwWykDiVznbptFiVL7Q2Q8pmqfjzXOmgX4WvB/LsBJbK/huhgKOyj2kUCuOTIKZAbFkgSoyCWANiJ1l2XIRKZ2yhkB01pCOVxyrit4Q4ViAOC1LaxwoypKGxKv3iXNlQvth2oYgTpcKH8oXx4cr6YKd53MH4YS5Ym0DMShiyI5BNjBzKhS8IDlHmjj0XiBPiVHb6JPlBscq5OEWSE6PSx80FOWEK3hxiN1lBnGounpgPF6fSPp4hyY+JV8aJF2Zxx8Uo48FXgUjABsGACeSwpYNpIAuIWrvruuE35Ugo4AIpyAQC4KhihmYkDY6I4TMOFII/IBIA2fC8oMFRASiA/OdhVvl0BBmDowWDM7LBU4hzQQTIgd/lg7PEw94SwRPIiP7hnQsbD8abA5ti/N/zQ+xXhgWZSBUjH/LI1BzSJIYQg4nhxFCiHW6I++O+eCR8BsLmgnvh3kN5fNUnPCW0Ex4RrhM6CLenihZKv4tyPOiA9kNVtUj/tha4NbTpjgfhftA6tIwzcEPgiLtBPyw8AHp2hyxbFbeiKszvbP8tg29+DZUe2ZmMkkeQA8m238/UsNdwH7aiqPW39VHGmj5cb/bwyPf+2d9Unw/7iO81saXYYewcdhK7gDVidYCJncDqsRbsmAIPr64ng6tryFvsYDzZ0I7oH/64Kp+KSsqcq5y7nD8px/IFM/IVG489TTJTKsoU5jNZ8O0gYHLEPKdRTBdnFxcAFO8a5d/XW8bgOwRhXPzK5TUB4F0MycyvHNcCgKNPAaC/+8pZvIHbZhUAx9p4cmmBksMVDwL8l9CEO80AmAALYAvzcQEewBcEghAwDkSDeJAMpsAqC+E6l4LpYDZYAIpACVgF1oNNYBvYCfaCA+AQqAON4CQ4Cy6BNnAd3IWrpxO8BD3gHehHEISE0BA6YoCYIlaIA+KCeCH+SAgSicQiyUgakomIETkyG1mElCBrkE3IDqQS+Rk5ipxELiDtyG3kIdKFvEE+ohhKRXVRY9QaHY16oSw0Ao1HJ6OZaB5aiC5GV6BlaAW6H61FT6KX0OtoB/oS7cUApo4xMDPMEfPC2Fg0loJlYFJsLlaMlWIVWDXWAH/nq1gH1o19wIk4HWfijnAFh+MJOA/Pw+fiy/FN+F68Fj+NX8Uf4j34FwKNYERwIPgQOISJhEzCdEIRoZSwm3CEcAbupU7COyKRyCDaED3hXkwmZhFnEZcTtxBriE3EduJjYi+JRDIgOZD8SNEkLimfVETaSNpPOkG6Quok9ampq5mquaiFqqWoidUWqpWq7VM7rnZF7ZlaP1mLbEX2IUeT+eSZ5JXkXeQG8mVyJ7mfok2xofhR4ilZlAWUMko15QzlHuWturq6ubq3+gR1kfp89TL1g+rn1R+qf6DqUO2pbGoqVU5dQd1DbaLepr6l0WjWtEBaCi2ftoJWSTtFe0Dr06BrOGlwNPga8zTKNWo1rmi80iRrWmmyNKdoFmqWah7WvKzZrUXWstZia3G15mqVax3VuqnVq03XHqMdrZ2rvVx7n/YF7ec6JB1rnRAdvs5inZ06p3Qe0zG6BZ1N59EX0XfRz9A7dYm6Nroc3SzdEt0Duq26PXo6em56iXoz9Mr1jul1MDCGNYPDyGGsZBxi3GB8HGE8gjVCMGLZiOoRV0a81x+pH6gv0C/Wr9G/rv/RgGkQYpBtsNqgzuC+IW5obzjBcLrhVsMzht0jdUf6juSNLB55aOQdI9TI3ijWaJbRTqMWo15jE+MwY4nxRuNTxt0mDJNAkyyTdSbHTbpM6ab+piLTdaYnTF8w9ZgsZg6zjHma2WNmZBZuJjfbYdZq1m9uY55gvtC8xvy+BcXCyyLDYp1Fs0WPpanleMvZllWWd6zIVl5WQqsNVues3lvbWCdZL7Gus35uo2/DsSm0qbK5Z0uzDbDNs62wvWZHtPOyy7bbYtdmj9q72wvty+0vO6AOHg4ihy0O7aMIo7xHiUdVjLrpSHVkORY4Vjk+dGI4RTotdKpzejXacnTK6NWjz43+4uzunOO8y/nuGJ0x48YsHNMw5o2LvQvPpdzlmivNNdR1nmu962s3BzeB21a3W+509/HuS9yb3T97eHpIPao9ujwtPdM8N3ve9NL1ivFa7nXem+Ad5D3Pu9H7g4+HT77PIZ8/fR19s333+T4fazNWMHbX2Md+5n5cvx1+Hf5M/zT/7f4dAWYB3ICKgEeBFoH8wN2Bz1h2rCzWftarIOcgadCRoPdsH/YcdlMwFhwWXBzcGqITkhCyKeRBqHloZmhVaE+Ye9issKZwQnhE+OrwmxxjDo9TyekZ5zluzrjTEdSIuIhNEY8i7SOlkQ3j0fHjxq8dfy/KKkocVRcNojnRa6Pvx9jE5MX8OoE4IWZC+YSnsWNiZ8eei6PHTY3bF/cuPih+ZfzdBNsEeUJzomZiamJl4vuk4KQ1SR0TR0+cM/FSsmGyKLk+hZSSmLI7pXdSyKT1kzpT3VOLUm9Mtpk8Y/KFKYZTcqYcm6o5lTv1cBohLSltX9onbjS3gtubzknfnN7DY/M28F7yA/nr+F0CP8EawbMMv4w1Gc8z/TLXZnYJA4Slwm4RW7RJ9DorPGtb1vvs6Ow92QM5STk1uWq5ablHxTribPHpaSbTZkxrlzhIiiQdeT556/N6pBHS3TJENllWn68LD/Utclv5D/KHBf4F5QV90xOnH56hPUM8o2Wm/cxlM58Vhhb+NAufxZvVPNts9oLZD+ew5uyYi8xNn9s8z2Le4nmd88Pm711AWZC94LeFzgvXLPxrUdKihsXGi+cvfvxD2A9VRRpF0qKbS3yXbFuKLxUtbV3mumzjsi/F/OKLJc4lpSWflvOWX/xxzI9lPw6syFjRutJj5dZVxFXiVTdWB6zeu0Z7TeGax2vHr61dx1xXvO6v9VPXXyh1K922gbJBvqGjLLKsfqPlxlUbP20SbrpeHlRes9lo87LN77fwt1zZGri1epvxtpJtH7eLtt/aEbajtsK6onQncWfBzqe7Ened+8nrp8rdhrtLdn/eI97TsTd27+lKz8rKfUb7VlahVfKqrv2p+9sOBB+or3as3lHDqCk5CA7KD774Oe3nG4ciDjUf9jpc/YvVL5uP0I8U1yK1M2t76oR1HfXJ9e1Hxx1tbvBtOPKr0697Gs0ay4/pHVt5nHJ88fGBE4UnepskTd0nM08+bp7afPfUxFPXTk843Xom4sz5s6FnT51jnTtx3u984wWfC0cvel2su+RxqbbFveXIb+6/HWn1aK297Hm5vs27raF9bPvxKwFXTl4Nvnr2GufapetR19tvJNy4dTP1Zsct/q3nt3Nuv75TcKf/7vx7hHvF97Xulz4welDxu93vNR0eHcceBj9seRT36O5j3uOXT2RPPnUufkp7WvrM9Fnlc5fnjV2hXW0vJr3ofCl52d9d9If2H5tf2b765c/AP1t6JvZ0vpa+Hniz/K3B2z1/uf3V3BvT++Bd7rv+98V9Bn17P3h9OPcx6eOz/umfSJ/KPtt9bvgS8eXeQO7AgIQr5Q4eBTDY0IwMAN7sAYCWDM8O8N5GmaS8Cw4Kory/DiLwn7DyvjgoHgDsCQQgYT4AkfCMshU2K4ipsFcc4eMDAerqOtxUIstwdVHaosKbEKFvYOCtMQCkBgA+SwcG+rcMDHzeBYO9DUBTnvIOqhAivDNst1Og1hZyOPhOlPfTb3L8vgeKCNzA9/2/AMU0jpz8YI6MAAAAOGVYSWZNTQAqAAAACAABh2kABAAAAAEAAAAaAAAAAAACoAIABAAAAAEAAACXoAMABAAAAAEAAAAoAAAAABzSFywAAAPISURBVHgB7VhJcuMwDBxPzcEn/8On3PIEfy6vyPf8CU8nSLUREAIJSnTJsnxQgUBj69aSyuF2u/3ZfxkGDofD2kj7m5l/x66UgV1FRxg8bY63zdWXG2fFUcz1r222raEML/oNiRCPBgYWGCoZkUQAdAXCTCldx8VLYlzzXlyXo/cVDM0dbRqaAe2EjVBJmvHrFJbSTto0CKOBkO4VIF/0jRowQhLFaEEuhdGtW2oS/6Iqcn9tVImrAlhN3qs8ThntBVEhqPmi30VNa5VKAARfvkjhr6brXmJXU6oAU/MVVRSOcBUuXG1curPkkuv2jkxJGcNV7N48tUYHOBCvvZrcCnKtZjV2TNWUpsNVrO727ABq06hly77Zmj1/3Sw4rllpXGU2QgtyRKdrGKQ5IqX0tNRxMXQ21iRejLSKfW1M16kj+EX9qeh8vxSfaqG7EwlDfkZ7ODGPXGnoo+ANzKygO7pF6BTDzMBq9zcqJ2AMxlSaxpQ2Sk0lLtil7Fv1TE1VJlaRBmCOLDjlJ0AbBmyOGmnsu4qSYwSIj6aWHF2diKx2AcA0Ze4DjEW6p+Zv7BjXTL9RYyrjZnHuSqJCa/cwHQxUO1Zr/lKxiu7eTSc+povumLVBazaF+L7cOCuOovUvFTmKa1TZrwIay2JolHLBu9Nl4P5dLMN9qpR1So8WqXqjMf1yudB2jbe3t4+PDze0bef9j0nRLOA3FlVHp2xQqUPlkVwbmPiv1ysBrnE8Hk+nkxvattOqGGzrMit4hEwinzCTZY7IKj1TTtOi5VgO1pL1XBhQHb1RU8tQNmSthzs9VWqd5wIvoKL7MI1g4Xw+x2Xf398/Pz9jzCajP2/UFiVcTNWpAdoWNktP7N+kBvOX+noWQSWv7a8gyZJEZrlOmVJ3EQ+uTKRnNzoY+FKxj0o3y3XKWEGoY+51puBODdaMo3M2SnwXMd+4OfQOj+miO7bbmE2DtWZ6bANDCpD4aYyuM9NO/O9mZqdtpEMJLPKtyI8qspeRRwAlEv5S4PnM7CrmODRqBcntyKBIYyin4qBbSc/6yOV13zl2dWYNGMFh4rs4Z89N5mpt3AUBED+UcwFLOdMqyq00aKwqL0ut3VdHxmvRxixijn3dg6y0iqg1SMKhlQMKsqFx62cnIT73XWTabqyKgeEqrvDO7ROg/a1okObY1z3Oiv7XEGe+VBRKyL5TNyWlIpL8mBQiCZhv9HwX53d9ugpGiWD+dmRQJBsa/kbNDvSkeIhXPoXlLiMeRHTZVSyp7vRUhRwkIcbdv4udmq0q7T9KOGdXA0qtIwAAAABJRU5ErkJggg==)"
      ],
      "metadata": {
        "id": "xH0YWrp6V5Sd"
      }
    },
    {
      "cell_type": "markdown",
      "source": [
        "P(A) is the probability of event A\n",
        "\n",
        "P(B) is the probability of event B\n",
        "\n",
        "P(A|B) is the probability of observing event A if B is true\n",
        "\n",
        "P(B|A) is the probability of observing event B if A is true.\n",
        "\n",
        "Wiggins's explanation can be summarized with the help of the following table which illustrates the scenario in a hypothetical population of 10,000 people:"
      ],
      "metadata": {
        "id": "VLwUXwDWWg_D"
      }
    },
    {
      "cell_type": "markdown",
      "source": [
        "![Screen Shot 2022-02-22 at 7.54.29 PM.png](data:image/png;base64,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)"
      ],
      "metadata": {
        "id": "mYFaXASeW5i4"
      }
    },
    {
      "cell_type": "markdown",
      "source": [
        "In this scenario P(A) is the unconditional probability of disease; here it is 100/10,000 = 0.01.\n",
        "\n",
        "P(B) is the unconditional probability of a positive test; here it is 198/10,000 = 0.0198..\n",
        "\n",
        "What we want to know is P (A | B), i.e., the probability of disease (A), given that the patient has a positive test (B). We know that prevalence of disease (the unconditional probability of disease) is 1% or 0.01; this is represented by P(A). Therefore, in a population of 10,000 there will be 100 diseased people and 9,900 non-diseased people. We also know the sensitivity of the test is 99%, i.e., P(B | A) = 0.99; therefore, among the 100 diseased people, 99 will test positive. We also know that the specificity is also 99%, or that there is a 1% error rate in non-diseased people. Therefore, among the 9,900 non-diseased people, 99 will have a positive test. And from these numbers, it follows that the unconditional probability of a positive test is 198/10,000 = 0.0198; this is P(B).\n",
        "\n",
        "Thus, P(A | B) = (0.99 x 0.01) / 0.0198 = 0.50 = 50%.\n",
        "\n",
        "From the table above, we can also see that given a positive test (subjects in the Test + row), the probability of disease is 99/198 = 0.05 = 50%."
      ],
      "metadata": {
        "id": "wytiSBtpWUa9"
      }
    },
    {
      "cell_type": "code",
      "source": [
        ""
      ],
      "metadata": {
        "id": "44-EowADWLM2"
      },
      "execution_count": null,
      "outputs": []
    },
    {
      "cell_type": "code",
      "source": [
        ""
      ],
      "metadata": {
        "id": "Rd0uQb19WANK"
      },
      "execution_count": null,
      "outputs": []
    },
    {
      "cell_type": "code",
      "source": [
        ""
      ],
      "metadata": {
        "id": "50SOB49UOBrF"
      },
      "execution_count": null,
      "outputs": []
    },
    {
      "cell_type": "markdown",
      "source": [
        "5. Please read the article below"
      ],
      "metadata": {
        "id": "JPIF5WHQOEwV"
      }
    },
    {
      "cell_type": "markdown",
      "source": [
        ""
      ],
      "metadata": {
        "id": "6_vn2T-DY4v3"
      }
    },
    {
      "cell_type": "code",
      "source": [
        ""
      ],
      "metadata": {
        "id": "EqZ9LcRcOEfh"
      },
      "execution_count": null,
      "outputs": []
    },
    {
      "cell_type": "markdown",
      "source": [
        "6. What is Bayes' Teorem?"
      ],
      "metadata": {
        "id": "2tQm2NIZONoZ"
      }
    },
    {
      "cell_type": "code",
      "source": [
        ""
      ],
      "metadata": {
        "id": "MIEAqybRONVS"
      },
      "execution_count": null,
      "outputs": []
    },
    {
      "cell_type": "markdown",
      "source": [
        "7. What do you mean by confidence interval in statistical analysis?"
      ],
      "metadata": {
        "id": "-8LrwKmFOJNG"
      }
    }
  ]
}