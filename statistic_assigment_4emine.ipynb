{
  "nbformat": 4,
  "nbformat_minor": 0,
  "metadata": {
    "colab": {
      "name": "statistic_assigment_4emine.ipynb",
      "provenance": [],
      "authorship_tag": "ABX9TyNKKNZ0hD6GFsF8PwCxfgI8",
      "include_colab_link": true
    },
    "kernelspec": {
      "name": "python3",
      "display_name": "Python 3"
    },
    "language_info": {
      "name": "python"
    }
  },
  "cells": [
    {
      "cell_type": "markdown",
      "metadata": {
        "id": "view-in-github",
        "colab_type": "text"
      },
      "source": [
        "<a href=\"https://colab.research.google.com/github/eildes06/Assigments/blob/main/statistic_assigment_4emine.ipynb\" target=\"_parent\"><img src=\"https://colab.research.google.com/assets/colab-badge.svg\" alt=\"Open In Colab\"/></a>"
      ]
    },
    {
      "cell_type": "code",
      "execution_count": 1,
      "metadata": {
        "id": "WXo9_SDmU9p0"
      },
      "outputs": [],
      "source": [
        "import numpy as np\n",
        "import pandas as pd\n",
        "from scipy import stats\n",
        "import matplotlib.pyplot as plt"
      ]
    },
    {
      "cell_type": "markdown",
      "source": [
        "A salesperson has found that the probability of a sale on a single contact is approximately .3. If the salesperson contacts 10 prospects, what is the approximate probability of making at least one sale? (Wackerly, Ex.3.135)"
      ],
      "metadata": {
        "id": "IOExfXoSVXSw"
      }
    },
    {
      "cell_type": "code",
      "source": [
        "n = 100\n",
        "p = 0.03\n",
        "x = 0 "
      ],
      "metadata": {
        "id": "9d6tfEBoVQFZ"
      },
      "execution_count": 2,
      "outputs": []
    },
    {
      "cell_type": "code",
      "source": [
        "stats.binom.pmf(x,n,p)"
      ],
      "metadata": {
        "colab": {
          "base_uri": "https://localhost:8080/"
        },
        "id": "Er6tHEOEVQCQ",
        "outputId": "2f6462ed-acfd-42b8-b750-a8f963c5f47b"
      },
      "execution_count": 3,
      "outputs": [
        {
          "output_type": "execute_result",
          "data": {
            "text/plain": [
              "0.04755250792540575"
            ]
          },
          "metadata": {},
          "execution_count": 3
        }
      ]
    },
    {
      "cell_type": "code",
      "source": [
        "1 - stats.binom.pmf(x,n,p)"
      ],
      "metadata": {
        "colab": {
          "base_uri": "https://localhost:8080/"
        },
        "id": "zDSLARZcVP_E",
        "outputId": "f18ea69b-7082-4513-8565-05b08fc96fd5"
      },
      "execution_count": 4,
      "outputs": [
        {
          "output_type": "execute_result",
          "data": {
            "text/plain": [
              "0.9524474920745942"
            ]
          },
          "metadata": {},
          "execution_count": 4
        }
      ]
    },
    {
      "cell_type": "markdown",
      "source": [
        "Ten coins are tossed simultaneously. Find the probability of getting\n",
        "(i) at least seven heads\n",
        "(ii) exactly seven heads\n",
        "(iii)at most seven heads"
      ],
      "metadata": {
        "id": "mc6d2DZ8Veup"
      }
    },
    {
      "cell_type": "markdown",
      "source": [
        "(i) at least seven heads "
      ],
      "metadata": {
        "id": "2CZX79tQpV8L"
      }
    },
    {
      "cell_type": "code",
      "source": [
        "p = 0.5\n",
        "n = 10\n",
        "x = 6"
      ],
      "metadata": {
        "id": "tsKpfOZIVP75"
      },
      "execution_count": 5,
      "outputs": []
    },
    {
      "cell_type": "code",
      "source": [
        "stats.binom.cdf(x,n,p)"
      ],
      "metadata": {
        "colab": {
          "base_uri": "https://localhost:8080/"
        },
        "id": "zQGG5q8yVP4z",
        "outputId": "8222cc2c-7f4a-4136-85ee-e656e6aa7048"
      },
      "execution_count": 6,
      "outputs": [
        {
          "output_type": "execute_result",
          "data": {
            "text/plain": [
              "0.828125"
            ]
          },
          "metadata": {},
          "execution_count": 6
        }
      ]
    },
    {
      "cell_type": "code",
      "source": [
        "# en az 7 ve üzeri için\n",
        "1 - stats.binom.cdf(x, n, p)"
      ],
      "metadata": {
        "colab": {
          "base_uri": "https://localhost:8080/"
        },
        "id": "Gy7VCb1lpeTS",
        "outputId": "883458eb-f4da-4e67-b5a5-2c5e99945aee"
      },
      "execution_count": 7,
      "outputs": [
        {
          "output_type": "execute_result",
          "data": {
            "text/plain": [
              "0.171875"
            ]
          },
          "metadata": {},
          "execution_count": 7
        }
      ]
    },
    {
      "cell_type": "markdown",
      "source": [
        "(ii) exactly seven heads"
      ],
      "metadata": {
        "id": "u1_5potqpkoI"
      }
    },
    {
      "cell_type": "code",
      "source": [
        "n = 10\n",
        "p = 0.5\n",
        "x = 7"
      ],
      "metadata": {
        "id": "rtZ9eKx0pkWa"
      },
      "execution_count": 27,
      "outputs": []
    },
    {
      "cell_type": "code",
      "source": [
        "stats.binom.pmf(x,n,p)"
      ],
      "metadata": {
        "colab": {
          "base_uri": "https://localhost:8080/"
        },
        "id": "y-1J5icKpwxC",
        "outputId": "dd9bbc40-a625-481a-8179-cb07ec33751a"
      },
      "execution_count": 28,
      "outputs": [
        {
          "output_type": "execute_result",
          "data": {
            "text/plain": [
              "0.11718750000000014"
            ]
          },
          "metadata": {},
          "execution_count": 28
        }
      ]
    },
    {
      "cell_type": "markdown",
      "source": [
        "(iii)at most seven heads"
      ],
      "metadata": {
        "id": "9qicQzjbpor1"
      }
    },
    {
      "cell_type": "code",
      "source": [
        "stats.binom.cdf(7, 10, 0.5)"
      ],
      "metadata": {
        "colab": {
          "base_uri": "https://localhost:8080/"
        },
        "id": "FT5pwPyvpion",
        "outputId": "6694550e-28a7-467d-f9ef-152d802fb667"
      },
      "execution_count": 9,
      "outputs": [
        {
          "output_type": "execute_result",
          "data": {
            "text/plain": [
              "0.9453125"
            ]
          },
          "metadata": {},
          "execution_count": 9
        }
      ]
    },
    {
      "cell_type": "code",
      "source": [
        ""
      ],
      "metadata": {
        "id": "jAyaB3T2pilW"
      },
      "execution_count": null,
      "outputs": []
    },
    {
      "cell_type": "markdown",
      "source": [
        "The cycle time for trucks hauling concrete to a highway construction site is uniformly distributed over the interval 50 to 70 minutes. What is the probability that the cycle time exceeds 65 minutes  if it is known that the cycle time exceeds 55 minutes? (Wackerly, Ex.4.51)"
      ],
      "metadata": {
        "id": "laVCJG1ZVkch"
      }
    },
    {
      "cell_type": "code",
      "source": [
        "q1 = 50\n",
        "q3 = 70\n",
        "p1 = 55\n",
        "p2 = 65"
      ],
      "metadata": {
        "id": "kkz-gYY2VP1l"
      },
      "execution_count": 10,
      "outputs": []
    },
    {
      "cell_type": "code",
      "source": [
        "(1-stats.uniform.cdf(p2, q1, q3-q1)) / (1-stats.uniform.cdf(p1, q1 , q3-q1))"
      ],
      "metadata": {
        "colab": {
          "base_uri": "https://localhost:8080/"
        },
        "id": "MwkEfTnWVPv9",
        "outputId": "566e3186-a89e-4051-e648-ac4affd22d27"
      },
      "execution_count": 11,
      "outputs": [
        {
          "output_type": "execute_result",
          "data": {
            "text/plain": [
              "0.3333333333333333"
            ]
          },
          "metadata": {},
          "execution_count": 11
        }
      ]
    },
    {
      "cell_type": "code",
      "source": [
        ""
      ],
      "metadata": {
        "id": "rIjw28bNVPsc"
      },
      "execution_count": null,
      "outputs": []
    },
    {
      "cell_type": "markdown",
      "source": [
        "The width of bolts of fabric is normally distributed with mean 950 mm (millimeters) and standard deviation 10 mm.\n",
        "What is the probability that a randomly chosen bolt has a width of between 947 and 958mm?\n",
        "What is the appropriate value for C such that a randomly chosen bolt has a width less than C with probability .8531? (Wackerly, Ex.4.73)"
      ],
      "metadata": {
        "id": "W9_xKvIZVqIV"
      }
    },
    {
      "cell_type": "markdown",
      "source": [
        "What is the probability that a randomly chosen bolt has a width of between 947 and 958mm?"
      ],
      "metadata": {
        "id": "D1Cg5QGTqMgT"
      }
    },
    {
      "cell_type": "code",
      "source": [
        "mu = 950\n",
        "sigma = 10 \n",
        "x1 = 947\n",
        "x2 = 958"
      ],
      "metadata": {
        "id": "JEh22jD-VwBQ"
      },
      "execution_count": 29,
      "outputs": []
    },
    {
      "cell_type": "code",
      "source": [
        "stats.norm.cdf(x2, mu, sigma) - stats.norm.cdf(x1, mu, sigma)"
      ],
      "metadata": {
        "colab": {
          "base_uri": "https://localhost:8080/"
        },
        "id": "SB4CZq-eqVFn",
        "outputId": "56898142-4ee0-4e43-db31-963fae7686c1"
      },
      "execution_count": 13,
      "outputs": [
        {
          "output_type": "execute_result",
          "data": {
            "text/plain": [
              "0.406056023605556"
            ]
          },
          "metadata": {},
          "execution_count": 13
        }
      ]
    },
    {
      "cell_type": "markdown",
      "source": [
        "What is the appropriate value for C such that a randomly chosen bolt has a width less than C with probability .8531?"
      ],
      "metadata": {
        "id": "6BJ7CqJ5qPgP"
      }
    },
    {
      "cell_type": "code",
      "source": [
        "mu = 950\n",
        "sigma = 10\n",
        "p = 0.8531"
      ],
      "metadata": {
        "id": "_zGxJ_iFVv9a"
      },
      "execution_count": 14,
      "outputs": []
    },
    {
      "cell_type": "code",
      "source": [
        "stats.norm.ppf(p, mu, sigma)"
      ],
      "metadata": {
        "colab": {
          "base_uri": "https://localhost:8080/"
        },
        "id": "zI3O-lalVv5Z",
        "outputId": "604f308d-8652-4b91-d129-51a6800eebdc"
      },
      "execution_count": 15,
      "outputs": [
        {
          "output_type": "execute_result",
          "data": {
            "text/plain": [
              "960.4982190962642"
            ]
          },
          "metadata": {},
          "execution_count": 15
        }
      ]
    },
    {
      "cell_type": "markdown",
      "source": [
        "Suppose scores on exams in statistics are normally distributed with an unknown population mean and a population standard deviation of 3 points. A random sample of 36 scores is taken and gives a sample mean (sample mean score) of 68. Find a confidence interval estimate for the population mean exam score (the mean score on all exams). Find a 90% confidence interval for the true (population) mean of statistics exam scores."
      ],
      "metadata": {
        "id": "JQlEfWA6Vwv-"
      }
    },
    {
      "cell_type": "code",
      "source": [
        "n = 36\n",
        "mu = 68\n",
        "std = 3\n",
        "ci = 0.90"
      ],
      "metadata": {
        "id": "qQcyENDsVyR1"
      },
      "execution_count": 16,
      "outputs": []
    },
    {
      "cell_type": "code",
      "source": [
        "sm = std / np.sqrt(n)\n",
        "sm"
      ],
      "metadata": {
        "colab": {
          "base_uri": "https://localhost:8080/"
        },
        "id": "TS6S7bFyVzKk",
        "outputId": "963f173b-cb54-4649-e767-18fadfac2de5"
      },
      "execution_count": 17,
      "outputs": [
        {
          "output_type": "execute_result",
          "data": {
            "text/plain": [
              "0.5"
            ]
          },
          "metadata": {},
          "execution_count": 17
        }
      ]
    },
    {
      "cell_type": "code",
      "source": [
        "stats.norm.interval(ci,mu,sm)"
      ],
      "metadata": {
        "colab": {
          "base_uri": "https://localhost:8080/"
        },
        "id": "1z0-f_ElVzGT",
        "outputId": "e88adfd7-0ae4-4a24-8e75-5925e9d5102a"
      },
      "execution_count": 18,
      "outputs": [
        {
          "output_type": "execute_result",
          "data": {
            "text/plain": [
              "(67.17757318652427, 68.82242681347573)"
            ]
          },
          "metadata": {},
          "execution_count": 18
        }
      ]
    },
    {
      "cell_type": "markdown",
      "source": [
        "What is the normal body temperature for healthy humans? A random sample of 130 healthy human body temperatures provided by Allen Shoemaker yielded 98.25 degrees and standard deviation 0.73 degrees.\n",
        "Give a 99% confidence interval for the average body temperature of healthy people.\n",
        "Does the confidence interval obtained in part (a) contain the value 98.6 degrees, the accepted average temperature cited by physicians and others? What conclusions can you draw? (Wackerly, Ex.8.60)\n",
        "Source: Wackerly, D., Mendenhall, W., & Scheaffer, R. L. (2014). Mathematical statistics with applications. Cengage Learning.\n"
      ],
      "metadata": {
        "id": "C6ccQ5ZzV3H7"
      }
    },
    {
      "cell_type": "markdown",
      "source": [
        "1) Give a 99% confidence interval for the average body temperature of healthy people."
      ],
      "metadata": {
        "id": "bKquoCtCrBVW"
      }
    },
    {
      "cell_type": "code",
      "source": [
        "n = 130\n",
        "mean = 98.25\n",
        "std = 0.73\n",
        "ci = 0.99"
      ],
      "metadata": {
        "id": "sF7RvBUtV4yk"
      },
      "execution_count": 24,
      "outputs": []
    },
    {
      "cell_type": "code",
      "source": [
        "sm = std / np.sqrt(n)\n",
        "sm"
      ],
      "metadata": {
        "colab": {
          "base_uri": "https://localhost:8080/"
        },
        "id": "0LlRQltzqp2c",
        "outputId": "fe8a173d-94e2-495c-d312-03db9e2e44a5"
      },
      "execution_count": 23,
      "outputs": [
        {
          "output_type": "execute_result",
          "data": {
            "text/plain": [
              "0.06402523540941313"
            ]
          },
          "metadata": {},
          "execution_count": 23
        }
      ]
    },
    {
      "cell_type": "code",
      "source": [
        "stats.norm.interval(ci,mean,sm)"
      ],
      "metadata": {
        "colab": {
          "base_uri": "https://localhost:8080/"
        },
        "id": "dzBZxMrfqpz6",
        "outputId": "d10fd8a9-7b2e-4ca6-c8c3-db551d90ca3f"
      },
      "execution_count": 22,
      "outputs": [
        {
          "output_type": "execute_result",
          "data": {
            "text/plain": [
              "(96.96208534822554, 99.53791465177446)"
            ]
          },
          "metadata": {},
          "execution_count": 22
        }
      ]
    },
    {
      "cell_type": "markdown",
      "source": [
        " Does the confidence interval obtained in part (a) contain the value 98.6 degrees, the accepted average temperature cited by physicians and others? What conclusions can you draw?"
      ],
      "metadata": {
        "id": "L3TWJcQYrFL9"
      }
    },
    {
      "cell_type": "code",
      "source": [
        ""
      ],
      "metadata": {
        "id": "EeiSmPmSqpwk"
      },
      "execution_count": null,
      "outputs": []
    },
    {
      "cell_type": "markdown",
      "source": [
        "- No. The confidence interval we obtained doesn't contain the value 98.6 degrees. It is possible that the standard for normal is no longer valid."
      ],
      "metadata": {
        "id": "OlLPrTGvrNf-"
      }
    }
  ]
}